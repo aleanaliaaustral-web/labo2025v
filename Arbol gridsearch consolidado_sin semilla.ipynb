{
  "nbformat": 4,
  "nbformat_minor": 0,
  "metadata": {
    "colab": {
      "provenance": [],
      "authorship_tag": "ABX9TyM41tvVzBFm6KhZZQzOWJxR",
      "include_colab_link": true
    },
    "kernelspec": {
      "name": "ir",
      "display_name": "R"
    },
    "language_info": {
      "name": "R"
    }
  },
  "cells": [
    {
      "cell_type": "markdown",
      "metadata": {
        "id": "view-in-github",
        "colab_type": "text"
      },
      "source": [
        "<a href=\"https://colab.research.google.com/github/aleanaliaaustral-web/labo2025v/blob/main/Arbol%20gridsearch%20consolidado_sin%20semilla.ipynb\" target=\"_parent\"><img src=\"https://colab.research.google.com/assets/colab-badge.svg\" alt=\"Open In Colab\"/></a>"
      ]
    },
    {
      "cell_type": "markdown",
      "source": [
        "# ============================================\n",
        "# Árbol de Regresión: Predecir ganancia_test\n",
        "# Dataset Consolidado con 10 grupos\n",
        "============================================"
      ],
      "metadata": {
        "id": "VfGFlcoSGqsN"
      }
    },
    {
      "cell_type": "code",
      "source": [
        "# IMPORTANTE: Primero ejecuta esto en una celda de Python en Colab:\n",
        "from google.colab import drive\n",
        "drive.mount('/content/drive')"
      ],
      "metadata": {
        "colab": {
          "base_uri": "https://localhost:8080/"
        },
        "id": "g2nkdAz4GvW1",
        "outputId": "1e9a79e2-a158-4e65-fdb4-e34d75e70d1f"
      },
      "execution_count": 1,
      "outputs": [
        {
          "output_type": "stream",
          "name": "stdout",
          "text": [
            "Mounted at /content/drive\n"
          ]
        }
      ]
    },
    {
      "cell_type": "code",
      "source": [
        "# Limpio la memoria\n",
        "rm(list=ls(all.names=TRUE))\n",
        "gc(full=TRUE, verbose=FALSE)\n",
        "\n",
        "# Cargo las librerías necesarias\n",
        "require(\"data.table\")\n",
        "require(\"rpart\")\n",
        "if (!require(\"rpart.plot\")) install.packages(\"rpart.plot\")\n",
        "require(\"rpart.plot\")\n",
        "\n",
        "# Crear directorios si no existen\n",
        "dir.create(\"/content/buckets\", showWarnings=FALSE, recursive=TRUE)\n",
        "dir.create(\"/content/buckets/b1\", showWarnings=FALSE, recursive=TRUE)\n",
        "dir.create(\"/content/buckets/b1/exp\", showWarnings=FALSE, recursive=TRUE)\n",
        "\n",
        "# Carpeta de trabajo\n",
        "setwd(\"/content/buckets/b1/exp\")\n",
        "experimento <- \"KA2004_ArbolGridSearch\"\n",
        "dir.create(experimento, showWarnings=FALSE)\n",
        "setwd(paste0(\"/content/buckets/b1/exp/\", experimento))"
      ],
      "metadata": {
        "colab": {
          "base_uri": "https://localhost:8080/",
          "height": 129
        },
        "id": "XnFqplodG54Y",
        "outputId": "3da1cb9a-20c3-4389-c1bb-df586f8040e3"
      },
      "execution_count": 2,
      "outputs": [
        {
          "output_type": "display_data",
          "data": {
            "text/html": [
              "<table class=\"dataframe\">\n",
              "<caption>A matrix: 2 × 6 of type dbl</caption>\n",
              "<thead>\n",
              "\t<tr><th></th><th scope=col>used</th><th scope=col>(Mb)</th><th scope=col>gc trigger</th><th scope=col>(Mb)</th><th scope=col>max used</th><th scope=col>(Mb)</th></tr>\n",
              "</thead>\n",
              "<tbody>\n",
              "\t<tr><th scope=row>Ncells</th><td> 714662</td><td>38.2</td><td>1454482</td><td>77.7</td><td>1454482</td><td>77.7</td></tr>\n",
              "\t<tr><th scope=row>Vcells</th><td>1332001</td><td>10.2</td><td>8388608</td><td>64.0</td><td>5767534</td><td>44.1</td></tr>\n",
              "</tbody>\n",
              "</table>\n"
            ],
            "text/markdown": "\nA matrix: 2 × 6 of type dbl\n\n| <!--/--> | used | (Mb) | gc trigger | (Mb) | max used | (Mb) |\n|---|---|---|---|---|---|---|\n| Ncells |  714662 | 38.2 | 1454482 | 77.7 | 1454482 | 77.7 |\n| Vcells | 1332001 | 10.2 | 8388608 | 64.0 | 5767534 | 44.1 |\n\n",
            "text/latex": "A matrix: 2 × 6 of type dbl\n\\begin{tabular}{r|llllll}\n  & used & (Mb) & gc trigger & (Mb) & max used & (Mb)\\\\\n\\hline\n\tNcells &  714662 & 38.2 & 1454482 & 77.7 & 1454482 & 77.7\\\\\n\tVcells & 1332001 & 10.2 & 8388608 & 64.0 & 5767534 & 44.1\\\\\n\\end{tabular}\n",
            "text/plain": [
              "       used    (Mb) gc trigger (Mb) max used (Mb)\n",
              "Ncells  714662 38.2 1454482    77.7 1454482  77.7\n",
              "Vcells 1332001 10.2 8388608    64.0 5767534  44.1"
            ]
          },
          "metadata": {}
        }
      ]
    },
    {
      "cell_type": "code",
      "source": [
        "# ============================================\n",
        "# LECTURA DE DATOS\n",
        "# ============================================\n",
        "\n",
        "cat(\"============================================\\n\")\n",
        "cat(\"ÁRBOL DE REGRESIÓN SOBRE GRID SEARCH\\n\")\n",
        "cat(\"============================================\\n\\n\")\n",
        "\n",
        "# Buscar el archivo en diferentes ubicaciones posibles\n",
        "rutas_posibles <- c(\n",
        "  \"/content/buckets/b1/datasets/gridsearch_grupodiez.csv\",\n",
        "  \"/content/datasets/gridsearch_grupodiez.csv\",\n",
        "  \"/content/.drive/My Drive/labo1/datasets/gridsearch_grupodiez.csv\",\n",
        "  \"/content/.drive/MyDrive/labo1/datasets/gridsearch_grupodiez.csv\"\n",
        ")\n",
        "\n",
        "ruta_archivo <- NULL\n",
        "for (ruta in rutas_posibles) {\n",
        "  if (file.exists(ruta)) {\n",
        "    ruta_archivo <- ruta\n",
        "    cat(\"Archivo encontrado en:\", ruta, \"\\n\\n\")\n",
        "    break\n",
        "  }\n",
        "}\n",
        "\n",
        "if (is.null(ruta_archivo)) {\n",
        "  stop(\"ERROR: No se encontró el archivo gridsearch_grupodiez.csv en ninguna ubicación conocida\")\n",
        "}\n",
        "\n",
        "# Leo el dataset de grid search\n",
        "dataset <- fread(ruta_archivo)\n",
        "\n",
        "cat(\"Dataset leído correctamente!\\n\")\n",
        "cat(\"Dimensiones:\", nrow(dataset), \"filas x\", ncol(dataset), \"columnas\\n\")\n",
        "cat(\"Columnas:\", paste(names(dataset), collapse=\", \"), \"\\n\\n\")\n",
        "\n",
        "# Resumen estadístico\n",
        "cat(\"Resumen de ganancia_mean:\\n\")\n",
        "cat(\"  Mínimo:  \", format(min(dataset$ganancia_mean), big.mark=\",\"), \"\\n\")\n",
        "cat(\"  Máximo:  \", format(max(dataset$ganancia_mean), big.mark=\",\"), \"\\n\")\n",
        "cat(\"  Media:   \", format(mean(dataset$ganancia_mean), big.mark=\",\"), \"\\n\")\n",
        "cat(\"  Mediana: \", format(median(dataset$ganancia_mean), big.mark=\",\"), \"\\n\\n\")"
      ],
      "metadata": {
        "id": "ZUzZ3TOUR-KV",
        "outputId": "61b83bc7-d880-430a-ba1b-d5df200f2d83",
        "colab": {
          "base_uri": "https://localhost:8080/",
          "height": 315
        }
      },
      "execution_count": 4,
      "outputs": [
        {
          "output_type": "stream",
          "name": "stdout",
          "text": [
            "============================================\n",
            "ÁRBOL DE REGRESIÓN SOBRE GRID SEARCH\n",
            "============================================\n",
            "\n"
          ]
        },
        {
          "output_type": "error",
          "ename": "ERROR",
          "evalue": "Error: ERROR: No se encontró el archivo gridsearch_grupodiez.csv en ninguna ubicación conocida\n",
          "traceback": [
            "Error: ERROR: No se encontró el archivo gridsearch_grupodiez.csv en ninguna ubicación conocida\nTraceback:\n",
            "1. .handleSimpleError(function (cnd) \n . {\n .     watcher$capture_plot_and_output()\n .     cnd <- sanitize_call(cnd)\n .     watcher$push(cnd)\n .     switch(on_error, continue = invokeRestart(\"eval_continue\"), \n .         stop = invokeRestart(\"eval_stop\"), error = NULL)\n . }, \"ERROR: No se encontró el archivo gridsearch_grupodiez.csv en ninguna ubicación conocida\", \n .     base::quote(eval(expr, envir)))"
          ]
        }
      ]
    }
  ]
}