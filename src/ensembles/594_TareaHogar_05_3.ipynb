{
  "nbformat": 4,
  "nbformat_minor": 0,
  "metadata": {
    "colab": {
      "provenance": [],
      "include_colab_link": true
    },
    "kernelspec": {
      "name": "ir",
      "display_name": "R"
    },
    "language_info": {
      "name": "R"
    }
  },
  "cells": [
    {
      "cell_type": "markdown",
      "metadata": {
        "id": "view-in-github",
        "colab_type": "text"
      },
      "source": [
        "<a href=\"https://colab.research.google.com/github/aleanaliaaustral-web/labo2025v/blob/main/src/ensembles/594_TareaHogar_05_3.ipynb\" target=\"_parent\"><img src=\"https://colab.research.google.com/assets/colab-badge.svg\" alt=\"Open In Colab\"/></a>"
      ]
    },
    {
      "cell_type": "markdown",
      "source": [
        "# Tarea para el Hogar 05"
      ],
      "metadata": {
        "id": "0cEmzeUKFkPh"
      }
    },
    {
      "cell_type": "markdown",
      "source": [
        "Esta Tarea para el Hogar 05 se entrega el final de la cuarta clase\n",
        "<br> se espera de usted que intente avanzar con los desafios propuestos y que los traiga terminados para la Clase 05 que será el miercoles 03 de septiembre"
      ],
      "metadata": {
        "id": "nSICPpyTGQmC"
      }
    },
    {
      "cell_type": "markdown",
      "source": [
        "##  1. Overfitting the Public Leaderboard"
      ],
      "metadata": {
        "id": "DenyKXkiJ5JN"
      }
    },
    {
      "cell_type": "markdown",
      "source": [
        "Leer  https://medium.com/hmif-itb/overfitting-the-leaderboard-da25172ac62e\n",
        "( 8 minutos )"
      ],
      "metadata": {
        "id": "l-K2_ZsZGrVD"
      }
    },
    {
      "cell_type": "markdown",
      "source": [
        "## 2. Hiperparámetros del LightGBM"
      ],
      "metadata": {
        "id": "K9GkTOk5J9t3"
      }
    },
    {
      "cell_type": "markdown",
      "source": [
        "Los objetivos de esta tarea son:\n",
        "\n",
        "\n",
        "*   Aumentar la rentabilidad de la campaña de marketing de retención proactiva de clientes.\n",
        "*   Generar un mejor modelo optimizando sus hiperparámetros\n",
        "*   Conceptual : investigar los mas relevantes hiperparámetros de LightGBM\n",
        "*   Familiarizarse con la Bayesian Optimization, sus largos tiempos de corrida y opciones para reducirlos\n",
        "*   Familiarizarse con el uso de máquinas virtuales de Google Colab\n",
        "*   Ver un pipeline completo de optimización de hiperparámetros y puesta en producción"
      ],
      "metadata": {
        "id": "VmEFy0ukKL5T"
      }
    },
    {
      "cell_type": "markdown",
      "source": [
        "LightGBM cuenta con mas de 60 hiperparámetros, siendo posible utilizar 40 al mismo tiempo, aunque no razonable.\n",
        "<br> La documentación oficial de los hiperparámetros de LightGBM es  https://lightgbm.readthedocs.io/en/latest/Parameters.html#core-parameters\n"
      ],
      "metadata": {
        "id": "5yvlS6JQLRMd"
      }
    },
    {
      "cell_type": "markdown",
      "source": [
        "Se lo alerta sobre que una Optimizacion Bayesiana lleva varias horas de corrida, y usted deberá correr VARIAS optimizaciones para descubrir cuales parámetros conviene optimizar.\n",
        "<br> A pesar que la próxima clase es recien en viernes 01 de agosto, inicie la tarea con tiempo, aprenda a planificar estratégicamente sus corridas como un@ científ@  de datos."
      ],
      "metadata": {
        "id": "eydI4YNAsFaf"
      }
    },
    {
      "cell_type": "markdown",
      "source": [
        "Es necesario investigar cuales son los hiperparámetros de LightGBM que vale la pena optimizar en una Bayesian Optimization, ya que los realmente utiles son apenas un reducido subconjunto.\n",
        "<br>Usted deberá investigar cuales son los hiperparámetros mas relevantes de LightGBM, su primer alternativa es preguntándole a su amigo con capacidades especiales ChatGPT o sus endogámicos familiares Claude, DeepSeek, Gemini, Grok, etc\n",
        "<br> La segunda alternativa es la propia documentación de LightGBM  https://lightgbm.readthedocs.io/en/latest/Parameters-Tuning.html\n"
      ],
      "metadata": {
        "id": "RzU4S0SeMcpp"
      }
    },
    {
      "cell_type": "markdown",
      "source": [
        "Adicionalmente podra buscar información como la que proveen esta diminuta muestra aleatoria de artículos ligeros:\n",
        "* https://machinelearningmastery.com/light-gradient-boosted-machine-lightgbm-ensemble/\n",
        "*  https://medium.com/@sarahzouinina/a-deep-dive-into-lightgbm-how-to-choose-and-tune-parameters-7c584945842e\n",
        "*  https://www.kaggle.com/code/somang1418/tuning-hyperparameters-under-10-minutes-lgbm\n",
        "*  https://towardsdatascience.com/beginners-guide-to-the-must-know-lightgbm-hyperparameters-a0005a812702/\n",
        "\n",
        "\n",
        "<br>  La muestra anterior se brinda a modo de ejemplo, usted deberá buscar muuuuchas  fuentes adicionales de información\n",
        "<br> Tenga presente que LightGBM es el estado del arte en modelado predictivo para datasets estructurado, que son el 90% del trabajo del 95% de los Data Scientists en Argentina."
      ],
      "metadata": {
        "id": "LNptUgI_NWWG"
      }
    },
    {
      "cell_type": "markdown",
      "source": [
        "El desafío de esta tarea es:\n",
        "* Qué hiperparparámetros conviene optimizar?  Las recomendaciones de los artículos ligeros es siempre sensata?  Sus autores realmente hicieron experimentos o son siemplemente escritores de entretenimiento carente de base científica?\n",
        "* Elegidos los hiperparámetros, cual es el  <desde, hasta> que se debe utilizar en la Bayesian Optimization ?\n",
        "* Realmente vale la pena optimizar 10 o 16 hiperparámetros al mismo tiempo ?  No resulta contraproducente una búsqueda en un espacio de tal alta dimensionalidad ?"
      ],
      "metadata": {
        "id": "WpUThBojODyK"
      }
    },
    {
      "cell_type": "markdown",
      "source": [
        "#### 2.1  Seteo del ambiente en Google Colab"
      ],
      "metadata": {
        "id": "PX0qg_c0yqob"
      }
    },
    {
      "cell_type": "markdown",
      "metadata": {
        "id": "NGY7H9xza7Zr"
      },
      "source": [
        "Esta parte se debe correr con el runtime en Python3\n",
        "<br>Ir al menu, Runtime -> Change Runtime Type -> Runtime type ->  **Python 3**"
      ]
    },
    {
      "cell_type": "markdown",
      "metadata": {
        "id": "7PupIBNba7Zr"
      },
      "source": [
        "Conectar la virtual machine donde esta corriendo Google Colab con el  Google Drive, para poder tener persistencia de archivos"
      ]
    },
    {
      "cell_type": "code",
      "execution_count": null,
      "metadata": {
        "id": "9LpZCst5a7Zs",
        "colab": {
          "base_uri": "https://localhost:8080/"
        },
        "outputId": "8ce1aba7-135f-4016-8165-8bcb67ea71e1"
      },
      "outputs": [
        {
          "output_type": "stream",
          "name": "stdout",
          "text": [
            "Mounted at /content/.drive\n"
          ]
        }
      ],
      "source": [
        "# primero establecer el Runtime de Python 3\n",
        "from google.colab import drive\n",
        "drive.mount('/content/.drive')"
      ]
    },
    {
      "cell_type": "markdown",
      "metadata": {
        "id": "JYC_F-wla7Zs"
      },
      "source": [
        "Para correr la siguiente celda es fundamental en Arranque en Frio haber copiado el archivo kaggle.json al Google Drive, en la carpeta indicada en el instructivo\n",
        "\n",
        "<br>los siguientes comando estan en shell script de Linux\n",
        "*   Crear las carpetas en el Google Drive\n",
        "*   \"instalar\" el archivo kaggle.json desde el Google Drive a la virtual machine para que pueda ser utilizado por la libreria  kaggle de Python\n",
        "*   Bajar el  **dataset_pequeno**  al  Google Drive  y tambien al disco local de la virtual machine que esta corriendo Google Colab\n",
        "\n"
      ]
    },
    {
      "cell_type": "code",
      "execution_count": null,
      "metadata": {
        "id": "XWLelftXa7Zt",
        "colab": {
          "base_uri": "https://localhost:8080/"
        },
        "outputId": "dc1485e6-46c9-4adf-e820-fede4700d251"
      },
      "outputs": [
        {
          "output_type": "execute_result",
          "data": {
            "text/plain": []
          },
          "metadata": {},
          "execution_count": 2
        }
      ],
      "source": [
        "%%shell\n",
        "\n",
        "mkdir -p \"/content/.drive/My Drive/labo1\"\n",
        "mkdir -p \"/content/buckets\"\n",
        "ln -s \"/content/.drive/My Drive/labo1\" /content/buckets/b1\n",
        "\n",
        "mkdir -p ~/.kaggle\n",
        "cp /content/buckets/b1/kaggle/kaggle.json  ~/.kaggle\n",
        "chmod 600 ~/.kaggle/kaggle.json\n",
        "\n",
        "\n",
        "mkdir -p /content/buckets/b1/exp\n",
        "mkdir -p /content/buckets/b1/datasets\n",
        "mkdir -p /content/datasets\n",
        "\n",
        "\n",
        "\n",
        "archivo_origen=\"https://storage.googleapis.com/open-courses/austral2025-af91/dataset_pequeno.csv\"\n",
        "archivo_destino=\"/content/datasets/dataset_pequeno.csv\"\n",
        "archivo_destino_bucket=\"/content/buckets/b1/datasets/dataset_pequeno.csv\"\n",
        "\n",
        "if ! test -f $archivo_destino_bucket; then\n",
        "  wget  $archivo_origen  -O $archivo_destino_bucket\n",
        "fi\n",
        "\n",
        "\n",
        "if ! test -f $archivo_destino; then\n",
        "  cp  $archivo_destino_bucket  $archivo_destino\n",
        "fi\n"
      ]
    },
    {
      "cell_type": "markdown",
      "source": [
        "### 2.2 Optimizacion Hiperparámetros"
      ],
      "metadata": {
        "id": "oSKhZRToy2F7"
      }
    },
    {
      "cell_type": "markdown",
      "source": [
        "Esta parte se debe correr con el runtime en lenguaje R Ir al menu, Runtime -> Change Runtime Type -> Runtime type -> R"
      ],
      "metadata": {
        "id": "2kwPpHAtSmix"
      }
    },
    {
      "cell_type": "markdown",
      "source": [
        "### 2.2.1 Inicio"
      ],
      "metadata": {
        "id": "xp4-Bj3aYI8d"
      }
    },
    {
      "cell_type": "markdown",
      "source": [
        "limpio el ambiente de R"
      ],
      "metadata": {
        "id": "zy8YTZfESxeJ"
      }
    },
    {
      "cell_type": "code",
      "source": [
        "format(Sys.time(), \"%a %b %d %X %Y\")"
      ],
      "metadata": {
        "id": "gBq__iAdQliq",
        "colab": {
          "base_uri": "https://localhost:8080/",
          "height": 34
        },
        "outputId": "a61d66fd-18f6-48cd-dae8-418e3df10754"
      },
      "execution_count": null,
      "outputs": [
        {
          "output_type": "display_data",
          "data": {
            "text/html": [
              "'Thu Oct 30 08:49:50 PM 2025'"
            ],
            "text/markdown": "'Thu Oct 30 08:49:50 PM 2025'",
            "text/latex": "'Thu Oct 30 08:49:50 PM 2025'",
            "text/plain": [
              "[1] \"Thu Oct 30 08:49:50 PM 2025\""
            ]
          },
          "metadata": {}
        }
      ]
    },
    {
      "cell_type": "code",
      "source": [
        "# limpio la memoria\n",
        "rm(list=ls(all.names=TRUE)) # remove all objects\n",
        "gc(full=TRUE, verbose=FALSE) # garbage collection"
      ],
      "metadata": {
        "id": "7rdVrBojS1IV",
        "colab": {
          "base_uri": "https://localhost:8080/",
          "height": 129
        },
        "outputId": "a29e7a72-84c0-4cad-bded-cc9842d8689a"
      },
      "execution_count": null,
      "outputs": [
        {
          "output_type": "display_data",
          "data": {
            "text/html": [
              "<table class=\"dataframe\">\n",
              "<caption>A matrix: 2 × 6 of type dbl</caption>\n",
              "<thead>\n",
              "\t<tr><th></th><th scope=col>used</th><th scope=col>(Mb)</th><th scope=col>gc trigger</th><th scope=col>(Mb)</th><th scope=col>max used</th><th scope=col>(Mb)</th></tr>\n",
              "</thead>\n",
              "<tbody>\n",
              "\t<tr><th scope=row>Ncells</th><td> 660381</td><td>35.3</td><td>1454465</td><td>77.7</td><td>1454465</td><td>77.7</td></tr>\n",
              "\t<tr><th scope=row>Vcells</th><td>1226627</td><td> 9.4</td><td>8388608</td><td>64.0</td><td>1975128</td><td>15.1</td></tr>\n",
              "</tbody>\n",
              "</table>\n"
            ],
            "text/markdown": "\nA matrix: 2 × 6 of type dbl\n\n| <!--/--> | used | (Mb) | gc trigger | (Mb) | max used | (Mb) |\n|---|---|---|---|---|---|---|\n| Ncells |  660381 | 35.3 | 1454465 | 77.7 | 1454465 | 77.7 |\n| Vcells | 1226627 |  9.4 | 8388608 | 64.0 | 1975128 | 15.1 |\n\n",
            "text/latex": "A matrix: 2 × 6 of type dbl\n\\begin{tabular}{r|llllll}\n  & used & (Mb) & gc trigger & (Mb) & max used & (Mb)\\\\\n\\hline\n\tNcells &  660381 & 35.3 & 1454465 & 77.7 & 1454465 & 77.7\\\\\n\tVcells & 1226627 &  9.4 & 8388608 & 64.0 & 1975128 & 15.1\\\\\n\\end{tabular}\n",
            "text/plain": [
              "       used    (Mb) gc trigger (Mb) max used (Mb)\n",
              "Ncells  660381 35.3 1454465    77.7 1454465  77.7\n",
              "Vcells 1226627  9.4 8388608    64.0 1975128  15.1"
            ]
          },
          "metadata": {}
        }
      ]
    },
    {
      "cell_type": "markdown",
      "source": [
        "### 2.2.2 Carga de Librerias"
      ],
      "metadata": {
        "id": "kuPfQ7ksjwW3"
      }
    },
    {
      "cell_type": "code",
      "source": [
        "# cargo las librerias que necesito\n",
        "require(\"data.table\")\n",
        "require(\"parallel\")\n",
        "\n",
        "if( !require(\"primes\") ) install.packages(\"primes\")\n",
        "require(\"primes\")\n",
        "\n",
        "if( !require(\"utils\") ) install.packages(\"utils\")\n",
        "require(\"utils\")\n",
        "\n",
        "if( !require(\"rlist\") ) install.packages(\"rlist\")\n",
        "require(\"rlist\")\n",
        "\n",
        "if( !require(\"yaml\")) install.packages(\"yaml\")\n",
        "require(\"yaml\")\n",
        "\n",
        "if( !require(\"lightgbm\") ) install.packages(\"lightgbm\")\n",
        "require(\"lightgbm\")\n",
        "\n",
        "if( !require(\"DiceKriging\") ) install.packages(\"DiceKriging\")\n",
        "require(\"DiceKriging\")\n",
        "\n",
        "if( !require(\"mlrMBO\") ) install.packages(\"mlrMBO\")\n",
        "require(\"mlrMBO\")"
      ],
      "metadata": {
        "id": "lVyxLaJ1j1J_",
        "colab": {
          "base_uri": "https://localhost:8080/"
        },
        "outputId": "9be05624-97ac-4eee-c9aa-dfb94e93b108"
      },
      "execution_count": null,
      "outputs": [
        {
          "output_type": "stream",
          "name": "stderr",
          "text": [
            "Loading required package: data.table\n",
            "\n",
            "Loading required package: parallel\n",
            "\n",
            "Loading required package: primes\n",
            "\n",
            "Warning message in library(package, lib.loc = lib.loc, character.only = TRUE, logical.return = TRUE, :\n",
            "“there is no package called ‘primes’”\n",
            "Installing package into ‘/usr/local/lib/R/site-library’\n",
            "(as ‘lib’ is unspecified)\n",
            "\n",
            "Loading required package: primes\n",
            "\n",
            "Loading required package: rlist\n",
            "\n",
            "Warning message in library(package, lib.loc = lib.loc, character.only = TRUE, logical.return = TRUE, :\n",
            "“there is no package called ‘rlist’”\n",
            "Installing package into ‘/usr/local/lib/R/site-library’\n",
            "(as ‘lib’ is unspecified)\n",
            "\n",
            "also installing the dependency ‘XML’\n",
            "\n",
            "\n",
            "Loading required package: rlist\n",
            "\n",
            "Loading required package: yaml\n",
            "\n",
            "Loading required package: lightgbm\n",
            "\n",
            "Warning message in library(package, lib.loc = lib.loc, character.only = TRUE, logical.return = TRUE, :\n",
            "“there is no package called ‘lightgbm’”\n",
            "Installing package into ‘/usr/local/lib/R/site-library’\n",
            "(as ‘lib’ is unspecified)\n",
            "\n",
            "Loading required package: lightgbm\n",
            "\n",
            "Loading required package: DiceKriging\n",
            "\n",
            "Warning message in library(package, lib.loc = lib.loc, character.only = TRUE, logical.return = TRUE, :\n",
            "“there is no package called ‘DiceKriging’”\n",
            "Installing package into ‘/usr/local/lib/R/site-library’\n",
            "(as ‘lib’ is unspecified)\n",
            "\n",
            "Loading required package: DiceKriging\n",
            "\n",
            "Loading required package: mlrMBO\n",
            "\n",
            "Warning message in library(package, lib.loc = lib.loc, character.only = TRUE, logical.return = TRUE, :\n",
            "“there is no package called ‘mlrMBO’”\n",
            "Installing package into ‘/usr/local/lib/R/site-library’\n",
            "(as ‘lib’ is unspecified)\n",
            "\n",
            "also installing the dependencies ‘fastmatch’, ‘RcppArmadillo’, ‘mlr’, ‘ParamHelpers’, ‘smoof’, ‘BBmisc’, ‘checkmate’, ‘lhs’, ‘parallelMap’\n",
            "\n",
            "\n",
            "Loading required package: mlrMBO\n",
            "\n",
            "Loading required package: mlr\n",
            "\n",
            "Loading required package: ParamHelpers\n",
            "\n",
            "Loading required package: smoof\n",
            "\n",
            "Loading required package: checkmate\n",
            "\n",
            "\n",
            "Attaching package: ‘checkmate’\n",
            "\n",
            "\n",
            "The following object is masked from ‘package:DiceKriging’:\n",
            "\n",
            "    checkNames\n",
            "\n",
            "\n"
          ]
        }
      ]
    },
    {
      "cell_type": "markdown",
      "source": [
        "### 2.2.3 Definicion de Parametros"
      ],
      "metadata": {
        "id": "Iz-6Qt6BUaA3"
      }
    },
    {
      "cell_type": "markdown",
      "source": [
        "aqui debe cargar SU semilla primigenia\n",
        "<br>recuerde cambiar el numero de experimento en cada corrida nueva"
      ],
      "metadata": {
        "id": "cOdlKd7lUm2I"
      }
    },
    {
      "cell_type": "code",
      "source": [
        "PARAM <- list()\n",
        "PARAM$experimento <- 59403\n",
        "PARAM$semilla_primigenia <- 958864\n"
      ],
      "metadata": {
        "id": "ASYkebOu2mF6"
      },
      "execution_count": null,
      "outputs": []
    },
    {
      "cell_type": "code",
      "source": [
        "PARAM$kaggle$competencia <- \"labo-i-2025-virtual-analista-sr\"\n",
        "PARAM$kaggle$cortes <- seq(10000, 12000, by= 500)"
      ],
      "metadata": {
        "id": "ezOhQdbA293o"
      },
      "execution_count": null,
      "outputs": []
    },
    {
      "cell_type": "code",
      "source": [
        "# un undersampling de 0.1  toma solo el 10% de los CONTINUA\n",
        "# undersampling de 1.0  implica tomar TODOS los datos\n",
        "\n",
        "PARAM$trainingstrategy$undersampling <- 0.5"
      ],
      "metadata": {
        "id": "jtB0Lub42rHO"
      },
      "execution_count": null,
      "outputs": []
    },
    {
      "cell_type": "code",
      "source": [
        "# Parametros LightGBM\n",
        "\n",
        "PARAM$hyperparametertuning$xval_folds <- 5\n",
        "\n",
        "# parametros fijos del LightGBM que se pisaran con la parte variable de la BO\n",
        "PARAM$lgbm$param_fijos <-  list(\n",
        "  boosting= \"gbdt\", # puede ir  dart  , ni pruebe random_forest\n",
        "  objective= \"binary\",\n",
        "  metric= \"auc\",\n",
        "  first_metric_only= FALSE,\n",
        "  boost_from_average= TRUE,\n",
        "  feature_pre_filter= FALSE,\n",
        "  force_row_wise= TRUE, # para reducir warnings\n",
        "  verbosity= -100,\n",
        "\n",
        "  seed= PARAM$semilla_primigenia,\n",
        "\n",
        "  max_depth= -1L, # -1 significa no limitar,  por ahora lo dejo fijo\n",
        "  min_gain_to_split= 0, # min_gain_to_split >= 0\n",
        "  min_sum_hessian_in_leaf= 0.001, #  min_sum_hessian_in_leaf >= 0.0\n",
        "  lambda_l1= 0.0, # lambda_l1 >= 0.0\n",
        "  lambda_l2= 0.0, # lambda_l2 >= 0.0\n",
        "  max_bin= 31L, # lo debo dejar fijo, no participa de la BO\n",
        "\n",
        "  bagging_fraction= 1.0, # 0.0 < bagging_fraction <= 1.0\n",
        "  pos_bagging_fraction= 1.0, # 0.0 < pos_bagging_fraction <= 1.0\n",
        "  neg_bagging_fraction= 1.0, # 0.0 < neg_bagging_fraction <= 1.0\n",
        "  is_unbalance= FALSE, #\n",
        "  scale_pos_weight= 1.0, # scale_pos_weight > 0.0\n",
        "\n",
        "  drop_rate= 0.1, # 0.0 < neg_bagging_fraction <= 1.0\n",
        "  max_drop= 50, # <=0 means no limit\n",
        "  skip_drop= 0.5, # 0.0 <= skip_drop <= 1.0\n",
        "\n",
        "  extra_trees= FALSE,\n",
        "\n",
        "  num_iterations= 1200,\n",
        "  learning_rate= 0.02,\n",
        "  feature_fraction= 0.5,\n",
        "  num_leaves= 750,\n",
        "  min_data_in_leaf= 5000\n",
        ")\n"
      ],
      "metadata": {
        "id": "OFxm-xiNUOJX"
      },
      "execution_count": null,
      "outputs": []
    },
    {
      "cell_type": "markdown",
      "source": [
        " HIPERPARÁMETROS OPTIMIZADOS SEGÚN EL PAPER\n",
        "### ============================================================================\n",
        "# Basado en Imani & Arabnia (2023):\n",
        "# - LightGBM alcanzó ROC AUC = 91% con optimización\n",
        "# - Parámetros clave identificados:\n",
        "#   * num_leaves = 1169\n",
        "#   * max_depth = 10\n",
        "#   * lambda_l1 = 2.689e-7 (regularización L1 muy pequeña)\n",
        "#   * lambda_l2 = 7.238e-8 (regularización L2 muy pequeña)\n",
        "#   * feature_fraction = 0.8708\n",
        "#   * bagging_fraction = 0.6281\n",
        "#   * bagging_freq = 7"
      ],
      "metadata": {
        "id": "2OOwsva4IF6c"
      }
    },
    {
      "cell_type": "markdown",
      "source": [
        "Aqui se definen los hiperparámetros de LightGBM que participan de la Bayesian Optimization\n",
        "<br> si es un numero entero debe ir  makeIntegerParam\n",
        "<br> si es un numero real (con decimales) debe ir  makeNumericParam\n",
        "<br> es muy importante leer cuales son un lower y upper  permitidos y ademas razonables"
      ],
      "metadata": {
        "id": "D5Yj-JV4yvOt"
      }
    },
    {
      "cell_type": "code",
      "source": [
        "cat(\"\\n\")\n",
        "cat(\"=========================================================================\\n\")\n",
        "cat(\"CONFIGURACIÓN DE HIPERPARÁMETROS BASADA EN IMANI & ARABNIA (2023)\\n\")\n",
        "cat(\"=========================================================================\\n\")\n",
        "cat(\"Paper: LightGBM alcanzó ROC AUC = 91%\\n\")\n",
        "cat(\"Optimizando 12 hiperparámetros críticos identificados en el paper\\n\")\n",
        "cat(\"=========================================================================\\n\\n\")\n",
        "\n",
        "# Aqui se cargan los bordes de los hiperparametros de la BO\n",
        "PARAM$hyperparametertuning$hs <- makeParamSet(\n",
        "\n",
        "  # === PARÁMETROS BÁSICOS (originales del profesor) ===\n",
        "  # makeIntegerParam(\"min_data_in_leaf\", lower= 1L, upper= 2000L), # Duplicate definition\n",
        "  makeNumericParam(\"learning_rate\", lower= 0.01, upper= 0.3),\n",
        "  makeIntegerParam(\"num_leaves\", lower= 31L, upper= 2048L),  # Paper: 1169\n",
        "  makeIntegerParam(\"min_data_in_leaf\", lower= 1L, upper= 8000L), # Correct definition\n",
        "\n",
        "  # === PARÁMETROS DE MUESTREO (críticos según paper) ===\n",
        "  makeNumericParam(\"feature_fraction\", lower= 0.4, upper= 1.0),  # Paper: 0.8708\n",
        "  makeNumericParam(\"bagging_fraction\", lower= 0.4, upper= 1.0),  # Paper: 0.6281\n",
        "  makeIntegerParam(\"bagging_freq\", lower= 1L, upper= 10L),       # Paper: 7\n",
        "\n",
        "  # === ESTRUCTURA DEL ÁRBOL ===\n",
        "  makeIntegerParam(\"max_depth\", lower= 3L, upper= 15L),          # Paper: 10\n",
        "\n",
        "  # === REGULARIZACIÓN (MUY IMPORTANTE para evitar overfitting) ===\n",
        "  # El paper encontró que valores MUY PEQUEÑOS pero NO CERO son óptimos\n",
        "  makeNumericParam(\"lambda_l1\", lower= 1e-8, upper= 5.0),  # ✅ Debe decir 5.0\n",
        "  makeNumericParam(\"lambda_l2\", lower= 1e-8, upper= 5.0),  # ✅ Debe decir 5.0\n",
        "\n",
        "  # === OTROS PARÁMETROS IMPORTANTES ===\n",
        "  makeIntegerParam(\"min_child_samples\", lower= 5L, upper= 100L), # Paper: 8\n",
        "  makeNumericParam(\"min_gain_to_split\", lower= 0.0, upper= 1.0)\n",
        ")\n",
        "\n",
        "cat(\"Hiperparámetros a optimizar:\\n\")\n",
        "cat(\"  1. num_iterations     [100, 2000]      - Número de árboles\\n\")\n",
        "cat(\"  2. learning_rate      [0.01, 0.3]      - Tasa de aprendizaje\\n\")\n",
        "cat(\"  3. num_leaves         [31, 2048]       - Hojas por árbol (paper: 1169)\\n\")\n",
        "cat(\"  4. min_data_in_leaf   [1, 8000]        - Mínimo de datos por hoja\\n\")\n",
        "cat(\"  5. feature_fraction   [0.4, 1.0]       - % features por árbol (paper: 0.87)\\n\")\n",
        "cat(\"  6. bagging_fraction   [0.4, 1.0]       - % datos por árbol (paper: 0.63)\\n\")\n",
        "cat(\"  7. bagging_freq       [1, 10]          - Frecuencia bagging (paper: 7)\\n\")\n",
        "cat(\"  8. max_depth          [3, 15]          - Profundidad máxima (paper: 10)\\n\")\n",
        "cat(\"  9. lambda_l1          [1e-8, 10]       - Regularización L1 (paper: 2.7e-7)\\n\")\n",
        "cat(\" 10. lambda_l2          [1e-8, 10]       - Regularización L2 (paper: 7.2e-8)\\n\")\n",
        "cat(\" 11. min_child_samples  [5, 100]         - Min samples en nodo hijo (paper: 8)\\n\")\n",
        "cat(\" 12. min_gain_to_split  [0, 1]           - Ganancia mínima para split\\n\")\n",
        "cat(\"\\n\")\n",
        "\n",
        "# A mayor cantidad de hiperparámetros, se debe aumentar las iteraciones de la Bayesian Optimization\n",
        "# RECOMENDACIÓN BASADA EN EL PAPER Y TIEMPO DISPONIBLE:\n",
        "# - 30 iteraciones: Insuficiente para 12 hiperparámetros\n",
        "# - 50 iteraciones: Balance óptimo tiempo/calidad ⭐\n",
        "# - 100+ iteraciones: Ideal pero requiere mucho tiempo\n",
        "\n",
        "PARAM$hyperparametertuning$iteraciones <- 50  # ⚠️ Ajustar según tiempo disponible\n",
        "\n",
        "cat(\"Iteraciones de Optimización Bayesiana:\", PARAM$hyperparametertuning$iteraciones, \"\\n\")\n",
        "cat(\"Tiempo estimado: ~\", round(PARAM$hyperparametertuning$iteraciones * 2.5 / 60, 1), \"horas\\n\")\n",
        "cat(\"Con 50 iteraciones tendrás un buen balance entre calidad y tiempo.\\n\")\n",
        "cat(\"\\n\")"
      ],
      "metadata": {
        "id": "jENpR26ZyuS8",
        "colab": {
          "base_uri": "https://localhost:8080/"
        },
        "outputId": "ab0bb428-9595-4c4c-bba9-f0aab47df28b"
      },
      "execution_count": null,
      "outputs": [
        {
          "output_type": "stream",
          "name": "stdout",
          "text": [
            "\n",
            "=========================================================================\n",
            "CONFIGURACIÓN DE HIPERPARÁMETROS BASADA EN IMANI & ARABNIA (2023)\n",
            "=========================================================================\n",
            "Paper: LightGBM alcanzó ROC AUC = 91%\n",
            "Optimizando 12 hiperparámetros críticos identificados en el paper\n",
            "=========================================================================\n",
            "\n",
            "Hiperparámetros a optimizar:\n",
            "  1. num_iterations     [100, 2000]      - Número de árboles\n",
            "  2. learning_rate      [0.01, 0.3]      - Tasa de aprendizaje\n",
            "  3. num_leaves         [31, 2048]       - Hojas por árbol (paper: 1169)\n",
            "  4. min_data_in_leaf   [1, 8000]        - Mínimo de datos por hoja\n",
            "  5. feature_fraction   [0.4, 1.0]       - % features por árbol (paper: 0.87)\n",
            "  6. bagging_fraction   [0.4, 1.0]       - % datos por árbol (paper: 0.63)\n",
            "  7. bagging_freq       [1, 10]          - Frecuencia bagging (paper: 7)\n",
            "  8. max_depth          [3, 15]          - Profundidad máxima (paper: 10)\n",
            "  9. lambda_l1          [1e-8, 10]       - Regularización L1 (paper: 2.7e-7)\n",
            " 10. lambda_l2          [1e-8, 10]       - Regularización L2 (paper: 7.2e-8)\n",
            " 11. min_child_samples  [5, 100]         - Min samples en nodo hijo (paper: 8)\n",
            " 12. min_gain_to_split  [0, 1]           - Ganancia mínima para split\n",
            "\n",
            "Iteraciones de Optimización Bayesiana: 50 \n",
            "Tiempo estimado: ~ 2.1 horas\n",
            "Con 50 iteraciones tendrás un buen balance entre calidad y tiempo.\n",
            "\n"
          ]
        }
      ]
    },
    {
      "cell_type": "code",
      "source": [
        "PARAM$hyperparametertuning$hs <- makeParamSet(\n",
        "\n",
        "  # === PARÁMETROS BÁSICOS (originales del profesor) ===\n",
        "  makeIntegerParam(\"num_iterations\", lower= 100L, upper= 2000L),\n",
        "  makeNumericParam(\"learning_rate\", lower= 0.01, upper= 0.3),\n",
        "  makeIntegerParam(\"num_leaves\", lower= 31L, upper= 2048L),\n",
        "  makeIntegerParam(\"min_data_in_leaf\", lower= 1L, upper= 2000L),\n",
        "\n",
        "  # === PARÁMETROS DE MUESTREO (críticos según paper) ===\n",
        "  makeNumericParam(\"feature_fraction\", lower= 0.4, upper= 1.0),\n",
        "  makeNumericParam(\"bagging_fraction\", lower= 0.4, upper= 1.0),\n",
        "  makeIntegerParam(\"bagging_freq\", lower= 1L, upper= 10L),\n",
        "\n",
        "  # === ESTRUCTURA DEL ÁRBOL ===\n",
        "  makeIntegerParam(\"max_depth\", lower= 3L, upper= 15L),\n",
        "\n",
        "  # === REGULARIZACIÓN (MUY IMPORTANTE para evitar overfitting) ===\n",
        "  makeNumericParam(\"lambda_l1\", lower= 1e-8, upper= 5.0),\n",
        "  makeNumericParam(\"lambda_l2\", lower= 1e-8, upper= 5.0),\n",
        "\n",
        "  # === OTROS PARÁMETROS IMPORTANTES ===\n",
        "  makeIntegerParam(\"min_child_samples\", lower= 5L, upper= 100L),\n",
        "  makeNumericParam(\"min_gain_to_split\", lower= 0.0, upper= 0.5)\n",
        ")"
      ],
      "metadata": {
        "id": "AXEUh1OgTsy5"
      },
      "execution_count": null,
      "outputs": []
    },
    {
      "cell_type": "markdown",
      "source": [
        "A mayor cantidad de hiperparámetros, se debe aumentar las iteraciones de la Bayesian Optimization\n",
        "<br> 30 es un valor muy tacaño, pero corre rápido\n",
        "<br> deberia partir de 50, alcanzando los 100 si se dispone de tiempo"
      ],
      "metadata": {
        "id": "-_RPFUb3zMoW"
      }
    },
    {
      "cell_type": "markdown",
      "source": [
        "### 2.2.4  Preprocesamiento"
      ],
      "metadata": {
        "id": "4RWZXL1VZjMI"
      }
    },
    {
      "cell_type": "code",
      "source": [
        "# carpeta de trabajo\n",
        "\n",
        "setwd(\"/content/buckets/b1/exp\")\n",
        "experimento_folder <- paste0(\"HT\", PARAM$experimento)\n",
        "dir.create(experimento_folder, showWarnings=FALSE)\n",
        "setwd( paste0(\"/content/buckets/b1/exp/\", experimento_folder ))"
      ],
      "metadata": {
        "id": "j3toG9-lZm4K"
      },
      "execution_count": null,
      "outputs": []
    },
    {
      "cell_type": "code",
      "source": [
        "# lectura del dataset\n",
        "\n",
        "dataset <- fread(\"/content/datasets/dataset_pequeno.csv\")"
      ],
      "metadata": {
        "id": "FM3lxKoLZ643"
      },
      "execution_count": null,
      "outputs": []
    },
    {
      "cell_type": "code",
      "source": [
        "dataset_train <- dataset[foto_mes %in% c(202107)]"
      ],
      "metadata": {
        "id": "OsJ-91UeZ-I_"
      },
      "execution_count": null,
      "outputs": []
    },
    {
      "cell_type": "code",
      "source": [
        "# paso la clase a binaria que tome valores {0,1}  enteros\n",
        "#  BAJA+1 y BAJA+2  son  1,   CONTINUA es 0\n",
        "\n",
        "dataset_train[,\n",
        "  clase01 := ifelse(clase_ternaria %in% c(\"BAJA+2\",\"BAJA+1\"), 1L, 0L)\n",
        "]"
      ],
      "metadata": {
        "id": "vrWE7BE0aB2J"
      },
      "execution_count": null,
      "outputs": []
    },
    {
      "cell_type": "code",
      "source": [
        "# defino los datos que forma parte del training\n",
        "# aqui se hace el undersampling de los CONTINUA\n",
        "# notar que para esto utilizo la SEGUNDA semilla\n",
        "\n",
        "set.seed(PARAM$semilla_primigenia, kind = \"L'Ecuyer-CMRG\")\n",
        "dataset_train[, azar := runif(nrow(dataset_train))]\n",
        "dataset_train[, training := 0L]\n",
        "\n",
        "dataset_train[\n",
        "  foto_mes %in% c(202107) &\n",
        "    (azar <= PARAM$trainingstrategy$undersampling | clase_ternaria %in% c(\"BAJA+1\", \"BAJA+2\")),\n",
        "  training := 1L\n",
        "]"
      ],
      "metadata": {
        "id": "jP7YlQBnaW6W"
      },
      "execution_count": null,
      "outputs": []
    },
    {
      "cell_type": "code",
      "source": [
        "# los campos que se van a utilizar\n",
        "\n",
        "campos_buenos <- setdiff(\n",
        "  colnames(dataset_train),\n",
        "  c(\"clase_ternaria\", \"clase01\", \"azar\", \"training\")\n",
        ")"
      ],
      "metadata": {
        "id": "xElu4s5W4rX7"
      },
      "execution_count": null,
      "outputs": []
    },
    {
      "cell_type": "code",
      "source": [
        "# dejo los datos en el formato que necesita LightGBM\n",
        "\n",
        "dtrain <- lgb.Dataset(\n",
        "  data= data.matrix(dataset_train[training == 1L, campos_buenos, with= FALSE]),\n",
        "  label= dataset_train[training == 1L, clase01],\n",
        "  free_raw_data= FALSE\n",
        ")\n",
        "\n",
        "nrow(dtrain)\n",
        "ncol(dtrain)"
      ],
      "metadata": {
        "id": "PppMHcGYaaol",
        "colab": {
          "base_uri": "https://localhost:8080/",
          "height": 52
        },
        "outputId": "d2cbfd6a-8bca-4a04-e85a-76b874d5f167"
      },
      "execution_count": null,
      "outputs": [
        {
          "output_type": "display_data",
          "data": {
            "text/html": [
              "83670"
            ],
            "text/markdown": "83670",
            "text/latex": "83670",
            "text/plain": [
              "[1] 83670"
            ]
          },
          "metadata": {}
        },
        {
          "output_type": "display_data",
          "data": {
            "text/html": [
              "154"
            ],
            "text/markdown": "154",
            "text/latex": "154",
            "text/plain": [
              "[1] 154"
            ]
          },
          "metadata": {}
        }
      ]
    },
    {
      "cell_type": "markdown",
      "source": [
        "2.2.5 Configuracion Bayesian Optimization"
      ],
      "metadata": {
        "id": "Ta-EkOu3cphF"
      }
    },
    {
      "cell_type": "code",
      "source": [
        "# En el argumento x llegan los parmaetros de la bayesiana\n",
        "#  devuelve la AUC en cross validation del modelo entrenado\n",
        "\n",
        "EstimarGanancia_AUC_lightgbm <- function(x) {\n",
        "\n",
        "  # x pisa (o agrega) a param_fijos\n",
        "  param_completo <- modifyList(PARAM$lgbm$param_fijos, x)\n",
        "\n",
        "  # entreno LightGBM\n",
        "  modelocv <- lgb.cv(\n",
        "    data= dtrain,\n",
        "    nfold= PARAM$hyperparametertuning$xval_folds,\n",
        "    stratified= TRUE,\n",
        "    param= param_completo\n",
        "  )\n",
        "\n",
        "  # obtengo la ganancia\n",
        "  AUC <- modelocv$best_score\n",
        "\n",
        "  # hago espacio en la memoria\n",
        "  rm(modelocv)\n",
        "  gc(full= TRUE, verbose= FALSE)\n",
        "\n",
        "  message(format(Sys.time(), \"%a %b %d %X %Y\"), \" AUC \", AUC)\n",
        "\n",
        "  return(AUC)\n",
        "}"
      ],
      "metadata": {
        "id": "cjgfurjdfiXb"
      },
      "execution_count": null,
      "outputs": []
    },
    {
      "cell_type": "code",
      "source": [
        "# Aqui comienza la configuracion de la Bayesian Optimization\n",
        "# en este archivo quedan la evolucion binaria de la BO\n",
        "kbayesiana <- \"bayesiana.RDATA\"\n",
        "\n",
        "funcion_optimizar <- EstimarGanancia_AUC_lightgbm # la funcion que voy a maximizar\n",
        "\n",
        "configureMlr(show.learner.output= FALSE)\n",
        "\n",
        "# configuro la busqueda bayesiana,  los hiperparametros que se van a optimizar\n",
        "# por favor, no desesperarse por lo complejo\n",
        "\n",
        "obj.fun <- makeSingleObjectiveFunction(\n",
        "  fn= funcion_optimizar, # la funcion que voy a maximizar\n",
        "  minimize= FALSE, # estoy Maximizando la ganancia\n",
        "  noisy= TRUE,\n",
        "  par.set= PARAM$hyperparametertuning$hs, # defined at the beginning of the program\n",
        "  has.simple.signature= FALSE # paso los parametros en una lista\n",
        ")\n",
        "\n",
        "# cada 600 segundos guardo el resultado intermedio\n",
        "ctrl <- makeMBOControl(\n",
        "  save.file.path= kbayesiana\n",
        ") # se graba cada 600 segundos\n",
        "\n",
        "# indico la cantidad de iteraciones que va a tener la Bayesian Optimization\n",
        "ctrl <- setMBOControlTermination(\n",
        "  ctrl,\n",
        "  iters= PARAM$hyperparametertuning$iteraciones\n",
        ") # cantidad de iteraciones\n",
        "\n",
        "# defino el método estandar para la creacion de los puntos iniciales,\n",
        "# los \"No Inteligentes\"\n",
        "ctrl <- setMBOControlInfill(ctrl, crit= makeMBOInfillCritEI())\n",
        "\n",
        "# establezco la funcion que busca el maximo\n",
        "surr.km <- makeLearner(\n",
        "  \"regr.km\",\n",
        "  predict.type= \"se\",\n",
        "  covtype= \"matern3_2\",\n",
        "  control= list(trace= TRUE)\n",
        ")"
      ],
      "metadata": {
        "id": "WLi_o1hocvN-"
      },
      "execution_count": null,
      "outputs": []
    },
    {
      "cell_type": "markdown",
      "source": [
        "2.2.6 Corrida Bayesian Optimization"
      ],
      "metadata": {
        "id": "_uUeVo5pc4zc"
      }
    },
    {
      "cell_type": "code",
      "source": [
        "# inicio la optimizacion bayesiana, retomando si ya existe\n",
        "# es la celda mas lenta de todo el notebook\n",
        "\n",
        "if (!file.exists(kbayesiana)) {\n",
        "  bayesiana_salida <- mbo(obj.fun, learner= surr.km, control= ctrl)\n",
        "} else {\n",
        "  bayesiana_salida <- mboContinue(kbayesiana) # retomo en caso que ya exista\n",
        "}"
      ],
      "metadata": {
        "id": "RcABNaKGciaz",
        "colab": {
          "base_uri": "https://localhost:8080/"
        },
        "outputId": "8e035c01-6943-4045-a4e5-150c6a094a1a"
      },
      "execution_count": null,
      "outputs": [
        {
          "output_type": "stream",
          "name": "stderr",
          "text": [
            "Computing y column(s) for design. Not provided.\n",
            "\n",
            "Thu Oct 30 09:09:43 PM 2025 AUC 0.924537078753138\n",
            "\n",
            "Thu Oct 30 09:11:24 PM 2025 AUC 0.927743625356966\n",
            "\n",
            "Thu Oct 30 09:12:19 PM 2025 AUC 0.9234808865413\n",
            "\n",
            "Thu Oct 30 09:12:51 PM 2025 AUC 0.926006738520418\n",
            "\n",
            "Thu Oct 30 09:14:13 PM 2025 AUC 0.923520704559145\n",
            "\n",
            "Thu Oct 30 09:16:53 PM 2025 AUC 0.927220629698849\n",
            "\n",
            "Thu Oct 30 09:17:31 PM 2025 AUC 0.924712713421512\n",
            "\n",
            "Thu Oct 30 09:18:44 PM 2025 AUC 0.926375632395734\n",
            "\n",
            "Thu Oct 30 09:20:22 PM 2025 AUC 0.919701769014098\n",
            "\n",
            "Thu Oct 30 09:21:44 PM 2025 AUC 0.92447569519066\n",
            "\n",
            "Thu Oct 30 09:22:34 PM 2025 AUC 0.922521676239554\n",
            "\n",
            "Thu Oct 30 09:23:56 PM 2025 AUC 0.926883997173616\n",
            "\n",
            "Thu Oct 30 09:25:59 PM 2025 AUC 0.922283926180092\n",
            "\n",
            "Thu Oct 30 09:27:36 PM 2025 AUC 0.929100636567354\n",
            "\n",
            "Thu Oct 30 09:28:55 PM 2025 AUC 0.92641844051151\n",
            "\n",
            "Thu Oct 30 09:29:53 PM 2025 AUC 0.926851746562289\n",
            "\n",
            "Thu Oct 30 09:30:28 PM 2025 AUC 0.924120541036793\n",
            "\n",
            "Thu Oct 30 09:30:59 PM 2025 AUC 0.927167671707213\n",
            "\n",
            "Thu Oct 30 09:31:17 PM 2025 AUC 0.92284289000628\n",
            "\n",
            "Thu Oct 30 09:33:05 PM 2025 AUC 0.923106263228761\n",
            "\n",
            "Thu Oct 30 09:33:31 PM 2025 AUC 0.921968972109513\n",
            "\n",
            "Thu Oct 30 09:36:44 PM 2025 AUC 0.928269238148927\n",
            "\n",
            "Thu Oct 30 09:39:17 PM 2025 AUC 0.929200728515208\n",
            "\n",
            "Thu Oct 30 09:39:28 PM 2025 AUC 0.923316783933824\n",
            "\n",
            "Thu Oct 30 09:40:37 PM 2025 AUC 0.921171061898034\n",
            "\n",
            "Thu Oct 30 09:43:11 PM 2025 AUC 0.925498473635941\n",
            "\n",
            "Thu Oct 30 09:43:58 PM 2025 AUC 0.924142158053085\n",
            "\n",
            "Thu Oct 30 09:44:17 PM 2025 AUC 0.927449436037424\n",
            "\n",
            "Thu Oct 30 09:44:59 PM 2025 AUC 0.923375422316234\n",
            "\n",
            "Thu Oct 30 09:45:28 PM 2025 AUC 0.925830246985831\n",
            "\n",
            "Thu Oct 30 09:46:26 PM 2025 AUC 0.926930592705127\n",
            "\n",
            "Thu Oct 30 09:47:52 PM 2025 AUC 0.92609117097643\n",
            "\n",
            "Thu Oct 30 09:51:12 PM 2025 AUC 0.929401248066948\n",
            "\n",
            "Thu Oct 30 09:52:27 PM 2025 AUC 0.924962083903049\n",
            "\n",
            "Thu Oct 30 09:54:30 PM 2025 AUC 0.927375026501087\n",
            "\n",
            "Thu Oct 30 09:56:49 PM 2025 AUC 0.919906735654609\n",
            "\n",
            "Thu Oct 30 10:00:05 PM 2025 AUC 0.9277907556166\n",
            "\n",
            "Thu Oct 30 10:01:29 PM 2025 AUC 0.926024349120083\n",
            "\n",
            "Thu Oct 30 10:03:17 PM 2025 AUC 0.92159628195508\n",
            "\n",
            "Thu Oct 30 10:05:38 PM 2025 AUC 0.928343874015976\n",
            "\n",
            "Thu Oct 30 10:06:37 PM 2025 AUC 0.930002290090811\n",
            "\n",
            "Thu Oct 30 10:07:18 PM 2025 AUC 0.929306689946819\n",
            "\n",
            "Thu Oct 30 10:08:28 PM 2025 AUC 0.915603192203306\n",
            "\n",
            "Thu Oct 30 10:08:56 PM 2025 AUC 0.926860553082835\n",
            "\n",
            "Thu Oct 30 10:10:14 PM 2025 AUC 0.922009592384702\n",
            "\n",
            "Thu Oct 30 10:12:15 PM 2025 AUC 0.927259740206945\n",
            "\n",
            "Thu Oct 30 10:14:58 PM 2025 AUC 0.927246985006465\n",
            "\n",
            "Thu Oct 30 10:15:42 PM 2025 AUC 0.925817366237383\n",
            "\n",
            "[mbo] 0: num_iterations=976; learning_rate=0.166; num_leaves=654; min_data_in_leaf=1298; feature_fraction=0.838; bagging_fraction=0.725; bagging_freq=3; max_depth=10; lambda_l1=1.1; lambda_l2=3.52; min_child_samples=31; min_gain_to_split=0.201 : y = 0.925 : 107.3 secs : initdesign\n",
            "\n",
            "[mbo] 0: num_iterations=858; learning_rate=0.0915; num_leaves=843; min_data_in_leaf=686; feature_fraction=0.819; bagging_fraction=0.746; bagging_freq=3; max_depth=9; lambda_l1=2.89; lambda_l2=2.85; min_child_samples=76; min_gain_to_split=0.172 : y = 0.928 : 101.0 secs : initdesign\n",
            "\n",
            "[mbo] 0: num_iterations=955; learning_rate=0.236; num_leaves=1003; min_data_in_leaf=1799; feature_fraction=0.686; bagging_fraction=0.848; bagging_freq=6; max_depth=13; lambda_l1=2.97; lambda_l2=4.1; min_child_samples=66; min_gain_to_split=0.292 : y = 0.923 : 54.8 secs : initdesign\n",
            "\n",
            "[mbo] 0: num_iterations=448; learning_rate=0.177; num_leaves=876; min_data_in_leaf=1390; feature_fraction=0.653; bagging_fraction=0.865; bagging_freq=7; max_depth=12; lambda_l1=2.25; lambda_l2=2.2; min_child_samples=72; min_gain_to_split=0.479 : y = 0.926 : 32.2 secs : initdesign\n",
            "\n",
            "[mbo] 0: num_iterations=1704; learning_rate=0.231; num_leaves=578; min_data_in_leaf=1119; feature_fraction=0.706; bagging_fraction=0.949; bagging_freq=3; max_depth=10; lambda_l1=3.84; lambda_l2=1.4; min_child_samples=44; min_gain_to_split=0.218 : y = 0.924 : 82.0 secs : initdesign\n",
            "\n",
            "[mbo] 0: num_iterations=1875; learning_rate=0.0139; num_leaves=1569; min_data_in_leaf=954; feature_fraction=0.772; bagging_fraction=0.586; bagging_freq=6; max_depth=8; lambda_l1=4.43; lambda_l2=1.71; min_child_samples=29; min_gain_to_split=0.219 : y = 0.927 : 159.9 secs : initdesign\n",
            "\n",
            "[mbo] 0: num_iterations=542; learning_rate=0.157; num_leaves=1605; min_data_in_leaf=1258; feature_fraction=0.802; bagging_fraction=0.592; bagging_freq=1; max_depth=9; lambda_l1=3.87; lambda_l2=2.31; min_child_samples=82; min_gain_to_split=0.246 : y = 0.925 : 37.9 secs : initdesign\n",
            "\n",
            "[mbo] 0: num_iterations=1744; learning_rate=0.221; num_leaves=247; min_data_in_leaf=219; feature_fraction=0.832; bagging_fraction=0.836; bagging_freq=7; max_depth=7; lambda_l1=1.3; lambda_l2=2.55; min_child_samples=49; min_gain_to_split=0.355 : y = 0.926 : 73.3 secs : initdesign\n",
            "\n",
            "[mbo] 0: num_iterations=1382; learning_rate=0.265; num_leaves=1145; min_data_in_leaf=487; feature_fraction=0.535; bagging_fraction=0.569; bagging_freq=9; max_depth=10; lambda_l1=2.15; lambda_l2=0.149; min_child_samples=20; min_gain_to_split=0.275 : y = 0.92 : 97.6 secs : initdesign\n",
            "\n",
            "[mbo] 0: num_iterations=823; learning_rate=0.134; num_leaves=395; min_data_in_leaf=1174; feature_fraction=0.69; bagging_fraction=0.688; bagging_freq=4; max_depth=13; lambda_l1=1.87; lambda_l2=3.94; min_child_samples=57; min_gain_to_split=0.192 : y = 0.924 : 81.9 secs : initdesign\n",
            "\n",
            "[mbo] 0: num_iterations=695; learning_rate=0.222; num_leaves=986; min_data_in_leaf=1420; feature_fraction=0.629; bagging_fraction=0.479; bagging_freq=6; max_depth=6; lambda_l1=1.6; lambda_l2=3.23; min_child_samples=25; min_gain_to_split=0.0387 : y = 0.923 : 50.3 secs : initdesign\n",
            "\n",
            "[mbo] 0: num_iterations=1026; learning_rate=0.19; num_leaves=317; min_data_in_leaf=667; feature_fraction=0.856; bagging_fraction=0.893; bagging_freq=5; max_depth=7; lambda_l1=3.43; lambda_l2=0.785; min_child_samples=64; min_gain_to_split=0.0305 : y = 0.927 : 81.7 secs : initdesign\n",
            "\n",
            "[mbo] 0: num_iterations=1417; learning_rate=0.193; num_leaves=1438; min_data_in_leaf=1479; feature_fraction=0.423; bagging_fraction=0.497; bagging_freq=5; max_depth=11; lambda_l1=2.71; lambda_l2=1.48; min_child_samples=73; min_gain_to_split=0.0843 : y = 0.922 : 123.6 secs : initdesign\n",
            "\n",
            "[mbo] 0: num_iterations=1151; learning_rate=0.0719; num_leaves=1276; min_data_in_leaf=195; feature_fraction=0.61; bagging_fraction=0.706; bagging_freq=8; max_depth=9; lambda_l1=4.94; lambda_l2=2.98; min_child_samples=9; min_gain_to_split=0.445 : y = 0.929 : 96.4 secs : initdesign\n",
            "\n",
            "[mbo] 0: num_iterations=744; learning_rate=0.0871; num_leaves=122; min_data_in_leaf=822; feature_fraction=0.462; bagging_fraction=0.759; bagging_freq=10; max_depth=5; lambda_l1=2.01; lambda_l2=0.945; min_child_samples=33; min_gain_to_split=0.385 : y = 0.926 : 79.6 secs : initdesign\n",
            "\n",
            "[mbo] 0: num_iterations=910; learning_rate=0.14; num_leaves=1842; min_data_in_leaf=94; feature_fraction=0.886; bagging_fraction=0.822; bagging_freq=8; max_depth=6; lambda_l1=4.13; lambda_l2=1.82; min_child_samples=99; min_gain_to_split=0.138 : y = 0.927 : 57.5 secs : initdesign\n",
            "\n",
            "[mbo] 0: num_iterations=387; learning_rate=0.143; num_leaves=564; min_data_in_leaf=1943; feature_fraction=0.511; bagging_fraction=0.558; bagging_freq=7; max_depth=6; lambda_l1=4.83; lambda_l2=1.97; min_child_samples=84; min_gain_to_split=0.339 : y = 0.924 : 35.2 secs : initdesign\n",
            "\n",
            "[mbo] 0: num_iterations=216; learning_rate=0.102; num_leaves=1220; min_data_in_leaf=1537; feature_fraction=0.918; bagging_fraction=0.916; bagging_freq=2; max_depth=8; lambda_l1=2.4; lambda_l2=0.876; min_child_samples=68; min_gain_to_split=0.108 : y = 0.927 : 31.3 secs : initdesign\n",
            "\n",
            "[mbo] 0: num_iterations=237; learning_rate=0.12; num_leaves=1167; min_data_in_leaf=850; feature_fraction=0.863; bagging_fraction=0.468; bagging_freq=9; max_depth=8; lambda_l1=4.57; lambda_l2=4.42; min_child_samples=41; min_gain_to_split=0.0661 : y = 0.923 : 17.6 secs : initdesign\n",
            "\n",
            "[mbo] 0: num_iterations=1063; learning_rate=0.152; num_leaves=1756; min_data_in_leaf=911; feature_fraction=0.464; bagging_fraction=0.623; bagging_freq=6; max_depth=15; lambda_l1=1.95; lambda_l2=3.81; min_child_samples=80; min_gain_to_split=0.387 : y = 0.923 : 107.8 secs : initdesign\n",
            "\n",
            "[mbo] 0: num_iterations=353; learning_rate=0.295; num_leaves=468; min_data_in_leaf=741; feature_fraction=0.735; bagging_fraction=0.766; bagging_freq=8; max_depth=10; lambda_l1=0.442; lambda_l2=0.617; min_child_samples=90; min_gain_to_split=0.409 : y = 0.922 : 26.5 secs : initdesign\n",
            "\n",
            "[mbo] 0: num_iterations=1656; learning_rate=0.054; num_leaves=1985; min_data_in_leaf=294; feature_fraction=0.579; bagging_fraction=0.629; bagging_freq=3; max_depth=7; lambda_l1=3.55; lambda_l2=1.6; min_child_samples=94; min_gain_to_split=0.4 : y = 0.928 : 192.4 secs : initdesign\n",
            "\n",
            "[mbo] 0: num_iterations=1327; learning_rate=0.0679; num_leaves=352; min_data_in_leaf=381; feature_fraction=0.573; bagging_fraction=0.668; bagging_freq=5; max_depth=5; lambda_l1=2.61; lambda_l2=3.03; min_child_samples=52; min_gain_to_split=0.0568 : y = 0.929 : 153.2 secs : initdesign\n",
            "\n",
            "[mbo] 0: num_iterations=107; learning_rate=0.107; num_leaves=1749; min_data_in_leaf=1344; feature_fraction=0.551; bagging_fraction=0.404; bagging_freq=5; max_depth=15; lambda_l1=0.716; lambda_l2=1.19; min_child_samples=11; min_gain_to_split=0.373 : y = 0.923 : 10.9 secs : initdesign\n",
            "\n",
            "[mbo] 0: num_iterations=1536; learning_rate=0.287; num_leaves=953; min_data_in_leaf=1005; feature_fraction=0.775; bagging_fraction=0.415; bagging_freq=6; max_depth=13; lambda_l1=4.6; lambda_l2=2.74; min_child_samples=53; min_gain_to_split=0.331 : y = 0.921 : 68.9 secs : initdesign\n",
            "\n",
            "[mbo] 0: num_iterations=1253; learning_rate=0.0959; num_leaves=1666; min_data_in_leaf=1744; feature_fraction=0.545; bagging_fraction=0.721; bagging_freq=9; max_depth=12; lambda_l1=0.931; lambda_l2=0.338; min_child_samples=36; min_gain_to_split=0.149 : y = 0.925 : 154.5 secs : initdesign\n",
            "\n",
            "[mbo] 0: num_iterations=605; learning_rate=0.256; num_leaves=1709; min_data_in_leaf=1605; feature_fraction=0.96; bagging_fraction=0.533; bagging_freq=2; max_depth=3; lambda_l1=0.233; lambda_l2=4.04; min_child_samples=21; min_gain_to_split=0.423 : y = 0.924 : 46.6 secs : initdesign\n",
            "\n",
            "[mbo] 0: num_iterations=157; learning_rate=0.115; num_leaves=1384; min_data_in_leaf=549; feature_fraction=0.445; bagging_fraction=0.657; bagging_freq=5; max_depth=12; lambda_l1=4.73; lambda_l2=0.253; min_child_samples=86; min_gain_to_split=0.184 : y = 0.927 : 18.9 secs : initdesign\n",
            "\n",
            "[mbo] 0: num_iterations=506; learning_rate=0.261; num_leaves=528; min_data_in_leaf=778; feature_fraction=0.489; bagging_fraction=0.512; bagging_freq=10; max_depth=4; lambda_l1=0.976; lambda_l2=4.65; min_child_samples=95; min_gain_to_split=0.0765 : y = 0.923 : 42.1 secs : initdesign\n",
            "\n",
            "[mbo] 0: num_iterations=637; learning_rate=0.201; num_leaves=67; min_data_in_leaf=449; feature_fraction=0.969; bagging_fraction=0.458; bagging_freq=8; max_depth=3; lambda_l1=0.556; lambda_l2=4.99; min_child_samples=45; min_gain_to_split=0.437 : y = 0.926 : 29.6 secs : initdesign\n",
            "\n",
            "[mbo] 0: num_iterations=1101; learning_rate=0.13; num_leaves=1334; min_data_in_leaf=1238; feature_fraction=0.8; bagging_fraction=0.984; bagging_freq=1; max_depth=4; lambda_l1=0.761; lambda_l2=0.0921; min_child_samples=7; min_gain_to_split=0.283 : y = 0.927 : 57.3 secs : initdesign\n",
            "\n",
            "[mbo] 0: num_iterations=1489; learning_rate=0.281; num_leaves=1904; min_data_in_leaf=994; feature_fraction=0.672; bagging_fraction=0.902; bagging_freq=2; max_depth=4; lambda_l1=3.28; lambda_l2=4.18; min_child_samples=69; min_gain_to_split=0.27 : y = 0.926 : 86.4 secs : initdesign\n",
            "\n",
            "[mbo] 0: num_iterations=1790; learning_rate=0.0383; num_leaves=410; min_data_in_leaf=158; feature_fraction=0.592; bagging_fraction=0.859; bagging_freq=8; max_depth=15; lambda_l1=1.17; lambda_l2=4.74; min_child_samples=6; min_gain_to_split=0.311 : y = 0.929 : 200.3 secs : initdesign\n",
            "\n",
            "[mbo] 0: num_iterations=1621; learning_rate=0.243; num_leaves=747; min_data_in_leaf=1852; feature_fraction=0.646; bagging_fraction=0.952; bagging_freq=8; max_depth=11; lambda_l1=2.58; lambda_l2=2.06; min_child_samples=56; min_gain_to_split=0.45 : y = 0.925 : 75.1 secs : initdesign\n",
            "\n",
            "[mbo] 0: num_iterations=1182; learning_rate=0.0804; num_leaves=1820; min_data_in_leaf=54; feature_fraction=0.991; bagging_fraction=0.934; bagging_freq=4; max_depth=11; lambda_l1=3.47; lambda_l2=2.47; min_child_samples=18; min_gain_to_split=0.00805 : y = 0.927 : 122.6 secs : initdesign\n",
            "\n",
            "[mbo] 0: num_iterations=1238; learning_rate=0.289; num_leaves=184; min_data_in_leaf=1134; feature_fraction=0.431; bagging_fraction=0.545; bagging_freq=2; max_depth=14; lambda_l1=1.46; lambda_l2=2.15; min_child_samples=39; min_gain_to_split=0.0423 : y = 0.92 : 138.8 secs : initdesign\n",
            "\n",
            "[mbo] 0: num_iterations=1600; learning_rate=0.0262; num_leaves=212; min_data_in_leaf=1693; feature_fraction=0.936; bagging_fraction=0.877; bagging_freq=4; max_depth=9; lambda_l1=0.102; lambda_l2=0.44; min_child_samples=87; min_gain_to_split=0.161 : y = 0.928 : 196.1 secs : initdesign\n",
            "\n",
            "[mbo] 0: num_iterations=1351; learning_rate=0.0625; num_leaves=796; min_data_in_leaf=1559; feature_fraction=0.905; bagging_fraction=0.517; bagging_freq=1; max_depth=6; lambda_l1=3.73; lambda_l2=3.2; min_child_samples=16; min_gain_to_split=0.254 : y = 0.926 : 84.1 secs : initdesign\n",
            "\n",
            "[mbo] 0: num_iterations=1963; learning_rate=0.275; num_leaves=1461; min_data_in_leaf=1908; feature_fraction=0.982; bagging_fraction=0.428; bagging_freq=10; max_depth=5; lambda_l1=1.68; lambda_l2=3.57; min_child_samples=28; min_gain_to_split=0.116 : y = 0.922 : 108.2 secs : initdesign\n",
            "\n",
            "[mbo] 0: num_iterations=1891; learning_rate=0.0409; num_leaves=1521; min_data_in_leaf=1984; feature_fraction=0.758; bagging_fraction=0.992; bagging_freq=10; max_depth=8; lambda_l1=4.2; lambda_l2=4.3; min_child_samples=62; min_gain_to_split=0.0969 : y = 0.928 : 141.3 secs : initdesign\n",
            "\n",
            "[mbo] 0: num_iterations=458; learning_rate=0.0471; num_leaves=1926; min_data_in_leaf=363; feature_fraction=0.521; bagging_fraction=0.682; bagging_freq=2; max_depth=4; lambda_l1=2.38; lambda_l2=4.79; min_child_samples=23; min_gain_to_split=0.467 : y = 0.93 : 58.8 secs : initdesign\n",
            "\n",
            "[mbo] 0: num_iterations=330; learning_rate=0.0324; num_leaves=715; min_data_in_leaf=514; feature_fraction=0.888; bagging_fraction=0.795; bagging_freq=10; max_depth=14; lambda_l1=3.14; lambda_l2=2.62; min_child_samples=78; min_gain_to_split=0.498 : y = 0.929 : 41.0 secs : initdesign\n",
            "\n",
            "[mbo] 0: num_iterations=1927; learning_rate=0.212; num_leaves=2012; min_data_in_leaf=9; feature_fraction=0.744; bagging_fraction=0.612; bagging_freq=7; max_depth=14; lambda_l1=1.5; lambda_l2=0.685; min_child_samples=48; min_gain_to_split=0.313 : y = 0.916 : 70.0 secs : initdesign\n",
            "\n",
            "[mbo] 0: num_iterations=286; learning_rate=0.182; num_leaves=1088; min_data_in_leaf=1661; feature_fraction=0.615; bagging_fraction=0.974; bagging_freq=1; max_depth=13; lambda_l1=4.27; lambda_l2=3.4; min_child_samples=38; min_gain_to_split=0.135 : y = 0.927 : 27.7 secs : initdesign\n",
            "\n",
            "[mbo] 0: num_iterations=781; learning_rate=0.209; num_leaves=1072; min_data_in_leaf=1768; feature_fraction=0.485; bagging_fraction=0.641; bagging_freq=3; max_depth=3; lambda_l1=0.138; lambda_l2=1.34; min_child_samples=91; min_gain_to_split=0.349 : y = 0.922 : 77.9 secs : initdesign\n",
            "\n",
            "[mbo] 0: num_iterations=1454; learning_rate=0.0166; num_leaves=1296; min_data_in_leaf=1068; feature_fraction=0.718; bagging_fraction=0.448; bagging_freq=3; max_depth=15; lambda_l1=0.395; lambda_l2=4.58; min_child_samples=59; min_gain_to_split=0.0189 : y = 0.927 : 121.7 secs : initdesign\n",
            "\n",
            "[mbo] 0: num_iterations=1838; learning_rate=0.172; num_leaves=74; min_data_in_leaf=279; feature_fraction=0.402; bagging_fraction=0.782; bagging_freq=4; max_depth=12; lambda_l1=4.03; lambda_l2=3.71; min_child_samples=98; min_gain_to_split=0.484 : y = 0.927 : 162.3 secs : initdesign\n",
            "\n",
            "[mbo] 0: num_iterations=673; learning_rate=0.248; num_leaves=702; min_data_in_leaf=620; feature_fraction=0.947; bagging_fraction=0.807; bagging_freq=9; max_depth=3; lambda_l1=3.12; lambda_l2=1.12; min_child_samples=13; min_gain_to_split=0.237 : y = 0.926 : 44.4 secs : initdesign\n",
            "\n",
            "Thu Oct 30 10:18:37 PM 2025 AUC 0.930651564207943\n",
            "\n",
            "[mbo] 1: num_iterations=1449; learning_rate=0.035; num_leaves=612; min_data_in_leaf=271; feature_fraction=0.581; bagging_fraction=0.817; bagging_freq=6; max_depth=7; lambda_l1=3.04; lambda_l2=4.5; min_child_samples=78; min_gain_to_split=0.388 : y = 0.931 : 173.7 secs : infill_ei\n",
            "\n",
            "Thu Oct 30 10:21:04 PM 2025 AUC 0.930321752532227\n",
            "\n",
            "[mbo] 2: num_iterations=1016; learning_rate=0.0247; num_leaves=1175; min_data_in_leaf=274; feature_fraction=0.42; bagging_fraction=0.851; bagging_freq=3; max_depth=10; lambda_l1=3.71; lambda_l2=4.22; min_child_samples=53; min_gain_to_split=0.487 : y = 0.93 : 145.5 secs : infill_ei\n",
            "\n",
            "Thu Oct 30 10:22:56 PM 2025 AUC 0.9298202671563\n",
            "\n",
            "[mbo] 3: num_iterations=1247; learning_rate=0.0456; num_leaves=784; min_data_in_leaf=262; feature_fraction=0.763; bagging_fraction=0.881; bagging_freq=4; max_depth=4; lambda_l1=3.28; lambda_l2=3.66; min_child_samples=22; min_gain_to_split=0.395 : y = 0.93 : 111.3 secs : infill_ei\n",
            "\n",
            "Thu Oct 30 10:23:51 PM 2025 AUC 0.929484852522784\n",
            "\n",
            "[mbo] 4: num_iterations=359; learning_rate=0.0228; num_leaves=1330; min_data_in_leaf=61; feature_fraction=0.433; bagging_fraction=0.764; bagging_freq=4; max_depth=10; lambda_l1=4.97; lambda_l2=3.26; min_child_samples=83; min_gain_to_split=0.253 : y = 0.929 : 54.6 secs : infill_ei\n",
            "\n",
            "Thu Oct 30 10:26:41 PM 2025 AUC 0.92896936484792\n",
            "\n",
            "[mbo] 5: num_iterations=1365; learning_rate=0.0383; num_leaves=498; min_data_in_leaf=44; feature_fraction=0.508; bagging_fraction=0.769; bagging_freq=5; max_depth=8; lambda_l1=2.76; lambda_l2=4.82; min_child_samples=29; min_gain_to_split=0.491 : y = 0.929 : 168.7 secs : infill_ei\n",
            "\n",
            "Thu Oct 30 10:29:11 PM 2025 AUC 0.930277209373005\n",
            "\n",
            "[mbo] 6: num_iterations=1315; learning_rate=0.036; num_leaves=1351; min_data_in_leaf=477; feature_fraction=0.578; bagging_fraction=0.862; bagging_freq=7; max_depth=7; lambda_l1=3.81; lambda_l2=3.69; min_child_samples=86; min_gain_to_split=0.434 : y = 0.93 : 149.5 secs : infill_ei\n",
            "\n",
            "Thu Oct 30 10:32:29 PM 2025 AUC 0.930944161453445\n",
            "\n",
            "[mbo] 7: num_iterations=1705; learning_rate=0.0345; num_leaves=675; min_data_in_leaf=207; feature_fraction=0.593; bagging_fraction=0.876; bagging_freq=6; max_depth=5; lambda_l1=2.03; lambda_l2=4.9; min_child_samples=86; min_gain_to_split=0.0881 : y = 0.931 : 196.9 secs : infill_ei\n",
            "\n",
            "Thu Oct 30 10:35:07 PM 2025 AUC 0.93024016678664\n",
            "\n",
            "[mbo] 8: num_iterations=1301; learning_rate=0.0175; num_leaves=470; min_data_in_leaf=367; feature_fraction=0.627; bagging_fraction=0.965; bagging_freq=8; max_depth=13; lambda_l1=3.71; lambda_l2=4.42; min_child_samples=82; min_gain_to_split=0.308 : y = 0.93 : 157.4 secs : infill_ei\n",
            "\n",
            "Thu Oct 30 10:37:43 PM 2025 AUC 0.930280690324932\n",
            "\n",
            "[mbo] 9: num_iterations=1335; learning_rate=0.0312; num_leaves=1480; min_data_in_leaf=381; feature_fraction=0.529; bagging_fraction=0.858; bagging_freq=1; max_depth=5; lambda_l1=1.71; lambda_l2=4.76; min_child_samples=69; min_gain_to_split=0.132 : y = 0.93 : 155.1 secs : infill_ei\n",
            "\n",
            "Thu Oct 30 10:39:00 PM 2025 AUC 0.929728084841585\n",
            "\n",
            "[mbo] 10: num_iterations=563; learning_rate=0.0429; num_leaves=1683; min_data_in_leaf=352; feature_fraction=0.575; bagging_fraction=0.886; bagging_freq=5; max_depth=6; lambda_l1=3.44; lambda_l2=3.3; min_child_samples=51; min_gain_to_split=0.454 : y = 0.93 : 76.7 secs : infill_ei\n",
            "\n",
            "Thu Oct 30 10:42:40 PM 2025 AUC 0.929369770598557\n",
            "\n",
            "[mbo] 11: num_iterations=1619; learning_rate=0.053; num_leaves=527; min_data_in_leaf=345; feature_fraction=0.478; bagging_fraction=0.863; bagging_freq=5; max_depth=10; lambda_l1=4.73; lambda_l2=4.67; min_child_samples=96; min_gain_to_split=0.154 : y = 0.929 : 218.4 secs : infill_ei\n",
            "\n",
            "Thu Oct 30 10:46:32 PM 2025 AUC 0.930629926879145\n",
            "\n",
            "[mbo] 12: num_iterations=1475; learning_rate=0.0195; num_leaves=755; min_data_in_leaf=289; feature_fraction=0.544; bagging_fraction=0.9; bagging_freq=9; max_depth=10; lambda_l1=2.62; lambda_l2=3.52; min_child_samples=63; min_gain_to_split=0.185 : y = 0.931 : 231.4 secs : infill_ei\n",
            "\n",
            "Thu Oct 30 10:48:55 PM 2025 AUC 0.930364565552422\n",
            "\n",
            "[mbo] 13: num_iterations=1291; learning_rate=0.0139; num_leaves=746; min_data_in_leaf=127; feature_fraction=0.681; bagging_fraction=0.888; bagging_freq=8; max_depth=6; lambda_l1=1.11; lambda_l2=4.95; min_child_samples=79; min_gain_to_split=0.368 : y = 0.93 : 142.4 secs : infill_ei\n",
            "\n",
            "Thu Oct 30 10:51:10 PM 2025 AUC 0.930138878226996\n",
            "\n",
            "[mbo] 14: num_iterations=1625; learning_rate=0.0237; num_leaves=782; min_data_in_leaf=311; feature_fraction=0.612; bagging_fraction=0.807; bagging_freq=7; max_depth=3; lambda_l1=2.31; lambda_l2=3.99; min_child_samples=79; min_gain_to_split=0.0679 : y = 0.93 : 133.8 secs : infill_ei\n",
            "\n",
            "Thu Oct 30 10:54:12 PM 2025 AUC 0.930435876654864\n",
            "\n",
            "[mbo] 15: num_iterations=1787; learning_rate=0.0327; num_leaves=326; min_data_in_leaf=380; feature_fraction=0.741; bagging_fraction=0.954; bagging_freq=7; max_depth=6; lambda_l1=0.795; lambda_l2=4.54; min_child_samples=60; min_gain_to_split=0.22 : y = 0.93 : 181.7 secs : infill_ei\n",
            "\n",
            "Thu Oct 30 10:56:37 PM 2025 AUC 0.930594098748285\n",
            "\n",
            "[mbo] 16: num_iterations=1193; learning_rate=0.0389; num_leaves=706; min_data_in_leaf=262; feature_fraction=0.658; bagging_fraction=0.917; bagging_freq=6; max_depth=10; lambda_l1=1.05; lambda_l2=4; min_child_samples=82; min_gain_to_split=0.239 : y = 0.931 : 143.9 secs : infill_ei\n",
            "\n",
            "Thu Oct 30 11:00:35 PM 2025 AUC 0.930778061064357\n",
            "\n",
            "[mbo] 17: num_iterations=1731; learning_rate=0.03; num_leaves=914; min_data_in_leaf=244; feature_fraction=0.678; bagging_fraction=0.92; bagging_freq=3; max_depth=8; lambda_l1=1.27; lambda_l2=4.26; min_child_samples=68; min_gain_to_split=0.287 : y = 0.931 : 237.3 secs : infill_ei\n",
            "\n",
            "Thu Oct 30 11:02:51 PM 2025 AUC 0.930360327549355\n",
            "\n",
            "[mbo] 18: num_iterations=1794; learning_rate=0.0404; num_leaves=810; min_data_in_leaf=218; feature_fraction=0.651; bagging_fraction=0.956; bagging_freq=8; max_depth=8; lambda_l1=2.34; lambda_l2=4.52; min_child_samples=78; min_gain_to_split=0.348 : y = 0.93 : 134.3 secs : infill_ei\n",
            "\n",
            "Thu Oct 30 11:07:59 PM 2025 AUC 0.93067681994508\n",
            "\n",
            "[mbo] 19: num_iterations=1741; learning_rate=0.011; num_leaves=709; min_data_in_leaf=305; feature_fraction=0.592; bagging_fraction=0.87; bagging_freq=6; max_depth=13; lambda_l1=1.15; lambda_l2=2.89; min_child_samples=84; min_gain_to_split=0.163 : y = 0.931 : 307.5 secs : infill_ei\n",
            "\n",
            "Thu Oct 30 11:12:25 PM 2025 AUC 0.930257942360017\n",
            "\n",
            "[mbo] 20: num_iterations=1792; learning_rate=0.0243; num_leaves=531; min_data_in_leaf=246; feature_fraction=0.497; bagging_fraction=0.891; bagging_freq=4; max_depth=6; lambda_l1=1.61; lambda_l2=3.5; min_child_samples=95; min_gain_to_split=0.206 : y = 0.93 : 264.9 secs : infill_ei\n",
            "\n",
            "Thu Oct 30 11:14:29 PM 2025 AUC 0.931135587100187\n",
            "\n",
            "[mbo] 21: num_iterations=735; learning_rate=0.0104; num_leaves=1341; min_data_in_leaf=442; feature_fraction=0.596; bagging_fraction=0.85; bagging_freq=4; max_depth=13; lambda_l1=1.51; lambda_l2=4.33; min_child_samples=71; min_gain_to_split=0.384 : y = 0.931 : 122.9 secs : infill_ei\n",
            "\n",
            "Thu Oct 30 11:17:27 PM 2025 AUC 0.930115741044606\n",
            "\n",
            "[mbo] 22: num_iterations=1219; learning_rate=0.0146; num_leaves=1075; min_data_in_leaf=840; feature_fraction=0.648; bagging_fraction=0.875; bagging_freq=6; max_depth=13; lambda_l1=2.19; lambda_l2=4.44; min_child_samples=67; min_gain_to_split=0.26 : y = 0.93 : 177.8 secs : infill_ei\n",
            "\n",
            "Thu Oct 30 11:17:57 PM 2025 AUC 0.925060669296854\n",
            "\n",
            "[mbo] 23: num_iterations=249; learning_rate=0.0101; num_leaves=1303; min_data_in_leaf=304; feature_fraction=0.624; bagging_fraction=0.857; bagging_freq=1; max_depth=13; lambda_l1=1.5; lambda_l2=3.27; min_child_samples=68; min_gain_to_split=0.485 : y = 0.925 : 28.1 secs : infill_ei\n",
            "\n",
            "Thu Oct 30 11:21:32 PM 2025 AUC 0.930710892977112\n",
            "\n",
            "[mbo] 24: num_iterations=1276; learning_rate=0.0127; num_leaves=1381; min_data_in_leaf=394; feature_fraction=0.552; bagging_fraction=0.813; bagging_freq=4; max_depth=9; lambda_l1=1.75; lambda_l2=4.98; min_child_samples=64; min_gain_to_split=0.221 : y = 0.931 : 214.5 secs : infill_ei\n",
            "\n",
            "Thu Oct 30 11:22:46 PM 2025 AUC 0.930423924008951\n",
            "\n",
            "[mbo] 25: num_iterations=762; learning_rate=0.0239; num_leaves=1673; min_data_in_leaf=167; feature_fraction=0.677; bagging_fraction=0.859; bagging_freq=4; max_depth=4; lambda_l1=3.31; lambda_l2=4.68; min_child_samples=59; min_gain_to_split=0.185 : y = 0.93 : 72.1 secs : infill_ei\n",
            "\n",
            "Thu Oct 30 11:25:07 PM 2025 AUC 0.930429813254503\n",
            "\n",
            "[mbo] 26: num_iterations=799; learning_rate=0.0278; num_leaves=1395; min_data_in_leaf=237; feature_fraction=0.51; bagging_fraction=0.787; bagging_freq=5; max_depth=11; lambda_l1=1.55; lambda_l2=4.49; min_child_samples=94; min_gain_to_split=0.148 : y = 0.93 : 140.0 secs : infill_ei\n",
            "\n",
            "Thu Oct 30 11:26:37 PM 2025 AUC 0.930540136535024\n",
            "\n",
            "[mbo] 27: num_iterations=611; learning_rate=0.0442; num_leaves=1710; min_data_in_leaf=476; feature_fraction=0.509; bagging_fraction=0.912; bagging_freq=3; max_depth=4; lambda_l1=0.843; lambda_l2=4.89; min_child_samples=74; min_gain_to_split=0.358 : y = 0.931 : 89.4 secs : infill_ei\n",
            "\n",
            "Thu Oct 30 11:28:59 PM 2025 AUC 0.930035531443347\n",
            "\n",
            "[mbo] 28: num_iterations=799; learning_rate=0.01; num_leaves=1743; min_data_in_leaf=30; feature_fraction=0.436; bagging_fraction=0.861; bagging_freq=6; max_depth=13; lambda_l1=2.72; lambda_l2=4.32; min_child_samples=80; min_gain_to_split=0.388 : y = 0.93 : 140.6 secs : infill_ei\n",
            "\n",
            "Thu Oct 30 11:32:05 PM 2025 AUC 0.92889551772778\n",
            "\n",
            "[mbo] 29: num_iterations=1399; learning_rate=0.0288; num_leaves=734; min_data_in_leaf=241; feature_fraction=0.58; bagging_fraction=0.887; bagging_freq=7; max_depth=7; lambda_l1=4.8; lambda_l2=2.33; min_child_samples=79; min_gain_to_split=0.203 : y = 0.929 : 184.9 secs : infill_ei\n",
            "\n",
            "Thu Oct 30 11:36:46 PM 2025 AUC 0.930186363172138\n",
            "\n",
            "[mbo] 30: num_iterations=1768; learning_rate=0.01; num_leaves=1034; min_data_in_leaf=428; feature_fraction=0.59; bagging_fraction=0.885; bagging_freq=7; max_depth=14; lambda_l1=1.47; lambda_l2=4.38; min_child_samples=73; min_gain_to_split=0.345 : y = 0.93 : 279.6 secs : infill_ei\n",
            "\n",
            "Thu Oct 30 11:39:26 PM 2025 AUC 0.931412000274346\n",
            "\n",
            "[mbo] 31: num_iterations=1598; learning_rate=0.0182; num_leaves=1074; min_data_in_leaf=429; feature_fraction=0.787; bagging_fraction=0.86; bagging_freq=4; max_depth=5; lambda_l1=1.34; lambda_l2=4.54; min_child_samples=92; min_gain_to_split=0.324 : y = 0.931 : 159.0 secs : infill_ei\n",
            "\n",
            "Thu Oct 30 11:41:36 PM 2025 AUC 0.930101213744987\n",
            "\n",
            "[mbo] 32: num_iterations=1468; learning_rate=0.0398; num_leaves=1185; min_data_in_leaf=203; feature_fraction=0.749; bagging_fraction=0.868; bagging_freq=4; max_depth=4; lambda_l1=1.31; lambda_l2=4.83; min_child_samples=83; min_gain_to_split=0.325 : y = 0.93 : 129.4 secs : infill_ei\n",
            "\n",
            "Thu Oct 30 11:46:22 PM 2025 AUC 0.930583800225489\n",
            "\n",
            "[mbo] 33: num_iterations=1826; learning_rate=0.0115; num_leaves=694; min_data_in_leaf=482; feature_fraction=0.837; bagging_fraction=0.947; bagging_freq=4; max_depth=9; lambda_l1=2.54; lambda_l2=4.39; min_child_samples=70; min_gain_to_split=0.0692 : y = 0.931 : 285.0 secs : infill_ei\n",
            "\n",
            "Thu Oct 30 11:47:27 PM 2025 AUC 0.927961551743388\n",
            "\n",
            "[mbo] 34: num_iterations=692; learning_rate=0.0113; num_leaves=582; min_data_in_leaf=581; feature_fraction=0.824; bagging_fraction=0.848; bagging_freq=4; max_depth=4; lambda_l1=2.59; lambda_l2=4.49; min_child_samples=93; min_gain_to_split=0.37 : y = 0.928 : 63.3 secs : infill_ei\n",
            "\n",
            "Thu Oct 30 11:50:11 PM 2025 AUC 0.930252484045568\n",
            "\n",
            "[mbo] 35: num_iterations=1156; learning_rate=0.0186; num_leaves=2016; min_data_in_leaf=537; feature_fraction=0.538; bagging_fraction=0.814; bagging_freq=3; max_depth=5; lambda_l1=3.45; lambda_l2=4.31; min_child_samples=68; min_gain_to_split=0.377 : y = 0.93 : 163.1 secs : infill_ei\n",
            "\n",
            "Thu Oct 30 11:53:24 PM 2025 AUC 0.931478839139308\n",
            "\n",
            "[mbo] 36: num_iterations=1742; learning_rate=0.0157; num_leaves=1113; min_data_in_leaf=494; feature_fraction=0.645; bagging_fraction=0.878; bagging_freq=4; max_depth=5; lambda_l1=0.397; lambda_l2=3.73; min_child_samples=43; min_gain_to_split=0.0564 : y = 0.931 : 192.3 secs : infill_ei\n",
            "\n",
            "Thu Oct 30 11:57:32 PM 2025 AUC 0.930728667209565\n",
            "\n",
            "[mbo] 37: num_iterations=1622; learning_rate=0.0101; num_leaves=1363; min_data_in_leaf=774; feature_fraction=0.572; bagging_fraction=0.982; bagging_freq=4; max_depth=6; lambda_l1=0.607; lambda_l2=4; min_child_samples=98; min_gain_to_split=0.423 : y = 0.931 : 246.3 secs : infill_ei\n",
            "\n",
            "Fri Oct 31 12:01:42 AM 2025 AUC 0.929340144109016\n",
            "\n",
            "[mbo] 38: num_iterations=1903; learning_rate=0.0127; num_leaves=1342; min_data_in_leaf=482; feature_fraction=0.881; bagging_fraction=0.864; bagging_freq=5; max_depth=8; lambda_l1=0.679; lambda_l2=4.23; min_child_samples=93; min_gain_to_split=0.336 : y = 0.929 : 249.0 secs : infill_ei\n",
            "\n",
            "Fri Oct 31 12:04:55 AM 2025 AUC 0.930832528656853\n",
            "\n",
            "[mbo] 39: num_iterations=1585; learning_rate=0.01; num_leaves=854; min_data_in_leaf=312; feature_fraction=0.628; bagging_fraction=0.86; bagging_freq=4; max_depth=6; lambda_l1=0.794; lambda_l2=4.51; min_child_samples=79; min_gain_to_split=0.286 : y = 0.931 : 191.2 secs : infill_ei\n",
            "\n",
            "Fri Oct 31 12:09:17 AM 2025 AUC 0.930829719554202\n",
            "\n",
            "[mbo] 40: num_iterations=1660; learning_rate=0.0273; num_leaves=1742; min_data_in_leaf=509; feature_fraction=0.531; bagging_fraction=0.921; bagging_freq=3; max_depth=5; lambda_l1=1.78; lambda_l2=4.76; min_child_samples=20; min_gain_to_split=0.215 : y = 0.931 : 261.3 secs : infill_ei\n",
            "\n",
            "Fri Oct 31 12:11:22 AM 2025 AUC 0.931009859730393\n",
            "\n",
            "[mbo] 41: num_iterations=717; learning_rate=0.0264; num_leaves=1636; min_data_in_leaf=466; feature_fraction=0.48; bagging_fraction=0.952; bagging_freq=4; max_depth=8; lambda_l1=2.42; lambda_l2=4.87; min_child_samples=7; min_gain_to_split=0.194 : y = 0.931 : 123.9 secs : infill_ei\n",
            "\n",
            "Fri Oct 31 12:13:54 AM 2025 AUC 0.930788528893569\n",
            "\n",
            "[mbo] 42: num_iterations=1204; learning_rate=0.0209; num_leaves=1439; min_data_in_leaf=659; feature_fraction=0.613; bagging_fraction=0.91; bagging_freq=3; max_depth=5; lambda_l1=1.56; lambda_l2=4.91; min_child_samples=77; min_gain_to_split=0.0908 : y = 0.931 : 150.9 secs : infill_ei\n",
            "\n",
            "Fri Oct 31 12:16:43 AM 2025 AUC 0.930049373633141\n",
            "\n",
            "[mbo] 43: num_iterations=872; learning_rate=0.0265; num_leaves=776; min_data_in_leaf=416; feature_fraction=0.527; bagging_fraction=0.976; bagging_freq=4; max_depth=12; lambda_l1=1.8; lambda_l2=3.89; min_child_samples=47; min_gain_to_split=0.174 : y = 0.93 : 167.7 secs : infill_ei\n",
            "\n",
            "Fri Oct 31 12:19:52 AM 2025 AUC 0.93170913116116\n",
            "\n",
            "[mbo] 44: num_iterations=1646; learning_rate=0.0214; num_leaves=1052; min_data_in_leaf=525; feature_fraction=0.767; bagging_fraction=0.891; bagging_freq=5; max_depth=6; lambda_l1=1.39; lambda_l2=3.82; min_child_samples=35; min_gain_to_split=0.0162 : y = 0.932 : 187.3 secs : infill_ei\n",
            "\n",
            "Fri Oct 31 12:23:44 AM 2025 AUC 0.931442845126335\n",
            "\n",
            "[mbo] 45: num_iterations=1619; learning_rate=0.0251; num_leaves=1106; min_data_in_leaf=567; feature_fraction=0.709; bagging_fraction=0.974; bagging_freq=4; max_depth=8; lambda_l1=0.8; lambda_l2=4.79; min_child_samples=9; min_gain_to_split=0.142 : y = 0.931 : 230.9 secs : infill_ei\n",
            "\n",
            "Fri Oct 31 12:27:23 AM 2025 AUC 0.93082766795332\n",
            "\n",
            "[mbo] 46: num_iterations=1693; learning_rate=0.0274; num_leaves=1044; min_data_in_leaf=429; feature_fraction=0.731; bagging_fraction=0.951; bagging_freq=4; max_depth=6; lambda_l1=1.61; lambda_l2=4.24; min_child_samples=24; min_gain_to_split=0.0419 : y = 0.931 : 217.3 secs : infill_ei\n",
            "\n",
            "Fri Oct 31 12:30:22 AM 2025 AUC 0.929141393336468\n",
            "\n",
            "[mbo] 47: num_iterations=1615; learning_rate=0.0171; num_leaves=984; min_data_in_leaf=790; feature_fraction=0.783; bagging_fraction=0.905; bagging_freq=5; max_depth=6; lambda_l1=0.738; lambda_l2=3.26; min_child_samples=24; min_gain_to_split=0.127 : y = 0.929 : 178.2 secs : infill_ei\n",
            "\n",
            "Fri Oct 31 12:32:31 AM 2025 AUC 0.930006703608025\n",
            "\n",
            "[mbo] 48: num_iterations=851; learning_rate=0.0253; num_leaves=1104; min_data_in_leaf=515; feature_fraction=0.605; bagging_fraction=0.851; bagging_freq=8; max_depth=13; lambda_l1=2.14; lambda_l2=4.68; min_child_samples=60; min_gain_to_split=0.31 : y = 0.93 : 126.6 secs : infill_ei\n",
            "\n",
            "Fri Oct 31 12:36:49 AM 2025 AUC 0.930304805799621\n",
            "\n",
            "[mbo] 49: num_iterations=1556; learning_rate=0.0263; num_leaves=1009; min_data_in_leaf=531; feature_fraction=0.708; bagging_fraction=0.885; bagging_freq=4; max_depth=13; lambda_l1=1.01; lambda_l2=3.86; min_child_samples=75; min_gain_to_split=0.0532 : y = 0.93 : 256.9 secs : infill_ei\n",
            "\n",
            "Fri Oct 31 12:39:00 AM 2025 AUC 0.931225212459603\n",
            "\n",
            "[mbo] 50: num_iterations=751; learning_rate=0.0191; num_leaves=1765; min_data_in_leaf=366; feature_fraction=0.743; bagging_fraction=0.915; bagging_freq=3; max_depth=10; lambda_l1=0.727; lambda_l2=4.55; min_child_samples=40; min_gain_to_split=0.266 : y = 0.931 : 130.3 secs : infill_ei\n",
            "\n"
          ]
        }
      ]
    },
    {
      "cell_type": "code",
      "metadata": {
        "id": "93f0202d",
        "colab": {
          "base_uri": "https://localhost:8080/"
        },
        "outputId": "6d007c96-d9f5-49e5-be88-b51c531f25ee"
      },
      "source": [
        "# Attempt to install packages from CRAN\n",
        "install.packages(c(\"primes\", \"rlist\", \"DiceKriging\", \"mlrMBO\"), dependencies = TRUE)"
      ],
      "execution_count": null,
      "outputs": [
        {
          "output_type": "stream",
          "name": "stderr",
          "text": [
            "Installing packages into ‘/usr/local/lib/R/site-library’\n",
            "(as ‘lib’ is unspecified)\n",
            "\n",
            "also installing the dependencies ‘TH.data’, ‘plotrix’, ‘patchwork’, ‘libcoin’, ‘matrixStats’, ‘multcomp’, ‘lazyeval’, ‘iterators’, ‘Formula’, ‘plotmo’, ‘ggstats’, ‘igraph’, ‘mvtnorm’, ‘modeltools’, ‘strucchange’, ‘coin’, ‘zoo’, ‘sandwich’, ‘plyr’, ‘rex’, ‘stringdist’, ‘rgenoud’, ‘foreach’, ‘doParallel’, ‘numDeriv’, ‘cmaesr’, ‘earth’, ‘emoa’, ‘GGally’, ‘gridExtra’, ‘kernlab’, ‘kknn’, ‘mco’, ‘party’, ‘randomForest’, ‘reshape2’, ‘covr’\n",
            "\n",
            "\n"
          ]
        }
      ]
    },
    {
      "cell_type": "code",
      "metadata": {
        "colab": {
          "base_uri": "https://localhost:8080/"
        },
        "id": "1b75d232",
        "outputId": "5786a392-dd5f-432c-e440-deb3b0a1e1f7"
      },
      "source": [
        "install.packages(\"lightgbm\")"
      ],
      "execution_count": null,
      "outputs": [
        {
          "output_type": "stream",
          "name": "stderr",
          "text": [
            "Installing package into ‘/usr/local/lib/R/site-library’\n",
            "(as ‘lib’ is unspecified)\n",
            "\n"
          ]
        }
      ]
    },
    {
      "cell_type": "markdown",
      "metadata": {
        "id": "57398b0e"
      },
      "source": [
        "After running the installation cells above, run the cell below to load the required libraries. If any packages still fail to load, you may need to investigate their specific installation requirements."
      ]
    },
    {
      "cell_type": "code",
      "metadata": {
        "id": "05df7a31"
      },
      "source": [
        "# cargo las librerias que necesito\n",
        "require(\"data.table\")\n",
        "require(\"parallel\")\n",
        "require(\"primes\")\n",
        "require(\"utils\")\n",
        "require(\"rlist\")\n",
        "require(\"yaml\")\n",
        "require(\"lightgbm\")\n",
        "require(\"DiceKriging\")\n",
        "require(\"mlrMBO\")"
      ],
      "execution_count": null,
      "outputs": []
    },
    {
      "cell_type": "code",
      "source": [
        "\n",
        "tb_bayesiana <- as.data.table(bayesiana_salida$opt.path)\n",
        "colnames( tb_bayesiana)"
      ],
      "metadata": {
        "id": "ssk5nnMk6INK",
        "colab": {
          "base_uri": "https://localhost:8080/",
          "height": 69
        },
        "outputId": "b1b2807b-34fb-4f93-aadf-db7e7ae065ad"
      },
      "execution_count": null,
      "outputs": [
        {
          "output_type": "display_data",
          "data": {
            "text/html": [
              "<style>\n",
              ".list-inline {list-style: none; margin:0; padding: 0}\n",
              ".list-inline>li {display: inline-block}\n",
              ".list-inline>li:not(:last-child)::after {content: \"\\00b7\"; padding: 0 .5ex}\n",
              "</style>\n",
              "<ol class=list-inline><li>'num_iterations'</li><li>'learning_rate'</li><li>'num_leaves'</li><li>'min_data_in_leaf'</li><li>'feature_fraction'</li><li>'bagging_fraction'</li><li>'bagging_freq'</li><li>'max_depth'</li><li>'lambda_l1'</li><li>'lambda_l2'</li><li>'min_child_samples'</li><li>'min_gain_to_split'</li><li>'y'</li><li>'dob'</li><li>'eol'</li><li>'error.message'</li><li>'exec.time'</li><li>'ei'</li><li>'error.model'</li><li>'train.time'</li><li>'prop.type'</li><li>'propose.time'</li><li>'se'</li><li>'mean'</li></ol>\n"
            ],
            "text/markdown": "1. 'num_iterations'\n2. 'learning_rate'\n3. 'num_leaves'\n4. 'min_data_in_leaf'\n5. 'feature_fraction'\n6. 'bagging_fraction'\n7. 'bagging_freq'\n8. 'max_depth'\n9. 'lambda_l1'\n10. 'lambda_l2'\n11. 'min_child_samples'\n12. 'min_gain_to_split'\n13. 'y'\n14. 'dob'\n15. 'eol'\n16. 'error.message'\n17. 'exec.time'\n18. 'ei'\n19. 'error.model'\n20. 'train.time'\n21. 'prop.type'\n22. 'propose.time'\n23. 'se'\n24. 'mean'\n\n\n",
            "text/latex": "\\begin{enumerate*}\n\\item 'num\\_iterations'\n\\item 'learning\\_rate'\n\\item 'num\\_leaves'\n\\item 'min\\_data\\_in\\_leaf'\n\\item 'feature\\_fraction'\n\\item 'bagging\\_fraction'\n\\item 'bagging\\_freq'\n\\item 'max\\_depth'\n\\item 'lambda\\_l1'\n\\item 'lambda\\_l2'\n\\item 'min\\_child\\_samples'\n\\item 'min\\_gain\\_to\\_split'\n\\item 'y'\n\\item 'dob'\n\\item 'eol'\n\\item 'error.message'\n\\item 'exec.time'\n\\item 'ei'\n\\item 'error.model'\n\\item 'train.time'\n\\item 'prop.type'\n\\item 'propose.time'\n\\item 'se'\n\\item 'mean'\n\\end{enumerate*}\n",
            "text/plain": [
              " [1] \"num_iterations\"    \"learning_rate\"     \"num_leaves\"       \n",
              " [4] \"min_data_in_leaf\"  \"feature_fraction\"  \"bagging_fraction\" \n",
              " [7] \"bagging_freq\"      \"max_depth\"         \"lambda_l1\"        \n",
              "[10] \"lambda_l2\"         \"min_child_samples\" \"min_gain_to_split\"\n",
              "[13] \"y\"                 \"dob\"               \"eol\"              \n",
              "[16] \"error.message\"     \"exec.time\"         \"ei\"               \n",
              "[19] \"error.model\"       \"train.time\"        \"prop.type\"        \n",
              "[22] \"propose.time\"      \"se\"                \"mean\"             "
            ]
          },
          "metadata": {}
        }
      ]
    },
    {
      "cell_type": "code",
      "source": [
        "# almaceno los resultados de la Bayesian Optimization\n",
        "# y capturo los mejores hiperparametros encontrados\n",
        "\n",
        "tb_bayesiana <- as.data.table(bayesiana_salida$opt.path)\n",
        "\n",
        "tb_bayesiana[, iter := .I]\n",
        "\n",
        "# ordeno en forma descendente por AUC = y\n",
        "setorder(tb_bayesiana, -y)\n",
        "\n",
        "# grabo para eventualmente poder utilizarlos en OTRA corrida\n",
        "fwrite( tb_bayesiana,\n",
        "  file= \"BO_log.txt\",\n",
        "  sep= \"\\t\"\n",
        ")\n",
        "\n",
        "# los mejores hiperparámetros son los que quedaron en el registro 1 de la tabla\n",
        "PARAM$out$lgbm$mejores_hiperparametros <- tb_bayesiana[\n",
        "  1, # el primero es el de mejor AUC\n",
        "  setdiff(colnames(tb_bayesiana),\n",
        "    c(\"y\",\"dob\",\"eol\",\"error.message\",\"exec.time\",\"ei\",\"error.model\",\n",
        "      \"train.time\",\"prop.type\",\"propose.time\",\"se\",\"mean\",\"iter\")),\n",
        "  with= FALSE\n",
        "]\n",
        "\n",
        "\n",
        "PARAM$out$lgbm$y <- tb_bayesiana[1, y]\n"
      ],
      "metadata": {
        "id": "u4zq-vknhjGc"
      },
      "execution_count": null,
      "outputs": []
    },
    {
      "cell_type": "code",
      "source": [
        "write_yaml( PARAM, file=\"PARAM.yml\")"
      ],
      "metadata": {
        "id": "E8v2eA427N8e"
      },
      "execution_count": null,
      "outputs": []
    },
    {
      "cell_type": "code",
      "source": [
        "print(PARAM$out$lgbm$mejores_hiperparametros)\n",
        "print(PARAM$out$lgbm$y)"
      ],
      "metadata": {
        "id": "iBTWexVU7PGC",
        "colab": {
          "base_uri": "https://localhost:8080/"
        },
        "outputId": "21404e38-f26f-492e-88c2-2bfb31422a13"
      },
      "execution_count": null,
      "outputs": [
        {
          "output_type": "stream",
          "name": "stdout",
          "text": [
            "   num_iterations learning_rate num_leaves min_data_in_leaf feature_fraction\n",
            "            <int>         <num>      <int>            <int>            <num>\n",
            "1:           1646    0.02139124       1052              525        0.7670897\n",
            "   bagging_fraction bagging_freq max_depth lambda_l1 lambda_l2\n",
            "              <num>        <int>     <int>     <num>     <num>\n",
            "1:        0.8911446            5         6   1.39474  3.821694\n",
            "   min_child_samples min_gain_to_split\n",
            "               <int>             <num>\n",
            "1:                35        0.01615361\n",
            "[1] 0.9317091\n"
          ]
        }
      ]
    },
    {
      "cell_type": "markdown",
      "source": [
        "## 2.3  Produccion"
      ],
      "metadata": {
        "id": "TKsVZmAnhwX-"
      }
    },
    {
      "cell_type": "markdown",
      "source": [
        "### Final Training\n",
        "Construyo el modelo final, que es uno solo, no hace ningun tipo de particion < training, validation, testing>]"
      ],
      "metadata": {
        "id": "RQ_C33Tr5B_9"
      }
    },
    {
      "cell_type": "code",
      "source": [
        "setwd(\"/content/buckets/b1/exp\")\n",
        "experimento <- paste0(\"exp\", PARAM$experimento)\n",
        "dir.create(experimento, showWarnings= FALSE)\n",
        "setwd( paste0(\"/content/buckets/b1/exp/\", experimento ))"
      ],
      "metadata": {
        "id": "eDqfyA14hzwv"
      },
      "execution_count": null,
      "outputs": []
    },
    {
      "cell_type": "markdown",
      "source": [
        "#### Final Training Dataset\n",
        "\n",
        "Aqui esta la gran decision de en qué meses hago el Final Training\n",
        "<br> debo utilizar los mejores hiperparámetros que encontré en la optimización bayesiana"
      ],
      "metadata": {
        "id": "8qFmFivf5Iet"
      }
    },
    {
      "cell_type": "code",
      "source": [
        "# clase01\n",
        "dataset[, clase01 := ifelse(clase_ternaria %in% c(\"BAJA+1\", \"BAJA+2\"), 1L, 0L)]"
      ],
      "metadata": {
        "id": "lg5WVZncvc7H"
      },
      "execution_count": null,
      "outputs": []
    },
    {
      "cell_type": "code",
      "source": [
        "dataset_train <- dataset[foto_mes %in% c(202107)]"
      ],
      "metadata": {
        "id": "yc9QzXREv0xf"
      },
      "execution_count": null,
      "outputs": []
    },
    {
      "cell_type": "code",
      "source": [
        "# dejo los datos en el formato que necesita LightGBM\n",
        "\n",
        "dtrain <- lgb.Dataset(\n",
        "  data= data.matrix(dataset_train[, campos_buenos, with= FALSE]),\n",
        "  label= dataset_train[, clase01]\n",
        ")"
      ],
      "metadata": {
        "id": "thjdqEBLuvNt"
      },
      "execution_count": null,
      "outputs": []
    },
    {
      "cell_type": "markdown",
      "source": [
        "#### Final Training Hyperparameters"
      ],
      "metadata": {
        "id": "VNUa-WSz5Oqu"
      }
    },
    {
      "cell_type": "code",
      "source": [
        "param_final <- modifyList(PARAM$lgbm$param_fijos,\n",
        "  PARAM$out$lgbm$mejores_hiperparametros)\n",
        "\n",
        "param_final"
      ],
      "metadata": {
        "id": "FgCcvBfEwImu",
        "colab": {
          "base_uri": "https://localhost:8080/",
          "height": 1000
        },
        "outputId": "cbac170c-fdd9-4e66-e42c-9da1bae8d4db"
      },
      "execution_count": null,
      "outputs": [
        {
          "output_type": "display_data",
          "data": {
            "text/html": [
              "<dl>\n",
              "\t<dt>$boosting</dt>\n",
              "\t\t<dd>'gbdt'</dd>\n",
              "\t<dt>$objective</dt>\n",
              "\t\t<dd>'binary'</dd>\n",
              "\t<dt>$metric</dt>\n",
              "\t\t<dd>'auc'</dd>\n",
              "\t<dt>$first_metric_only</dt>\n",
              "\t\t<dd>FALSE</dd>\n",
              "\t<dt>$boost_from_average</dt>\n",
              "\t\t<dd>TRUE</dd>\n",
              "\t<dt>$feature_pre_filter</dt>\n",
              "\t\t<dd>FALSE</dd>\n",
              "\t<dt>$force_row_wise</dt>\n",
              "\t\t<dd>TRUE</dd>\n",
              "\t<dt>$verbosity</dt>\n",
              "\t\t<dd>-100</dd>\n",
              "\t<dt>$seed</dt>\n",
              "\t\t<dd>858956</dd>\n",
              "\t<dt>$max_depth</dt>\n",
              "\t\t<dd>6</dd>\n",
              "\t<dt>$min_gain_to_split</dt>\n",
              "\t\t<dd>0.0161536135800466</dd>\n",
              "\t<dt>$min_sum_hessian_in_leaf</dt>\n",
              "\t\t<dd>0.001</dd>\n",
              "\t<dt>$lambda_l1</dt>\n",
              "\t\t<dd>1.39474023445566</dd>\n",
              "\t<dt>$lambda_l2</dt>\n",
              "\t\t<dd>3.82169410103667</dd>\n",
              "\t<dt>$max_bin</dt>\n",
              "\t\t<dd>31</dd>\n",
              "\t<dt>$bagging_fraction</dt>\n",
              "\t\t<dd>0.891144613033415</dd>\n",
              "\t<dt>$pos_bagging_fraction</dt>\n",
              "\t\t<dd>1</dd>\n",
              "\t<dt>$neg_bagging_fraction</dt>\n",
              "\t\t<dd>1</dd>\n",
              "\t<dt>$is_unbalance</dt>\n",
              "\t\t<dd>FALSE</dd>\n",
              "\t<dt>$scale_pos_weight</dt>\n",
              "\t\t<dd>1</dd>\n",
              "\t<dt>$drop_rate</dt>\n",
              "\t\t<dd>0.1</dd>\n",
              "\t<dt>$max_drop</dt>\n",
              "\t\t<dd>50</dd>\n",
              "\t<dt>$skip_drop</dt>\n",
              "\t\t<dd>0.5</dd>\n",
              "\t<dt>$extra_trees</dt>\n",
              "\t\t<dd>FALSE</dd>\n",
              "\t<dt>$num_iterations</dt>\n",
              "\t\t<dd>1646</dd>\n",
              "\t<dt>$learning_rate</dt>\n",
              "\t\t<dd>0.0213912365691576</dd>\n",
              "\t<dt>$feature_fraction</dt>\n",
              "\t\t<dd>0.767089663550623</dd>\n",
              "\t<dt>$num_leaves</dt>\n",
              "\t\t<dd>1052</dd>\n",
              "\t<dt>$min_data_in_leaf</dt>\n",
              "\t\t<dd>525</dd>\n",
              "\t<dt>$bagging_freq</dt>\n",
              "\t\t<dd>5</dd>\n",
              "\t<dt>$min_child_samples</dt>\n",
              "\t\t<dd>35</dd>\n",
              "</dl>\n"
            ],
            "text/markdown": "$boosting\n:   'gbdt'\n$objective\n:   'binary'\n$metric\n:   'auc'\n$first_metric_only\n:   FALSE\n$boost_from_average\n:   TRUE\n$feature_pre_filter\n:   FALSE\n$force_row_wise\n:   TRUE\n$verbosity\n:   -100\n$seed\n:   858956\n$max_depth\n:   6\n$min_gain_to_split\n:   0.0161536135800466\n$min_sum_hessian_in_leaf\n:   0.001\n$lambda_l1\n:   1.39474023445566\n$lambda_l2\n:   3.82169410103667\n$max_bin\n:   31\n$bagging_fraction\n:   0.891144613033415\n$pos_bagging_fraction\n:   1\n$neg_bagging_fraction\n:   1\n$is_unbalance\n:   FALSE\n$scale_pos_weight\n:   1\n$drop_rate\n:   0.1\n$max_drop\n:   50\n$skip_drop\n:   0.5\n$extra_trees\n:   FALSE\n$num_iterations\n:   1646\n$learning_rate\n:   0.0213912365691576\n$feature_fraction\n:   0.767089663550623\n$num_leaves\n:   1052\n$min_data_in_leaf\n:   525\n$bagging_freq\n:   5\n$min_child_samples\n:   35\n\n\n",
            "text/latex": "\\begin{description}\n\\item[\\$boosting] 'gbdt'\n\\item[\\$objective] 'binary'\n\\item[\\$metric] 'auc'\n\\item[\\$first\\_metric\\_only] FALSE\n\\item[\\$boost\\_from\\_average] TRUE\n\\item[\\$feature\\_pre\\_filter] FALSE\n\\item[\\$force\\_row\\_wise] TRUE\n\\item[\\$verbosity] -100\n\\item[\\$seed] 858956\n\\item[\\$max\\_depth] 6\n\\item[\\$min\\_gain\\_to\\_split] 0.0161536135800466\n\\item[\\$min\\_sum\\_hessian\\_in\\_leaf] 0.001\n\\item[\\$lambda\\_l1] 1.39474023445566\n\\item[\\$lambda\\_l2] 3.82169410103667\n\\item[\\$max\\_bin] 31\n\\item[\\$bagging\\_fraction] 0.891144613033415\n\\item[\\$pos\\_bagging\\_fraction] 1\n\\item[\\$neg\\_bagging\\_fraction] 1\n\\item[\\$is\\_unbalance] FALSE\n\\item[\\$scale\\_pos\\_weight] 1\n\\item[\\$drop\\_rate] 0.1\n\\item[\\$max\\_drop] 50\n\\item[\\$skip\\_drop] 0.5\n\\item[\\$extra\\_trees] FALSE\n\\item[\\$num\\_iterations] 1646\n\\item[\\$learning\\_rate] 0.0213912365691576\n\\item[\\$feature\\_fraction] 0.767089663550623\n\\item[\\$num\\_leaves] 1052\n\\item[\\$min\\_data\\_in\\_leaf] 525\n\\item[\\$bagging\\_freq] 5\n\\item[\\$min\\_child\\_samples] 35\n\\end{description}\n",
            "text/plain": [
              "$boosting\n",
              "[1] \"gbdt\"\n",
              "\n",
              "$objective\n",
              "[1] \"binary\"\n",
              "\n",
              "$metric\n",
              "[1] \"auc\"\n",
              "\n",
              "$first_metric_only\n",
              "[1] FALSE\n",
              "\n",
              "$boost_from_average\n",
              "[1] TRUE\n",
              "\n",
              "$feature_pre_filter\n",
              "[1] FALSE\n",
              "\n",
              "$force_row_wise\n",
              "[1] TRUE\n",
              "\n",
              "$verbosity\n",
              "[1] -100\n",
              "\n",
              "$seed\n",
              "[1] 858956\n",
              "\n",
              "$max_depth\n",
              "[1] 6\n",
              "\n",
              "$min_gain_to_split\n",
              "[1] 0.01615361\n",
              "\n",
              "$min_sum_hessian_in_leaf\n",
              "[1] 0.001\n",
              "\n",
              "$lambda_l1\n",
              "[1] 1.39474\n",
              "\n",
              "$lambda_l2\n",
              "[1] 3.821694\n",
              "\n",
              "$max_bin\n",
              "[1] 31\n",
              "\n",
              "$bagging_fraction\n",
              "[1] 0.8911446\n",
              "\n",
              "$pos_bagging_fraction\n",
              "[1] 1\n",
              "\n",
              "$neg_bagging_fraction\n",
              "[1] 1\n",
              "\n",
              "$is_unbalance\n",
              "[1] FALSE\n",
              "\n",
              "$scale_pos_weight\n",
              "[1] 1\n",
              "\n",
              "$drop_rate\n",
              "[1] 0.1\n",
              "\n",
              "$max_drop\n",
              "[1] 50\n",
              "\n",
              "$skip_drop\n",
              "[1] 0.5\n",
              "\n",
              "$extra_trees\n",
              "[1] FALSE\n",
              "\n",
              "$num_iterations\n",
              "[1] 1646\n",
              "\n",
              "$learning_rate\n",
              "[1] 0.02139124\n",
              "\n",
              "$feature_fraction\n",
              "[1] 0.7670897\n",
              "\n",
              "$num_leaves\n",
              "[1] 1052\n",
              "\n",
              "$min_data_in_leaf\n",
              "[1] 525\n",
              "\n",
              "$bagging_freq\n",
              "[1] 5\n",
              "\n",
              "$min_child_samples\n",
              "[1] 35\n"
            ]
          },
          "metadata": {}
        }
      ]
    },
    {
      "cell_type": "markdown",
      "source": [
        "#### Training\n",
        "Genero el modelo final, siempre sobre TODOS los datos de  final_train, sin hacer ningun tipo de undersampling de la clase mayoritaria"
      ],
      "metadata": {
        "id": "TZIYn4l95TBH"
      }
    },
    {
      "cell_type": "code",
      "source": [
        "# este punto es muy SUTIL  y será revisado en la Clase 05\n",
        "\n",
        "param_normalizado <- copy(param_final)\n",
        "param_normalizado$min_data_in_leaf <-  round(param_final$min_data_in_leaf / PARAM$trainingstrategy$undersampling)"
      ],
      "metadata": {
        "id": "vPLsd4mMRe4u"
      },
      "execution_count": null,
      "outputs": []
    },
    {
      "cell_type": "code",
      "source": [
        "  # entreno LightGBM\n",
        "\n",
        "  modelo_final <- lgb.train(\n",
        "    data= dtrain,\n",
        "    param= param_normalizado\n",
        "  )"
      ],
      "metadata": {
        "id": "WRI_-taRwOXO"
      },
      "execution_count": null,
      "outputs": []
    },
    {
      "cell_type": "code",
      "source": [
        "# ahora imprimo la importancia de variables\n",
        "\n",
        "tb_importancia <- as.data.table(lgb.importance(modelo_final))\n",
        "archivo_importancia <- \"impo.txt\"\n",
        "\n",
        "fwrite(tb_importancia,\n",
        "  file= archivo_importancia,\n",
        "  sep= \"\\t\"\n",
        ")"
      ],
      "metadata": {
        "id": "_bkhnCvj0g3Q"
      },
      "execution_count": null,
      "outputs": []
    },
    {
      "cell_type": "code",
      "source": [
        "# grabo a disco el modelo en un formato para seres humanos ... ponele ...\n",
        "\n",
        "lgb.save(modelo_final, \"modelo.txt\" )"
      ],
      "metadata": {
        "id": "lZ3sLmbh0kFj"
      },
      "execution_count": null,
      "outputs": []
    },
    {
      "cell_type": "markdown",
      "source": [
        "### Scoring"
      ],
      "metadata": {
        "id": "VEtp2--t5Ymg"
      }
    },
    {
      "cell_type": "markdown",
      "source": [
        "Aplico el modelo final a los datos del futuro"
      ],
      "metadata": {
        "id": "hI5008Mj5ZdI"
      }
    },
    {
      "cell_type": "code",
      "source": [
        "# aplico el modelo a los datos sin clase\n",
        "dfuture <- dataset[foto_mes == 202109]\n",
        "\n",
        "# aplico el modelo a los datos nuevos\n",
        "prediccion <- predict(\n",
        "  modelo_final,\n",
        "  data.matrix(dfuture[, campos_buenos, with= FALSE])\n",
        ")"
      ],
      "metadata": {
        "id": "PimBY3N_0ryP"
      },
      "execution_count": null,
      "outputs": []
    },
    {
      "cell_type": "markdown",
      "source": [
        "#### Tabla Prediccion"
      ],
      "metadata": {
        "id": "D26rNRh55gpw"
      }
    },
    {
      "cell_type": "code",
      "source": [
        "# tabla de prediccion\n",
        "\n",
        "tb_prediccion <- dfuture[, list(numero_de_cliente)]\n",
        "tb_prediccion[, prob := prediccion ]\n",
        "\n",
        "# grabo las probabilidad del modelo\n",
        "fwrite(tb_prediccion,\n",
        "  file= \"prediccion.txt\",\n",
        "  sep= \"\\t\"\n",
        ")"
      ],
      "metadata": {
        "id": "RJwg7LHd11yu"
      },
      "execution_count": null,
      "outputs": []
    },
    {
      "cell_type": "markdown",
      "source": [
        "Kaggle Competition Submit"
      ],
      "metadata": {
        "id": "jOt4eG_55ltv"
      }
    },
    {
      "cell_type": "code",
      "source": [
        "# genero archivos con los  \"envios\" mejores\n",
        "# suba TODOS los archivos a Kaggle\n",
        "\n",
        "# ordeno por probabilidad descendente\n",
        "setorder(tb_prediccion, -prob)\n",
        "\n",
        "dir.create(\"kaggle\")\n",
        "\n",
        "for (envios in PARAM$kaggle$cortes) {\n",
        "\n",
        "  tb_prediccion[, Predicted := 0L] # seteo inicial a 0\n",
        "  tb_prediccion[1:envios, Predicted := 1L] # marclo los primeros\n",
        "\n",
        "  archivo_kaggle <- paste0(\"./kaggle/KA\", PARAM$experimento, \"_\", envios, \".csv\")\n",
        "\n",
        "  # grabo el archivo\n",
        "  fwrite(tb_prediccion[, list(numero_de_cliente, Predicted)],\n",
        "    file= archivo_kaggle,\n",
        "    sep= \",\"\n",
        "  )\n",
        "\n",
        "  # subida a Kaggle, armo la linea de comando\n",
        "  comando <- \"kaggle competitions submit\"\n",
        "  competencia <- paste(\"-c\", PARAM$kaggle$competencia)\n",
        "  arch <- paste( \"-f\", archivo_kaggle)\n",
        "\n",
        "  mensaje <- paste0(\"-m 'envios=\", envios,\n",
        "  \"  semilla=\", PARAM$semilla_primigenia,\n",
        "    \"'\" )\n",
        "\n",
        "  linea <- paste( comando, competencia, arch, mensaje)\n",
        "\n",
        "  salida <- system(linea, intern=TRUE) # el submit a Kaggle\n",
        "  cat(salida, \"\\n\")\n",
        "  Sys.sleep(45)\n",
        "}"
      ],
      "metadata": {
        "id": "gWW3tatE12je",
        "colab": {
          "base_uri": "https://localhost:8080/"
        },
        "outputId": "bf5ada3d-5f38-436f-f4e0-318bf36cd864"
      },
      "execution_count": null,
      "outputs": [
        {
          "output_type": "stream",
          "name": "stdout",
          "text": [
            "Successfully submitted to LaboI 2025 virtual analista sr \n",
            "Successfully submitted to LaboI 2025 virtual analista sr \n",
            "Successfully submitted to LaboI 2025 virtual analista sr \n",
            "Successfully submitted to LaboI 2025 virtual analista sr \n",
            "Successfully submitted to LaboI 2025 virtual analista sr \n"
          ]
        }
      ]
    },
    {
      "cell_type": "code",
      "source": [
        "write_yaml( PARAM, file=\"PARAM.yml\")"
      ],
      "metadata": {
        "id": "B9tB2X4439Hg"
      },
      "execution_count": null,
      "outputs": []
    },
    {
      "cell_type": "code",
      "source": [
        "format(Sys.time(), \"%a %b %d %X %Y\")"
      ],
      "metadata": {
        "id": "9zA_W25c15DP",
        "colab": {
          "base_uri": "https://localhost:8080/",
          "height": 34
        },
        "outputId": "6dc2ab03-1c7f-4763-fb92-33178d2a4726"
      },
      "execution_count": null,
      "outputs": [
        {
          "output_type": "display_data",
          "data": {
            "text/html": [
              "'Fri Oct 31 01:04:34 AM 2025'"
            ],
            "text/markdown": "'Fri Oct 31 01:04:34 AM 2025'",
            "text/latex": "'Fri Oct 31 01:04:34 AM 2025'",
            "text/plain": [
              "[1] \"Fri Oct 31 01:04:34 AM 2025\""
            ]
          },
          "metadata": {}
        }
      ]
    },
    {
      "cell_type": "markdown",
      "source": [
        "Finalmente usted deberá cargar el resultado de su corrida en la Google Sheet Colaborativa,  hoja **TareaHogar-05**\n",
        "<br> Siéntase libre de agregar las columnas que hagan falta a la planilla"
      ],
      "metadata": {
        "id": "UdVZucdLHzZ0"
      }
    },
    {
      "cell_type": "markdown",
      "source": [
        "Seguramente usted realice varias corridas de este script con distintos conjuntos de hiperparámetros, siempre cambiandole el nombre al script  y también cambiando el nombre del experimento,  deberá TODAS esas corridas en distintas lineas de la  Google Sheet Colaborativa, hoja **TareaHogar-05**"
      ],
      "metadata": {
        "id": "5MB_67DmDTh0"
      }
    },
    {
      "cell_type": "markdown",
      "source": [
        "Siéntase libre de agregar columnas a la hoja **TareaHogar-05**  en caso de ser necesario."
      ],
      "metadata": {
        "id": "OnRUS_PhFI1Z"
      }
    }
  ]
}