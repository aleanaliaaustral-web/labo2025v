{
  "nbformat": 4,
  "nbformat_minor": 0,
  "metadata": {
    "colab": {
      "provenance": [],
      "include_colab_link": true
    },
    "kernelspec": {
      "name": "ir",
      "display_name": "R"
    },
    "language_info": {
      "name": "R"
    }
  },
  "cells": [
    {
      "cell_type": "markdown",
      "metadata": {
        "id": "view-in-github",
        "colab_type": "text"
      },
      "source": [
        "<a href=\"https://colab.research.google.com/github/aleanaliaaustral-web/labo2025v/blob/main/src/ensembles/594_TareaHogar_05_5.ipynb\" target=\"_parent\"><img src=\"https://colab.research.google.com/assets/colab-badge.svg\" alt=\"Open In Colab\"/></a>"
      ]
    },
    {
      "cell_type": "markdown",
      "source": [
        "# Tarea para el Hogar 05"
      ],
      "metadata": {
        "id": "0cEmzeUKFkPh"
      }
    },
    {
      "cell_type": "markdown",
      "source": [
        "Esta Tarea para el Hogar 05 se entrega el final de la cuarta clase\n",
        "<br> se espera de usted que intente avanzar con los desafios propuestos y que los traiga terminados para la Clase 05 que será el miercoles 03 de septiembre"
      ],
      "metadata": {
        "id": "nSICPpyTGQmC"
      }
    },
    {
      "cell_type": "markdown",
      "source": [
        "##  1. Overfitting the Public Leaderboard"
      ],
      "metadata": {
        "id": "DenyKXkiJ5JN"
      }
    },
    {
      "cell_type": "markdown",
      "source": [
        "Leer  https://medium.com/hmif-itb/overfitting-the-leaderboard-da25172ac62e\n",
        "( 8 minutos )"
      ],
      "metadata": {
        "id": "l-K2_ZsZGrVD"
      }
    },
    {
      "cell_type": "markdown",
      "source": [
        "## 2. Hiperparámetros del LightGBM"
      ],
      "metadata": {
        "id": "K9GkTOk5J9t3"
      }
    },
    {
      "cell_type": "markdown",
      "source": [
        "Los objetivos de esta tarea son:\n",
        "\n",
        "\n",
        "*   Aumentar la rentabilidad de la campaña de marketing de retención proactiva de clientes.\n",
        "*   Generar un mejor modelo optimizando sus hiperparámetros\n",
        "*   Conceptual : investigar los mas relevantes hiperparámetros de LightGBM\n",
        "*   Familiarizarse con la Bayesian Optimization, sus largos tiempos de corrida y opciones para reducirlos\n",
        "*   Familiarizarse con el uso de máquinas virtuales de Google Colab\n",
        "*   Ver un pipeline completo de optimización de hiperparámetros y puesta en producción"
      ],
      "metadata": {
        "id": "VmEFy0ukKL5T"
      }
    },
    {
      "cell_type": "markdown",
      "source": [
        "LightGBM cuenta con mas de 60 hiperparámetros, siendo posible utilizar 40 al mismo tiempo, aunque no razonable.\n",
        "<br> La documentación oficial de los hiperparámetros de LightGBM es  https://lightgbm.readthedocs.io/en/latest/Parameters.html#core-parameters\n"
      ],
      "metadata": {
        "id": "5yvlS6JQLRMd"
      }
    },
    {
      "cell_type": "markdown",
      "source": [
        "Se lo alerta sobre que una Optimizacion Bayesiana lleva varias horas de corrida, y usted deberá correr VARIAS optimizaciones para descubrir cuales parámetros conviene optimizar.\n",
        "<br> A pesar que la próxima clase es recien en viernes 01 de agosto, inicie la tarea con tiempo, aprenda a planificar estratégicamente sus corridas como un@ científ@  de datos."
      ],
      "metadata": {
        "id": "eydI4YNAsFaf"
      }
    },
    {
      "cell_type": "markdown",
      "source": [
        "Es necesario investigar cuales son los hiperparámetros de LightGBM que vale la pena optimizar en una Bayesian Optimization, ya que los realmente utiles son apenas un reducido subconjunto.\n",
        "<br>Usted deberá investigar cuales son los hiperparámetros mas relevantes de LightGBM, su primer alternativa es preguntándole a su amigo con capacidades especiales ChatGPT o sus endogámicos familiares Claude, DeepSeek, Gemini, Grok, etc\n",
        "<br> La segunda alternativa es la propia documentación de LightGBM  https://lightgbm.readthedocs.io/en/latest/Parameters-Tuning.html\n"
      ],
      "metadata": {
        "id": "RzU4S0SeMcpp"
      }
    },
    {
      "cell_type": "markdown",
      "source": [
        "Adicionalmente podra buscar información como la que proveen esta diminuta muestra aleatoria de artículos ligeros:\n",
        "* https://machinelearningmastery.com/light-gradient-boosted-machine-lightgbm-ensemble/\n",
        "*  https://medium.com/@sarahzouinina/a-deep-dive-into-lightgbm-how-to-choose-and-tune-parameters-7c584945842e\n",
        "*  https://www.kaggle.com/code/somang1418/tuning-hyperparameters-under-10-minutes-lgbm\n",
        "*  https://towardsdatascience.com/beginners-guide-to-the-must-know-lightgbm-hyperparameters-a0005a812702/\n",
        "\n",
        "\n",
        "<br>  La muestra anterior se brinda a modo de ejemplo, usted deberá buscar muuuuchas  fuentes adicionales de información\n",
        "<br> Tenga presente que LightGBM es el estado del arte en modelado predictivo para datasets estructurado, que son el 90% del trabajo del 95% de los Data Scientists en Argentina."
      ],
      "metadata": {
        "id": "LNptUgI_NWWG"
      }
    },
    {
      "cell_type": "markdown",
      "source": [
        "El desafío de esta tarea es:\n",
        "* Qué hiperparparámetros conviene optimizar?  Las recomendaciones de los artículos ligeros es siempre sensata?  Sus autores realmente hicieron experimentos o son siemplemente escritores de entretenimiento carente de base científica?\n",
        "* Elegidos los hiperparámetros, cual es el  <desde, hasta> que se debe utilizar en la Bayesian Optimization ?\n",
        "* Realmente vale la pena optimizar 10 o 16 hiperparámetros al mismo tiempo ?  No resulta contraproducente una búsqueda en un espacio de tal alta dimensionalidad ?"
      ],
      "metadata": {
        "id": "WpUThBojODyK"
      }
    },
    {
      "cell_type": "markdown",
      "source": [
        "#### 2.1  Seteo del ambiente en Google Colab"
      ],
      "metadata": {
        "id": "PX0qg_c0yqob"
      }
    },
    {
      "cell_type": "markdown",
      "metadata": {
        "id": "NGY7H9xza7Zr"
      },
      "source": [
        "Esta parte se debe correr con el runtime en Python3\n",
        "<br>Ir al menu, Runtime -> Change Runtime Type -> Runtime type ->  **Python 3**"
      ]
    },
    {
      "cell_type": "markdown",
      "metadata": {
        "id": "7PupIBNba7Zr"
      },
      "source": [
        "Conectar la virtual machine donde esta corriendo Google Colab con el  Google Drive, para poder tener persistencia de archivos"
      ]
    },
    {
      "cell_type": "code",
      "execution_count": 1,
      "metadata": {
        "id": "9LpZCst5a7Zs",
        "colab": {
          "base_uri": "https://localhost:8080/"
        },
        "outputId": "1a144551-17b9-466c-9e08-c3e3459a10e1"
      },
      "outputs": [
        {
          "output_type": "stream",
          "name": "stdout",
          "text": [
            "Mounted at /content/.drive\n"
          ]
        }
      ],
      "source": [
        "# primero establecer el Runtime de Python 3\n",
        "from google.colab import drive\n",
        "drive.mount('/content/.drive')"
      ]
    },
    {
      "cell_type": "markdown",
      "metadata": {
        "id": "JYC_F-wla7Zs"
      },
      "source": [
        "Para correr la siguiente celda es fundamental en Arranque en Frio haber copiado el archivo kaggle.json al Google Drive, en la carpeta indicada en el instructivo\n",
        "\n",
        "<br>los siguientes comando estan en shell script de Linux\n",
        "*   Crear las carpetas en el Google Drive\n",
        "*   \"instalar\" el archivo kaggle.json desde el Google Drive a la virtual machine para que pueda ser utilizado por la libreria  kaggle de Python\n",
        "*   Bajar el  **dataset_pequeno**  al  Google Drive  y tambien al disco local de la virtual machine que esta corriendo Google Colab\n",
        "\n"
      ]
    },
    {
      "cell_type": "code",
      "execution_count": 2,
      "metadata": {
        "id": "XWLelftXa7Zt",
        "colab": {
          "base_uri": "https://localhost:8080/"
        },
        "outputId": "250f1bed-b81e-4e3c-b6f1-adffda04f503"
      },
      "outputs": [
        {
          "output_type": "execute_result",
          "data": {
            "text/plain": []
          },
          "metadata": {},
          "execution_count": 2
        }
      ],
      "source": [
        "%%shell\n",
        "\n",
        "mkdir -p \"/content/.drive/My Drive/labo1\"\n",
        "mkdir -p \"/content/buckets\"\n",
        "ln -s \"/content/.drive/My Drive/labo1\" /content/buckets/b1\n",
        "\n",
        "mkdir -p ~/.kaggle\n",
        "cp /content/buckets/b1/kaggle/kaggle.json  ~/.kaggle\n",
        "chmod 600 ~/.kaggle/kaggle.json\n",
        "\n",
        "\n",
        "mkdir -p /content/buckets/b1/exp\n",
        "mkdir -p /content/buckets/b1/datasets\n",
        "mkdir -p /content/datasets\n",
        "\n",
        "\n",
        "\n",
        "archivo_origen=\"https://storage.googleapis.com/open-courses/austral2025-af91/dataset_pequeno.csv\"\n",
        "archivo_destino=\"/content/datasets/dataset_pequeno.csv\"\n",
        "archivo_destino_bucket=\"/content/buckets/b1/datasets/dataset_pequeno.csv\"\n",
        "\n",
        "if ! test -f $archivo_destino_bucket; then\n",
        "  wget  $archivo_origen  -O $archivo_destino_bucket\n",
        "fi\n",
        "\n",
        "\n",
        "if ! test -f $archivo_destino; then\n",
        "  cp  $archivo_destino_bucket  $archivo_destino\n",
        "fi\n"
      ]
    },
    {
      "cell_type": "markdown",
      "source": [
        "### 2.2 Optimizacion Hiperparámetros"
      ],
      "metadata": {
        "id": "oSKhZRToy2F7"
      }
    },
    {
      "cell_type": "markdown",
      "source": [
        "Esta parte se debe correr con el runtime en lenguaje R Ir al menu, Runtime -> Change Runtime Type -> Runtime type -> R"
      ],
      "metadata": {
        "id": "2kwPpHAtSmix"
      }
    },
    {
      "cell_type": "markdown",
      "source": [
        "### 2.2.1 Inicio"
      ],
      "metadata": {
        "id": "xp4-Bj3aYI8d"
      }
    },
    {
      "cell_type": "markdown",
      "source": [
        "limpio el ambiente de R"
      ],
      "metadata": {
        "id": "zy8YTZfESxeJ"
      }
    },
    {
      "cell_type": "code",
      "source": [
        "format(Sys.time(), \"%a %b %d %X %Y\")"
      ],
      "metadata": {
        "id": "gBq__iAdQliq",
        "colab": {
          "base_uri": "https://localhost:8080/",
          "height": 34
        },
        "outputId": "4927b1a2-c6f4-4237-c5c3-04d2e01a9c2e"
      },
      "execution_count": 1,
      "outputs": [
        {
          "output_type": "display_data",
          "data": {
            "text/html": [
              "'Sat Nov 01 11:34:59 AM 2025'"
            ],
            "text/markdown": "'Sat Nov 01 11:34:59 AM 2025'",
            "text/latex": "'Sat Nov 01 11:34:59 AM 2025'",
            "text/plain": [
              "[1] \"Sat Nov 01 11:34:59 AM 2025\""
            ]
          },
          "metadata": {}
        }
      ]
    },
    {
      "cell_type": "code",
      "source": [
        "# limpio la memoria\n",
        "rm(list=ls(all.names=TRUE)) # remove all objects\n",
        "gc(full=TRUE, verbose=FALSE) # garbage collection"
      ],
      "metadata": {
        "id": "7rdVrBojS1IV",
        "colab": {
          "base_uri": "https://localhost:8080/",
          "height": 129
        },
        "outputId": "d3617b19-1762-40c7-c342-0bec4528c5df"
      },
      "execution_count": 2,
      "outputs": [
        {
          "output_type": "display_data",
          "data": {
            "text/html": [
              "<table class=\"dataframe\">\n",
              "<caption>A matrix: 2 × 6 of type dbl</caption>\n",
              "<thead>\n",
              "\t<tr><th></th><th scope=col>used</th><th scope=col>(Mb)</th><th scope=col>gc trigger</th><th scope=col>(Mb)</th><th scope=col>max used</th><th scope=col>(Mb)</th></tr>\n",
              "</thead>\n",
              "<tbody>\n",
              "\t<tr><th scope=row>Ncells</th><td> 660381</td><td>35.3</td><td>1454474</td><td>77.7</td><td>1454474</td><td>77.7</td></tr>\n",
              "\t<tr><th scope=row>Vcells</th><td>1226627</td><td> 9.4</td><td>8388608</td><td>64.0</td><td>1975128</td><td>15.1</td></tr>\n",
              "</tbody>\n",
              "</table>\n"
            ],
            "text/markdown": "\nA matrix: 2 × 6 of type dbl\n\n| <!--/--> | used | (Mb) | gc trigger | (Mb) | max used | (Mb) |\n|---|---|---|---|---|---|---|\n| Ncells |  660381 | 35.3 | 1454474 | 77.7 | 1454474 | 77.7 |\n| Vcells | 1226627 |  9.4 | 8388608 | 64.0 | 1975128 | 15.1 |\n\n",
            "text/latex": "A matrix: 2 × 6 of type dbl\n\\begin{tabular}{r|llllll}\n  & used & (Mb) & gc trigger & (Mb) & max used & (Mb)\\\\\n\\hline\n\tNcells &  660381 & 35.3 & 1454474 & 77.7 & 1454474 & 77.7\\\\\n\tVcells & 1226627 &  9.4 & 8388608 & 64.0 & 1975128 & 15.1\\\\\n\\end{tabular}\n",
            "text/plain": [
              "       used    (Mb) gc trigger (Mb) max used (Mb)\n",
              "Ncells  660381 35.3 1454474    77.7 1454474  77.7\n",
              "Vcells 1226627  9.4 8388608    64.0 1975128  15.1"
            ]
          },
          "metadata": {}
        }
      ]
    },
    {
      "cell_type": "markdown",
      "source": [
        "### 2.2.2 Carga de Librerias"
      ],
      "metadata": {
        "id": "kuPfQ7ksjwW3"
      }
    },
    {
      "cell_type": "code",
      "source": [
        "# cargo las librerias que necesito\n",
        "require(\"data.table\")\n",
        "require(\"parallel\")\n",
        "\n",
        "if( !require(\"primes\") ) install.packages(\"primes\")\n",
        "require(\"primes\")\n",
        "\n",
        "if( !require(\"utils\") ) install.packages(\"utils\")\n",
        "require(\"utils\")\n",
        "\n",
        "if( !require(\"rlist\") ) install.packages(\"rlist\")\n",
        "require(\"rlist\")\n",
        "\n",
        "if( !require(\"yaml\")) install.packages(\"yaml\")\n",
        "require(\"yaml\")\n",
        "\n",
        "if( !require(\"lightgbm\") ) install.packages(\"lightgbm\")\n",
        "require(\"lightgbm\")\n",
        "\n",
        "if( !require(\"DiceKriging\") ) install.packages(\"DiceKriging\")\n",
        "require(\"DiceKriging\")\n",
        "\n",
        "if( !require(\"mlrMBO\") ) install.packages(\"mlrMBO\")\n",
        "require(\"mlrMBO\")"
      ],
      "metadata": {
        "id": "lVyxLaJ1j1J_",
        "colab": {
          "base_uri": "https://localhost:8080/"
        },
        "outputId": "d0f3a3b5-4ef6-4dca-e951-ef69c6846178"
      },
      "execution_count": 3,
      "outputs": [
        {
          "output_type": "stream",
          "name": "stderr",
          "text": [
            "Loading required package: data.table\n",
            "\n",
            "Loading required package: parallel\n",
            "\n",
            "Loading required package: primes\n",
            "\n",
            "Warning message in library(package, lib.loc = lib.loc, character.only = TRUE, logical.return = TRUE, :\n",
            "“there is no package called ‘primes’”\n",
            "Installing package into ‘/usr/local/lib/R/site-library’\n",
            "(as ‘lib’ is unspecified)\n",
            "\n",
            "Loading required package: primes\n",
            "\n",
            "Loading required package: rlist\n",
            "\n",
            "Warning message in library(package, lib.loc = lib.loc, character.only = TRUE, logical.return = TRUE, :\n",
            "“there is no package called ‘rlist’”\n",
            "Installing package into ‘/usr/local/lib/R/site-library’\n",
            "(as ‘lib’ is unspecified)\n",
            "\n",
            "also installing the dependency ‘XML’\n",
            "\n",
            "\n",
            "Loading required package: rlist\n",
            "\n",
            "Loading required package: yaml\n",
            "\n",
            "Loading required package: lightgbm\n",
            "\n",
            "Warning message in library(package, lib.loc = lib.loc, character.only = TRUE, logical.return = TRUE, :\n",
            "“there is no package called ‘lightgbm’”\n",
            "Installing package into ‘/usr/local/lib/R/site-library’\n",
            "(as ‘lib’ is unspecified)\n",
            "\n",
            "Loading required package: lightgbm\n",
            "\n",
            "Loading required package: DiceKriging\n",
            "\n",
            "Warning message in library(package, lib.loc = lib.loc, character.only = TRUE, logical.return = TRUE, :\n",
            "“there is no package called ‘DiceKriging’”\n",
            "Installing package into ‘/usr/local/lib/R/site-library’\n",
            "(as ‘lib’ is unspecified)\n",
            "\n",
            "Loading required package: DiceKriging\n",
            "\n",
            "Loading required package: mlrMBO\n",
            "\n",
            "Warning message in library(package, lib.loc = lib.loc, character.only = TRUE, logical.return = TRUE, :\n",
            "“there is no package called ‘mlrMBO’”\n",
            "Installing package into ‘/usr/local/lib/R/site-library’\n",
            "(as ‘lib’ is unspecified)\n",
            "\n",
            "also installing the dependencies ‘fastmatch’, ‘RcppArmadillo’, ‘mlr’, ‘ParamHelpers’, ‘smoof’, ‘BBmisc’, ‘checkmate’, ‘lhs’, ‘parallelMap’\n",
            "\n",
            "\n",
            "Loading required package: mlrMBO\n",
            "\n",
            "Loading required package: mlr\n",
            "\n",
            "Loading required package: ParamHelpers\n",
            "\n",
            "Loading required package: smoof\n",
            "\n",
            "Loading required package: checkmate\n",
            "\n",
            "\n",
            "Attaching package: ‘checkmate’\n",
            "\n",
            "\n",
            "The following object is masked from ‘package:DiceKriging’:\n",
            "\n",
            "    checkNames\n",
            "\n",
            "\n"
          ]
        }
      ]
    },
    {
      "cell_type": "markdown",
      "source": [
        "### 2.2.3 Definicion de Parametros"
      ],
      "metadata": {
        "id": "Iz-6Qt6BUaA3"
      }
    },
    {
      "cell_type": "markdown",
      "source": [
        "aqui debe cargar SU semilla primigenia\n",
        "<br>recuerde cambiar el numero de experimento en cada corrida nueva"
      ],
      "metadata": {
        "id": "cOdlKd7lUm2I"
      }
    },
    {
      "cell_type": "code",
      "source": [
        "PARAM <- list()\n",
        "PARAM$experimento <- 59405\n",
        "PARAM$semilla_primigenia <- 90977\n"
      ],
      "metadata": {
        "id": "ASYkebOu2mF6"
      },
      "execution_count": 4,
      "outputs": []
    },
    {
      "cell_type": "code",
      "source": [
        "PARAM$kaggle$competencia <- \"labo-i-2025-virtual-analista-sr\"\n",
        "PARAM$kaggle$cortes <- seq(10000, 12000, by= 500)"
      ],
      "metadata": {
        "id": "ezOhQdbA293o"
      },
      "execution_count": 5,
      "outputs": []
    },
    {
      "cell_type": "code",
      "source": [
        "# un undersampling de 0.1  toma solo el 10% de los CONTINUA\n",
        "# undersampling de 1.0  implica tomar TODOS los datos\n",
        "\n",
        "PARAM$trainingstrategy$undersampling <- 0.5"
      ],
      "metadata": {
        "id": "jtB0Lub42rHO"
      },
      "execution_count": 6,
      "outputs": []
    },
    {
      "cell_type": "code",
      "source": [
        "# Parametros LightGBM\n",
        "\n",
        "PARAM$hyperparametertuning$xval_folds <- 5\n",
        "\n",
        "# parametros fijos del LightGBM que se pisaran con la parte variable de la BO\n",
        "PARAM$lgbm$param_fijos <-  list(\n",
        "  boosting= \"gbdt\", # puede ir  dart  , ni pruebe random_forest\n",
        "  objective= \"binary\",\n",
        "  metric= \"auc\",\n",
        "  first_metric_only= FALSE,\n",
        "  boost_from_average= TRUE,\n",
        "  feature_pre_filter= FALSE,\n",
        "  force_row_wise= TRUE, # para reducir warnings\n",
        "  verbosity= -100,\n",
        "\n",
        "  seed= PARAM$semilla_primigenia,\n",
        "\n",
        "  max_depth= -1L, # -1 significa no limitar,  por ahora lo dejo fijo\n",
        "  min_gain_to_split= 0, # min_gain_to_split >= 0\n",
        "  min_sum_hessian_in_leaf= 0.001, #  min_sum_hessian_in_leaf >= 0.0\n",
        "  lambda_l1= 0.0, # lambda_l1 >= 0.0\n",
        "  lambda_l2= 0.0, # lambda_l2 >= 0.0\n",
        "  max_bin= 31L, # lo debo dejar fijo, no participa de la BO\n",
        "\n",
        "  bagging_fraction= 1.0, # 0.0 < bagging_fraction <= 1.0\n",
        "  pos_bagging_fraction= 1.0, # 0.0 < pos_bagging_fraction <= 1.0\n",
        "  neg_bagging_fraction= 1.0, # 0.0 < neg_bagging_fraction <= 1.0\n",
        "  is_unbalance= FALSE, #\n",
        "  scale_pos_weight= 1.0, # scale_pos_weight > 0.0\n",
        "\n",
        "  drop_rate= 0.1, # 0.0 < neg_bagging_fraction <= 1.0\n",
        "  max_drop= 50, # <=0 means no limit\n",
        "  skip_drop= 0.5, # 0.0 <= skip_drop <= 1.0\n",
        "\n",
        "  extra_trees= FALSE,\n",
        "\n",
        "  num_iterations= 1200,\n",
        "  learning_rate= 0.02,\n",
        "  feature_fraction= 0.5,\n",
        "  num_leaves= 750,\n",
        "  min_data_in_leaf= 5000\n",
        ")\n"
      ],
      "metadata": {
        "id": "OFxm-xiNUOJX"
      },
      "execution_count": 7,
      "outputs": []
    },
    {
      "cell_type": "markdown",
      "source": [
        " HIPERPARÁMETROS OPTIMIZADOS SEGÚN EL PAPER\n",
        "### ============================================================================\n",
        "# Basado en Imani & Arabnia (2023):\n",
        "# - LightGBM alcanzó ROC AUC = 91% con optimización\n",
        "# - Parámetros clave identificados:\n",
        "#   * num_leaves = 1169\n",
        "#   * max_depth = 10\n",
        "#   * lambda_l1 = 2.689e-7 (regularización L1 muy pequeña)\n",
        "#   * lambda_l2 = 7.238e-8 (regularización L2 muy pequeña)\n",
        "#   * feature_fraction = 0.8708\n",
        "#   * bagging_fraction = 0.6281\n",
        "#   * bagging_freq = 7"
      ],
      "metadata": {
        "id": "2OOwsva4IF6c"
      }
    },
    {
      "cell_type": "markdown",
      "source": [
        "Aqui se definen los hiperparámetros de LightGBM que participan de la Bayesian Optimization\n",
        "<br> si es un numero entero debe ir  makeIntegerParam\n",
        "<br> si es un numero real (con decimales) debe ir  makeNumericParam\n",
        "<br> es muy importante leer cuales son un lower y upper  permitidos y ademas razonables"
      ],
      "metadata": {
        "id": "D5Yj-JV4yvOt"
      }
    },
    {
      "cell_type": "code",
      "source": [
        "cat(\"\\n\")\n",
        "cat(\"=========================================================================\\n\")\n",
        "cat(\"CONFIGURACIÓN DE HIPERPARÁMETROS BASADA EN IMANI & ARABNIA (2023)\\n\")\n",
        "cat(\"=========================================================================\\n\")\n",
        "cat(\"Paper: LightGBM alcanzó ROC AUC = 91%\\n\")\n",
        "cat(\"Optimizando 12 hiperparámetros críticos identificados en el paper\\n\")\n",
        "cat(\"=========================================================================\\n\\n\")\n",
        "\n",
        "# Aqui se cargan los bordes de los hiperparametros de la BO\n",
        "PARAM$hyperparametertuning$hs <- makeParamSet(\n",
        "\n",
        "  # === PARÁMETROS BÁSICOS (originales del profesor) ===\n",
        "  # makeIntegerParam(\"min_data_in_leaf\", lower= 1L, upper= 2000L), # Duplicate definition\n",
        "  makeNumericParam(\"learning_rate\", lower= 0.01, upper= 0.3),\n",
        "  makeIntegerParam(\"num_leaves\", lower= 31L, upper= 2048L),  # Paper: 1169\n",
        "  makeIntegerParam(\"min_data_in_leaf\", lower= 1L, upper= 8000L), # Correct definition\n",
        "\n",
        "  # === PARÁMETROS DE MUESTREO (críticos según paper) ===\n",
        "  makeNumericParam(\"feature_fraction\", lower= 0.4, upper= 1.0),  # Paper: 0.8708\n",
        "  makeNumericParam(\"bagging_fraction\", lower= 0.4, upper= 1.0),  # Paper: 0.6281\n",
        "  makeIntegerParam(\"bagging_freq\", lower= 1L, upper= 10L),       # Paper: 7\n",
        "\n",
        "  # === ESTRUCTURA DEL ÁRBOL ===\n",
        "  makeIntegerParam(\"max_depth\", lower= 3L, upper= 15L),          # Paper: 10\n",
        "\n",
        "  # === REGULARIZACIÓN (MUY IMPORTANTE para evitar overfitting) ===\n",
        "  # El paper encontró que valores MUY PEQUEÑOS pero NO CERO son óptimos\n",
        "  makeNumericParam(\"lambda_l1\", lower= 1e-8, upper= 5.0),  # ✅ Debe decir 5.0\n",
        "  makeNumericParam(\"lambda_l2\", lower= 1e-8, upper= 5.0),  # ✅ Debe decir 5.0\n",
        "\n",
        "  # === OTROS PARÁMETROS IMPORTANTES ===\n",
        "  makeIntegerParam(\"min_child_samples\", lower= 5L, upper= 100L), # Paper: 8\n",
        "  makeNumericParam(\"min_gain_to_split\", lower= 0.0, upper= 1.0)\n",
        ")\n",
        "\n",
        "cat(\"Hiperparámetros a optimizar:\\n\")\n",
        "cat(\"  1. num_iterations     [100, 2000]      - Número de árboles\\n\")\n",
        "cat(\"  2. learning_rate      [0.01, 0.3]      - Tasa de aprendizaje\\n\")\n",
        "cat(\"  3. num_leaves         [31, 2048]       - Hojas por árbol (paper: 1169)\\n\")\n",
        "cat(\"  4. min_data_in_leaf   [1, 8000]        - Mínimo de datos por hoja\\n\")\n",
        "cat(\"  5. feature_fraction   [0.4, 1.0]       - % features por árbol (paper: 0.87)\\n\")\n",
        "cat(\"  6. bagging_fraction   [0.4, 1.0]       - % datos por árbol (paper: 0.63)\\n\")\n",
        "cat(\"  7. bagging_freq       [1, 10]          - Frecuencia bagging (paper: 7)\\n\")\n",
        "cat(\"  8. max_depth          [3, 15]          - Profundidad máxima (paper: 10)\\n\")\n",
        "cat(\"  9. lambda_l1          [1e-8, 10]       - Regularización L1 (paper: 2.7e-7)\\n\")\n",
        "cat(\" 10. lambda_l2          [1e-8, 10]       - Regularización L2 (paper: 7.2e-8)\\n\")\n",
        "cat(\" 11. min_child_samples  [5, 100]         - Min samples en nodo hijo (paper: 8)\\n\")\n",
        "cat(\" 12. min_gain_to_split  [0, 1]           - Ganancia mínima para split\\n\")\n",
        "cat(\"\\n\")\n",
        "\n",
        "# A mayor cantidad de hiperparámetros, se debe aumentar las iteraciones de la Bayesian Optimization\n",
        "# RECOMENDACIÓN BASADA EN EL PAPER Y TIEMPO DISPONIBLE:\n",
        "# - 30 iteraciones: Insuficiente para 12 hiperparámetros\n",
        "# - 50 iteraciones: Balance óptimo tiempo/calidad ⭐\n",
        "# - 100+ iteraciones: Ideal pero requiere mucho tiempo\n",
        "\n",
        "PARAM$hyperparametertuning$iteraciones <- 50  # ⚠️ Ajustar según tiempo disponible\n",
        "\n",
        "cat(\"Iteraciones de Optimización Bayesiana:\", PARAM$hyperparametertuning$iteraciones, \"\\n\")\n",
        "cat(\"Tiempo estimado: ~\", round(PARAM$hyperparametertuning$iteraciones * 2.5 / 60, 1), \"horas\\n\")\n",
        "cat(\"Con 50 iteraciones tendrás un buen balance entre calidad y tiempo.\\n\")\n",
        "cat(\"\\n\")"
      ],
      "metadata": {
        "id": "jENpR26ZyuS8",
        "colab": {
          "base_uri": "https://localhost:8080/"
        },
        "outputId": "211e711e-25b0-4384-f7ec-2fd75065f964"
      },
      "execution_count": 8,
      "outputs": [
        {
          "output_type": "stream",
          "name": "stdout",
          "text": [
            "\n",
            "=========================================================================\n",
            "CONFIGURACIÓN DE HIPERPARÁMETROS BASADA EN IMANI & ARABNIA (2023)\n",
            "=========================================================================\n",
            "Paper: LightGBM alcanzó ROC AUC = 91%\n",
            "Optimizando 12 hiperparámetros críticos identificados en el paper\n",
            "=========================================================================\n",
            "\n",
            "Hiperparámetros a optimizar:\n",
            "  1. num_iterations     [100, 2000]      - Número de árboles\n",
            "  2. learning_rate      [0.01, 0.3]      - Tasa de aprendizaje\n",
            "  3. num_leaves         [31, 2048]       - Hojas por árbol (paper: 1169)\n",
            "  4. min_data_in_leaf   [1, 8000]        - Mínimo de datos por hoja\n",
            "  5. feature_fraction   [0.4, 1.0]       - % features por árbol (paper: 0.87)\n",
            "  6. bagging_fraction   [0.4, 1.0]       - % datos por árbol (paper: 0.63)\n",
            "  7. bagging_freq       [1, 10]          - Frecuencia bagging (paper: 7)\n",
            "  8. max_depth          [3, 15]          - Profundidad máxima (paper: 10)\n",
            "  9. lambda_l1          [1e-8, 10]       - Regularización L1 (paper: 2.7e-7)\n",
            " 10. lambda_l2          [1e-8, 10]       - Regularización L2 (paper: 7.2e-8)\n",
            " 11. min_child_samples  [5, 100]         - Min samples en nodo hijo (paper: 8)\n",
            " 12. min_gain_to_split  [0, 1]           - Ganancia mínima para split\n",
            "\n",
            "Iteraciones de Optimización Bayesiana: 50 \n",
            "Tiempo estimado: ~ 2.1 horas\n",
            "Con 50 iteraciones tendrás un buen balance entre calidad y tiempo.\n",
            "\n"
          ]
        }
      ]
    },
    {
      "cell_type": "code",
      "source": [
        "PARAM$hyperparametertuning$hs <- makeParamSet(\n",
        "\n",
        "  # === PARÁMETROS BÁSICOS (originales del profesor) ===\n",
        "  makeIntegerParam(\"num_iterations\", lower= 100L, upper= 2000L),\n",
        "  makeNumericParam(\"learning_rate\", lower= 0.01, upper= 0.3),\n",
        "  makeIntegerParam(\"num_leaves\", lower= 31L, upper= 2048L),\n",
        "  makeIntegerParam(\"min_data_in_leaf\", lower= 1L, upper= 2000L),\n",
        "\n",
        "  # === PARÁMETROS DE MUESTREO (críticos según paper) ===\n",
        "  makeNumericParam(\"feature_fraction\", lower= 0.4, upper= 1.0),\n",
        "  makeNumericParam(\"bagging_fraction\", lower= 0.4, upper= 1.0),\n",
        "  makeIntegerParam(\"bagging_freq\", lower= 1L, upper= 10L),\n",
        "\n",
        "  # === ESTRUCTURA DEL ÁRBOL ===\n",
        "  makeIntegerParam(\"max_depth\", lower= 3L, upper= 15L),\n",
        "\n",
        "  # === REGULARIZACIÓN (MUY IMPORTANTE para evitar overfitting) ===\n",
        "  makeNumericParam(\"lambda_l1\", lower= 1e-8, upper= 5.0),\n",
        "  makeNumericParam(\"lambda_l2\", lower= 1e-8, upper= 5.0),\n",
        "\n",
        "  # === OTROS PARÁMETROS IMPORTANTES ===\n",
        "  makeIntegerParam(\"min_child_samples\", lower= 5L, upper= 100L),\n",
        "  makeNumericParam(\"min_gain_to_split\", lower= 0.0, upper= 0.5)\n",
        ")"
      ],
      "metadata": {
        "id": "AXEUh1OgTsy5"
      },
      "execution_count": 9,
      "outputs": []
    },
    {
      "cell_type": "markdown",
      "source": [
        "A mayor cantidad de hiperparámetros, se debe aumentar las iteraciones de la Bayesian Optimization\n",
        "<br> 30 es un valor muy tacaño, pero corre rápido\n",
        "<br> deberia partir de 50, alcanzando los 100 si se dispone de tiempo"
      ],
      "metadata": {
        "id": "-_RPFUb3zMoW"
      }
    },
    {
      "cell_type": "markdown",
      "source": [
        "### 2.2.4  Preprocesamiento"
      ],
      "metadata": {
        "id": "4RWZXL1VZjMI"
      }
    },
    {
      "cell_type": "code",
      "source": [
        "# carpeta de trabajo\n",
        "\n",
        "setwd(\"/content/buckets/b1/exp\")\n",
        "experimento_folder <- paste0(\"HT\", PARAM$experimento)\n",
        "dir.create(experimento_folder, showWarnings=FALSE)\n",
        "setwd( paste0(\"/content/buckets/b1/exp/\", experimento_folder ))"
      ],
      "metadata": {
        "id": "j3toG9-lZm4K"
      },
      "execution_count": 10,
      "outputs": []
    },
    {
      "cell_type": "code",
      "source": [
        "# lectura del dataset\n",
        "\n",
        "dataset <- fread(\"/content/datasets/dataset_pequeno.csv\")"
      ],
      "metadata": {
        "id": "FM3lxKoLZ643"
      },
      "execution_count": 11,
      "outputs": []
    },
    {
      "cell_type": "code",
      "source": [
        "dataset_train <- dataset[foto_mes %in% c(202107)]"
      ],
      "metadata": {
        "id": "OsJ-91UeZ-I_"
      },
      "execution_count": 12,
      "outputs": []
    },
    {
      "cell_type": "code",
      "source": [
        "# paso la clase a binaria que tome valores {0,1}  enteros\n",
        "#  BAJA+1 y BAJA+2  son  1,   CONTINUA es 0\n",
        "\n",
        "dataset_train[,\n",
        "  clase01 := ifelse(clase_ternaria %in% c(\"BAJA+2\",\"BAJA+1\"), 1L, 0L)\n",
        "]"
      ],
      "metadata": {
        "id": "vrWE7BE0aB2J"
      },
      "execution_count": 13,
      "outputs": []
    },
    {
      "cell_type": "code",
      "source": [
        "# defino los datos que forma parte del training\n",
        "# aqui se hace el undersampling de los CONTINUA\n",
        "# notar que para esto utilizo la SEGUNDA semilla\n",
        "\n",
        "set.seed(PARAM$semilla_primigenia, kind = \"L'Ecuyer-CMRG\")\n",
        "dataset_train[, azar := runif(nrow(dataset_train))]\n",
        "dataset_train[, training := 0L]\n",
        "\n",
        "dataset_train[\n",
        "  foto_mes %in% c(202107) &\n",
        "    (azar <= PARAM$trainingstrategy$undersampling | clase_ternaria %in% c(\"BAJA+1\", \"BAJA+2\")),\n",
        "  training := 1L\n",
        "]"
      ],
      "metadata": {
        "id": "jP7YlQBnaW6W"
      },
      "execution_count": 14,
      "outputs": []
    },
    {
      "cell_type": "code",
      "source": [
        "# los campos que se van a utilizar\n",
        "\n",
        "campos_buenos <- setdiff(\n",
        "  colnames(dataset_train),\n",
        "  c(\"clase_ternaria\", \"clase01\", \"azar\", \"training\")\n",
        ")"
      ],
      "metadata": {
        "id": "xElu4s5W4rX7"
      },
      "execution_count": 15,
      "outputs": []
    },
    {
      "cell_type": "code",
      "source": [
        "# dejo los datos en el formato que necesita LightGBM\n",
        "\n",
        "dtrain <- lgb.Dataset(\n",
        "  data= data.matrix(dataset_train[training == 1L, campos_buenos, with= FALSE]),\n",
        "  label= dataset_train[training == 1L, clase01],\n",
        "  free_raw_data= FALSE\n",
        ")\n",
        "\n",
        "nrow(dtrain)\n",
        "ncol(dtrain)"
      ],
      "metadata": {
        "id": "PppMHcGYaaol",
        "colab": {
          "base_uri": "https://localhost:8080/",
          "height": 52
        },
        "outputId": "3cb20035-8f2e-4268-dd93-25347ab378ea"
      },
      "execution_count": 16,
      "outputs": [
        {
          "output_type": "display_data",
          "data": {
            "text/html": [
              "83559"
            ],
            "text/markdown": "83559",
            "text/latex": "83559",
            "text/plain": [
              "[1] 83559"
            ]
          },
          "metadata": {}
        },
        {
          "output_type": "display_data",
          "data": {
            "text/html": [
              "154"
            ],
            "text/markdown": "154",
            "text/latex": "154",
            "text/plain": [
              "[1] 154"
            ]
          },
          "metadata": {}
        }
      ]
    },
    {
      "cell_type": "markdown",
      "source": [
        "2.2.5 Configuracion Bayesian Optimization"
      ],
      "metadata": {
        "id": "Ta-EkOu3cphF"
      }
    },
    {
      "cell_type": "code",
      "source": [
        "# En el argumento x llegan los parmaetros de la bayesiana\n",
        "#  devuelve la AUC en cross validation del modelo entrenado\n",
        "\n",
        "EstimarGanancia_AUC_lightgbm <- function(x) {\n",
        "\n",
        "  # x pisa (o agrega) a param_fijos\n",
        "  param_completo <- modifyList(PARAM$lgbm$param_fijos, x)\n",
        "\n",
        "  # entreno LightGBM\n",
        "  modelocv <- lgb.cv(\n",
        "    data= dtrain,\n",
        "    nfold= PARAM$hyperparametertuning$xval_folds,\n",
        "    stratified= TRUE,\n",
        "    param= param_completo\n",
        "  )\n",
        "\n",
        "  # obtengo la ganancia\n",
        "  AUC <- modelocv$best_score\n",
        "\n",
        "  # hago espacio en la memoria\n",
        "  rm(modelocv)\n",
        "  gc(full= TRUE, verbose= FALSE)\n",
        "\n",
        "  message(format(Sys.time(), \"%a %b %d %X %Y\"), \" AUC \", AUC)\n",
        "\n",
        "  return(AUC)\n",
        "}"
      ],
      "metadata": {
        "id": "cjgfurjdfiXb"
      },
      "execution_count": 17,
      "outputs": []
    },
    {
      "cell_type": "code",
      "source": [
        "# Aqui comienza la configuracion de la Bayesian Optimization\n",
        "# en este archivo quedan la evolucion binaria de la BO\n",
        "kbayesiana <- \"bayesiana.RDATA\"\n",
        "\n",
        "funcion_optimizar <- EstimarGanancia_AUC_lightgbm # la funcion que voy a maximizar\n",
        "\n",
        "configureMlr(show.learner.output= FALSE)\n",
        "\n",
        "# configuro la busqueda bayesiana,  los hiperparametros que se van a optimizar\n",
        "# por favor, no desesperarse por lo complejo\n",
        "\n",
        "obj.fun <- makeSingleObjectiveFunction(\n",
        "  fn= funcion_optimizar, # la funcion que voy a maximizar\n",
        "  minimize= FALSE, # estoy Maximizando la ganancia\n",
        "  noisy= TRUE,\n",
        "  par.set= PARAM$hyperparametertuning$hs, # defined at the beginning of the program\n",
        "  has.simple.signature= FALSE # paso los parametros en una lista\n",
        ")\n",
        "\n",
        "# cada 600 segundos guardo el resultado intermedio\n",
        "ctrl <- makeMBOControl(\n",
        "  save.file.path= kbayesiana\n",
        ") # se graba cada 600 segundos\n",
        "\n",
        "# indico la cantidad de iteraciones que va a tener la Bayesian Optimization\n",
        "ctrl <- setMBOControlTermination(\n",
        "  ctrl,\n",
        "  iters= PARAM$hyperparametertuning$iteraciones\n",
        ") # cantidad de iteraciones\n",
        "\n",
        "# defino el método estandar para la creacion de los puntos iniciales,\n",
        "# los \"No Inteligentes\"\n",
        "ctrl <- setMBOControlInfill(ctrl, crit= makeMBOInfillCritEI())\n",
        "\n",
        "# establezco la funcion que busca el maximo\n",
        "surr.km <- makeLearner(\n",
        "  \"regr.km\",\n",
        "  predict.type= \"se\",\n",
        "  covtype= \"matern3_2\",\n",
        "  control= list(trace= TRUE)\n",
        ")"
      ],
      "metadata": {
        "id": "WLi_o1hocvN-"
      },
      "execution_count": 18,
      "outputs": []
    },
    {
      "cell_type": "markdown",
      "source": [
        "2.2.6 Corrida Bayesian Optimization"
      ],
      "metadata": {
        "id": "_uUeVo5pc4zc"
      }
    },
    {
      "cell_type": "code",
      "source": [
        "# inicio la optimizacion bayesiana, retomando si ya existe\n",
        "# es la celda mas lenta de todo el notebook\n",
        "\n",
        "if (!file.exists(kbayesiana)) {\n",
        "  bayesiana_salida <- mbo(obj.fun, learner= surr.km, control= ctrl)\n",
        "} else {\n",
        "  bayesiana_salida <- mboContinue(kbayesiana) # retomo en caso que ya exista\n",
        "}"
      ],
      "metadata": {
        "id": "RcABNaKGciaz",
        "colab": {
          "base_uri": "https://localhost:8080/"
        },
        "outputId": "e06e2133-c0a4-4f60-d0e8-dcf84f6e9047"
      },
      "execution_count": 19,
      "outputs": [
        {
          "output_type": "stream",
          "name": "stderr",
          "text": [
            "Computing y column(s) for design. Not provided.\n",
            "\n",
            "Sat Nov 01 12:14:28 PM 2025 AUC 0.923304394497019\n",
            "\n",
            "Sat Nov 01 12:16:02 PM 2025 AUC 0.923383595624707\n",
            "\n",
            "Sat Nov 01 12:16:48 PM 2025 AUC 0.925994863743703\n",
            "\n",
            "Sat Nov 01 12:19:32 PM 2025 AUC 0.926141175794824\n",
            "\n",
            "Sat Nov 01 12:21:16 PM 2025 AUC 0.924234529650106\n",
            "\n",
            "Sat Nov 01 12:22:05 PM 2025 AUC 0.928247896437248\n",
            "\n",
            "Sat Nov 01 12:26:30 PM 2025 AUC 0.928539411075396\n",
            "\n",
            "Sat Nov 01 12:27:46 PM 2025 AUC 0.923971097977098\n",
            "\n",
            "Sat Nov 01 12:31:03 PM 2025 AUC 0.927352513845621\n",
            "\n",
            "Sat Nov 01 12:32:30 PM 2025 AUC 0.925061539789959\n",
            "\n",
            "Sat Nov 01 12:34:19 PM 2025 AUC 0.923462559131287\n",
            "\n",
            "Sat Nov 01 12:37:07 PM 2025 AUC 0.927462520345747\n",
            "\n",
            "Sat Nov 01 12:39:32 PM 2025 AUC 0.924636497912573\n",
            "\n",
            "Sat Nov 01 12:41:40 PM 2025 AUC 0.923724427086063\n",
            "\n",
            "Sat Nov 01 12:44:59 PM 2025 AUC 0.922161827512095\n",
            "\n",
            "Sat Nov 01 12:49:09 PM 2025 AUC 0.927098932985993\n",
            "\n",
            "Sat Nov 01 12:50:24 PM 2025 AUC 0.925996899193924\n",
            "\n",
            "Sat Nov 01 12:53:55 PM 2025 AUC 0.924284830890043\n",
            "\n",
            "Sat Nov 01 12:55:39 PM 2025 AUC 0.927397212092362\n",
            "\n",
            "Sat Nov 01 12:59:14 PM 2025 AUC 0.926591977479044\n",
            "\n",
            "Sat Nov 01 01:02:51 PM 2025 AUC 0.925750304443324\n",
            "\n",
            "Sat Nov 01 01:04:34 PM 2025 AUC 0.927839566522263\n",
            "\n",
            "Sat Nov 01 01:05:36 PM 2025 AUC 0.923879953585615\n",
            "\n",
            "Sat Nov 01 01:11:33 PM 2025 AUC 0.926963789516993\n",
            "\n",
            "Sat Nov 01 01:12:01 PM 2025 AUC 0.916586957865969\n",
            "\n",
            "Sat Nov 01 01:15:28 PM 2025 AUC 0.922790552961273\n",
            "\n",
            "Sat Nov 01 01:18:29 PM 2025 AUC 0.926854538419771\n",
            "\n",
            "Sat Nov 01 01:20:05 PM 2025 AUC 0.928771585379416\n",
            "\n",
            "Sat Nov 01 01:22:54 PM 2025 AUC 0.929296640278969\n",
            "\n",
            "Sat Nov 01 01:24:04 PM 2025 AUC 0.927305252930457\n",
            "\n",
            "Sat Nov 01 01:26:32 PM 2025 AUC 0.925865220024217\n",
            "\n",
            "Sat Nov 01 01:29:12 PM 2025 AUC 0.925745678147255\n",
            "\n",
            "Sat Nov 01 01:29:58 PM 2025 AUC 0.924594774626654\n",
            "\n",
            "Sat Nov 01 01:33:11 PM 2025 AUC 0.922061799148385\n",
            "\n",
            "Sat Nov 01 01:36:53 PM 2025 AUC 0.924879589517489\n",
            "\n",
            "Sat Nov 01 01:38:02 PM 2025 AUC 0.926328737451223\n",
            "\n",
            "Sat Nov 01 01:40:26 PM 2025 AUC 0.927343592929164\n",
            "\n",
            "Sat Nov 01 01:42:29 PM 2025 AUC 0.923826670668674\n",
            "\n",
            "Sat Nov 01 01:47:18 PM 2025 AUC 0.928554793267287\n",
            "\n",
            "Sat Nov 01 01:47:38 PM 2025 AUC 0.926730268251706\n",
            "\n",
            "Sat Nov 01 01:50:21 PM 2025 AUC 0.926572458011969\n",
            "\n",
            "Sat Nov 01 01:59:14 PM 2025 AUC 0.930434862365179\n",
            "\n",
            "Sat Nov 01 02:02:34 PM 2025 AUC 0.92621429934153\n",
            "\n",
            "Sat Nov 01 02:05:50 PM 2025 AUC 0.924145975347866\n",
            "\n",
            "Sat Nov 01 02:06:08 PM 2025 AUC 0.924597155199336\n",
            "\n",
            "Sat Nov 01 02:10:15 PM 2025 AUC 0.922642304362048\n",
            "\n",
            "Sat Nov 01 02:11:53 PM 2025 AUC 0.928031932527126\n",
            "\n",
            "Sat Nov 01 02:13:12 PM 2025 AUC 0.922192545113466\n",
            "\n",
            "[mbo] 0: num_iterations=878; learning_rate=0.224; num_leaves=1009; min_data_in_leaf=989; feature_fraction=0.822; bagging_fraction=0.519; bagging_freq=9; max_depth=8; lambda_l1=1.26; lambda_l2=1.72; min_child_samples=66; min_gain_to_split=0.388 : y = 0.923 : 95.4 secs : initdesign\n",
            "\n",
            "[mbo] 0: num_iterations=1273; learning_rate=0.178; num_leaves=1383; min_data_in_leaf=62; feature_fraction=0.805; bagging_fraction=0.712; bagging_freq=7; max_depth=12; lambda_l1=3.08; lambda_l2=2.72; min_child_samples=43; min_gain_to_split=0.226 : y = 0.923 : 93.7 secs : initdesign\n",
            "\n",
            "[mbo] 0: num_iterations=296; learning_rate=0.194; num_leaves=766; min_data_in_leaf=1072; feature_fraction=0.746; bagging_fraction=0.728; bagging_freq=5; max_depth=6; lambda_l1=2.49; lambda_l2=3.18; min_child_samples=63; min_gain_to_split=0.195 : y = 0.926 : 45.9 secs : initdesign\n",
            "\n",
            "[mbo] 0: num_iterations=1064; learning_rate=0.13; num_leaves=338; min_data_in_leaf=1101; feature_fraction=0.772; bagging_fraction=0.873; bagging_freq=6; max_depth=14; lambda_l1=4.23; lambda_l2=2.24; min_child_samples=57; min_gain_to_split=0.0475 : y = 0.926 : 164.4 secs : initdesign\n",
            "\n",
            "[mbo] 0: num_iterations=774; learning_rate=0.243; num_leaves=1457; min_data_in_leaf=1250; feature_fraction=0.721; bagging_fraction=0.788; bagging_freq=6; max_depth=10; lambda_l1=1.91; lambda_l2=0.929; min_child_samples=31; min_gain_to_split=0.164 : y = 0.924 : 103.4 secs : initdesign\n",
            "\n",
            "[mbo] 0: num_iterations=222; learning_rate=0.0711; num_leaves=536; min_data_in_leaf=231; feature_fraction=0.781; bagging_fraction=0.776; bagging_freq=5; max_depth=9; lambda_l1=1.4; lambda_l2=2.88; min_child_samples=40; min_gain_to_split=0.124 : y = 0.928 : 49.4 secs : initdesign\n",
            "\n",
            "[mbo] 0: num_iterations=1553; learning_rate=0.0176; num_leaves=478; min_data_in_leaf=676; feature_fraction=0.559; bagging_fraction=0.53; bagging_freq=7; max_depth=11; lambda_l1=4.32; lambda_l2=1.06; min_child_samples=36; min_gain_to_split=0.337 : y = 0.929 : 264.7 secs : initdesign\n",
            "\n",
            "[mbo] 0: num_iterations=518; learning_rate=0.12; num_leaves=1806; min_data_in_leaf=1398; feature_fraction=0.794; bagging_fraction=0.59; bagging_freq=7; max_depth=14; lambda_l1=1.81; lambda_l2=2.4; min_child_samples=67; min_gain_to_split=0.0624 : y = 0.924 : 75.6 secs : initdesign\n",
            "\n",
            "[mbo] 0: num_iterations=1631; learning_rate=0.0525; num_leaves=1473; min_data_in_leaf=900; feature_fraction=0.7; bagging_fraction=0.621; bagging_freq=7; max_depth=5; lambda_l1=0.755; lambda_l2=1.37; min_child_samples=24; min_gain_to_split=0.463 : y = 0.927 : 197.2 secs : initdesign\n",
            "\n",
            "[mbo] 0: num_iterations=645; learning_rate=0.182; num_leaves=678; min_data_in_leaf=580; feature_fraction=0.637; bagging_fraction=0.682; bagging_freq=8; max_depth=5; lambda_l1=2.11; lambda_l2=1.62; min_child_samples=84; min_gain_to_split=0.135 : y = 0.925 : 87.5 secs : initdesign\n",
            "\n",
            "[mbo] 0: num_iterations=923; learning_rate=0.238; num_leaves=705; min_data_in_leaf=1438; feature_fraction=0.665; bagging_fraction=0.506; bagging_freq=3; max_depth=4; lambda_l1=0.942; lambda_l2=3.41; min_child_samples=79; min_gain_to_split=0.265 : y = 0.923 : 108.8 secs : initdesign\n",
            "\n",
            "[mbo] 0: num_iterations=987; learning_rate=0.0109; num_leaves=1209; min_data_in_leaf=1813; feature_fraction=0.907; bagging_fraction=0.839; bagging_freq=4; max_depth=7; lambda_l1=3.87; lambda_l2=4.48; min_child_samples=91; min_gain_to_split=0.259 : y = 0.927 : 167.7 secs : initdesign\n",
            "\n",
            "[mbo] 0: num_iterations=691; learning_rate=0.25; num_leaves=1550; min_data_in_leaf=421; feature_fraction=0.42; bagging_fraction=0.691; bagging_freq=3; max_depth=9; lambda_l1=3.58; lambda_l2=3.63; min_child_samples=41; min_gain_to_split=0.186 : y = 0.925 : 145.5 secs : initdesign\n",
            "\n",
            "[mbo] 0: num_iterations=723; learning_rate=0.165; num_leaves=583; min_data_in_leaf=1016; feature_fraction=0.54; bagging_fraction=0.562; bagging_freq=9; max_depth=12; lambda_l1=3.42; lambda_l2=1.32; min_child_samples=7; min_gain_to_split=0.239 : y = 0.924 : 127.9 secs : initdesign\n",
            "\n",
            "[mbo] 0: num_iterations=1839; learning_rate=0.275; num_leaves=1627; min_data_in_leaf=4; feature_fraction=0.602; bagging_fraction=0.909; bagging_freq=4; max_depth=7; lambda_l1=1.55; lambda_l2=2.17; min_child_samples=28; min_gain_to_split=0.425 : y = 0.922 : 198.4 secs : initdesign\n",
            "\n",
            "[mbo] 0: num_iterations=1435; learning_rate=0.11; num_leaves=1942; min_data_in_leaf=539; feature_fraction=0.599; bagging_fraction=0.569; bagging_freq=3; max_depth=10; lambda_l1=1.14; lambda_l2=4.7; min_child_samples=29; min_gain_to_split=0.413 : y = 0.927 : 250.5 secs : initdesign\n",
            "\n",
            "[mbo] 0: num_iterations=353; learning_rate=0.186; num_leaves=1651; min_data_in_leaf=875; feature_fraction=0.567; bagging_fraction=0.916; bagging_freq=1; max_depth=8; lambda_l1=0.427; lambda_l2=0.104; min_child_samples=78; min_gain_to_split=0.276 : y = 0.926 : 74.7 secs : initdesign\n",
            "\n",
            "[mbo] 0: num_iterations=1406; learning_rate=0.2; num_leaves=123; min_data_in_leaf=1540; feature_fraction=0.621; bagging_fraction=0.636; bagging_freq=4; max_depth=15; lambda_l1=0.9; lambda_l2=2.96; min_child_samples=18; min_gain_to_split=0.287 : y = 0.924 : 210.8 secs : initdesign\n",
            "\n",
            "[mbo] 0: num_iterations=1108; learning_rate=0.231; num_leaves=880; min_data_in_leaf=370; feature_fraction=0.876; bagging_fraction=0.964; bagging_freq=5; max_depth=4; lambda_l1=3.44; lambda_l2=4.45; min_child_samples=74; min_gain_to_split=0.0763 : y = 0.927 : 104.4 secs : initdesign\n",
            "\n",
            "[mbo] 0: num_iterations=1601; learning_rate=0.0822; num_leaves=930; min_data_in_leaf=296; feature_fraction=0.828; bagging_fraction=0.487; bagging_freq=6; max_depth=11; lambda_l1=2.22; lambda_l2=2.47; min_child_samples=56; min_gain_to_split=0.114 : y = 0.927 : 214.8 secs : initdesign\n",
            "\n",
            "[mbo] 0: num_iterations=1301; learning_rate=0.0622; num_leaves=515; min_data_in_leaf=1625; feature_fraction=0.5; bagging_fraction=0.606; bagging_freq=10; max_depth=5; lambda_l1=4.79; lambda_l2=0.0804; min_child_samples=49; min_gain_to_split=0.319 : y = 0.926 : 216.8 secs : initdesign\n",
            "\n",
            "[mbo] 0: num_iterations=1015; learning_rate=0.0964; num_leaves=1504; min_data_in_leaf=174; feature_fraction=0.64; bagging_fraction=0.937; bagging_freq=7; max_depth=14; lambda_l1=2.56; lambda_l2=1.17; min_child_samples=46; min_gain_to_split=0.328 : y = 0.928 : 102.9 secs : initdesign\n",
            "\n",
            "[mbo] 0: num_iterations=437; learning_rate=0.156; num_leaves=159; min_data_in_leaf=1317; feature_fraction=0.513; bagging_fraction=0.428; bagging_freq=4; max_depth=7; lambda_l1=4.62; lambda_l2=3.79; min_child_samples=14; min_gain_to_split=0.441 : y = 0.924 : 62.0 secs : initdesign\n",
            "\n",
            "[mbo] 0: num_iterations=1964; learning_rate=0.27; num_leaves=240; min_data_in_leaf=617; feature_fraction=0.445; bagging_fraction=0.886; bagging_freq=1; max_depth=6; lambda_l1=1.67; lambda_l2=3.95; min_child_samples=86; min_gain_to_split=0.397 : y = 0.927 : 357.3 secs : initdesign\n",
            "\n",
            "[mbo] 0: num_iterations=159; learning_rate=0.285; num_leaves=1260; min_data_in_leaf=390; feature_fraction=0.535; bagging_fraction=0.421; bagging_freq=8; max_depth=11; lambda_l1=1.16; lambda_l2=0.762; min_child_samples=60; min_gain_to_split=0.242 : y = 0.917 : 28.4 secs : initdesign\n",
            "\n",
            "[mbo] 0: num_iterations=1856; learning_rate=0.254; num_leaves=1305; min_data_in_leaf=781; feature_fraction=0.689; bagging_fraction=0.855; bagging_freq=2; max_depth=13; lambda_l1=0.692; lambda_l2=0.707; min_child_samples=72; min_gain_to_split=0.0937 : y = 0.923 : 206.3 secs : initdesign\n",
            "\n",
            "[mbo] 0: num_iterations=1473; learning_rate=0.0937; num_leaves=1360; min_data_in_leaf=1763; feature_fraction=0.737; bagging_fraction=0.827; bagging_freq=8; max_depth=6; lambda_l1=0.25; lambda_l2=3.51; min_child_samples=69; min_gain_to_split=0.471 : y = 0.927 : 181.2 secs : initdesign\n",
            "\n",
            "[mbo] 0: num_iterations=611; learning_rate=0.104; num_leaves=1699; min_data_in_leaf=261; feature_fraction=0.92; bagging_fraction=0.76; bagging_freq=4; max_depth=5; lambda_l1=1.61; lambda_l2=0.554; min_child_samples=51; min_gain_to_split=0.138 : y = 0.929 : 96.5 secs : initdesign\n",
            "\n",
            "[mbo] 0: num_iterations=551; learning_rate=0.0248; num_leaves=1138; min_data_in_leaf=1287; feature_fraction=0.585; bagging_fraction=0.989; bagging_freq=2; max_depth=12; lambda_l1=4.04; lambda_l2=4.67; min_child_samples=20; min_gain_to_split=0.303 : y = 0.929 : 168.5 secs : initdesign\n",
            "\n",
            "[mbo] 0: num_iterations=406; learning_rate=0.134; num_leaves=291; min_data_in_leaf=1338; feature_fraction=0.939; bagging_fraction=0.808; bagging_freq=8; max_depth=15; lambda_l1=3.13; lambda_l2=2.05; min_child_samples=98; min_gain_to_split=0.167 : y = 0.927 : 70.6 secs : initdesign\n",
            "\n",
            "[mbo] 0: num_iterations=831; learning_rate=0.115; num_leaves=1731; min_data_in_leaf=647; feature_fraction=0.462; bagging_fraction=0.585; bagging_freq=10; max_depth=6; lambda_l1=0.111; lambda_l2=3.73; min_child_samples=94; min_gain_to_split=0.0196 : y = 0.926 : 147.2 secs : initdesign\n",
            "\n",
            "[mbo] 0: num_iterations=1160; learning_rate=0.214; num_leaves=1184; min_data_in_leaf=1904; feature_fraction=0.661; bagging_fraction=0.899; bagging_freq=4; max_depth=3; lambda_l1=4.12; lambda_l2=0.255; min_child_samples=100; min_gain_to_split=0.0641 : y = 0.926 : 160.7 secs : initdesign\n",
            "\n",
            "[mbo] 0: num_iterations=463; learning_rate=0.168; num_leaves=864; min_data_in_leaf=1687; feature_fraction=0.932; bagging_fraction=0.772; bagging_freq=8; max_depth=7; lambda_l1=4.5; lambda_l2=0.974; min_child_samples=34; min_gain_to_split=0.488 : y = 0.925 : 45.3 secs : initdesign\n",
            "\n",
            "[mbo] 0: num_iterations=1353; learning_rate=0.292; num_leaves=1104; min_data_in_leaf=1583; feature_fraction=0.477; bagging_fraction=0.452; bagging_freq=6; max_depth=13; lambda_l1=2.76; lambda_l2=4.93; min_child_samples=82; min_gain_to_split=0.201 : y = 0.922 : 193.0 secs : initdesign\n",
            "\n",
            "[mbo] 0: num_iterations=1940; learning_rate=0.0683; num_leaves=1992; min_data_in_leaf=1481; feature_fraction=0.967; bagging_fraction=0.474; bagging_freq=6; max_depth=15; lambda_l1=2.04; lambda_l2=2.53; min_child_samples=88; min_gain_to_split=0.297 : y = 0.925 : 222.6 secs : initdesign\n",
            "\n",
            "[mbo] 0: num_iterations=325; learning_rate=0.085; num_leaves=2025; min_data_in_leaf=1166; feature_fraction=0.506; bagging_fraction=0.543; bagging_freq=2; max_depth=10; lambda_l1=2.84; lambda_l2=1.93; min_child_samples=61; min_gain_to_split=0.369 : y = 0.926 : 68.4 secs : initdesign\n",
            "\n",
            "[mbo] 0: num_iterations=1747; learning_rate=0.141; num_leaves=1907; min_data_in_leaf=1844; feature_fraction=0.869; bagging_fraction=0.671; bagging_freq=1; max_depth=3; lambda_l1=4.47; lambda_l2=0.397; min_child_samples=26; min_gain_to_split=0.437 : y = 0.927 : 144.6 secs : initdesign\n",
            "\n",
            "[mbo] 0: num_iterations=1770; learning_rate=0.218; num_leaves=87; min_data_in_leaf=1984; feature_fraction=0.977; bagging_fraction=0.715; bagging_freq=10; max_depth=13; lambda_l1=3.84; lambda_l2=2.67; min_child_samples=5; min_gain_to_split=0.214 : y = 0.924 : 122.8 secs : initdesign\n",
            "\n",
            "[mbo] 0: num_iterations=1522; learning_rate=0.0506; num_leaves=1763; min_data_in_leaf=1749; feature_fraction=0.859; bagging_fraction=0.979; bagging_freq=9; max_depth=8; lambda_l1=3.69; lambda_l2=4.12; min_child_samples=15; min_gain_to_split=0.00294 : y = 0.929 : 289.0 secs : initdesign\n",
            "\n",
            "[mbo] 0: num_iterations=186; learning_rate=0.28; num_leaves=69; min_data_in_leaf=100; feature_fraction=0.754; bagging_fraction=0.739; bagging_freq=5; max_depth=3; lambda_l1=0.536; lambda_l2=4.36; min_child_samples=21; min_gain_to_split=0.153 : y = 0.927 : 19.9 secs : initdesign\n",
            "\n",
            "[mbo] 0: num_iterations=1191; learning_rate=0.046; num_leaves=411; min_data_in_leaf=478; feature_fraction=0.896; bagging_fraction=0.449; bagging_freq=9; max_depth=12; lambda_l1=0.0215; lambda_l2=4.18; min_child_samples=48; min_gain_to_split=0.455 : y = 0.927 : 163.1 secs : initdesign\n",
            "\n",
            "[mbo] 0: num_iterations=1662; learning_rate=0.039; num_leaves=968; min_data_in_leaf=141; feature_fraction=0.467; bagging_fraction=0.955; bagging_freq=2; max_depth=9; lambda_l1=2.37; lambda_l2=3.09; min_child_samples=38; min_gain_to_split=0.0407 : y = 0.93 : 532.7 secs : initdesign\n",
            "\n",
            "[mbo] 0: num_iterations=1698; learning_rate=0.145; num_leaves=645; min_data_in_leaf=808; feature_fraction=0.838; bagging_fraction=0.661; bagging_freq=2; max_depth=9; lambda_l1=4.93; lambda_l2=4.81; min_child_samples=95; min_gain_to_split=0.493 : y = 0.926 : 200.3 secs : initdesign\n",
            "\n",
            "[mbo] 0: num_iterations=1210; learning_rate=0.295; num_leaves=273; min_data_in_leaf=712; feature_fraction=0.426; bagging_fraction=0.949; bagging_freq=10; max_depth=10; lambda_l1=2.61; lambda_l2=1.82; min_child_samples=53; min_gain_to_split=0.377 : y = 0.924 : 195.6 secs : initdesign\n",
            "\n",
            "[mbo] 0: num_iterations=129; learning_rate=0.209; num_leaves=1072; min_data_in_leaf=1944; feature_fraction=0.684; bagging_fraction=0.817; bagging_freq=1; max_depth=13; lambda_l1=4.89; lambda_l2=3.98; min_child_samples=89; min_gain_to_split=0.0235 : y = 0.925 : 17.9 secs : initdesign\n",
            "\n",
            "[mbo] 0: num_iterations=1887; learning_rate=0.15; num_leaves=409; min_data_in_leaf=1632; feature_fraction=0.405; bagging_fraction=0.401; bagging_freq=3; max_depth=4; lambda_l1=0.338; lambda_l2=3.32; min_child_samples=10; min_gain_to_split=0.354 : y = 0.923 : 247.8 secs : initdesign\n",
            "\n",
            "[mbo] 0: num_iterations=750; learning_rate=0.0333; num_leaves=804; min_data_in_leaf=954; feature_fraction=0.99; bagging_fraction=0.646; bagging_freq=1; max_depth=15; lambda_l1=3.24; lambda_l2=0.436; min_child_samples=12; min_gain_to_split=0.344 : y = 0.928 : 98.0 secs : initdesign\n",
            "\n",
            "[mbo] 0: num_iterations=939; learning_rate=0.258; num_leaves=1845; min_data_in_leaf=1169; feature_fraction=0.955; bagging_fraction=0.492; bagging_freq=10; max_depth=3; lambda_l1=2.98; lambda_l2=1.53; min_child_samples=75; min_gain_to_split=0.097 : y = 0.922 : 78.3 secs : initdesign\n",
            "\n",
            "Sat Nov 01 02:17:37 PM 2025 AUC 0.93090310498798\n",
            "\n",
            "[mbo] 1: num_iterations=1215; learning_rate=0.0402; num_leaves=1595; min_data_in_leaf=225; feature_fraction=0.498; bagging_fraction=0.943; bagging_freq=1; max_depth=5; lambda_l1=3.05; lambda_l2=3.5; min_child_samples=24; min_gain_to_split=0.159 : y = 0.931 : 264.3 secs : infill_ei\n",
            "\n",
            "Sat Nov 01 02:21:30 PM 2025 AUC 0.931579892013644\n",
            "\n",
            "[mbo] 2: num_iterations=1348; learning_rate=0.0239; num_leaves=1539; min_data_in_leaf=534; feature_fraction=0.601; bagging_fraction=0.967; bagging_freq=1; max_depth=6; lambda_l1=3.22; lambda_l2=2.1; min_child_samples=39; min_gain_to_split=0.181 : y = 0.932 : 231.3 secs : infill_ei\n",
            "\n",
            "Sat Nov 01 02:25:35 PM 2025 AUC 0.930013677080879\n",
            "\n",
            "[mbo] 3: num_iterations=1023; learning_rate=0.0304; num_leaves=1457; min_data_in_leaf=516; feature_fraction=0.771; bagging_fraction=0.998; bagging_freq=2; max_depth=6; lambda_l1=3.78; lambda_l2=2.96; min_child_samples=39; min_gain_to_split=0.0378 : y = 0.93 : 244.0 secs : infill_ei\n",
            "\n",
            "Sat Nov 01 02:29:38 PM 2025 AUC 0.9306395644681\n",
            "\n",
            "[mbo] 4: num_iterations=1686; learning_rate=0.0161; num_leaves=1906; min_data_in_leaf=434; feature_fraction=0.667; bagging_fraction=0.944; bagging_freq=1; max_depth=9; lambda_l1=4.01; lambda_l2=0.932; min_child_samples=18; min_gain_to_split=0.254 : y = 0.931 : 241.7 secs : infill_ei\n",
            "\n",
            "Sat Nov 01 02:35:08 PM 2025 AUC 0.931895972386418\n",
            "\n",
            "[mbo] 5: num_iterations=1564; learning_rate=0.016; num_leaves=1343; min_data_in_leaf=388; feature_fraction=0.424; bagging_fraction=0.916; bagging_freq=1; max_depth=6; lambda_l1=2.5; lambda_l2=0.997; min_child_samples=72; min_gain_to_split=0.235 : y = 0.932 : 328.7 secs : infill_ei\n",
            "\n",
            "Sat Nov 01 02:39:46 PM 2025 AUC 0.931234250096637\n",
            "\n",
            "[mbo] 6: num_iterations=1384; learning_rate=0.015; num_leaves=1142; min_data_in_leaf=512; feature_fraction=0.433; bagging_fraction=0.992; bagging_freq=1; max_depth=5; lambda_l1=1.52; lambda_l2=1.26; min_child_samples=44; min_gain_to_split=0.219 : y = 0.931 : 277.4 secs : infill_ei\n",
            "\n",
            "Sat Nov 01 02:47:26 PM 2025 AUC 0.931049797794124\n",
            "\n",
            "[mbo] 7: num_iterations=1775; learning_rate=0.0168; num_leaves=1476; min_data_in_leaf=473; feature_fraction=0.441; bagging_fraction=0.941; bagging_freq=4; max_depth=6; lambda_l1=3.85; lambda_l2=1.15; min_child_samples=44; min_gain_to_split=0.223 : y = 0.931 : 458.0 secs : infill_ei\n",
            "\n",
            "Sat Nov 01 02:52:50 PM 2025 AUC 0.93016216859486\n",
            "\n",
            "[mbo] 8: num_iterations=1460; learning_rate=0.0225; num_leaves=1588; min_data_in_leaf=402; feature_fraction=0.47; bagging_fraction=0.963; bagging_freq=1; max_depth=8; lambda_l1=1.77; lambda_l2=1.45; min_child_samples=74; min_gain_to_split=0.305 : y = 0.93 : 323.0 secs : infill_ei\n",
            "\n",
            "Sat Nov 01 02:55:50 PM 2025 AUC 0.931107916344548\n",
            "\n",
            "[mbo] 9: num_iterations=1606; learning_rate=0.0149; num_leaves=1049; min_data_in_leaf=364; feature_fraction=0.73; bagging_fraction=0.844; bagging_freq=1; max_depth=5; lambda_l1=2.86; lambda_l2=0.831; min_child_samples=59; min_gain_to_split=0.167 : y = 0.931 : 179.0 secs : infill_ei\n",
            "\n",
            "Sat Nov 01 03:00:23 PM 2025 AUC 0.931200244257374\n",
            "\n",
            "[mbo] 10: num_iterations=1327; learning_rate=0.0165; num_leaves=1287; min_data_in_leaf=462; feature_fraction=0.403; bagging_fraction=0.895; bagging_freq=1; max_depth=6; lambda_l1=3.21; lambda_l2=0.507; min_child_samples=62; min_gain_to_split=0.167 : y = 0.931 : 271.3 secs : infill_ei\n",
            "\n",
            "Sat Nov 01 03:07:26 PM 2025 AUC 0.931904848087104\n",
            "\n",
            "[mbo] 11: num_iterations=1882; learning_rate=0.0107; num_leaves=1106; min_data_in_leaf=424; feature_fraction=0.536; bagging_fraction=0.964; bagging_freq=1; max_depth=7; lambda_l1=2.76; lambda_l2=2.24; min_child_samples=57; min_gain_to_split=0.395 : y = 0.932 : 422.3 secs : infill_ei\n",
            "\n",
            "Sat Nov 01 03:12:52 PM 2025 AUC 0.930693928422251\n",
            "\n",
            "[mbo] 12: num_iterations=1631; learning_rate=0.0227; num_leaves=1184; min_data_in_leaf=673; feature_fraction=0.41; bagging_fraction=0.942; bagging_freq=1; max_depth=6; lambda_l1=2.83; lambda_l2=1.21; min_child_samples=34; min_gain_to_split=0.353 : y = 0.931 : 324.3 secs : infill_ei\n",
            "\n",
            "Sat Nov 01 03:19:29 PM 2025 AUC 0.931212004020312\n",
            "\n",
            "[mbo] 13: num_iterations=1934; learning_rate=0.01; num_leaves=1350; min_data_in_leaf=414; feature_fraction=0.563; bagging_fraction=0.944; bagging_freq=1; max_depth=6; lambda_l1=2.07; lambda_l2=3.52; min_child_samples=47; min_gain_to_split=0.166 : y = 0.931 : 396.6 secs : infill_ei\n",
            "\n",
            "Sat Nov 01 03:24:58 PM 2025 AUC 0.930963779955211\n",
            "\n",
            "[mbo] 14: num_iterations=1531; learning_rate=0.01; num_leaves=857; min_data_in_leaf=319; feature_fraction=0.521; bagging_fraction=0.969; bagging_freq=1; max_depth=5; lambda_l1=3.08; lambda_l2=2.41; min_child_samples=74; min_gain_to_split=0.286 : y = 0.931 : 327.0 secs : infill_ei\n",
            "\n",
            "Sat Nov 01 03:30:43 PM 2025 AUC 0.930721235029235\n",
            "\n",
            "[mbo] 15: num_iterations=1942; learning_rate=0.0102; num_leaves=1055; min_data_in_leaf=412; feature_fraction=0.606; bagging_fraction=0.91; bagging_freq=1; max_depth=11; lambda_l1=4.08; lambda_l2=2.91; min_child_samples=46; min_gain_to_split=0.41 : y = 0.931 : 343.8 secs : infill_ei\n",
            "\n",
            "Sat Nov 01 03:37:51 PM 2025 AUC 0.93146382880903\n",
            "\n",
            "[mbo] 16: num_iterations=1843; learning_rate=0.0124; num_leaves=565; min_data_in_leaf=238; feature_fraction=0.503; bagging_fraction=0.929; bagging_freq=1; max_depth=7; lambda_l1=2.19; lambda_l2=0.943; min_child_samples=63; min_gain_to_split=0.233 : y = 0.931 : 427.0 secs : infill_ei\n",
            "\n",
            "Sat Nov 01 03:42:47 PM 2025 AUC 0.930382621862467\n",
            "\n",
            "[mbo] 17: num_iterations=1575; learning_rate=0.0141; num_leaves=1356; min_data_in_leaf=42; feature_fraction=0.591; bagging_fraction=0.981; bagging_freq=1; max_depth=6; lambda_l1=2.56; lambda_l2=0.184; min_child_samples=51; min_gain_to_split=0.11 : y = 0.93 : 293.6 secs : infill_ei\n",
            "\n",
            "Sat Nov 01 03:48:07 PM 2025 AUC 0.930922974607926\n",
            "\n",
            "[mbo] 18: num_iterations=1844; learning_rate=0.0284; num_leaves=1168; min_data_in_leaf=464; feature_fraction=0.59; bagging_fraction=0.94; bagging_freq=1; max_depth=6; lambda_l1=2.57; lambda_l2=1.12; min_child_samples=57; min_gain_to_split=0.223 : y = 0.931 : 319.6 secs : infill_ei\n",
            "\n",
            "Sat Nov 01 03:53:37 PM 2025 AUC 0.930660002195303\n",
            "\n",
            "[mbo] 19: num_iterations=1800; learning_rate=0.0102; num_leaves=1728; min_data_in_leaf=410; feature_fraction=0.576; bagging_fraction=0.916; bagging_freq=1; max_depth=5; lambda_l1=2.67; lambda_l2=2.23; min_child_samples=16; min_gain_to_split=0.32 : y = 0.931 : 327.9 secs : infill_ei\n",
            "\n",
            "Sat Nov 01 03:59:46 PM 2025 AUC 0.931792510110096\n",
            "\n",
            "[mbo] 20: num_iterations=1652; learning_rate=0.0108; num_leaves=563; min_data_in_leaf=139; feature_fraction=0.433; bagging_fraction=0.762; bagging_freq=1; max_depth=7; lambda_l1=2.45; lambda_l2=2.37; min_child_samples=60; min_gain_to_split=0.226 : y = 0.932 : 367.7 secs : infill_ei\n",
            "\n",
            "Sat Nov 01 04:05:02 PM 2025 AUC 0.93109309197505\n",
            "\n",
            "[mbo] 21: num_iterations=1281; learning_rate=0.0124; num_leaves=1574; min_data_in_leaf=341; feature_fraction=0.596; bagging_fraction=0.853; bagging_freq=3; max_depth=7; lambda_l1=2.49; lambda_l2=2.61; min_child_samples=33; min_gain_to_split=0.173 : y = 0.931 : 315.5 secs : infill_ei\n",
            "\n",
            "Sat Nov 01 04:09:45 PM 2025 AUC 0.931032033151572\n",
            "\n",
            "[mbo] 22: num_iterations=1312; learning_rate=0.0126; num_leaves=1526; min_data_in_leaf=441; feature_fraction=0.511; bagging_fraction=0.774; bagging_freq=1; max_depth=5; lambda_l1=3.47; lambda_l2=2.07; min_child_samples=47; min_gain_to_split=0.2 : y = 0.931 : 281.8 secs : infill_ei\n",
            "\n",
            "Sat Nov 01 04:15:32 PM 2025 AUC 0.931182996927739\n",
            "\n",
            "[mbo] 23: num_iterations=1629; learning_rate=0.0106; num_leaves=565; min_data_in_leaf=387; feature_fraction=0.406; bagging_fraction=0.893; bagging_freq=1; max_depth=7; lambda_l1=2.61; lambda_l2=2.48; min_child_samples=66; min_gain_to_split=0.2 : y = 0.931 : 345.1 secs : infill_ei\n",
            "\n",
            "Sat Nov 01 04:24:16 PM 2025 AUC 0.931801792464138\n",
            "\n",
            "[mbo] 24: num_iterations=1810; learning_rate=0.0103; num_leaves=1543; min_data_in_leaf=54; feature_fraction=0.548; bagging_fraction=0.855; bagging_freq=2; max_depth=6; lambda_l1=0.256; lambda_l2=1.99; min_child_samples=61; min_gain_to_split=0.247 : y = 0.932 : 521.8 secs : infill_ei\n",
            "\n",
            "Sat Nov 01 04:28:00 PM 2025 AUC 0.930704205814668\n",
            "\n",
            "[mbo] 25: num_iterations=1185; learning_rate=0.0105; num_leaves=1264; min_data_in_leaf=121; feature_fraction=0.423; bagging_fraction=0.718; bagging_freq=4; max_depth=4; lambda_l1=1.25; lambda_l2=0.764; min_child_samples=76; min_gain_to_split=0.176 : y = 0.931 : 222.6 secs : infill_ei\n",
            "\n",
            "Sat Nov 01 04:36:12 PM 2025 AUC 0.931067998804126\n",
            "\n",
            "[mbo] 26: num_iterations=1646; learning_rate=0.0126; num_leaves=1287; min_data_in_leaf=83; feature_fraction=0.563; bagging_fraction=0.906; bagging_freq=2; max_depth=7; lambda_l1=3.75; lambda_l2=2.01; min_child_samples=47; min_gain_to_split=0.293 : y = 0.931 : 491.0 secs : infill_ei\n",
            "\n",
            "Sat Nov 01 04:44:06 PM 2025 AUC 0.930664664985926\n",
            "\n",
            "[mbo] 27: num_iterations=1975; learning_rate=0.017; num_leaves=1498; min_data_in_leaf=634; feature_fraction=0.473; bagging_fraction=0.914; bagging_freq=1; max_depth=9; lambda_l1=1.42; lambda_l2=2.16; min_child_samples=36; min_gain_to_split=0.151 : y = 0.931 : 472.8 secs : infill_ei\n",
            "\n",
            "Sat Nov 01 04:50:37 PM 2025 AUC 0.931463320634208\n",
            "\n",
            "[mbo] 28: num_iterations=1849; learning_rate=0.0103; num_leaves=1163; min_data_in_leaf=223; feature_fraction=0.49; bagging_fraction=0.693; bagging_freq=1; max_depth=5; lambda_l1=3.31; lambda_l2=1.37; min_child_samples=74; min_gain_to_split=0.308 : y = 0.931 : 389.6 secs : infill_ei\n",
            "\n",
            "Sat Nov 01 04:56:22 PM 2025 AUC 0.930924029913035\n",
            "\n",
            "[mbo] 29: num_iterations=1796; learning_rate=0.0102; num_leaves=699; min_data_in_leaf=321; feature_fraction=0.627; bagging_fraction=0.759; bagging_freq=4; max_depth=7; lambda_l1=0.103; lambda_l2=0.85; min_child_samples=59; min_gain_to_split=0.411 : y = 0.931 : 344.0 secs : infill_ei\n",
            "\n",
            "Sat Nov 01 05:03:37 PM 2025 AUC 0.9315147313568\n",
            "\n",
            "[mbo] 30: num_iterations=1806; learning_rate=0.0101; num_leaves=1789; min_data_in_leaf=252; feature_fraction=0.448; bagging_fraction=0.763; bagging_freq=1; max_depth=9; lambda_l1=2.29; lambda_l2=0.603; min_child_samples=68; min_gain_to_split=0.236 : y = 0.932 : 433.5 secs : infill_ei\n",
            "\n",
            "Sat Nov 01 05:10:46 PM 2025 AUC 0.9311014507949\n",
            "\n",
            "[mbo] 31: num_iterations=1994; learning_rate=0.0101; num_leaves=1251; min_data_in_leaf=516; feature_fraction=0.463; bagging_fraction=0.804; bagging_freq=1; max_depth=6; lambda_l1=2.54; lambda_l2=0.525; min_child_samples=96; min_gain_to_split=0.411 : y = 0.931 : 427.6 secs : infill_ei\n",
            "\n",
            "Sat Nov 01 05:16:22 PM 2025 AUC 0.929786976677303\n",
            "\n",
            "[mbo] 32: num_iterations=1879; learning_rate=0.0102; num_leaves=633; min_data_in_leaf=59; feature_fraction=0.601; bagging_fraction=0.705; bagging_freq=1; max_depth=7; lambda_l1=0.912; lambda_l2=1.41; min_child_samples=86; min_gain_to_split=0.24 : y = 0.93 : 334.4 secs : infill_ei\n",
            "\n",
            "Sat Nov 01 05:24:12 PM 2025 AUC 0.929749655910884\n",
            "\n",
            "[mbo] 33: num_iterations=1904; learning_rate=0.0101; num_leaves=1450; min_data_in_leaf=504; feature_fraction=0.415; bagging_fraction=0.926; bagging_freq=2; max_depth=3; lambda_l1=2.33; lambda_l2=2.43; min_child_samples=65; min_gain_to_split=0.267 : y = 0.93 : 468.1 secs : infill_ei\n",
            "\n",
            "Sat Nov 01 05:29:56 PM 2025 AUC 0.930523022752632\n",
            "\n",
            "[mbo] 34: num_iterations=1579; learning_rate=0.0212; num_leaves=1906; min_data_in_leaf=414; feature_fraction=0.488; bagging_fraction=0.946; bagging_freq=1; max_depth=6; lambda_l1=3.98; lambda_l2=3.78; min_child_samples=39; min_gain_to_split=0.266 : y = 0.931 : 343.0 secs : infill_ei\n",
            "\n",
            "Sat Nov 01 05:38:00 PM 2025 AUC 0.931119146049898\n",
            "\n",
            "[mbo] 35: num_iterations=1645; learning_rate=0.0124; num_leaves=928; min_data_in_leaf=226; feature_fraction=0.482; bagging_fraction=0.913; bagging_freq=2; max_depth=6; lambda_l1=1.17; lambda_l2=2.09; min_child_samples=34; min_gain_to_split=0.213 : y = 0.931 : 482.7 secs : infill_ei\n",
            "\n",
            "Sat Nov 01 05:43:37 PM 2025 AUC 0.929628729844704\n",
            "\n",
            "[mbo] 36: num_iterations=1295; learning_rate=0.0655; num_leaves=1958; min_data_in_leaf=529; feature_fraction=0.493; bagging_fraction=0.965; bagging_freq=3; max_depth=6; lambda_l1=3.07; lambda_l2=2.13; min_child_samples=17; min_gain_to_split=0.0731 : y = 0.93 : 334.6 secs : infill_ei\n",
            "\n",
            "Sat Nov 01 05:50:14 PM 2025 AUC 0.931882187655176\n",
            "\n",
            "[mbo] 37: num_iterations=1800; learning_rate=0.0101; num_leaves=1187; min_data_in_leaf=284; feature_fraction=0.432; bagging_fraction=0.81; bagging_freq=1; max_depth=7; lambda_l1=1.64; lambda_l2=2.64; min_child_samples=46; min_gain_to_split=0.312 : y = 0.932 : 395.4 secs : infill_ei\n",
            "\n",
            "Sat Nov 01 05:52:15 PM 2025 AUC 0.930096418685218\n",
            "\n",
            "[mbo] 38: num_iterations=789; learning_rate=0.0102; num_leaves=1221; min_data_in_leaf=215; feature_fraction=0.619; bagging_fraction=0.805; bagging_freq=1; max_depth=6; lambda_l1=2.52; lambda_l2=1.07; min_child_samples=59; min_gain_to_split=0.378 : y = 0.93 : 119.3 secs : infill_ei\n",
            "\n",
            "Sat Nov 01 05:59:43 PM 2025 AUC 0.930710137835386\n",
            "\n",
            "[mbo] 39: num_iterations=1961; learning_rate=0.011; num_leaves=524; min_data_in_leaf=77; feature_fraction=0.433; bagging_fraction=0.786; bagging_freq=7; max_depth=8; lambda_l1=2.97; lambda_l2=1.97; min_child_samples=53; min_gain_to_split=0.403 : y = 0.931 : 446.8 secs : infill_ei\n",
            "\n",
            "Sat Nov 01 06:03:05 PM 2025 AUC 0.930174810703244\n",
            "\n",
            "[mbo] 40: num_iterations=1434; learning_rate=0.0392; num_leaves=1507; min_data_in_leaf=323; feature_fraction=0.751; bagging_fraction=0.93; bagging_freq=1; max_depth=9; lambda_l1=2.43; lambda_l2=3.81; min_child_samples=8; min_gain_to_split=0.176 : y = 0.93 : 200.5 secs : infill_ei\n",
            "\n",
            "Sat Nov 01 06:09:46 PM 2025 AUC 0.931644811836361\n",
            "\n",
            "[mbo] 41: num_iterations=1860; learning_rate=0.01; num_leaves=1063; min_data_in_leaf=230; feature_fraction=0.404; bagging_fraction=0.86; bagging_freq=1; max_depth=7; lambda_l1=1.38; lambda_l2=2.33; min_child_samples=62; min_gain_to_split=0.219 : y = 0.932 : 399.2 secs : infill_ei\n",
            "\n",
            "Sat Nov 01 06:16:19 PM 2025 AUC 0.931464652208718\n",
            "\n",
            "[mbo] 42: num_iterations=1831; learning_rate=0.0104; num_leaves=1618; min_data_in_leaf=330; feature_fraction=0.441; bagging_fraction=0.85; bagging_freq=1; max_depth=6; lambda_l1=1.62; lambda_l2=0.993; min_child_samples=66; min_gain_to_split=0.246 : y = 0.931 : 390.9 secs : infill_ei\n",
            "\n",
            "Sat Nov 01 06:20:59 PM 2025 AUC 0.93079583021242\n",
            "\n",
            "[mbo] 43: num_iterations=1301; learning_rate=0.0168; num_leaves=1498; min_data_in_leaf=124; feature_fraction=0.425; bagging_fraction=0.761; bagging_freq=7; max_depth=6; lambda_l1=0.199; lambda_l2=4.03; min_child_samples=58; min_gain_to_split=0.195 : y = 0.931 : 276.8 secs : infill_ei\n",
            "\n",
            "Sat Nov 01 06:28:07 PM 2025 AUC 0.930545446800643\n",
            "\n",
            "[mbo] 44: num_iterations=1839; learning_rate=0.0103; num_leaves=878; min_data_in_leaf=156; feature_fraction=0.555; bagging_fraction=0.762; bagging_freq=1; max_depth=8; lambda_l1=2.31; lambda_l2=2.83; min_child_samples=35; min_gain_to_split=0.407 : y = 0.931 : 427.2 secs : infill_ei\n",
            "\n",
            "Sat Nov 01 06:33:09 PM 2025 AUC 0.930223550578136\n",
            "\n",
            "[mbo] 45: num_iterations=1979; learning_rate=0.0107; num_leaves=1351; min_data_in_leaf=512; feature_fraction=0.673; bagging_fraction=0.945; bagging_freq=1; max_depth=9; lambda_l1=2.93; lambda_l2=1.53; min_child_samples=50; min_gain_to_split=0.304 : y = 0.93 : 299.5 secs : infill_ei\n",
            "\n",
            "Sat Nov 01 06:39:08 PM 2025 AUC 0.93003844887824\n",
            "\n",
            "[mbo] 46: num_iterations=1817; learning_rate=0.0102; num_leaves=1577; min_data_in_leaf=297; feature_fraction=0.766; bagging_fraction=0.85; bagging_freq=3; max_depth=6; lambda_l1=3.6; lambda_l2=0.404; min_child_samples=77; min_gain_to_split=0.109 : y = 0.93 : 357.8 secs : infill_ei\n",
            "\n",
            "Sat Nov 01 06:44:52 PM 2025 AUC 0.93160199710381\n",
            "\n",
            "[mbo] 47: num_iterations=1596; learning_rate=0.0103; num_leaves=1404; min_data_in_leaf=200; feature_fraction=0.404; bagging_fraction=0.758; bagging_freq=5; max_depth=6; lambda_l1=0.296; lambda_l2=2.7; min_child_samples=76; min_gain_to_split=0.13 : y = 0.932 : 342.1 secs : infill_ei\n",
            "\n",
            "Sat Nov 01 06:52:16 PM 2025 AUC 0.929920378646671\n",
            "\n",
            "[mbo] 48: num_iterations=1922; learning_rate=0.0102; num_leaves=1163; min_data_in_leaf=194; feature_fraction=0.427; bagging_fraction=0.66; bagging_freq=1; max_depth=8; lambda_l1=1.17; lambda_l2=0.827; min_child_samples=76; min_gain_to_split=0.175 : y = 0.93 : 441.5 secs : infill_ei\n",
            "\n",
            "Sat Nov 01 06:58:39 PM 2025 AUC 0.932048846996836\n",
            "\n",
            "[mbo] 49: num_iterations=1776; learning_rate=0.0104; num_leaves=887; min_data_in_leaf=194; feature_fraction=0.409; bagging_fraction=0.805; bagging_freq=1; max_depth=7; lambda_l1=0.606; lambda_l2=3.23; min_child_samples=66; min_gain_to_split=0.358 : y = 0.932 : 381.8 secs : infill_ei\n",
            "\n",
            "Sat Nov 01 07:03:41 PM 2025 AUC 0.930729378231062\n",
            "\n",
            "[mbo] 50: num_iterations=1089; learning_rate=0.0147; num_leaves=1287; min_data_in_leaf=143; feature_fraction=0.465; bagging_fraction=0.998; bagging_freq=4; max_depth=6; lambda_l1=0.224; lambda_l2=2.13; min_child_samples=71; min_gain_to_split=0.162 : y = 0.931 : 300.9 secs : infill_ei\n",
            "\n"
          ]
        }
      ]
    },
    {
      "cell_type": "code",
      "metadata": {
        "id": "93f0202d",
        "colab": {
          "base_uri": "https://localhost:8080/"
        },
        "outputId": "c91db978-9be1-4d28-96e7-83d6b38a2309"
      },
      "source": [
        "# Attempt to install packages from CRAN\n",
        "install.packages(c(\"primes\", \"rlist\", \"DiceKriging\", \"mlrMBO\"), dependencies = TRUE)"
      ],
      "execution_count": 20,
      "outputs": [
        {
          "output_type": "stream",
          "name": "stderr",
          "text": [
            "Installing packages into ‘/usr/local/lib/R/site-library’\n",
            "(as ‘lib’ is unspecified)\n",
            "\n",
            "also installing the dependencies ‘TH.data’, ‘plotrix’, ‘patchwork’, ‘libcoin’, ‘matrixStats’, ‘multcomp’, ‘lazyeval’, ‘iterators’, ‘Formula’, ‘plotmo’, ‘ggstats’, ‘igraph’, ‘mvtnorm’, ‘modeltools’, ‘strucchange’, ‘coin’, ‘zoo’, ‘sandwich’, ‘plyr’, ‘rex’, ‘stringdist’, ‘rgenoud’, ‘foreach’, ‘doParallel’, ‘numDeriv’, ‘cmaesr’, ‘earth’, ‘emoa’, ‘GGally’, ‘gridExtra’, ‘kernlab’, ‘kknn’, ‘mco’, ‘party’, ‘randomForest’, ‘reshape2’, ‘covr’\n",
            "\n",
            "\n"
          ]
        }
      ]
    },
    {
      "cell_type": "code",
      "metadata": {
        "colab": {
          "base_uri": "https://localhost:8080/"
        },
        "id": "1b75d232",
        "outputId": "6021b50e-69cb-4ea0-9e69-8d7efb0d71c4"
      },
      "source": [
        "install.packages(\"lightgbm\")"
      ],
      "execution_count": 21,
      "outputs": [
        {
          "output_type": "stream",
          "name": "stderr",
          "text": [
            "Installing package into ‘/usr/local/lib/R/site-library’\n",
            "(as ‘lib’ is unspecified)\n",
            "\n"
          ]
        }
      ]
    },
    {
      "cell_type": "markdown",
      "metadata": {
        "id": "57398b0e"
      },
      "source": [
        "After running the installation cells above, run the cell below to load the required libraries. If any packages still fail to load, you may need to investigate their specific installation requirements."
      ]
    },
    {
      "cell_type": "code",
      "metadata": {
        "id": "05df7a31"
      },
      "source": [
        "# cargo las librerias que necesito\n",
        "require(\"data.table\")\n",
        "require(\"parallel\")\n",
        "require(\"primes\")\n",
        "require(\"utils\")\n",
        "require(\"rlist\")\n",
        "require(\"yaml\")\n",
        "require(\"lightgbm\")\n",
        "require(\"DiceKriging\")\n",
        "require(\"mlrMBO\")"
      ],
      "execution_count": 22,
      "outputs": []
    },
    {
      "cell_type": "code",
      "source": [
        "\n",
        "tb_bayesiana <- as.data.table(bayesiana_salida$opt.path)\n",
        "colnames( tb_bayesiana)"
      ],
      "metadata": {
        "id": "ssk5nnMk6INK",
        "colab": {
          "base_uri": "https://localhost:8080/",
          "height": 69
        },
        "outputId": "1d3b10a1-a0e4-4b85-cb4b-d4df78976aee"
      },
      "execution_count": 23,
      "outputs": [
        {
          "output_type": "display_data",
          "data": {
            "text/html": [
              "<style>\n",
              ".list-inline {list-style: none; margin:0; padding: 0}\n",
              ".list-inline>li {display: inline-block}\n",
              ".list-inline>li:not(:last-child)::after {content: \"\\00b7\"; padding: 0 .5ex}\n",
              "</style>\n",
              "<ol class=list-inline><li>'num_iterations'</li><li>'learning_rate'</li><li>'num_leaves'</li><li>'min_data_in_leaf'</li><li>'feature_fraction'</li><li>'bagging_fraction'</li><li>'bagging_freq'</li><li>'max_depth'</li><li>'lambda_l1'</li><li>'lambda_l2'</li><li>'min_child_samples'</li><li>'min_gain_to_split'</li><li>'y'</li><li>'dob'</li><li>'eol'</li><li>'error.message'</li><li>'exec.time'</li><li>'ei'</li><li>'error.model'</li><li>'train.time'</li><li>'prop.type'</li><li>'propose.time'</li><li>'se'</li><li>'mean'</li></ol>\n"
            ],
            "text/markdown": "1. 'num_iterations'\n2. 'learning_rate'\n3. 'num_leaves'\n4. 'min_data_in_leaf'\n5. 'feature_fraction'\n6. 'bagging_fraction'\n7. 'bagging_freq'\n8. 'max_depth'\n9. 'lambda_l1'\n10. 'lambda_l2'\n11. 'min_child_samples'\n12. 'min_gain_to_split'\n13. 'y'\n14. 'dob'\n15. 'eol'\n16. 'error.message'\n17. 'exec.time'\n18. 'ei'\n19. 'error.model'\n20. 'train.time'\n21. 'prop.type'\n22. 'propose.time'\n23. 'se'\n24. 'mean'\n\n\n",
            "text/latex": "\\begin{enumerate*}\n\\item 'num\\_iterations'\n\\item 'learning\\_rate'\n\\item 'num\\_leaves'\n\\item 'min\\_data\\_in\\_leaf'\n\\item 'feature\\_fraction'\n\\item 'bagging\\_fraction'\n\\item 'bagging\\_freq'\n\\item 'max\\_depth'\n\\item 'lambda\\_l1'\n\\item 'lambda\\_l2'\n\\item 'min\\_child\\_samples'\n\\item 'min\\_gain\\_to\\_split'\n\\item 'y'\n\\item 'dob'\n\\item 'eol'\n\\item 'error.message'\n\\item 'exec.time'\n\\item 'ei'\n\\item 'error.model'\n\\item 'train.time'\n\\item 'prop.type'\n\\item 'propose.time'\n\\item 'se'\n\\item 'mean'\n\\end{enumerate*}\n",
            "text/plain": [
              " [1] \"num_iterations\"    \"learning_rate\"     \"num_leaves\"       \n",
              " [4] \"min_data_in_leaf\"  \"feature_fraction\"  \"bagging_fraction\" \n",
              " [7] \"bagging_freq\"      \"max_depth\"         \"lambda_l1\"        \n",
              "[10] \"lambda_l2\"         \"min_child_samples\" \"min_gain_to_split\"\n",
              "[13] \"y\"                 \"dob\"               \"eol\"              \n",
              "[16] \"error.message\"     \"exec.time\"         \"ei\"               \n",
              "[19] \"error.model\"       \"train.time\"        \"prop.type\"        \n",
              "[22] \"propose.time\"      \"se\"                \"mean\"             "
            ]
          },
          "metadata": {}
        }
      ]
    },
    {
      "cell_type": "code",
      "source": [
        "# almaceno los resultados de la Bayesian Optimization\n",
        "# y capturo los mejores hiperparametros encontrados\n",
        "\n",
        "tb_bayesiana <- as.data.table(bayesiana_salida$opt.path)\n",
        "\n",
        "tb_bayesiana[, iter := .I]\n",
        "\n",
        "# ordeno en forma descendente por AUC = y\n",
        "setorder(tb_bayesiana, -y)\n",
        "\n",
        "# grabo para eventualmente poder utilizarlos en OTRA corrida\n",
        "fwrite( tb_bayesiana,\n",
        "  file= \"BO_log.txt\",\n",
        "  sep= \"\\t\"\n",
        ")\n",
        "\n",
        "# los mejores hiperparámetros son los que quedaron en el registro 1 de la tabla\n",
        "PARAM$out$lgbm$mejores_hiperparametros <- tb_bayesiana[\n",
        "  1, # el primero es el de mejor AUC\n",
        "  setdiff(colnames(tb_bayesiana),\n",
        "    c(\"y\",\"dob\",\"eol\",\"error.message\",\"exec.time\",\"ei\",\"error.model\",\n",
        "      \"train.time\",\"prop.type\",\"propose.time\",\"se\",\"mean\",\"iter\")),\n",
        "  with= FALSE\n",
        "]\n",
        "\n",
        "\n",
        "PARAM$out$lgbm$y <- tb_bayesiana[1, y]\n"
      ],
      "metadata": {
        "id": "u4zq-vknhjGc"
      },
      "execution_count": 24,
      "outputs": []
    },
    {
      "cell_type": "code",
      "source": [
        "write_yaml( PARAM, file=\"PARAM.yml\")"
      ],
      "metadata": {
        "id": "E8v2eA427N8e"
      },
      "execution_count": 25,
      "outputs": []
    },
    {
      "cell_type": "code",
      "source": [
        "print(PARAM$out$lgbm$mejores_hiperparametros)\n",
        "print(PARAM$out$lgbm$y)"
      ],
      "metadata": {
        "id": "iBTWexVU7PGC",
        "colab": {
          "base_uri": "https://localhost:8080/"
        },
        "outputId": "8746c5bf-e49c-4cf4-92a7-7c91c905b7fd"
      },
      "execution_count": 26,
      "outputs": [
        {
          "output_type": "stream",
          "name": "stdout",
          "text": [
            "   num_iterations learning_rate num_leaves min_data_in_leaf feature_fraction\n",
            "            <int>         <num>      <int>            <int>            <num>\n",
            "1:           1776    0.01037738        887              194         0.408744\n",
            "   bagging_fraction bagging_freq max_depth lambda_l1 lambda_l2\n",
            "              <num>        <int>     <int>     <num>     <num>\n",
            "1:        0.8053063            1         7    0.6057  3.226748\n",
            "   min_child_samples min_gain_to_split\n",
            "               <int>             <num>\n",
            "1:                66         0.3577845\n",
            "[1] 0.9320488\n"
          ]
        }
      ]
    },
    {
      "cell_type": "markdown",
      "source": [
        "## 2.3  Produccion"
      ],
      "metadata": {
        "id": "TKsVZmAnhwX-"
      }
    },
    {
      "cell_type": "markdown",
      "source": [
        "### Final Training\n",
        "Construyo el modelo final, que es uno solo, no hace ningun tipo de particion < training, validation, testing>]"
      ],
      "metadata": {
        "id": "RQ_C33Tr5B_9"
      }
    },
    {
      "cell_type": "code",
      "source": [
        "setwd(\"/content/buckets/b1/exp\")\n",
        "experimento <- paste0(\"exp\", PARAM$experimento)\n",
        "dir.create(experimento, showWarnings= FALSE)\n",
        "setwd( paste0(\"/content/buckets/b1/exp/\", experimento ))"
      ],
      "metadata": {
        "id": "eDqfyA14hzwv"
      },
      "execution_count": 27,
      "outputs": []
    },
    {
      "cell_type": "markdown",
      "source": [
        "#### Final Training Dataset\n",
        "\n",
        "Aqui esta la gran decision de en qué meses hago el Final Training\n",
        "<br> debo utilizar los mejores hiperparámetros que encontré en la optimización bayesiana"
      ],
      "metadata": {
        "id": "8qFmFivf5Iet"
      }
    },
    {
      "cell_type": "code",
      "source": [
        "# clase01\n",
        "dataset[, clase01 := ifelse(clase_ternaria %in% c(\"BAJA+1\", \"BAJA+2\"), 1L, 0L)]"
      ],
      "metadata": {
        "id": "lg5WVZncvc7H"
      },
      "execution_count": 28,
      "outputs": []
    },
    {
      "cell_type": "code",
      "source": [
        "dataset_train <- dataset[foto_mes %in% c(202107)]"
      ],
      "metadata": {
        "id": "yc9QzXREv0xf"
      },
      "execution_count": 29,
      "outputs": []
    },
    {
      "cell_type": "code",
      "source": [
        "# dejo los datos en el formato que necesita LightGBM\n",
        "\n",
        "dtrain <- lgb.Dataset(\n",
        "  data= data.matrix(dataset_train[, campos_buenos, with= FALSE]),\n",
        "  label= dataset_train[, clase01]\n",
        ")"
      ],
      "metadata": {
        "id": "thjdqEBLuvNt"
      },
      "execution_count": 30,
      "outputs": []
    },
    {
      "cell_type": "markdown",
      "source": [
        "#### Final Training Hyperparameters"
      ],
      "metadata": {
        "id": "VNUa-WSz5Oqu"
      }
    },
    {
      "cell_type": "code",
      "source": [
        "param_final <- modifyList(PARAM$lgbm$param_fijos,\n",
        "  PARAM$out$lgbm$mejores_hiperparametros)\n",
        "\n",
        "param_final"
      ],
      "metadata": {
        "id": "FgCcvBfEwImu",
        "colab": {
          "base_uri": "https://localhost:8080/",
          "height": 1000
        },
        "outputId": "47115920-2c1c-4094-f525-b683ffa6b797"
      },
      "execution_count": 31,
      "outputs": [
        {
          "output_type": "display_data",
          "data": {
            "text/html": [
              "<dl>\n",
              "\t<dt>$boosting</dt>\n",
              "\t\t<dd>'gbdt'</dd>\n",
              "\t<dt>$objective</dt>\n",
              "\t\t<dd>'binary'</dd>\n",
              "\t<dt>$metric</dt>\n",
              "\t\t<dd>'auc'</dd>\n",
              "\t<dt>$first_metric_only</dt>\n",
              "\t\t<dd>FALSE</dd>\n",
              "\t<dt>$boost_from_average</dt>\n",
              "\t\t<dd>TRUE</dd>\n",
              "\t<dt>$feature_pre_filter</dt>\n",
              "\t\t<dd>FALSE</dd>\n",
              "\t<dt>$force_row_wise</dt>\n",
              "\t\t<dd>TRUE</dd>\n",
              "\t<dt>$verbosity</dt>\n",
              "\t\t<dd>-100</dd>\n",
              "\t<dt>$seed</dt>\n",
              "\t\t<dd>90977</dd>\n",
              "\t<dt>$max_depth</dt>\n",
              "\t\t<dd>7</dd>\n",
              "\t<dt>$min_gain_to_split</dt>\n",
              "\t\t<dd>0.357784474427179</dd>\n",
              "\t<dt>$min_sum_hessian_in_leaf</dt>\n",
              "\t\t<dd>0.001</dd>\n",
              "\t<dt>$lambda_l1</dt>\n",
              "\t\t<dd>0.605700012304686</dd>\n",
              "\t<dt>$lambda_l2</dt>\n",
              "\t\t<dd>3.22674819079522</dd>\n",
              "\t<dt>$max_bin</dt>\n",
              "\t\t<dd>31</dd>\n",
              "\t<dt>$bagging_fraction</dt>\n",
              "\t\t<dd>0.805306299521508</dd>\n",
              "\t<dt>$pos_bagging_fraction</dt>\n",
              "\t\t<dd>1</dd>\n",
              "\t<dt>$neg_bagging_fraction</dt>\n",
              "\t\t<dd>1</dd>\n",
              "\t<dt>$is_unbalance</dt>\n",
              "\t\t<dd>FALSE</dd>\n",
              "\t<dt>$scale_pos_weight</dt>\n",
              "\t\t<dd>1</dd>\n",
              "\t<dt>$drop_rate</dt>\n",
              "\t\t<dd>0.1</dd>\n",
              "\t<dt>$max_drop</dt>\n",
              "\t\t<dd>50</dd>\n",
              "\t<dt>$skip_drop</dt>\n",
              "\t\t<dd>0.5</dd>\n",
              "\t<dt>$extra_trees</dt>\n",
              "\t\t<dd>FALSE</dd>\n",
              "\t<dt>$num_iterations</dt>\n",
              "\t\t<dd>1776</dd>\n",
              "\t<dt>$learning_rate</dt>\n",
              "\t\t<dd>0.0103773771432332</dd>\n",
              "\t<dt>$feature_fraction</dt>\n",
              "\t\t<dd>0.408743967492075</dd>\n",
              "\t<dt>$num_leaves</dt>\n",
              "\t\t<dd>887</dd>\n",
              "\t<dt>$min_data_in_leaf</dt>\n",
              "\t\t<dd>194</dd>\n",
              "\t<dt>$bagging_freq</dt>\n",
              "\t\t<dd>1</dd>\n",
              "\t<dt>$min_child_samples</dt>\n",
              "\t\t<dd>66</dd>\n",
              "</dl>\n"
            ],
            "text/markdown": "$boosting\n:   'gbdt'\n$objective\n:   'binary'\n$metric\n:   'auc'\n$first_metric_only\n:   FALSE\n$boost_from_average\n:   TRUE\n$feature_pre_filter\n:   FALSE\n$force_row_wise\n:   TRUE\n$verbosity\n:   -100\n$seed\n:   90977\n$max_depth\n:   7\n$min_gain_to_split\n:   0.357784474427179\n$min_sum_hessian_in_leaf\n:   0.001\n$lambda_l1\n:   0.605700012304686\n$lambda_l2\n:   3.22674819079522\n$max_bin\n:   31\n$bagging_fraction\n:   0.805306299521508\n$pos_bagging_fraction\n:   1\n$neg_bagging_fraction\n:   1\n$is_unbalance\n:   FALSE\n$scale_pos_weight\n:   1\n$drop_rate\n:   0.1\n$max_drop\n:   50\n$skip_drop\n:   0.5\n$extra_trees\n:   FALSE\n$num_iterations\n:   1776\n$learning_rate\n:   0.0103773771432332\n$feature_fraction\n:   0.408743967492075\n$num_leaves\n:   887\n$min_data_in_leaf\n:   194\n$bagging_freq\n:   1\n$min_child_samples\n:   66\n\n\n",
            "text/latex": "\\begin{description}\n\\item[\\$boosting] 'gbdt'\n\\item[\\$objective] 'binary'\n\\item[\\$metric] 'auc'\n\\item[\\$first\\_metric\\_only] FALSE\n\\item[\\$boost\\_from\\_average] TRUE\n\\item[\\$feature\\_pre\\_filter] FALSE\n\\item[\\$force\\_row\\_wise] TRUE\n\\item[\\$verbosity] -100\n\\item[\\$seed] 90977\n\\item[\\$max\\_depth] 7\n\\item[\\$min\\_gain\\_to\\_split] 0.357784474427179\n\\item[\\$min\\_sum\\_hessian\\_in\\_leaf] 0.001\n\\item[\\$lambda\\_l1] 0.605700012304686\n\\item[\\$lambda\\_l2] 3.22674819079522\n\\item[\\$max\\_bin] 31\n\\item[\\$bagging\\_fraction] 0.805306299521508\n\\item[\\$pos\\_bagging\\_fraction] 1\n\\item[\\$neg\\_bagging\\_fraction] 1\n\\item[\\$is\\_unbalance] FALSE\n\\item[\\$scale\\_pos\\_weight] 1\n\\item[\\$drop\\_rate] 0.1\n\\item[\\$max\\_drop] 50\n\\item[\\$skip\\_drop] 0.5\n\\item[\\$extra\\_trees] FALSE\n\\item[\\$num\\_iterations] 1776\n\\item[\\$learning\\_rate] 0.0103773771432332\n\\item[\\$feature\\_fraction] 0.408743967492075\n\\item[\\$num\\_leaves] 887\n\\item[\\$min\\_data\\_in\\_leaf] 194\n\\item[\\$bagging\\_freq] 1\n\\item[\\$min\\_child\\_samples] 66\n\\end{description}\n",
            "text/plain": [
              "$boosting\n",
              "[1] \"gbdt\"\n",
              "\n",
              "$objective\n",
              "[1] \"binary\"\n",
              "\n",
              "$metric\n",
              "[1] \"auc\"\n",
              "\n",
              "$first_metric_only\n",
              "[1] FALSE\n",
              "\n",
              "$boost_from_average\n",
              "[1] TRUE\n",
              "\n",
              "$feature_pre_filter\n",
              "[1] FALSE\n",
              "\n",
              "$force_row_wise\n",
              "[1] TRUE\n",
              "\n",
              "$verbosity\n",
              "[1] -100\n",
              "\n",
              "$seed\n",
              "[1] 90977\n",
              "\n",
              "$max_depth\n",
              "[1] 7\n",
              "\n",
              "$min_gain_to_split\n",
              "[1] 0.3577845\n",
              "\n",
              "$min_sum_hessian_in_leaf\n",
              "[1] 0.001\n",
              "\n",
              "$lambda_l1\n",
              "[1] 0.6057\n",
              "\n",
              "$lambda_l2\n",
              "[1] 3.226748\n",
              "\n",
              "$max_bin\n",
              "[1] 31\n",
              "\n",
              "$bagging_fraction\n",
              "[1] 0.8053063\n",
              "\n",
              "$pos_bagging_fraction\n",
              "[1] 1\n",
              "\n",
              "$neg_bagging_fraction\n",
              "[1] 1\n",
              "\n",
              "$is_unbalance\n",
              "[1] FALSE\n",
              "\n",
              "$scale_pos_weight\n",
              "[1] 1\n",
              "\n",
              "$drop_rate\n",
              "[1] 0.1\n",
              "\n",
              "$max_drop\n",
              "[1] 50\n",
              "\n",
              "$skip_drop\n",
              "[1] 0.5\n",
              "\n",
              "$extra_trees\n",
              "[1] FALSE\n",
              "\n",
              "$num_iterations\n",
              "[1] 1776\n",
              "\n",
              "$learning_rate\n",
              "[1] 0.01037738\n",
              "\n",
              "$feature_fraction\n",
              "[1] 0.408744\n",
              "\n",
              "$num_leaves\n",
              "[1] 887\n",
              "\n",
              "$min_data_in_leaf\n",
              "[1] 194\n",
              "\n",
              "$bagging_freq\n",
              "[1] 1\n",
              "\n",
              "$min_child_samples\n",
              "[1] 66\n"
            ]
          },
          "metadata": {}
        }
      ]
    },
    {
      "cell_type": "markdown",
      "source": [
        "#### Training\n",
        "Genero el modelo final, siempre sobre TODOS los datos de  final_train, sin hacer ningun tipo de undersampling de la clase mayoritaria"
      ],
      "metadata": {
        "id": "TZIYn4l95TBH"
      }
    },
    {
      "cell_type": "code",
      "source": [
        "# este punto es muy SUTIL  y será revisado en la Clase 05\n",
        "\n",
        "param_normalizado <- copy(param_final)\n",
        "param_normalizado$min_data_in_leaf <-  round(param_final$min_data_in_leaf / PARAM$trainingstrategy$undersampling)"
      ],
      "metadata": {
        "id": "vPLsd4mMRe4u"
      },
      "execution_count": 38,
      "outputs": []
    },
    {
      "cell_type": "code",
      "source": [
        "  # entreno LightGBM\n",
        "\n",
        "  modelo_final <- lgb.train(\n",
        "    data= dtrain,\n",
        "    param= param_normalizado\n",
        "  )"
      ],
      "metadata": {
        "id": "WRI_-taRwOXO"
      },
      "execution_count": 37,
      "outputs": []
    },
    {
      "cell_type": "code",
      "metadata": {
        "id": "c13d6fa7"
      },
      "source": [
        "# este punto es muy SUTIL  y será revisado en la Clase 05\n",
        "\n",
        "param_normalizado <- copy(param_final)\n",
        "param_normalizado$min_data_in_leaf <-  round(param_final$min_data_in_leaf / PARAM$trainingstrategy$undersampling)\n",
        "\n",
        "  # entreno LightGBM\n",
        "\n",
        "  modelo_final <- lgb.train(\n",
        "    data= dtrain,\n",
        "    param= param_normalizado\n",
        "  )"
      ],
      "execution_count": 34,
      "outputs": []
    },
    {
      "cell_type": "code",
      "source": [
        "# ahora imprimo la importancia de variables\n",
        "\n",
        "tb_importancia <- as.data.table(lgb.importance(modelo_final))\n",
        "archivo_importancia <- \"impo.txt\"\n",
        "\n",
        "fwrite(tb_importancia,\n",
        "  file= archivo_importancia,\n",
        "  sep= \"\\t\"\n",
        ")"
      ],
      "metadata": {
        "id": "_bkhnCvj0g3Q"
      },
      "execution_count": 35,
      "outputs": []
    },
    {
      "cell_type": "code",
      "source": [
        "# grabo a disco el modelo en un formato para seres humanos ... ponele ...\n",
        "\n",
        "lgb.save(modelo_final, \"modelo.txt\" )"
      ],
      "metadata": {
        "id": "lZ3sLmbh0kFj"
      },
      "execution_count": 36,
      "outputs": []
    },
    {
      "cell_type": "markdown",
      "source": [
        "### Scoring"
      ],
      "metadata": {
        "id": "VEtp2--t5Ymg"
      }
    },
    {
      "cell_type": "markdown",
      "source": [
        "Aplico el modelo final a los datos del futuro"
      ],
      "metadata": {
        "id": "hI5008Mj5ZdI"
      }
    },
    {
      "cell_type": "code",
      "source": [
        "# aplico el modelo a los datos sin clase\n",
        "dfuture <- dataset[foto_mes == 202109]\n",
        "\n",
        "# aplico el modelo a los datos nuevos\n",
        "prediccion <- predict(\n",
        "  modelo_final,\n",
        "  data.matrix(dfuture[, campos_buenos, with= FALSE])\n",
        ")"
      ],
      "metadata": {
        "id": "PimBY3N_0ryP"
      },
      "execution_count": 39,
      "outputs": []
    },
    {
      "cell_type": "markdown",
      "source": [
        "#### Tabla Prediccion"
      ],
      "metadata": {
        "id": "D26rNRh55gpw"
      }
    },
    {
      "cell_type": "code",
      "source": [
        "# tabla de prediccion\n",
        "\n",
        "tb_prediccion <- dfuture[, list(numero_de_cliente)]\n",
        "tb_prediccion[, prob := prediccion ]\n",
        "\n",
        "# grabo las probabilidad del modelo\n",
        "fwrite(tb_prediccion,\n",
        "  file= \"prediccion.txt\",\n",
        "  sep= \"\\t\"\n",
        ")"
      ],
      "metadata": {
        "id": "RJwg7LHd11yu"
      },
      "execution_count": 40,
      "outputs": []
    },
    {
      "cell_type": "markdown",
      "source": [
        "Kaggle Competition Submit"
      ],
      "metadata": {
        "id": "jOt4eG_55ltv"
      }
    },
    {
      "cell_type": "code",
      "source": [
        "# genero archivos con los  \"envios\" mejores\n",
        "# suba TODOS los archivos a Kaggle\n",
        "\n",
        "# ordeno por probabilidad descendente\n",
        "setorder(tb_prediccion, -prob)\n",
        "\n",
        "dir.create(\"kaggle\")\n",
        "\n",
        "for (envios in PARAM$kaggle$cortes) {\n",
        "\n",
        "  tb_prediccion[, Predicted := 0L] # seteo inicial a 0\n",
        "  tb_prediccion[1:envios, Predicted := 1L] # marclo los primeros\n",
        "\n",
        "  archivo_kaggle <- paste0(\"./kaggle/KA\", PARAM$experimento, \"_\", envios, \".csv\")\n",
        "\n",
        "  # grabo el archivo\n",
        "  fwrite(tb_prediccion[, list(numero_de_cliente, Predicted)],\n",
        "    file= archivo_kaggle,\n",
        "    sep= \",\"\n",
        "  )\n",
        "\n",
        "  # subida a Kaggle, armo la linea de comando\n",
        "  comando <- \"kaggle competitions submit\"\n",
        "  competencia <- paste(\"-c\", PARAM$kaggle$competencia)\n",
        "  arch <- paste( \"-f\", archivo_kaggle)\n",
        "\n",
        "  mensaje <- paste0(\"-m 'envios=\", envios,\n",
        "  \"  semilla=\", PARAM$semilla_primigenia,\n",
        "    \"'\" )\n",
        "\n",
        "  linea <- paste( comando, competencia, arch, mensaje)\n",
        "\n",
        "  salida <- system(linea, intern=TRUE) # el submit a Kaggle\n",
        "  cat(salida, \"\\n\")\n",
        "  Sys.sleep(45)\n",
        "}"
      ],
      "metadata": {
        "id": "gWW3tatE12je",
        "colab": {
          "base_uri": "https://localhost:8080/"
        },
        "outputId": "697b20f9-6e20-4ebe-e37e-ee8d864e30a7"
      },
      "execution_count": 41,
      "outputs": [
        {
          "output_type": "stream",
          "name": "stdout",
          "text": [
            "Successfully submitted to LaboI 2025 virtual analista sr \n",
            "Successfully submitted to LaboI 2025 virtual analista sr \n",
            "Successfully submitted to LaboI 2025 virtual analista sr \n",
            "Successfully submitted to LaboI 2025 virtual analista sr \n",
            "Successfully submitted to LaboI 2025 virtual analista sr \n"
          ]
        }
      ]
    },
    {
      "cell_type": "code",
      "source": [
        "write_yaml( PARAM, file=\"PARAM.yml\")"
      ],
      "metadata": {
        "id": "B9tB2X4439Hg"
      },
      "execution_count": 42,
      "outputs": []
    },
    {
      "cell_type": "code",
      "source": [
        "format(Sys.time(), \"%a %b %d %X %Y\")"
      ],
      "metadata": {
        "id": "9zA_W25c15DP",
        "colab": {
          "base_uri": "https://localhost:8080/",
          "height": 34
        },
        "outputId": "3c567751-298d-4354-92e0-5aa1b29394c5"
      },
      "execution_count": 43,
      "outputs": [
        {
          "output_type": "display_data",
          "data": {
            "text/html": [
              "'Sat Nov 01 07:48:20 PM 2025'"
            ],
            "text/markdown": "'Sat Nov 01 07:48:20 PM 2025'",
            "text/latex": "'Sat Nov 01 07:48:20 PM 2025'",
            "text/plain": [
              "[1] \"Sat Nov 01 07:48:20 PM 2025\""
            ]
          },
          "metadata": {}
        }
      ]
    },
    {
      "cell_type": "markdown",
      "source": [
        "Finalmente usted deberá cargar el resultado de su corrida en la Google Sheet Colaborativa,  hoja **TareaHogar-05**\n",
        "<br> Siéntase libre de agregar las columnas que hagan falta a la planilla"
      ],
      "metadata": {
        "id": "UdVZucdLHzZ0"
      }
    },
    {
      "cell_type": "markdown",
      "source": [
        "Seguramente usted realice varias corridas de este script con distintos conjuntos de hiperparámetros, siempre cambiandole el nombre al script  y también cambiando el nombre del experimento,  deberá TODAS esas corridas en distintas lineas de la  Google Sheet Colaborativa, hoja **TareaHogar-05**"
      ],
      "metadata": {
        "id": "5MB_67DmDTh0"
      }
    },
    {
      "cell_type": "markdown",
      "source": [
        "Siéntase libre de agregar columnas a la hoja **TareaHogar-05**  en caso de ser necesario."
      ],
      "metadata": {
        "id": "OnRUS_PhFI1Z"
      }
    }
  ]
}