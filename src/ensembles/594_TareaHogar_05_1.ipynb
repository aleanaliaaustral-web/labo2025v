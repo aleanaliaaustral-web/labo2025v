{
  "nbformat": 4,
  "nbformat_minor": 0,
  "metadata": {
    "colab": {
      "provenance": [],
      "include_colab_link": true
    },
    "kernelspec": {
      "name": "ir",
      "display_name": "R"
    },
    "language_info": {
      "name": "R"
    }
  },
  "cells": [
    {
      "cell_type": "markdown",
      "metadata": {
        "id": "view-in-github",
        "colab_type": "text"
      },
      "source": [
        "<a href=\"https://colab.research.google.com/github/aleanaliaaustral-web/labo2025v/blob/main/src/ensembles/594_TareaHogar_05_1.ipynb\" target=\"_parent\"><img src=\"https://colab.research.google.com/assets/colab-badge.svg\" alt=\"Open In Colab\"/></a>"
      ]
    },
    {
      "cell_type": "markdown",
      "source": [
        "# Tarea para el Hogar 05"
      ],
      "metadata": {
        "id": "0cEmzeUKFkPh"
      }
    },
    {
      "cell_type": "markdown",
      "source": [
        "Esta Tarea para el Hogar 05 se entrega el final de la cuarta clase\n",
        "<br> se espera de usted que intente avanzar con los desafios propuestos y que los traiga terminados para la Clase 05 que será el miercoles 03 de septiembre"
      ],
      "metadata": {
        "id": "nSICPpyTGQmC"
      }
    },
    {
      "cell_type": "markdown",
      "source": [
        "##  1. Overfitting the Public Leaderboard"
      ],
      "metadata": {
        "id": "DenyKXkiJ5JN"
      }
    },
    {
      "cell_type": "markdown",
      "source": [
        "Leer  https://medium.com/hmif-itb/overfitting-the-leaderboard-da25172ac62e\n",
        "( 8 minutos )"
      ],
      "metadata": {
        "id": "l-K2_ZsZGrVD"
      }
    },
    {
      "cell_type": "markdown",
      "source": [
        "## 2. Hiperparámetros del LightGBM"
      ],
      "metadata": {
        "id": "K9GkTOk5J9t3"
      }
    },
    {
      "cell_type": "markdown",
      "source": [
        "Los objetivos de esta tarea son:\n",
        "\n",
        "\n",
        "*   Aumentar la rentabilidad de la campaña de marketing de retención proactiva de clientes.\n",
        "*   Generar un mejor modelo optimizando sus hiperparámetros\n",
        "*   Conceptual : investigar los mas relevantes hiperparámetros de LightGBM\n",
        "*   Familiarizarse con la Bayesian Optimization, sus largos tiempos de corrida y opciones para reducirlos\n",
        "*   Familiarizarse con el uso de máquinas virtuales de Google Colab\n",
        "*   Ver un pipeline completo de optimización de hiperparámetros y puesta en producción"
      ],
      "metadata": {
        "id": "VmEFy0ukKL5T"
      }
    },
    {
      "cell_type": "markdown",
      "source": [
        "LightGBM cuenta con mas de 60 hiperparámetros, siendo posible utilizar 40 al mismo tiempo, aunque no razonable.\n",
        "<br> La documentación oficial de los hiperparámetros de LightGBM es  https://lightgbm.readthedocs.io/en/latest/Parameters.html#core-parameters\n"
      ],
      "metadata": {
        "id": "5yvlS6JQLRMd"
      }
    },
    {
      "cell_type": "markdown",
      "source": [
        "Se lo alerta sobre que una Optimizacion Bayesiana lleva varias horas de corrida, y usted deberá correr VARIAS optimizaciones para descubrir cuales parámetros conviene optimizar.\n",
        "<br> A pesar que la próxima clase es recien en viernes 01 de agosto, inicie la tarea con tiempo, aprenda a planificar estratégicamente sus corridas como un@ científ@  de datos."
      ],
      "metadata": {
        "id": "eydI4YNAsFaf"
      }
    },
    {
      "cell_type": "markdown",
      "source": [
        "Es necesario investigar cuales son los hiperparámetros de LightGBM que vale la pena optimizar en una Bayesian Optimization, ya que los realmente utiles son apenas un reducido subconjunto.\n",
        "<br>Usted deberá investigar cuales son los hiperparámetros mas relevantes de LightGBM, su primer alternativa es preguntándole a su amigo con capacidades especiales ChatGPT o sus endogámicos familiares Claude, DeepSeek, Gemini, Grok, etc\n",
        "<br> La segunda alternativa es la propia documentación de LightGBM  https://lightgbm.readthedocs.io/en/latest/Parameters-Tuning.html\n"
      ],
      "metadata": {
        "id": "RzU4S0SeMcpp"
      }
    },
    {
      "cell_type": "markdown",
      "source": [
        "Adicionalmente podra buscar información como la que proveen esta diminuta muestra aleatoria de artículos ligeros:\n",
        "* https://machinelearningmastery.com/light-gradient-boosted-machine-lightgbm-ensemble/\n",
        "*  https://medium.com/@sarahzouinina/a-deep-dive-into-lightgbm-how-to-choose-and-tune-parameters-7c584945842e\n",
        "*  https://www.kaggle.com/code/somang1418/tuning-hyperparameters-under-10-minutes-lgbm\n",
        "*  https://towardsdatascience.com/beginners-guide-to-the-must-know-lightgbm-hyperparameters-a0005a812702/\n",
        "\n",
        "\n",
        "<br>  La muestra anterior se brinda a modo de ejemplo, usted deberá buscar muuuuchas  fuentes adicionales de información\n",
        "<br> Tenga presente que LightGBM es el estado del arte en modelado predictivo para datasets estructurado, que son el 90% del trabajo del 95% de los Data Scientists en Argentina."
      ],
      "metadata": {
        "id": "LNptUgI_NWWG"
      }
    },
    {
      "cell_type": "markdown",
      "source": [
        "El desafío de esta tarea es:\n",
        "* Qué hiperparparámetros conviene optimizar?  Las recomendaciones de los artículos ligeros es siempre sensata?  Sus autores realmente hicieron experimentos o son siemplemente escritores de entretenimiento carente de base científica?\n",
        "* Elegidos los hiperparámetros, cual es el  <desde, hasta> que se debe utilizar en la Bayesian Optimization ?\n",
        "* Realmente vale la pena optimizar 10 o 16 hiperparámetros al mismo tiempo ?  No resulta contraproducente una búsqueda en un espacio de tal alta dimensionalidad ?"
      ],
      "metadata": {
        "id": "WpUThBojODyK"
      }
    },
    {
      "cell_type": "markdown",
      "source": [
        "#### 2.1  Seteo del ambiente en Google Colab"
      ],
      "metadata": {
        "id": "PX0qg_c0yqob"
      }
    },
    {
      "cell_type": "markdown",
      "metadata": {
        "id": "NGY7H9xza7Zr"
      },
      "source": [
        "Esta parte se debe correr con el runtime en Python3\n",
        "<br>Ir al menu, Runtime -> Change Runtime Type -> Runtime type ->  **Python 3**"
      ]
    },
    {
      "cell_type": "markdown",
      "metadata": {
        "id": "7PupIBNba7Zr"
      },
      "source": [
        "Conectar la virtual machine donde esta corriendo Google Colab con el  Google Drive, para poder tener persistencia de archivos"
      ]
    },
    {
      "cell_type": "code",
      "execution_count": 1,
      "metadata": {
        "id": "9LpZCst5a7Zs",
        "colab": {
          "base_uri": "https://localhost:8080/"
        },
        "outputId": "ef8a387d-3b0b-46d7-8da0-f25538dc06e2"
      },
      "outputs": [
        {
          "output_type": "stream",
          "name": "stdout",
          "text": [
            "Mounted at /content/.drive\n"
          ]
        }
      ],
      "source": [
        "# primero establecer el Runtime de Python 3\n",
        "from google.colab import drive\n",
        "drive.mount('/content/.drive')"
      ]
    },
    {
      "cell_type": "markdown",
      "metadata": {
        "id": "JYC_F-wla7Zs"
      },
      "source": [
        "Para correr la siguiente celda es fundamental en Arranque en Frio haber copiado el archivo kaggle.json al Google Drive, en la carpeta indicada en el instructivo\n",
        "\n",
        "<br>los siguientes comando estan en shell script de Linux\n",
        "*   Crear las carpetas en el Google Drive\n",
        "*   \"instalar\" el archivo kaggle.json desde el Google Drive a la virtual machine para que pueda ser utilizado por la libreria  kaggle de Python\n",
        "*   Bajar el  **dataset_pequeno**  al  Google Drive  y tambien al disco local de la virtual machine que esta corriendo Google Colab\n",
        "\n"
      ]
    },
    {
      "cell_type": "code",
      "execution_count": 2,
      "metadata": {
        "id": "XWLelftXa7Zt",
        "colab": {
          "base_uri": "https://localhost:8080/"
        },
        "outputId": "5a41fd17-89fc-4928-e7a6-bd28a5c03a10"
      },
      "outputs": [
        {
          "output_type": "execute_result",
          "data": {
            "text/plain": []
          },
          "metadata": {},
          "execution_count": 2
        }
      ],
      "source": [
        "%%shell\n",
        "\n",
        "mkdir -p \"/content/.drive/My Drive/labo1\"\n",
        "mkdir -p \"/content/buckets\"\n",
        "ln -s \"/content/.drive/My Drive/labo1\" /content/buckets/b1\n",
        "\n",
        "mkdir -p ~/.kaggle\n",
        "cp /content/buckets/b1/kaggle/kaggle.json  ~/.kaggle\n",
        "chmod 600 ~/.kaggle/kaggle.json\n",
        "\n",
        "\n",
        "mkdir -p /content/buckets/b1/exp\n",
        "mkdir -p /content/buckets/b1/datasets\n",
        "mkdir -p /content/datasets\n",
        "\n",
        "\n",
        "\n",
        "archivo_origen=\"https://storage.googleapis.com/open-courses/austral2025-af91/dataset_pequeno.csv\"\n",
        "archivo_destino=\"/content/datasets/dataset_pequeno.csv\"\n",
        "archivo_destino_bucket=\"/content/buckets/b1/datasets/dataset_pequeno.csv\"\n",
        "\n",
        "if ! test -f $archivo_destino_bucket; then\n",
        "  wget  $archivo_origen  -O $archivo_destino_bucket\n",
        "fi\n",
        "\n",
        "\n",
        "if ! test -f $archivo_destino; then\n",
        "  cp  $archivo_destino_bucket  $archivo_destino\n",
        "fi\n"
      ]
    },
    {
      "cell_type": "markdown",
      "source": [
        "### 2.2 Optimizacion Hiperparámetros"
      ],
      "metadata": {
        "id": "oSKhZRToy2F7"
      }
    },
    {
      "cell_type": "markdown",
      "source": [
        "Esta parte se debe correr con el runtime en lenguaje R Ir al menu, Runtime -> Change Runtime Type -> Runtime type -> R"
      ],
      "metadata": {
        "id": "2kwPpHAtSmix"
      }
    },
    {
      "cell_type": "markdown",
      "source": [
        "### 2.2.1 Inicio"
      ],
      "metadata": {
        "id": "xp4-Bj3aYI8d"
      }
    },
    {
      "cell_type": "markdown",
      "source": [
        "limpio el ambiente de R"
      ],
      "metadata": {
        "id": "zy8YTZfESxeJ"
      }
    },
    {
      "cell_type": "code",
      "source": [
        "format(Sys.time(), \"%a %b %d %X %Y\")"
      ],
      "metadata": {
        "id": "gBq__iAdQliq",
        "colab": {
          "base_uri": "https://localhost:8080/",
          "height": 34
        },
        "outputId": "1509082e-a145-42fe-b98a-5286623969e2"
      },
      "execution_count": 1,
      "outputs": [
        {
          "output_type": "display_data",
          "data": {
            "text/html": [
              "'Wed Oct 29 01:15:43 PM 2025'"
            ],
            "text/markdown": "'Wed Oct 29 01:15:43 PM 2025'",
            "text/latex": "'Wed Oct 29 01:15:43 PM 2025'",
            "text/plain": [
              "[1] \"Wed Oct 29 01:15:43 PM 2025\""
            ]
          },
          "metadata": {}
        }
      ]
    },
    {
      "cell_type": "code",
      "source": [
        "# limpio la memoria\n",
        "rm(list=ls(all.names=TRUE)) # remove all objects\n",
        "gc(full=TRUE, verbose=FALSE) # garbage collection"
      ],
      "metadata": {
        "id": "7rdVrBojS1IV",
        "colab": {
          "base_uri": "https://localhost:8080/",
          "height": 129
        },
        "outputId": "5495c341-a3b5-43ed-af9f-8ff4ba49f7bd"
      },
      "execution_count": 2,
      "outputs": [
        {
          "output_type": "display_data",
          "data": {
            "text/html": [
              "<table class=\"dataframe\">\n",
              "<caption>A matrix: 2 × 6 of type dbl</caption>\n",
              "<thead>\n",
              "\t<tr><th></th><th scope=col>used</th><th scope=col>(Mb)</th><th scope=col>gc trigger</th><th scope=col>(Mb)</th><th scope=col>max used</th><th scope=col>(Mb)</th></tr>\n",
              "</thead>\n",
              "<tbody>\n",
              "\t<tr><th scope=row>Ncells</th><td> 660381</td><td>35.3</td><td>1454454</td><td>77.7</td><td>1454454</td><td>77.7</td></tr>\n",
              "\t<tr><th scope=row>Vcells</th><td>1226627</td><td> 9.4</td><td>8388608</td><td>64.0</td><td>1975128</td><td>15.1</td></tr>\n",
              "</tbody>\n",
              "</table>\n"
            ],
            "text/markdown": "\nA matrix: 2 × 6 of type dbl\n\n| <!--/--> | used | (Mb) | gc trigger | (Mb) | max used | (Mb) |\n|---|---|---|---|---|---|---|\n| Ncells |  660381 | 35.3 | 1454454 | 77.7 | 1454454 | 77.7 |\n| Vcells | 1226627 |  9.4 | 8388608 | 64.0 | 1975128 | 15.1 |\n\n",
            "text/latex": "A matrix: 2 × 6 of type dbl\n\\begin{tabular}{r|llllll}\n  & used & (Mb) & gc trigger & (Mb) & max used & (Mb)\\\\\n\\hline\n\tNcells &  660381 & 35.3 & 1454454 & 77.7 & 1454454 & 77.7\\\\\n\tVcells & 1226627 &  9.4 & 8388608 & 64.0 & 1975128 & 15.1\\\\\n\\end{tabular}\n",
            "text/plain": [
              "       used    (Mb) gc trigger (Mb) max used (Mb)\n",
              "Ncells  660381 35.3 1454454    77.7 1454454  77.7\n",
              "Vcells 1226627  9.4 8388608    64.0 1975128  15.1"
            ]
          },
          "metadata": {}
        }
      ]
    },
    {
      "cell_type": "markdown",
      "source": [
        "### 2.2.2 Carga de Librerias"
      ],
      "metadata": {
        "id": "kuPfQ7ksjwW3"
      }
    },
    {
      "cell_type": "code",
      "source": [
        "# cargo las librerias que necesito\n",
        "require(\"data.table\")\n",
        "require(\"parallel\")\n",
        "\n",
        "if( !require(\"primes\") ) install.packages(\"primes\")\n",
        "require(\"primes\")\n",
        "\n",
        "if( !require(\"utils\") ) install.packages(\"utils\")\n",
        "require(\"utils\")\n",
        "\n",
        "if( !require(\"rlist\") ) install.packages(\"rlist\")\n",
        "require(\"rlist\")\n",
        "\n",
        "if( !require(\"yaml\")) install.packages(\"yaml\")\n",
        "require(\"yaml\")\n",
        "\n",
        "if( !require(\"lightgbm\") ) install.packages(\"lightgbm\")\n",
        "require(\"lightgbm\")\n",
        "\n",
        "if( !require(\"DiceKriging\") ) install.packages(\"DiceKriging\")\n",
        "require(\"DiceKriging\")\n",
        "\n",
        "if( !require(\"mlrMBO\") ) install.packages(\"mlrMBO\")\n",
        "require(\"mlrMBO\")"
      ],
      "metadata": {
        "id": "lVyxLaJ1j1J_",
        "colab": {
          "base_uri": "https://localhost:8080/"
        },
        "outputId": "bf8c4782-5b2a-477c-f579-47c7aff373a4"
      },
      "execution_count": 3,
      "outputs": [
        {
          "output_type": "stream",
          "name": "stderr",
          "text": [
            "Loading required package: data.table\n",
            "\n",
            "Loading required package: parallel\n",
            "\n",
            "Loading required package: primes\n",
            "\n",
            "Warning message in library(package, lib.loc = lib.loc, character.only = TRUE, logical.return = TRUE, :\n",
            "“there is no package called ‘primes’”\n",
            "Installing package into ‘/usr/local/lib/R/site-library’\n",
            "(as ‘lib’ is unspecified)\n",
            "\n",
            "Loading required package: primes\n",
            "\n",
            "Loading required package: rlist\n",
            "\n",
            "Warning message in library(package, lib.loc = lib.loc, character.only = TRUE, logical.return = TRUE, :\n",
            "“there is no package called ‘rlist’”\n",
            "Installing package into ‘/usr/local/lib/R/site-library’\n",
            "(as ‘lib’ is unspecified)\n",
            "\n",
            "also installing the dependency ‘XML’\n",
            "\n",
            "\n",
            "Loading required package: rlist\n",
            "\n",
            "Loading required package: yaml\n",
            "\n",
            "Loading required package: lightgbm\n",
            "\n",
            "Warning message in library(package, lib.loc = lib.loc, character.only = TRUE, logical.return = TRUE, :\n",
            "“there is no package called ‘lightgbm’”\n",
            "Installing package into ‘/usr/local/lib/R/site-library’\n",
            "(as ‘lib’ is unspecified)\n",
            "\n",
            "Loading required package: lightgbm\n",
            "\n",
            "Loading required package: DiceKriging\n",
            "\n",
            "Warning message in library(package, lib.loc = lib.loc, character.only = TRUE, logical.return = TRUE, :\n",
            "“there is no package called ‘DiceKriging’”\n",
            "Installing package into ‘/usr/local/lib/R/site-library’\n",
            "(as ‘lib’ is unspecified)\n",
            "\n",
            "Loading required package: DiceKriging\n",
            "\n",
            "Loading required package: mlrMBO\n",
            "\n",
            "Warning message in library(package, lib.loc = lib.loc, character.only = TRUE, logical.return = TRUE, :\n",
            "“there is no package called ‘mlrMBO’”\n",
            "Installing package into ‘/usr/local/lib/R/site-library’\n",
            "(as ‘lib’ is unspecified)\n",
            "\n",
            "also installing the dependencies ‘fastmatch’, ‘RcppArmadillo’, ‘mlr’, ‘ParamHelpers’, ‘smoof’, ‘BBmisc’, ‘checkmate’, ‘lhs’, ‘parallelMap’\n",
            "\n",
            "\n",
            "Loading required package: mlrMBO\n",
            "\n",
            "Loading required package: mlr\n",
            "\n",
            "Loading required package: ParamHelpers\n",
            "\n",
            "Loading required package: smoof\n",
            "\n",
            "Loading required package: checkmate\n",
            "\n",
            "\n",
            "Attaching package: ‘checkmate’\n",
            "\n",
            "\n",
            "The following object is masked from ‘package:DiceKriging’:\n",
            "\n",
            "    checkNames\n",
            "\n",
            "\n"
          ]
        }
      ]
    },
    {
      "cell_type": "markdown",
      "source": [
        "### 2.2.3 Definicion de Parametros"
      ],
      "metadata": {
        "id": "Iz-6Qt6BUaA3"
      }
    },
    {
      "cell_type": "markdown",
      "source": [
        "aqui debe cargar SU semilla primigenia\n",
        "<br>recuerde cambiar el numero de experimento en cada corrida nueva"
      ],
      "metadata": {
        "id": "cOdlKd7lUm2I"
      }
    },
    {
      "cell_type": "code",
      "source": [
        "PARAM <- list()\n",
        "PARAM$experimento <- 59401\n",
        "PARAM$semilla_primigenia <- 206262\n"
      ],
      "metadata": {
        "id": "ASYkebOu2mF6"
      },
      "execution_count": 5,
      "outputs": []
    },
    {
      "cell_type": "code",
      "source": [
        "PARAM$kaggle$competencia <- \"labo-i-2025-virtual-analista-sr\"\n",
        "PARAM$kaggle$cortes <- seq(10000, 12000, by= 500)"
      ],
      "metadata": {
        "id": "ezOhQdbA293o"
      },
      "execution_count": 6,
      "outputs": []
    },
    {
      "cell_type": "code",
      "source": [
        "# un undersampling de 0.1  toma solo el 10% de los CONTINUA\n",
        "# undersampling de 1.0  implica tomar TODOS los datos\n",
        "\n",
        "PARAM$trainingstrategy$undersampling <- 0.5"
      ],
      "metadata": {
        "id": "jtB0Lub42rHO"
      },
      "execution_count": 7,
      "outputs": []
    },
    {
      "cell_type": "code",
      "source": [
        "# Parametros LightGBM\n",
        "\n",
        "PARAM$hyperparametertuning$xval_folds <- 5\n",
        "\n",
        "# parametros fijos del LightGBM que se pisaran con la parte variable de la BO\n",
        "PARAM$lgbm$param_fijos <-  list(\n",
        "  boosting= \"gbdt\", # puede ir  dart  , ni pruebe random_forest\n",
        "  objective= \"binary\",\n",
        "  metric= \"auc\",\n",
        "  first_metric_only= FALSE,\n",
        "  boost_from_average= TRUE,\n",
        "  feature_pre_filter= FALSE,\n",
        "  force_row_wise= TRUE, # para reducir warnings\n",
        "  verbosity= -100,\n",
        "\n",
        "  seed= PARAM$semilla_primigenia,\n",
        "\n",
        "  max_depth= -1L, # -1 significa no limitar,  por ahora lo dejo fijo\n",
        "  min_gain_to_split= 0, # min_gain_to_split >= 0\n",
        "  min_sum_hessian_in_leaf= 0.001, #  min_sum_hessian_in_leaf >= 0.0\n",
        "  lambda_l1= 0.0, # lambda_l1 >= 0.0\n",
        "  lambda_l2= 0.0, # lambda_l2 >= 0.0\n",
        "  max_bin= 31L, # lo debo dejar fijo, no participa de la BO\n",
        "\n",
        "  bagging_fraction= 1.0, # 0.0 < bagging_fraction <= 1.0\n",
        "  pos_bagging_fraction= 1.0, # 0.0 < pos_bagging_fraction <= 1.0\n",
        "  neg_bagging_fraction= 1.0, # 0.0 < neg_bagging_fraction <= 1.0\n",
        "  is_unbalance= FALSE, #\n",
        "  scale_pos_weight= 1.0, # scale_pos_weight > 0.0\n",
        "\n",
        "  drop_rate= 0.1, # 0.0 < neg_bagging_fraction <= 1.0\n",
        "  max_drop= 50, # <=0 means no limit\n",
        "  skip_drop= 0.5, # 0.0 <= skip_drop <= 1.0\n",
        "\n",
        "  extra_trees= FALSE,\n",
        "\n",
        "  num_iterations= 1200,\n",
        "  learning_rate= 0.02,\n",
        "  feature_fraction= 0.5,\n",
        "  num_leaves= 750,\n",
        "  min_data_in_leaf= 5000\n",
        ")\n"
      ],
      "metadata": {
        "id": "OFxm-xiNUOJX"
      },
      "execution_count": 8,
      "outputs": []
    },
    {
      "cell_type": "markdown",
      "source": [
        " HIPERPARÁMETROS OPTIMIZADOS SEGÚN EL PAPER\n",
        "### ============================================================================\n",
        "# Basado en Imani & Arabnia (2023):\n",
        "# - LightGBM alcanzó ROC AUC = 91% con optimización\n",
        "# - Parámetros clave identificados:\n",
        "#   * num_leaves = 1169\n",
        "#   * max_depth = 10\n",
        "#   * lambda_l1 = 2.689e-7 (regularización L1 muy pequeña)\n",
        "#   * lambda_l2 = 7.238e-8 (regularización L2 muy pequeña)\n",
        "#   * feature_fraction = 0.8708\n",
        "#   * bagging_fraction = 0.6281\n",
        "#   * bagging_freq = 7"
      ],
      "metadata": {
        "id": "2OOwsva4IF6c"
      }
    },
    {
      "cell_type": "markdown",
      "source": [
        "Aqui se definen los hiperparámetros de LightGBM que participan de la Bayesian Optimization\n",
        "<br> si es un numero entero debe ir  makeIntegerParam\n",
        "<br> si es un numero real (con decimales) debe ir  makeNumericParam\n",
        "<br> es muy importante leer cuales son un lower y upper  permitidos y ademas razonables"
      ],
      "metadata": {
        "id": "D5Yj-JV4yvOt"
      }
    },
    {
      "cell_type": "code",
      "source": [
        "cat(\"\\n\")\n",
        "cat(\"=========================================================================\\n\")\n",
        "cat(\"CONFIGURACIÓN DE HIPERPARÁMETROS BASADA EN IMANI & ARABNIA (2023)\\n\")\n",
        "cat(\"=========================================================================\\n\")\n",
        "cat(\"Paper: LightGBM alcanzó ROC AUC = 91%\\n\")\n",
        "cat(\"Optimizando 12 hiperparámetros críticos identificados en el paper\\n\")\n",
        "cat(\"=========================================================================\\n\\n\")\n",
        "\n",
        "# Aqui se cargan los bordes de los hiperparametros de la BO\n",
        "PARAM$hyperparametertuning$hs <- makeParamSet(\n",
        "\n",
        "  # === PARÁMETROS BÁSICOS (originales del profesor) ===\n",
        "  makeIntegerParam(\"num_iterations\", lower= 100L, upper= 2000L),\n",
        "  makeNumericParam(\"learning_rate\", lower= 0.01, upper= 0.3),\n",
        "  makeIntegerParam(\"num_leaves\", lower= 31L, upper= 2048L),  # Paper: 1169\n",
        "  makeIntegerParam(\"min_data_in_leaf\", lower= 1L, upper= 8000L),\n",
        "\n",
        "  # === PARÁMETROS DE MUESTREO (críticos según paper) ===\n",
        "  makeNumericParam(\"feature_fraction\", lower= 0.4, upper= 1.0),  # Paper: 0.8708\n",
        "  makeNumericParam(\"bagging_fraction\", lower= 0.4, upper= 1.0),  # Paper: 0.6281\n",
        "  makeIntegerParam(\"bagging_freq\", lower= 1L, upper= 10L),       # Paper: 7\n",
        "\n",
        "  # === ESTRUCTURA DEL ÁRBOL ===\n",
        "  makeIntegerParam(\"max_depth\", lower= 3L, upper= 15L),          # Paper: 10\n",
        "\n",
        "  # === REGULARIZACIÓN (MUY IMPORTANTE para evitar overfitting) ===\n",
        "  # El paper encontró que valores MUY PEQUEÑOS pero NO CERO son óptimos\n",
        "  makeNumericParam(\"lambda_l1\", lower= 1e-8, upper= 10.0),       # Paper: 2.689e-7\n",
        "  makeNumericParam(\"lambda_l2\", lower= 1e-8, upper= 10.0),       # Paper: 7.238e-8\n",
        "\n",
        "  # === OTROS PARÁMETROS IMPORTANTES ===\n",
        "  makeIntegerParam(\"min_child_samples\", lower= 5L, upper= 100L), # Paper: 8\n",
        "  makeNumericParam(\"min_gain_to_split\", lower= 0.0, upper= 1.0)\n",
        ")\n",
        "\n",
        "cat(\"Hiperparámetros a optimizar:\\n\")\n",
        "cat(\"  1. num_iterations     [100, 2000]      - Número de árboles\\n\")\n",
        "cat(\"  2. learning_rate      [0.01, 0.3]      - Tasa de aprendizaje\\n\")\n",
        "cat(\"  3. num_leaves         [31, 2048]       - Hojas por árbol (paper: 1169)\\n\")\n",
        "cat(\"  4. min_data_in_leaf   [1, 8000]        - Mínimo de datos por hoja\\n\")\n",
        "cat(\"  5. feature_fraction   [0.4, 1.0]       - % features por árbol (paper: 0.87)\\n\")\n",
        "cat(\"  6. bagging_fraction   [0.4, 1.0]       - % datos por árbol (paper: 0.63)\\n\")\n",
        "cat(\"  7. bagging_freq       [1, 10]          - Frecuencia bagging (paper: 7)\\n\")\n",
        "cat(\"  8. max_depth          [3, 15]          - Profundidad máxima (paper: 10)\\n\")\n",
        "cat(\"  9. lambda_l1          [1e-8, 10]       - Regularización L1 (paper: 2.7e-7)\\n\")\n",
        "cat(\" 10. lambda_l2          [1e-8, 10]       - Regularización L2 (paper: 7.2e-8)\\n\")\n",
        "cat(\" 11. min_child_samples  [5, 100]         - Min samples en nodo hijo (paper: 8)\\n\")\n",
        "cat(\" 12. min_gain_to_split  [0, 1]           - Ganancia mínima para split\\n\")\n",
        "cat(\"\\n\")\n",
        "\n",
        "# A mayor cantidad de hiperparámetros, se debe aumentar las iteraciones de la Bayesian Optimization\n",
        "# RECOMENDACIÓN BASADA EN EL PAPER Y TIEMPO DISPONIBLE:\n",
        "# - 30 iteraciones: Insuficiente para 12 hiperparámetros\n",
        "# - 50 iteraciones: Balance óptimo tiempo/calidad ⭐\n",
        "# - 100+ iteraciones: Ideal pero requiere mucho tiempo\n",
        "\n",
        "PARAM$hyperparametertuning$iteraciones <- 50  # ⚠️ Ajustar según tiempo disponible\n",
        "\n",
        "cat(\"Iteraciones de Optimización Bayesiana:\", PARAM$hyperparametertuning$iteraciones, \"\\n\")\n",
        "cat(\"Tiempo estimado: ~\", round(PARAM$hyperparametertuning$iteraciones * 2.5 / 60, 1), \"horas\\n\")\n",
        "cat(\"Con 50 iteraciones tendrás un buen balance entre calidad y tiempo.\\n\")\n",
        "cat(\"\\n\")\n"
      ],
      "metadata": {
        "id": "jENpR26ZyuS8",
        "colab": {
          "base_uri": "https://localhost:8080/"
        },
        "outputId": "e1d406cd-c137-452f-9f0f-b3ce13b04796"
      },
      "execution_count": 9,
      "outputs": [
        {
          "output_type": "stream",
          "name": "stdout",
          "text": [
            "\n",
            "=========================================================================\n",
            "CONFIGURACIÓN DE HIPERPARÁMETROS BASADA EN IMANI & ARABNIA (2023)\n",
            "=========================================================================\n",
            "Paper: LightGBM alcanzó ROC AUC = 91%\n",
            "Optimizando 12 hiperparámetros críticos identificados en el paper\n",
            "=========================================================================\n",
            "\n",
            "Hiperparámetros a optimizar:\n",
            "  1. num_iterations     [100, 2000]      - Número de árboles\n",
            "  2. learning_rate      [0.01, 0.3]      - Tasa de aprendizaje\n",
            "  3. num_leaves         [31, 2048]       - Hojas por árbol (paper: 1169)\n",
            "  4. min_data_in_leaf   [1, 8000]        - Mínimo de datos por hoja\n",
            "  5. feature_fraction   [0.4, 1.0]       - % features por árbol (paper: 0.87)\n",
            "  6. bagging_fraction   [0.4, 1.0]       - % datos por árbol (paper: 0.63)\n",
            "  7. bagging_freq       [1, 10]          - Frecuencia bagging (paper: 7)\n",
            "  8. max_depth          [3, 15]          - Profundidad máxima (paper: 10)\n",
            "  9. lambda_l1          [1e-8, 10]       - Regularización L1 (paper: 2.7e-7)\n",
            " 10. lambda_l2          [1e-8, 10]       - Regularización L2 (paper: 7.2e-8)\n",
            " 11. min_child_samples  [5, 100]         - Min samples en nodo hijo (paper: 8)\n",
            " 12. min_gain_to_split  [0, 1]           - Ganancia mínima para split\n",
            "\n",
            "Iteraciones de Optimización Bayesiana: 50 \n",
            "Tiempo estimado: ~ 2.1 horas\n",
            "Con 50 iteraciones tendrás un buen balance entre calidad y tiempo.\n",
            "\n"
          ]
        }
      ]
    },
    {
      "cell_type": "markdown",
      "source": [
        "A mayor cantidad de hiperparámetros, se debe aumentar las iteraciones de la Bayesian Optimization\n",
        "<br> 30 es un valor muy tacaño, pero corre rápido\n",
        "<br> deberia partir de 50, alcanzando los 100 si se dispone de tiempo"
      ],
      "metadata": {
        "id": "-_RPFUb3zMoW"
      }
    },
    {
      "cell_type": "markdown",
      "source": [
        "### 2.2.4  Preprocesamiento"
      ],
      "metadata": {
        "id": "4RWZXL1VZjMI"
      }
    },
    {
      "cell_type": "code",
      "source": [
        "# carpeta de trabajo\n",
        "\n",
        "setwd(\"/content/buckets/b1/exp\")\n",
        "experimento_folder <- paste0(\"HT\", PARAM$experimento)\n",
        "dir.create(experimento_folder, showWarnings=FALSE)\n",
        "setwd( paste0(\"/content/buckets/b1/exp/\", experimento_folder ))"
      ],
      "metadata": {
        "id": "j3toG9-lZm4K"
      },
      "execution_count": 10,
      "outputs": []
    },
    {
      "cell_type": "code",
      "source": [
        "# lectura del dataset\n",
        "\n",
        "dataset <- fread(\"/content/datasets/dataset_pequeno.csv\")"
      ],
      "metadata": {
        "id": "FM3lxKoLZ643"
      },
      "execution_count": 11,
      "outputs": []
    },
    {
      "cell_type": "code",
      "source": [
        "dataset_train <- dataset[foto_mes %in% c(202107)]"
      ],
      "metadata": {
        "id": "OsJ-91UeZ-I_"
      },
      "execution_count": 12,
      "outputs": []
    },
    {
      "cell_type": "code",
      "source": [
        "# paso la clase a binaria que tome valores {0,1}  enteros\n",
        "#  BAJA+1 y BAJA+2  son  1,   CONTINUA es 0\n",
        "\n",
        "dataset_train[,\n",
        "  clase01 := ifelse(clase_ternaria %in% c(\"BAJA+2\",\"BAJA+1\"), 1L, 0L)\n",
        "]"
      ],
      "metadata": {
        "id": "vrWE7BE0aB2J"
      },
      "execution_count": 13,
      "outputs": []
    },
    {
      "cell_type": "code",
      "source": [
        "# defino los datos que forma parte del training\n",
        "# aqui se hace el undersampling de los CONTINUA\n",
        "# notar que para esto utilizo la SEGUNDA semilla\n",
        "\n",
        "set.seed(PARAM$semilla_primigenia, kind = \"L'Ecuyer-CMRG\")\n",
        "dataset_train[, azar := runif(nrow(dataset_train))]\n",
        "dataset_train[, training := 0L]\n",
        "\n",
        "dataset_train[\n",
        "  foto_mes %in% c(858956) &\n",
        "    (azar <= PARAM$trainingstrategy$undersampling | clase_ternaria %in% c(\"BAJA+1\", \"BAJA+2\")),\n",
        "  training := 1L\n",
        "]"
      ],
      "metadata": {
        "id": "jP7YlQBnaW6W"
      },
      "execution_count": 21,
      "outputs": []
    },
    {
      "cell_type": "code",
      "source": [
        "# los campos que se van a utilizar\n",
        "\n",
        "campos_buenos <- setdiff(\n",
        "  colnames(dataset_train),\n",
        "  c(\"clase_ternaria\", \"clase01\", \"azar\", \"training\")\n",
        ")"
      ],
      "metadata": {
        "id": "xElu4s5W4rX7"
      },
      "execution_count": 15,
      "outputs": []
    },
    {
      "cell_type": "code",
      "source": [
        "# dejo los datos en el formato que necesita LightGBM\n",
        "\n",
        "dtrain <- lgb.Dataset(\n",
        "  data= data.matrix(dataset_train[training == 1L, campos_buenos, with= FALSE]),\n",
        "  label= dataset_train[training == 1L, clase01],\n",
        "  free_raw_data= FALSE\n",
        ")\n",
        "\n",
        "nrow(dtrain)\n",
        "ncol(dtrain)"
      ],
      "metadata": {
        "id": "PppMHcGYaaol",
        "colab": {
          "base_uri": "https://localhost:8080/",
          "height": 52
        },
        "outputId": "a03375c2-ff4b-4fc5-9ba8-cfae05d031fb"
      },
      "execution_count": 16,
      "outputs": [
        {
          "output_type": "display_data",
          "data": {
            "text/html": [
              "83771"
            ],
            "text/markdown": "83771",
            "text/latex": "83771",
            "text/plain": [
              "[1] 83771"
            ]
          },
          "metadata": {}
        },
        {
          "output_type": "display_data",
          "data": {
            "text/html": [
              "154"
            ],
            "text/markdown": "154",
            "text/latex": "154",
            "text/plain": [
              "[1] 154"
            ]
          },
          "metadata": {}
        }
      ]
    },
    {
      "cell_type": "markdown",
      "source": [
        "2.2.5 Configuracion Bayesian Optimization"
      ],
      "metadata": {
        "id": "Ta-EkOu3cphF"
      }
    },
    {
      "cell_type": "code",
      "source": [
        "# En el argumento x llegan los parmaetros de la bayesiana\n",
        "#  devuelve la AUC en cross validation del modelo entrenado\n",
        "\n",
        "EstimarGanancia_AUC_lightgbm <- function(x) {\n",
        "\n",
        "  # x pisa (o agrega) a param_fijos\n",
        "  param_completo <- modifyList(PARAM$lgbm$param_fijos, x)\n",
        "\n",
        "  # entreno LightGBM\n",
        "  modelocv <- lgb.cv(\n",
        "    data= dtrain,\n",
        "    nfold= PARAM$hyperparametertuning$xval_folds,\n",
        "    stratified= TRUE,\n",
        "    param= param_completo\n",
        "  )\n",
        "\n",
        "  # obtengo la ganancia\n",
        "  AUC <- modelocv$best_score\n",
        "\n",
        "  # hago espacio en la memoria\n",
        "  rm(modelocv)\n",
        "  gc(full= TRUE, verbose= FALSE)\n",
        "\n",
        "  message(format(Sys.time(), \"%a %b %d %X %Y\"), \" AUC \", AUC)\n",
        "\n",
        "  return(AUC)\n",
        "}"
      ],
      "metadata": {
        "id": "cjgfurjdfiXb"
      },
      "execution_count": 17,
      "outputs": []
    },
    {
      "cell_type": "code",
      "source": [
        "# Aqui comienza la configuracion de la Bayesian Optimization\n",
        "\n",
        "# en este archivo quedan la evolucion binaria de la BO\n",
        "kbayesiana <- \"bayesiana.RDATA\"\n",
        "\n",
        "funcion_optimizar <- EstimarGanancia_AUC_lightgbm # la funcion que voy a maximizar\n",
        "\n",
        "configureMlr(show.learner.output= FALSE)\n",
        "\n",
        "# configuro la busqueda bayesiana,  los hiperparametros que se van a optimizar\n",
        "# por favor, no desesperarse por lo complejo\n",
        "\n",
        "obj.fun <- makeSingleObjectiveFunction(\n",
        "  fn= funcion_optimizar, # la funcion que voy a maximizar\n",
        "  minimize= FALSE, # estoy Maximizando la ganancia\n",
        "  noisy= TRUE,\n",
        "  par.set= PARAM$hyperparametertuning$hs, # defined at the beginning of the program\n",
        "  has.simple.signature= FALSE # paso los parametros en una lista\n",
        ")\n",
        "\n",
        "# cada 600 segundos guardo el resultado intermedio\n",
        "ctrl <- makeMBOControl(\n",
        "  save.on.disk.at.time= 600, # se graba cada 600 segundos\n",
        "  save.file.path= kbayesiana\n",
        ") # se graba cada 600 segundos\n",
        "\n",
        "# indico la cantidad de iteraciones que va a tener la Bayesian Optimization\n",
        "ctrl <- setMBOControlTermination(\n",
        "  ctrl,\n",
        "  iters= PARAM$hyperparametertuning$iteraciones\n",
        ") # cantidad de iteraciones\n",
        "\n",
        "# defino el método estandar para la creacion de los puntos iniciales,\n",
        "# los \"No Inteligentes\"\n",
        "ctrl <- setMBOControlInfill(ctrl, crit= makeMBOInfillCritEI())\n",
        "\n",
        "# establezco la funcion que busca el maximo\n",
        "surr.km <- makeLearner(\n",
        "  \"regr.km\",\n",
        "  predict.type= \"se\",\n",
        "  covtype= \"matern3_2\",\n",
        "  control= list(trace= TRUE)\n",
        ")"
      ],
      "metadata": {
        "id": "WLi_o1hocvN-"
      },
      "execution_count": 19,
      "outputs": []
    },
    {
      "cell_type": "markdown",
      "source": [
        "2.2.6 Corrida Bayesian Optimization"
      ],
      "metadata": {
        "id": "_uUeVo5pc4zc"
      }
    },
    {
      "cell_type": "code",
      "source": [
        "# inicio la optimizacion bayesiana, retomando si ya existe\n",
        "# es la celda mas lenta de todo el notebook\n",
        "\n",
        "if (!file.exists(kbayesiana)) {\n",
        "  bayesiana_salida <- mbo(obj.fun, learner= surr.km, control= ctrl)\n",
        "} else {\n",
        "  bayesiana_salida <- mboContinue(kbayesiana) # retomo en caso que ya exista\n",
        "}"
      ],
      "metadata": {
        "id": "RcABNaKGciaz",
        "colab": {
          "base_uri": "https://localhost:8080/"
        },
        "outputId": "7ba8fdcc-3d8b-45a8-d37d-3665544e4cc6"
      },
      "execution_count": null,
      "outputs": [
        {
          "output_type": "stream",
          "name": "stderr",
          "text": [
            "Computing y column(s) for design. Not provided.\n",
            "\n",
            "Wed Oct 29 01:37:20 PM 2025 AUC 0.926291478425301\n",
            "\n",
            "Wed Oct 29 01:38:57 PM 2025 AUC 0.925882055074092\n",
            "\n",
            "Wed Oct 29 01:40:01 PM 2025 AUC 0.923888012396983\n",
            "\n",
            "Wed Oct 29 01:41:05 PM 2025 AUC 0.925205232363243\n",
            "\n",
            "Wed Oct 29 01:43:14 PM 2025 AUC 0.922915832077353\n",
            "\n",
            "Wed Oct 29 01:46:27 PM 2025 AUC 0.925124233667086\n",
            "\n",
            "Wed Oct 29 01:47:22 PM 2025 AUC 0.925412964627511\n",
            "\n",
            "Wed Oct 29 01:49:14 PM 2025 AUC 0.927069676227007\n",
            "\n",
            "Wed Oct 29 01:51:23 PM 2025 AUC 0.91959845182483\n",
            "\n",
            "Wed Oct 29 01:53:48 PM 2025 AUC 0.924184207457471\n",
            "\n",
            "Wed Oct 29 01:55:37 PM 2025 AUC 0.921797154109543\n",
            "\n"
          ]
        }
      ]
    },
    {
      "cell_type": "code",
      "metadata": {
        "id": "93f0202d"
      },
      "source": [
        "# Attempt to install packages from CRAN\n",
        "install.packages(c(\"primes\", \"rlist\", \"DiceKriging\", \"mlrMBO\"), dependencies = TRUE)"
      ],
      "execution_count": null,
      "outputs": []
    },
    {
      "cell_type": "code",
      "metadata": {
        "id": "2145a284"
      },
      "source": [
        "# Install lightgbm from GitHub\n",
        "# This requires devtools package\n",
        "if (!require(\"devtools\")) install.packages(\"devtools\")\n",
        "devtools::install_github(\"microsoft/LightGBM\", subdir = \"R\")"
      ],
      "execution_count": null,
      "outputs": []
    },
    {
      "cell_type": "markdown",
      "metadata": {
        "id": "57398b0e"
      },
      "source": [
        "After running the installation cells above, run the cell below to load the required libraries. If any packages still fail to load, you may need to investigate their specific installation requirements."
      ]
    },
    {
      "cell_type": "code",
      "metadata": {
        "id": "05df7a31"
      },
      "source": [
        "# cargo las librerias que necesito\n",
        "require(\"data.table\")\n",
        "require(\"parallel\")\n",
        "require(\"primes\")\n",
        "require(\"utils\")\n",
        "require(\"rlist\")\n",
        "require(\"yaml\")\n",
        "require(\"lightgbm\")\n",
        "require(\"DiceKriging\")\n",
        "require(\"mlrMBO\")"
      ],
      "execution_count": null,
      "outputs": []
    },
    {
      "cell_type": "code",
      "source": [
        "\n",
        "tb_bayesiana <- as.data.table(bayesiana_salida$opt.path)\n",
        "colnames( tb_bayesiana)"
      ],
      "metadata": {
        "id": "ssk5nnMk6INK"
      },
      "execution_count": null,
      "outputs": []
    },
    {
      "cell_type": "code",
      "source": [
        "# almaceno los resultados de la Bayesian Optimization\n",
        "# y capturo los mejores hiperparametros encontrados\n",
        "\n",
        "tb_bayesiana <- as.data.table(bayesiana_salida$opt.path)\n",
        "\n",
        "tb_bayesiana[, iter := .I]\n",
        "\n",
        "# ordeno en forma descendente por AUC = y\n",
        "setorder(tb_bayesiana, -y)\n",
        "\n",
        "# grabo para eventualmente poder utilizarlos en OTRA corrida\n",
        "fwrite( tb_bayesiana,\n",
        "  file= \"BO_log.txt\",\n",
        "  sep= \"\\t\"\n",
        ")\n",
        "\n",
        "# los mejores hiperparámetros son los que quedaron en el registro 1 de la tabla\n",
        "PARAM$out$lgbm$mejores_hiperparametros <- tb_bayesiana[\n",
        "  1, # el primero es el de mejor AUC\n",
        "  setdiff(colnames(tb_bayesiana),\n",
        "    c(\"y\",\"dob\",\"eol\",\"error.message\",\"exec.time\",\"ei\",\"error.model\",\n",
        "      \"train.time\",\"prop.type\",\"propose.time\",\"se\",\"mean\",\"iter\")),\n",
        "  with= FALSE\n",
        "]\n",
        "\n",
        "\n",
        "PARAM$out$lgbm$y <- tb_bayesiana[1, y]\n"
      ],
      "metadata": {
        "id": "u4zq-vknhjGc"
      },
      "execution_count": null,
      "outputs": []
    },
    {
      "cell_type": "code",
      "source": [
        "write_yaml( PARAM, file=\"PARAM.yml\")"
      ],
      "metadata": {
        "id": "E8v2eA427N8e"
      },
      "execution_count": null,
      "outputs": []
    },
    {
      "cell_type": "code",
      "source": [
        "print(PARAM$out$lgbm$mejores_hiperparametros)\n",
        "print(PARAM$out$lgbm$y)"
      ],
      "metadata": {
        "id": "iBTWexVU7PGC"
      },
      "execution_count": null,
      "outputs": []
    },
    {
      "cell_type": "markdown",
      "source": [
        "## 2.3  Produccion"
      ],
      "metadata": {
        "id": "TKsVZmAnhwX-"
      }
    },
    {
      "cell_type": "markdown",
      "source": [
        "### Final Training\n",
        "Construyo el modelo final, que es uno solo, no hace ningun tipo de particion < training, validation, testing>]"
      ],
      "metadata": {
        "id": "RQ_C33Tr5B_9"
      }
    },
    {
      "cell_type": "code",
      "source": [
        "setwd(\"/content/buckets/b1/exp\")\n",
        "experimento <- paste0(\"exp\", PARAM$experimento)\n",
        "dir.create(experimento, showWarnings= FALSE)\n",
        "setwd( paste0(\"/content/buckets/b1/exp/\", experimento ))"
      ],
      "metadata": {
        "id": "eDqfyA14hzwv"
      },
      "execution_count": null,
      "outputs": []
    },
    {
      "cell_type": "markdown",
      "source": [
        "#### Final Training Dataset\n",
        "\n",
        "Aqui esta la gran decision de en qué meses hago el Final Training\n",
        "<br> debo utilizar los mejores hiperparámetros que encontré en la optimización bayesiana"
      ],
      "metadata": {
        "id": "8qFmFivf5Iet"
      }
    },
    {
      "cell_type": "code",
      "source": [
        "# clase01\n",
        "dataset[, clase01 := ifelse(clase_ternaria %in% c(\"BAJA+1\", \"BAJA+2\"), 1L, 0L)]"
      ],
      "metadata": {
        "id": "lg5WVZncvc7H"
      },
      "execution_count": null,
      "outputs": []
    },
    {
      "cell_type": "code",
      "source": [
        "dataset_train <- dataset[foto_mes %in% c(202107)]"
      ],
      "metadata": {
        "id": "yc9QzXREv0xf"
      },
      "execution_count": null,
      "outputs": []
    },
    {
      "cell_type": "code",
      "source": [
        "# dejo los datos en el formato que necesita LightGBM\n",
        "\n",
        "dtrain <- lgb.Dataset(\n",
        "  data= data.matrix(dataset_train[, campos_buenos, with= FALSE]),\n",
        "  label= dataset_train[, clase01]\n",
        ")"
      ],
      "metadata": {
        "id": "thjdqEBLuvNt"
      },
      "execution_count": null,
      "outputs": []
    },
    {
      "cell_type": "markdown",
      "source": [
        "#### Final Training Hyperparameters"
      ],
      "metadata": {
        "id": "VNUa-WSz5Oqu"
      }
    },
    {
      "cell_type": "code",
      "source": [
        "param_final <- modifyList(PARAM$lgbm$param_fijos,\n",
        "  PARAM$out$lgbm$mejores_hiperparametros)\n",
        "\n",
        "param_final"
      ],
      "metadata": {
        "id": "FgCcvBfEwImu"
      },
      "execution_count": null,
      "outputs": []
    },
    {
      "cell_type": "markdown",
      "source": [
        "#### Training\n",
        "Genero el modelo final, siempre sobre TODOS los datos de  final_train, sin hacer ningun tipo de undersampling de la clase mayoritaria"
      ],
      "metadata": {
        "id": "TZIYn4l95TBH"
      }
    },
    {
      "cell_type": "code",
      "source": [
        "# este punto es muy SUTIL  y será revisado en la Clase 05\n",
        "\n",
        "param_normalizado <- copy(param_final)\n",
        "param_normalizado$min_data_in_leaf <-  round(param_final$min_data_in_leaf / PARAM$trainingstrategy$undersampling)"
      ],
      "metadata": {
        "id": "vPLsd4mMRe4u"
      },
      "execution_count": null,
      "outputs": []
    },
    {
      "cell_type": "code",
      "source": [
        "  # entreno LightGBM\n",
        "\n",
        "  modelo_final <- lgb.train(\n",
        "    data= dtrain,\n",
        "    param= param_normalizado\n",
        "  )"
      ],
      "metadata": {
        "id": "WRI_-taRwOXO"
      },
      "execution_count": null,
      "outputs": []
    },
    {
      "cell_type": "code",
      "source": [
        "# ahora imprimo la importancia de variables\n",
        "\n",
        "tb_importancia <- as.data.table(lgb.importance(modelo_final))\n",
        "archivo_importancia <- \"impo.txt\"\n",
        "\n",
        "fwrite(tb_importancia,\n",
        "  file= archivo_importancia,\n",
        "  sep= \"\\t\"\n",
        ")"
      ],
      "metadata": {
        "id": "_bkhnCvj0g3Q"
      },
      "execution_count": null,
      "outputs": []
    },
    {
      "cell_type": "code",
      "source": [
        "# grabo a disco el modelo en un formato para seres humanos ... ponele ...\n",
        "\n",
        "lgb.save(modelo_final, \"modelo.txt\" )"
      ],
      "metadata": {
        "id": "lZ3sLmbh0kFj"
      },
      "execution_count": null,
      "outputs": []
    },
    {
      "cell_type": "markdown",
      "source": [
        "### Scoring"
      ],
      "metadata": {
        "id": "VEtp2--t5Ymg"
      }
    },
    {
      "cell_type": "markdown",
      "source": [
        "Aplico el modelo final a los datos del futuro"
      ],
      "metadata": {
        "id": "hI5008Mj5ZdI"
      }
    },
    {
      "cell_type": "code",
      "source": [
        "# aplico el modelo a los datos sin clase\n",
        "dfuture <- dataset[foto_mes == 202109]\n",
        "\n",
        "# aplico el modelo a los datos nuevos\n",
        "prediccion <- predict(\n",
        "  modelo_final,\n",
        "  data.matrix(dfuture[, campos_buenos, with= FALSE])\n",
        ")"
      ],
      "metadata": {
        "id": "PimBY3N_0ryP"
      },
      "execution_count": null,
      "outputs": []
    },
    {
      "cell_type": "markdown",
      "source": [
        "#### Tabla Prediccion"
      ],
      "metadata": {
        "id": "D26rNRh55gpw"
      }
    },
    {
      "cell_type": "code",
      "source": [
        "# tabla de prediccion\n",
        "\n",
        "tb_prediccion <- dfuture[, list(numero_de_cliente)]\n",
        "tb_prediccion[, prob := prediccion ]\n",
        "\n",
        "# grabo las probabilidad del modelo\n",
        "fwrite(tb_prediccion,\n",
        "  file= \"prediccion.txt\",\n",
        "  sep= \"\\t\"\n",
        ")"
      ],
      "metadata": {
        "id": "RJwg7LHd11yu"
      },
      "execution_count": null,
      "outputs": []
    },
    {
      "cell_type": "markdown",
      "source": [
        "Kaggle Competition Submit"
      ],
      "metadata": {
        "id": "jOt4eG_55ltv"
      }
    },
    {
      "cell_type": "code",
      "source": [
        "# genero archivos con los  \"envios\" mejores\n",
        "# suba TODOS los archivos a Kaggle\n",
        "\n",
        "# ordeno por probabilidad descendente\n",
        "setorder(tb_prediccion, -prob)\n",
        "\n",
        "dir.create(\"kaggle\")\n",
        "\n",
        "for (envios in PARAM$kaggle$cortes) {\n",
        "\n",
        "  tb_prediccion[, Predicted := 0L] # seteo inicial a 0\n",
        "  tb_prediccion[1:envios, Predicted := 1L] # marclo los primeros\n",
        "\n",
        "  archivo_kaggle <- paste0(\"./kaggle/KA\", PARAM$experimento, \"_\", envios, \".csv\")\n",
        "\n",
        "  # grabo el archivo\n",
        "  fwrite(tb_prediccion[, list(numero_de_cliente, Predicted)],\n",
        "    file= archivo_kaggle,\n",
        "    sep= \",\"\n",
        "  )\n",
        "\n",
        "  # subida a Kaggle, armo la linea de comando\n",
        "  comando <- \"kaggle competitions submit\"\n",
        "  competencia <- paste(\"-c\", PARAM$kaggle$competencia)\n",
        "  arch <- paste( \"-f\", archivo_kaggle)\n",
        "\n",
        "  mensaje <- paste0(\"-m 'envios=\", envios,\n",
        "  \"  semilla=\", PARAM$semilla_primigenia,\n",
        "    \"'\" )\n",
        "\n",
        "  linea <- paste( comando, competencia, arch, mensaje)\n",
        "\n",
        "  salida <- system(linea, intern=TRUE) # el submit a Kaggle\n",
        "  cat(salida, \"\\n\")\n",
        "  Sys.sleep(45)\n",
        "}"
      ],
      "metadata": {
        "id": "gWW3tatE12je"
      },
      "execution_count": null,
      "outputs": []
    },
    {
      "cell_type": "code",
      "source": [
        "write_yaml( PARAM, file=\"PARAM.yml\")"
      ],
      "metadata": {
        "id": "B9tB2X4439Hg"
      },
      "execution_count": null,
      "outputs": []
    },
    {
      "cell_type": "code",
      "source": [
        "format(Sys.time(), \"%a %b %d %X %Y\")"
      ],
      "metadata": {
        "id": "9zA_W25c15DP"
      },
      "execution_count": null,
      "outputs": []
    },
    {
      "cell_type": "markdown",
      "source": [
        "Finalmente usted deberá cargar el resultado de su corrida en la Google Sheet Colaborativa,  hoja **TareaHogar-05**\n",
        "<br> Siéntase libre de agregar las columnas que hagan falta a la planilla"
      ],
      "metadata": {
        "id": "UdVZucdLHzZ0"
      }
    },
    {
      "cell_type": "markdown",
      "source": [
        "Seguramente usted realice varias corridas de este script con distintos conjuntos de hiperparámetros, siempre cambiandole el nombre al script  y también cambiando el nombre del experimento,  deberá TODAS esas corridas en distintas lineas de la  Google Sheet Colaborativa, hoja **TareaHogar-05**"
      ],
      "metadata": {
        "id": "5MB_67DmDTh0"
      }
    },
    {
      "cell_type": "markdown",
      "source": [
        "Siéntase libre de agregar columnas a la hoja **TareaHogar-05**  en caso de ser necesario."
      ],
      "metadata": {
        "id": "OnRUS_PhFI1Z"
      }
    }
  ]
}