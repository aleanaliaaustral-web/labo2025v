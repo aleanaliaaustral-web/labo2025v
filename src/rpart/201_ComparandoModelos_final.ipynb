{
  "nbformat": 4,
  "nbformat_minor": 0,
  "metadata": {
    "colab": {
      "provenance": [],
      "include_colab_link": true
    },
    "kernelspec": {
      "name": "ir",
      "display_name": "R"
    },
    "language_info": {
      "name": "R"
    }
  },
  "cells": [
    {
      "cell_type": "markdown",
      "metadata": {
        "id": "view-in-github",
        "colab_type": "text"
      },
      "source": [
        "<a href=\"https://colab.research.google.com/github/aleanaliaaustral-web/labo2025v/blob/main/src/rpart/201_ComparandoModelos_final.ipynb\" target=\"_parent\"><img src=\"https://colab.research.google.com/assets/colab-badge.svg\" alt=\"Open In Colab\"/></a>"
      ]
    },
    {
      "cell_type": "markdown",
      "source": [
        "# Comparando Modelos"
      ],
      "metadata": {
        "id": "5DrvzQ9BsXmX"
      }
    },
    {
      "cell_type": "markdown",
      "source": [
        "Estamos en la  Clase 02\n",
        "<br> El objetivo de la materia es lograr la mejor predicción para nuestro probleama, para lo que se probarán pipelines con decenas de alternativas, será indispensable comparar varios modelos predictivos entre sí y decidir cual es el mejor\n",
        "<br> La tarea no es tan sencilla"
      ],
      "metadata": {
        "id": "Y2U9lu16sgta"
      }
    },
    {
      "cell_type": "markdown",
      "source": [
        "## Seteo del ambiente en Google Colab"
      ],
      "metadata": {
        "id": "kmLygy1TYPfg"
      }
    },
    {
      "cell_type": "markdown",
      "source": [
        "Esta parte se debe correr con el runtime en Python3\n",
        "<br>Ir al menu, Runtime -> Change Runtime Tipe -> Runtime type ->  **Python 3**"
      ],
      "metadata": {
        "id": "OikOm5K2YU3X"
      }
    },
    {
      "cell_type": "markdown",
      "source": [
        "Conectar la virtual machine donde esta corriendo Google Colab con el  Google Drive, para poder tener persistencia de archivos"
      ],
      "metadata": {
        "id": "4fmV5LyZdFyI"
      }
    },
    {
      "cell_type": "code",
      "source": [
        "# primero establecer el Runtime de Python 3\n",
        "from google.colab import drive\n",
        "drive.mount('/content/.drive')"
      ],
      "metadata": {
        "id": "ilEZ-bE2VybW",
        "colab": {
          "base_uri": "https://localhost:8080/"
        },
        "outputId": "59c7174f-3052-4409-85df-3bb5af31d406"
      },
      "execution_count": 1,
      "outputs": [
        {
          "output_type": "stream",
          "name": "stdout",
          "text": [
            "Mounted at /content/.drive\n"
          ]
        }
      ]
    },
    {
      "cell_type": "markdown",
      "source": [
        "Para correr la siguiente celda es fundamental en Arranque en Frio haber copiado el archivo kaggle.json al Google Drive, en la carpeta indicada en el instructivo\n",
        "\n",
        "<br>los siguientes comando estan en shell script de Linux\n",
        "*   Crear las carpetas en el Google Drive\n",
        "*   \"instalar\" el archivo kaggle.json desde el Google Drive a la virtual machine para que pueda ser utilizado por la libreria  kaggle de Python\n",
        "*   Bajar el  **dataset_pequeno**  al  Google Drive  y tambien al disco local de la virtual machine que esta corriendo Google Colab\n",
        "\n"
      ],
      "metadata": {
        "id": "ilaKtqWldeWg"
      }
    },
    {
      "cell_type": "code",
      "source": [
        "%%shell\n",
        "\n",
        "mkdir -p \"/content/.drive/My Drive/labo1\"\n",
        "mkdir -p \"/content/buckets\"\n",
        "ln -s \"/content/.drive/My Drive/labo1\" /content/buckets/b1\n",
        "\n",
        "mkdir -p ~/.kaggle\n",
        "cp /content/buckets/b1/kaggle/kaggle.json  ~/.kaggle\n",
        "chmod 600 ~/.kaggle/kaggle.json\n",
        "\n",
        "\n",
        "mkdir -p /content/buckets/b1/exp\n",
        "mkdir -p /content/buckets/b1/datasets\n",
        "mkdir -p /content/datasets\n",
        "\n",
        "\n",
        "\n",
        "archivo_origen=\"https://storage.googleapis.com/open-courses/austral2025-af91/dataset_pequeno.csv\"\n",
        "archivo_destino=\"/content/datasets/dataset_pequeno.csv\"\n",
        "archivo_destino_bucket=\"/content/buckets/b1/datasets/dataset_pequeno.csv\"\n",
        "\n",
        "if ! test -f $archivo_destino_bucket; then\n",
        "  wget  $archivo_origen  -O $archivo_destino_bucket\n",
        "fi\n",
        "\n",
        "\n",
        "if ! test -f $archivo_destino; then\n",
        "  cp  $archivo_destino_bucket  $archivo_destino\n",
        "fi\n"
      ],
      "metadata": {
        "id": "W8dQFI5QYCFa",
        "colab": {
          "base_uri": "https://localhost:8080/"
        },
        "outputId": "5da8d454-f3aa-4dd7-a06b-f1cefae69896"
      },
      "execution_count": 2,
      "outputs": [
        {
          "output_type": "execute_result",
          "data": {
            "text/plain": []
          },
          "metadata": {},
          "execution_count": 2
        }
      ]
    },
    {
      "cell_type": "markdown",
      "source": [
        "# 1  Particion Training/Testing\n",
        "## Clase 02  Experimento 1"
      ],
      "metadata": {
        "id": "iV32-NeesVp6"
      }
    },
    {
      "cell_type": "markdown",
      "source": [
        "## 1.1  Objetivos\n",
        "Dado que es el primer experimento de la asignatura, acercar a l@s estudiantes las mejores prácticas de operación del ambiente de Google Cloud, realizando una minuciosa demostración en vivo narrando todas las consideraciones pertinentes para evitar accidentes, daños a terceros y a equipos.\n",
        "Dar soporte en el acto a  l@s estudiantes que necesitan ayuda para terminar de configurar el ambiente Google Cloud .\n",
        "<br>Repaso del concepto de  partición de un dataset al azar, estratificada en la clase\n",
        "<br>Dado que es el primer script que se mostrará en vivo a l@s estudiantes,  realizar una visita guiada del  mismo, su estructura y detalles.\n",
        "<br>Repaso del algoritmo Arbol de Decisión sus hiperparámetros, y la implementación con la librería  rpart.  Funciones  rpart::rpart  y rpart::predict\n",
        "<br>Concepto de replicabilidad de los experimentos mediante las semillas de los generadores de secuencias de números pseudoaleatorios.\n",
        "<br>Finalmente, el principal objetivo de este experimento es lograr que l@s estudiantes dimensionen la enorme variabilidad del error de medición de la ganancia de un árbol de decisión al realizar una partición <training, testing>,  contener la sorpresa de los estudiantes, descartar a la simple particion <training, testing> como método,  y construir en conjunto una solucion natural al problema."
      ],
      "metadata": {
        "id": "84Pnj9gVwpXB"
      }
    },
    {
      "cell_type": "markdown",
      "source": [
        "## 1.2 Introduccion"
      ],
      "metadata": {
        "id": "L9Cn0WThw37Y"
      }
    },
    {
      "cell_type": "markdown",
      "source": [
        "![Particiohn Training/Testing](https://storage.googleapis.com/open-courses/austral2025-af91/labo1r/C2_E1_particion.jpg)"
      ],
      "metadata": {
        "id": "ZELZ0R4itUVG"
      }
    },
    {
      "cell_type": "markdown",
      "source": [
        "![Dos tipos de error](https://storage.googleapis.com/open-courses/austral2025-af91/labo1r/C2_E1_target.jpg)"
      ],
      "metadata": {
        "id": "Wtc1ho58xLk-"
      }
    },
    {
      "cell_type": "markdown",
      "source": [
        "## 1.3  Bibliografía\n",
        "\n",
        "Demšar, J. [Statistical comparisons of classifiers over multiple data sets](https://www.jmlr.org/papers/volume7/demsar06a/demsar06a.pdf) J. Mach. Learn. Res. 7, 1–30 (2006).   \n",
        "Starmer, J. [Machine Learning Fundamentals: Cross Validation](https://www.youtube.com/watch?v=fSytzGwwBVw)Machine Learning Fundamentals: Cross Validation, StatQuest with Josh Starmer youtube channel, (2018)\n",
        "Hastie, T.[The elements of statistical learning: data mining, inference, and prediction](https://hastie.su.domains/Papers/ESLII.pdf) , volume 2. Springer, 2009  ( Chapter 7 Model Assessment and Selection )"
      ],
      "metadata": {
        "id": "oRWtRV34xZRT"
      }
    },
    {
      "cell_type": "markdown",
      "source": [
        "## 1.4 Codigo"
      ],
      "metadata": {
        "id": "VcgTQ2-Pyb8q"
      }
    },
    {
      "cell_type": "markdown",
      "source": [
        "Esta parte se debe correr con el runtime en lenguaje **R** Ir al menu, Runtime -> Change Runtime Tipe -> Runtime type -> R"
      ],
      "metadata": {
        "id": "SBXPU-_tabMb"
      }
    },
    {
      "cell_type": "markdown",
      "source": [
        "limpio el ambiente de R"
      ],
      "metadata": {
        "id": "SE94XRhWsxkX"
      }
    },
    {
      "cell_type": "code",
      "source": [
        "# limpio la memoria\n",
        "rm(list=ls(all.names=TRUE)) # remove all objects\n",
        "gc(full=TRUE, verbose=FALSE) # garbage collection"
      ],
      "metadata": {
        "id": "oZG_4br6szlT",
        "colab": {
          "base_uri": "https://localhost:8080/",
          "height": 129
        },
        "outputId": "89ff969a-94c6-4257-8d59-63039390a08e"
      },
      "execution_count": 1,
      "outputs": [
        {
          "output_type": "display_data",
          "data": {
            "text/html": [
              "<table class=\"dataframe\">\n",
              "<caption>A matrix: 2 × 6 of type dbl</caption>\n",
              "<thead>\n",
              "\t<tr><th></th><th scope=col>used</th><th scope=col>(Mb)</th><th scope=col>gc trigger</th><th scope=col>(Mb)</th><th scope=col>max used</th><th scope=col>(Mb)</th></tr>\n",
              "</thead>\n",
              "<tbody>\n",
              "\t<tr><th scope=row>Ncells</th><td> 657245</td><td>35.2</td><td>1454457</td><td>77.7</td><td>1326131</td><td>70.9</td></tr>\n",
              "\t<tr><th scope=row>Vcells</th><td>1220272</td><td> 9.4</td><td>8388608</td><td>64.0</td><td>1975128</td><td>15.1</td></tr>\n",
              "</tbody>\n",
              "</table>\n"
            ],
            "text/markdown": "\nA matrix: 2 × 6 of type dbl\n\n| <!--/--> | used | (Mb) | gc trigger | (Mb) | max used | (Mb) |\n|---|---|---|---|---|---|---|\n| Ncells |  657245 | 35.2 | 1454457 | 77.7 | 1326131 | 70.9 |\n| Vcells | 1220272 |  9.4 | 8388608 | 64.0 | 1975128 | 15.1 |\n\n",
            "text/latex": "A matrix: 2 × 6 of type dbl\n\\begin{tabular}{r|llllll}\n  & used & (Mb) & gc trigger & (Mb) & max used & (Mb)\\\\\n\\hline\n\tNcells &  657245 & 35.2 & 1454457 & 77.7 & 1326131 & 70.9\\\\\n\tVcells & 1220272 &  9.4 & 8388608 & 64.0 & 1975128 & 15.1\\\\\n\\end{tabular}\n",
            "text/plain": [
              "       used    (Mb) gc trigger (Mb) max used (Mb)\n",
              "Ncells  657245 35.2 1454457    77.7 1326131  70.9\n",
              "Vcells 1220272  9.4 8388608    64.0 1975128  15.1"
            ]
          },
          "metadata": {}
        }
      ]
    },
    {
      "cell_type": "code",
      "source": [
        "Sys.time()"
      ],
      "metadata": {
        "id": "pJ8SsVA5ssnf",
        "colab": {
          "base_uri": "https://localhost:8080/",
          "height": 34
        },
        "outputId": "f6b20304-4b54-4043-ed5b-79ab715fac3c"
      },
      "execution_count": 2,
      "outputs": [
        {
          "output_type": "display_data",
          "data": {
            "text/plain": [
              "[1] \"2025-10-14 11:18:45 UTC\""
            ]
          },
          "metadata": {}
        }
      ]
    },
    {
      "cell_type": "markdown",
      "source": [
        "* Instalacion de la libreria  rpart.plot  para dibujar el arbol\n",
        "* invocacion de las librerias  **data.table** y  **rpart**"
      ],
      "metadata": {
        "id": "3BrrQ47PeEb2"
      }
    },
    {
      "cell_type": "code",
      "source": [
        "# cargo las librerias que necesito\n",
        "require(\"data.table\")\n",
        "require(\"rpart\")\n"
      ],
      "metadata": {
        "id": "SxO-0Ql0khn6",
        "colab": {
          "base_uri": "https://localhost:8080/"
        },
        "outputId": "5c22e18f-d73c-4afb-c1e0-4c3815b43f74"
      },
      "execution_count": 3,
      "outputs": [
        {
          "output_type": "stream",
          "name": "stderr",
          "text": [
            "Loading required package: data.table\n",
            "\n",
            "Loading required package: rpart\n",
            "\n"
          ]
        }
      ]
    },
    {
      "cell_type": "markdown",
      "source": [
        "###  Accion a Realizar\n",
        "PARAM$semilla  debe tener su primer semilla aleatoria"
      ],
      "metadata": {
        "id": "ZG9fCnZh3bWV"
      }
    },
    {
      "cell_type": "code",
      "source": [
        "PARAM <- list()\n",
        "PARAM$semilla <- 206262  # aqui debe ir su primer semilla\n",
        "PARAM$training_pct <- 70L  # entre  1L y 99L\n",
        "\n",
        "PARAM$rpart <- list (\n",
        "  \"cp\" = -1, # complejidad minima\n",
        "  \"minsplit\" = 170, # minima cantidad de regs en un nodo para hacer el split\n",
        "  \"minbucket\" = 70, # minima cantidad de regs en una hoja\n",
        "  \"maxdepth\" = 7 # profundidad máxima del arbol\n",
        ")\n"
      ],
      "metadata": {
        "id": "0nx5_OcE3Y9c"
      },
      "execution_count": 4,
      "outputs": []
    },
    {
      "cell_type": "code",
      "source": [
        "# particionar agrega una columna llamada fold a un dataset\n",
        "#  que consiste en una particion estratificada segun agrupa\n",
        "\n",
        "# particionar( data=dataset, division=c(70,30),\n",
        "#  agrupa=clase_ternaria, seed=semilla)   crea una particion 70, 30\n",
        "\n",
        "particionar <- function(\n",
        "    data, division, agrupa = \"\",\n",
        "    campo = \"fold\", start = 1, seed = NA) {\n",
        "  if (!is.na(seed)) set.seed(seed)\n",
        "\n",
        "  bloque <- unlist(mapply(function(x, y) {\n",
        "    rep(y, x)\n",
        "  }, division, seq(from = start, length.out = length(division))))\n",
        "\n",
        "  data[, (campo) := sample(rep(bloque, ceiling(.N / length(bloque))))[1:.N],\n",
        "    by = agrupa\n",
        "  ]\n",
        "}\n"
      ],
      "metadata": {
        "id": "8HLE9Dx80gjH"
      },
      "execution_count": 5,
      "outputs": []
    },
    {
      "cell_type": "code",
      "source": [
        "# carpeta de trabajo\n",
        "setwd(\"/content/buckets/b1/exp\")\n",
        "experimento <- \"exp201\"\n",
        "dir.create(experimento, showWarnings=FALSE)\n",
        "setwd( paste0(\"/content/buckets/b1/exp/\", experimento ))"
      ],
      "metadata": {
        "id": "sC4_nqcm0nUs"
      },
      "execution_count": 6,
      "outputs": []
    },
    {
      "cell_type": "code",
      "source": [
        "# lectura del dataset\n",
        "dataset <- fread(\"/content/datasets/dataset_pequeno.csv\")\n",
        "\n",
        "# trabajo solo con los datos con clase, es decir 202107\n",
        "dataset <- dataset[clase_ternaria != \"\"]"
      ],
      "metadata": {
        "id": "6yIEsZOw07q8"
      },
      "execution_count": 7,
      "outputs": []
    },
    {
      "cell_type": "code",
      "source": [
        "# particiono estratificadamente el dataset 70%, 30%\n",
        "particionar(dataset,\n",
        "  division = c(PARAM$training_pct, 100L -PARAM$training_pct),\n",
        "  agrupa = \"clase_ternaria\",\n",
        "  seed = PARAM$semilla # aqui se usa SU semilla\n",
        ")\n",
        "\n"
      ],
      "metadata": {
        "id": "FAO1Hhd52b5d"
      },
      "execution_count": 8,
      "outputs": []
    },
    {
      "cell_type": "code",
      "source": [
        "# genero el modelo\n",
        "# quiero predecir clase_ternaria a partir del resto\n",
        "# fold==1  es training,  el 70% de los datos\n",
        "modelo <- rpart(\"clase_ternaria ~ .\",\n",
        "  data = dataset[fold == 1],  # fold==1  es training, el 70% de los datos\n",
        "  xval = 0,\n",
        "  control = PARAM$rpart # aqui van los parametros\n",
        ")\n"
      ],
      "metadata": {
        "id": "s3UnHSLP2gN6"
      },
      "execution_count": 9,
      "outputs": []
    },
    {
      "cell_type": "code",
      "source": [
        "# aplico el modelo a los datos de testing\n",
        "prediccion <- predict(modelo, # el modelo que genere recien\n",
        "  dataset[fold == 2], # fold==2  es testing, el 30% de los datos\n",
        "  type = \"prob\"\n",
        ") # type= \"prob\"  es que devuelva la probabilidad\n"
      ],
      "metadata": {
        "id": "paQphV4A2jGz"
      },
      "execution_count": 10,
      "outputs": []
    },
    {
      "cell_type": "code",
      "source": [
        "tb_prediccion <- as.data.table(list(\n",
        "  \"clase_ternaria\"=dataset[fold == 2, clase_ternaria],\n",
        "  \"prob\"=prediccion[, \"BAJA+2\"]\n",
        "))"
      ],
      "metadata": {
        "id": "fuLZ75pA29dT"
      },
      "execution_count": 11,
      "outputs": []
    },
    {
      "cell_type": "code",
      "source": [
        "# calculo la ganancia de cada registro\n",
        "tb_prediccion[, ganancia := ifelse(clase_ternaria == \"BAJA+2\", 117000, -3000)]"
      ],
      "metadata": {
        "id": "LuG6ql_t3kOI"
      },
      "execution_count": 12,
      "outputs": []
    },
    {
      "cell_type": "code",
      "source": [
        "# calculo la clase\n",
        "tb_prediccion[, Predicted := prob > (1/40) ]"
      ],
      "metadata": {
        "id": "xJ3WTMez3leO"
      },
      "execution_count": 13,
      "outputs": []
    },
    {
      "cell_type": "code",
      "source": [
        "ganancia_test <-  tb_prediccion[ Predicted==TRUE,  sum(ganancia)]"
      ],
      "metadata": {
        "id": "cFQPacen4Wq6"
      },
      "execution_count": 14,
      "outputs": []
    },
    {
      "cell_type": "code",
      "source": [
        "# normalizo la ganancia\n",
        "ganancia_test_normalizada <- ganancia_test / (( 100 - PARAM$training_pct ) / 100 )"
      ],
      "metadata": {
        "id": "dHjz0zhN4-nZ"
      },
      "execution_count": 15,
      "outputs": []
    },
    {
      "cell_type": "code",
      "source": [
        "estimulos <- tb_prediccion[ Predicted==TRUE, .N]\n",
        "aciertos <- tb_prediccion[ Predicted & clase_ternaria == \"BAJA+2\", .N]\n"
      ],
      "metadata": {
        "id": "D7RUdTb95F6B"
      },
      "execution_count": 16,
      "outputs": []
    },
    {
      "cell_type": "code",
      "source": [
        "# Resultado Final\n",
        "cat(\"Testing total: \", dataset[fold == 2, .N], \"\\n\")\n",
        "cat(\"Testing BAJA+2: \", dataset[fold == 2 & clase_ternaria == \"BAJA+2\", .N], \"\\n\")\n",
        "\n",
        "cat(\"Estimulos: \", estimulos, \"\\n\")\n",
        "cat(\"Aciertos (BAJA+2): \", aciertos, \"\\n\")\n",
        "\n",
        "cat(\"Ganancia en testing (normalizada): \", ganancia_test_normalizada, \"\\n\")\n"
      ],
      "metadata": {
        "id": "Lu1KM6fy5U7h",
        "colab": {
          "base_uri": "https://localhost:8080/"
        },
        "outputId": "5b3f92a6-97a8-4073-cc17-9aedc550dbc7"
      },
      "execution_count": 17,
      "outputs": [
        {
          "output_type": "stream",
          "name": "stdout",
          "text": [
            "Testing total:  49380 \n",
            "Testing BAJA+2:  373 \n",
            "Estimulos:  2705 \n",
            "Aciertos (BAJA+2):  188 \n",
            "Ganancia en testing (normalizada):  48150000 \n"
          ]
        }
      ]
    },
    {
      "cell_type": "markdown",
      "source": [
        "### Acciones a realizar\n",
        "* Reportar la  *Ganancia en testing (normalizada)* <br> en la planilla colaborativa hoja  **C2-1sem**\n",
        "* Se discutirá en clase la variabilidad de las ganancias obtenidas de distintos alumnos"
      ],
      "metadata": {
        "id": "kHs-YoFB5rUa"
      }
    },
    {
      "cell_type": "markdown",
      "source": [
        "\n",
        "\n",
        "---\n",
        "\n"
      ],
      "metadata": {
        "id": "LBl_eIeO7WuM"
      }
    },
    {
      "cell_type": "markdown",
      "source": [
        "# 2  Medición Monte Carlo Cross Validation\n",
        "## Clase 02  Experimento 2"
      ],
      "metadata": {
        "id": "h43UCq9y7UlT"
      }
    },
    {
      "cell_type": "markdown",
      "source": [
        "## 2.1  Objetivos\n",
        "Mostrar el funcionamiento de la Montecarlo Cross Validation y que l@s estudiantes aprecien la disminución de la varianza de dicha metodología.\n",
        "Relación con el Teorema Central del Límite"
      ],
      "metadata": {
        "id": "wHPchGXK80VU"
      }
    },
    {
      "cell_type": "markdown",
      "source": [
        "## 2.2 Introduccion\n",
        "\n",
        "![Montecarlo](https://storage.googleapis.com/open-courses/austral2025-af91/labo1r/C2_E2_montecarlo.jpg)\n",
        "\n",
        "![Curva normal](https://storage.googleapis.com/open-courses/austral2025-af91/labo1r/C2_E2_normal.jpg)\n",
        "\n",
        "![Teorema Central del Limite](https://storage.googleapis.com/open-courses/austral2025-af91/labo1r/C2_E2_teoremacentralLimite.jpg)\n",
        "\n"
      ],
      "metadata": {
        "id": "g6YzACxl9DzS"
      }
    },
    {
      "cell_type": "markdown",
      "source": [],
      "metadata": {
        "id": "7laod2t4ArsH"
      }
    },
    {
      "cell_type": "markdown",
      "source": [
        "## 2.3  Bibliografía\n",
        "\n",
        "Demšar, J. [Statistical comparisons of classifiers over multiple data sets](https://www.jmlr.org/papers/volume7/demsar06a/demsar06a.pdf) J. Mach. Learn. Res. 7, 1–30 (2006).   \n",
        "Starmer, J. [Machine Learning Fundamentals: Cross Validation](https://www.youtube.com/watch?v=fSytzGwwBVw)Machine Learning Fundamentals: Cross Validation, StatQuest with Josh Starmer youtube channel, (2018)\n",
        "Hastie, T.[The elements of statistical learning: data mining, inference, and prediction](https://hastie.su.domains/Papers/ESLII.pdf) , volume 2. Springer, 2009  ( Chapter 7 Model Assessment and Selection )"
      ],
      "metadata": {
        "id": "lFcJeRAkAr-q"
      }
    },
    {
      "cell_type": "code",
      "source": [],
      "metadata": {
        "id": "KXSuYXQ26cLV"
      },
      "execution_count": null,
      "outputs": []
    },
    {
      "cell_type": "markdown",
      "source": [
        "## 2.4 Codigo  Montecarlo"
      ],
      "metadata": {
        "id": "0ztZzYolA2WK"
      }
    },
    {
      "cell_type": "markdown",
      "source": [
        "El código de la Montecarlo Cross Validation es notablemente más complejo que el anterior de una simple partición training/testing\n",
        "<br> Se crea la funcion ArbolEstimarGanancia()  que dada una semilla realiza la partición  training/testing, entrena en training, aplica el modelo a testing, y se calculan las ganancias\n",
        "<br> Se utiliza la funcion **mcmapply**  de R para aplicar ArbolEstimarGanancia a todos los elementos del vector de semillas"
      ],
      "metadata": {
        "id": "KLa06ZsiC-Oz"
      }
    },
    {
      "cell_type": "markdown",
      "source": [
        "Esta parte se debe correr con el runtime en lenguaje **R** Ir al menu, Runtime -> Change Runtime Tipe -> Runtime type -> R"
      ],
      "metadata": {
        "id": "ivFiBBOQA2Ws"
      }
    },
    {
      "cell_type": "markdown",
      "source": [
        "limpio el ambiente de R"
      ],
      "metadata": {
        "id": "TMSAQDXuA2Ws"
      }
    },
    {
      "cell_type": "code",
      "source": [
        "# limpio la memoria\n",
        "rm(list=ls(all.names=TRUE)) # remove all objects\n",
        "gc(full=TRUE, verbose=FALSE) # garbage collection"
      ],
      "metadata": {
        "id": "eakzb8y2A2Wt",
        "colab": {
          "base_uri": "https://localhost:8080/",
          "height": 129
        },
        "outputId": "ea1940ce-3db4-4fb1-d4c5-fe87c99369c1"
      },
      "execution_count": 19,
      "outputs": [
        {
          "output_type": "display_data",
          "data": {
            "text/html": [
              "<table class=\"dataframe\">\n",
              "<caption>A matrix: 2 × 6 of type dbl</caption>\n",
              "<thead>\n",
              "\t<tr><th></th><th scope=col>used</th><th scope=col>(Mb)</th><th scope=col>gc trigger</th><th scope=col>(Mb)</th><th scope=col>max used</th><th scope=col>(Mb)</th></tr>\n",
              "</thead>\n",
              "<tbody>\n",
              "\t<tr><th scope=row>Ncells</th><td> 745945</td><td>39.9</td><td> 1454457</td><td> 77.7</td><td>  1454457</td><td> 77.7</td></tr>\n",
              "\t<tr><th scope=row>Vcells</th><td>1414186</td><td>10.8</td><td>84907202</td><td>647.8</td><td>104048956</td><td>793.9</td></tr>\n",
              "</tbody>\n",
              "</table>\n"
            ],
            "text/markdown": "\nA matrix: 2 × 6 of type dbl\n\n| <!--/--> | used | (Mb) | gc trigger | (Mb) | max used | (Mb) |\n|---|---|---|---|---|---|---|\n| Ncells |  745945 | 39.9 |  1454457 |  77.7 |   1454457 |  77.7 |\n| Vcells | 1414186 | 10.8 | 84907202 | 647.8 | 104048956 | 793.9 |\n\n",
            "text/latex": "A matrix: 2 × 6 of type dbl\n\\begin{tabular}{r|llllll}\n  & used & (Mb) & gc trigger & (Mb) & max used & (Mb)\\\\\n\\hline\n\tNcells &  745945 & 39.9 &  1454457 &  77.7 &   1454457 &  77.7\\\\\n\tVcells & 1414186 & 10.8 & 84907202 & 647.8 & 104048956 & 793.9\\\\\n\\end{tabular}\n",
            "text/plain": [
              "       used    (Mb) gc trigger (Mb)  max used  (Mb) \n",
              "Ncells  745945 39.9  1454457    77.7   1454457  77.7\n",
              "Vcells 1414186 10.8 84907202   647.8 104048956 793.9"
            ]
          },
          "metadata": {}
        }
      ]
    },
    {
      "cell_type": "markdown",
      "source": [
        "* Instalacion de la libreria  rpart.plot  para dibujar el arbol\n",
        "* invocacion de las librerias  **data.table** y  **rpart**"
      ],
      "metadata": {
        "id": "559RkeYZA2Wv"
      }
    },
    {
      "cell_type": "code",
      "source": [
        "# cargo las librerias que necesito\n",
        "require(\"data.table\")\n",
        "require(\"rpart\")\n",
        "require(\"parallel\")"
      ],
      "metadata": {
        "id": "yf_S_HlsA2Wv",
        "colab": {
          "base_uri": "https://localhost:8080/"
        },
        "outputId": "c44cd707-b336-4e8e-9502-94de2d3b4f29"
      },
      "execution_count": 20,
      "outputs": [
        {
          "output_type": "stream",
          "name": "stderr",
          "text": [
            "Loading required package: parallel\n",
            "\n"
          ]
        }
      ]
    },
    {
      "cell_type": "markdown",
      "source": [
        "###  Accion a Realizar\n",
        "PARAM$semillas  debe tener sus cinco semillas aleatorias"
      ],
      "metadata": {
        "id": "a4oz2ulCA2Ww"
      }
    },
    {
      "cell_type": "code",
      "source": [
        "PARAM <- list()\n",
        "PARAM$semillas <- c(206262, 858956, 958864, 556088, 90977)  # aqui debe ir sus CINCO\n",
        "PARAM$training_pct <- 70L  # entre  1L y 99L\n",
        "\n",
        "PARAM$rpart <- list (\n",
        "  \"cp\" = -1, # complejidad minima\n",
        "  \"minsplit\" = 170, # minima cantidad de regs en un nodo para hacer el split\n",
        "  \"minbucket\" = 70, # minima cantidad de regs en una hoja\n",
        "  \"maxdepth\" = 7 # profundidad máxima del arbol\n",
        ")\n"
      ],
      "metadata": {
        "id": "yQ2OAP5AA2Wx"
      },
      "execution_count": 21,
      "outputs": []
    },
    {
      "cell_type": "code",
      "source": [
        "# particionar agrega una columna llamada fold a un dataset\n",
        "#  que consiste en una particion estratificada segun agrupa\n",
        "\n",
        "# particionar( data=dataset, division=c(70,30),\n",
        "#  agrupa=clase_ternaria, seed=semilla)   crea una particion 70, 30\n",
        "\n",
        "particionar <- function(\n",
        "    data, division, agrupa = \"\",\n",
        "    campo = \"fold\", start = 1, seed = NA) {\n",
        "  if (!is.na(seed)) set.seed(seed)\n",
        "\n",
        "  bloque <- unlist(mapply(function(x, y) {\n",
        "    rep(y, x)\n",
        "  }, division, seq(from = start, length.out = length(division))))\n",
        "\n",
        "  data[, (campo) := sample(rep(bloque, ceiling(.N / length(bloque))))[1:.N],\n",
        "    by = agrupa\n",
        "  ]\n",
        "}\n"
      ],
      "metadata": {
        "id": "97dMCVJWA2Wy"
      },
      "execution_count": 22,
      "outputs": []
    },
    {
      "cell_type": "code",
      "source": [
        "\n",
        "ArbolEstimarGanancia <- function(semilla, param_basicos) {\n",
        "  # particiono estratificadamente el dataset\n",
        "  particionar(dataset,\n",
        "    division = c(param_basicos$training_pct, 100L -param_basicos$training_pct),\n",
        "    agrupa = \"clase_ternaria\",\n",
        "    seed = semilla # aqui se usa SU semilla\n",
        "  )\n",
        "\n",
        "  # genero el modelo\n",
        "  # predecir clase_ternaria a partir del resto\n",
        "  modelo <- rpart(\"clase_ternaria ~ .\",\n",
        "    data = dataset[fold == 1], # fold==1  es training,  el 70% de los datos\n",
        "    xval = 0,\n",
        "    control = param_basicos$rpart\n",
        "  ) # aqui van los parametros del arbol\n",
        "\n",
        "  # aplico el modelo a los datos de testing\n",
        "  prediccion <- predict(modelo, # el modelo que genere recien\n",
        "    dataset[fold == 2], # fold==2  es testing, el 30% de los datos\n",
        "    type = \"prob\"\n",
        "  ) # type= \"prob\"  es que devuelva la probabilidad\n",
        "\n",
        "  # prediccion es una matriz con TRES columnas,\n",
        "  #  llamadas \"BAJA+1\", \"BAJA+2\"  y \"CONTINUA\"\n",
        "  # cada columna es el vector de probabilidades\n",
        "\n",
        "\n",
        "  # calculo la ganancia en testing  qu es fold==2\n",
        "  ganancia_test <- dataset[\n",
        "    fold == 2,\n",
        "    sum(ifelse(prediccion[, \"BAJA+2\"] > 0.025,\n",
        "      ifelse(clase_ternaria == \"BAJA+2\", 117000, -3000),\n",
        "      0\n",
        "    ))\n",
        "  ]\n",
        "\n",
        "  # escalo la ganancia como si fuera todo el dataset\n",
        "  ganancia_test_normalizada <- ganancia_test / (( 100 - PARAM$training_pct ) / 100 )\n",
        "\n",
        "  return(list(\n",
        "    \"semilla\" = semilla,\n",
        "    \"testing\" = dataset[fold == 2, .N],\n",
        "    \"testing_pos\" = dataset[fold == 2 & clase_ternaria == \"BAJA+2\", .N],\n",
        "    \"envios\" = dataset[fold == 2, sum(prediccion[, \"BAJA+2\"] > 0.025)],\n",
        "    \"aciertos\" = dataset[\n",
        "        fold == 2,\n",
        "        sum(prediccion[, \"BAJA+2\"] > 0.025 & clase_ternaria == \"BAJA+2\")\n",
        "    ],\n",
        "    \"ganancia_test\" = ganancia_test_normalizada\n",
        "  ))\n",
        "}\n"
      ],
      "metadata": {
        "id": "GroZSZoVBuZ5"
      },
      "execution_count": 23,
      "outputs": []
    },
    {
      "cell_type": "code",
      "source": [
        "# carpeta de trabajo\n",
        "setwd(\"/content/buckets/b1/exp\")\n",
        "experimento <- \"exp202\"\n",
        "dir.create(experimento, showWarnings=FALSE)\n",
        "setwd( paste0(\"/content/buckets/b1/exp/\", experimento ))"
      ],
      "metadata": {
        "id": "dJIBIX6kA2Wy"
      },
      "execution_count": 24,
      "outputs": []
    },
    {
      "cell_type": "code",
      "source": [
        "# lectura del dataset\n",
        "dataset <- fread(\"/content/datasets/dataset_pequeno.csv\")\n",
        "\n",
        "# trabajo solo con los datos con clase, es decir 202107\n",
        "dataset <- dataset[clase_ternaria != \"\"]"
      ],
      "metadata": {
        "id": "tKiACdU2A2Wz"
      },
      "execution_count": 25,
      "outputs": []
    },
    {
      "cell_type": "code",
      "source": [
        "\n",
        "# la funcion mcmapply  llama a la funcion ArbolEstimarGanancia\n",
        "#  tantas veces como valores tenga el vector  PARAM$semillas\n",
        "salidas <- mcmapply(ArbolEstimarGanancia,\n",
        "  PARAM$semillas, # paso el vector de semillas\n",
        "  MoreArgs = list(PARAM), # aqui paso el segundo parametro\n",
        "  SIMPLIFY = FALSE,\n",
        "  mc.cores = detectCores()\n",
        ")\n",
        "\n",
        "# muestro la lista de las salidas en testing\n",
        "#  para la particion realizada con cada semilla\n",
        "salidas\n"
      ],
      "metadata": {
        "id": "64OdfeyxCMDF"
      },
      "execution_count": 27,
      "outputs": []
    },
    {
      "cell_type": "code",
      "source": [
        "# paso la lista a vector\n",
        "tb_salida <- rbindlist(salidas)\n",
        "print( tb_salida)"
      ],
      "metadata": {
        "id": "tML9VmH2ECFK",
        "colab": {
          "base_uri": "https://localhost:8080/"
        },
        "outputId": "653c9b06-1274-415c-d336-400085113426"
      },
      "execution_count": null,
      "outputs": [
        {
          "output_type": "stream",
          "name": "stdout",
          "text": [
            "   semilla testing testing_pos envios aciertos ganancia_test\n",
            "     <num>   <int>       <int>  <int>    <int>         <num>\n",
            "1:  206262   49380         373   2705      188      48150000\n",
            "2:  858956   49387         376   3211      212      52690000\n",
            "3:  958864   49377         375   3199      199      47610000\n",
            "4:  556088   49376         372   3541      205      46590000\n",
            "5:   90977   49380         375   3946      213      45740000\n"
          ]
        }
      ]
    },
    {
      "cell_type": "code",
      "source": [
        "# finalmente calculo la media (promedio)  de las ganancias\n",
        "cat( \"ganancia promedio: \", tb_salida[, mean(ganancia_test)], \"\\n\" )"
      ],
      "metadata": {
        "id": "rbHXPfoVENQB",
        "colab": {
          "base_uri": "https://localhost:8080/"
        },
        "outputId": "d3dcc039-7fac-4f3a-e668-a3fe0348580d"
      },
      "execution_count": null,
      "outputs": [
        {
          "output_type": "stream",
          "name": "stdout",
          "text": [
            "ganancia promedio:  48156000 \n"
          ]
        }
      ]
    },
    {
      "cell_type": "markdown",
      "source": [
        "### Acciones a realizar\n",
        "* Reportar la  *Ganancia Promedio* <br> en la planilla colaborativa hoja  **C2-5sem**\n",
        "* Se discutirá en clase la variabilidad de estos \"ganancia promedio de cinco semillas\""
      ],
      "metadata": {
        "id": "_3xVH6UKA2W6"
      }
    },
    {
      "cell_type": "markdown",
      "source": [
        "\n",
        "\n",
        "---\n",
        "\n"
      ],
      "metadata": {
        "id": "N29m1XGpA2W7"
      }
    },
    {
      "cell_type": "markdown",
      "source": [
        "# 3  Generando n semillas en forma automatica\n",
        "## Clase 02  Experimento 3"
      ],
      "metadata": {
        "id": "zS7WIJciFGc6"
      }
    },
    {
      "cell_type": "markdown",
      "source": [
        "## 3.1  Objetivos\n",
        "Mostrar la creación de nuevas semillas a partir de la librería Primes"
      ],
      "metadata": {
        "id": "VmiFDDDJFUEo"
      }
    },
    {
      "cell_type": "markdown",
      "source": [
        "3.2  Código\n",
        "\n",
        "Como generar muchas semillas a partir de una"
      ],
      "metadata": {
        "id": "Ehe3VfdfFbvg"
      }
    },
    {
      "cell_type": "code",
      "source": [
        "# instalo y cargo la libreria  primes\n",
        "if (!require(\"primes\")) install.packages(\"primes\")\n",
        "require(\"primes\")"
      ],
      "metadata": {
        "id": "X6_dE42yF2-t",
        "colab": {
          "base_uri": "https://localhost:8080/"
        },
        "outputId": "3324556d-6e62-4ebb-ed7d-533d6afdd0f6"
      },
      "execution_count": null,
      "outputs": [
        {
          "output_type": "stream",
          "name": "stderr",
          "text": [
            "Loading required package: primes\n",
            "\n",
            "Warning message in library(package, lib.loc = lib.loc, character.only = TRUE, logical.return = TRUE, :\n",
            "“there is no package called ‘primes’”\n",
            "Installing package into ‘/usr/local/lib/R/site-library’\n",
            "(as ‘lib’ is unspecified)\n",
            "\n",
            "Loading required package: primes\n",
            "\n"
          ]
        }
      ]
    },
    {
      "cell_type": "code",
      "source": [
        "# genero numeros primos\n",
        "primos <- generate_primes(min = 100000, max = 1000000)\n",
        "\n",
        "\n",
        "set.seed(102191) # inicializo con mi primer semilla\n",
        "\n",
        "# me quedo con por ejemplo 20 primos al azar\n",
        "semillas <- sample(primos, 20 )\n",
        "\n",
        "print( semillas )"
      ],
      "metadata": {
        "id": "yDU9RyV4FNhZ",
        "colab": {
          "base_uri": "https://localhost:8080/"
        },
        "outputId": "4bc70e42-2a81-4f0a-db44-9d20b7567481"
      },
      "execution_count": null,
      "outputs": [
        {
          "output_type": "stream",
          "name": "stdout",
          "text": [
            " [1] 378821 964333 187049 205151 813697 344719 127217 464371 645137 480803\n",
            "[11] 723319 314641 791599 937577 685649 619363 390539 465887 619657 195737\n"
          ]
        }
      ]
    },
    {
      "cell_type": "markdown",
      "source": [
        "\n",
        "\n",
        "---\n",
        "\n"
      ],
      "metadata": {
        "id": "eD_cO5VTGGea"
      }
    },
    {
      "cell_type": "code",
      "source": [],
      "metadata": {
        "id": "k-rgoA2ZFll4"
      },
      "execution_count": null,
      "outputs": []
    },
    {
      "cell_type": "markdown",
      "source": [
        "# 4  Medición  50-Monte Carlo Cross Validation\n",
        "## Clase 02  Experimento 4"
      ],
      "metadata": {
        "id": "cZi29THsGil_"
      }
    },
    {
      "cell_type": "markdown",
      "source": [
        "## 4.1  Objetivos\n",
        "Calcular la ganancia del modelo utilizando 50 semillas nuevas generadas a partir de mi semilla primigenia."
      ],
      "metadata": {
        "id": "qFNq6ntVGimN"
      }
    },
    {
      "cell_type": "markdown",
      "source": [
        "## 4.4 Codigo  50 Montecarlo"
      ],
      "metadata": {
        "id": "B6KtuhQCGimP"
      }
    },
    {
      "cell_type": "markdown",
      "source": [
        "Esta parte se debe correr con el runtime en lenguaje **R** Ir al menu, Runtime -> Change Runtime Tipe -> Runtime type -> R"
      ],
      "metadata": {
        "id": "LgGgjPQuGimP"
      }
    },
    {
      "cell_type": "markdown",
      "source": [
        "Este punto demora en correr 60 minutos en Google Colab, con lo cual para continuar con el punto siguiente deberá abrir un nuevo Colab"
      ],
      "metadata": {
        "id": "E82ChuO25OYx"
      }
    },
    {
      "cell_type": "markdown",
      "source": [
        "limpio el ambiente de R"
      ],
      "metadata": {
        "id": "a6AxqLwOGimQ"
      }
    },
    {
      "cell_type": "code",
      "source": [
        "# limpio la memoria\n",
        "rm(list=ls(all.names=TRUE)) # remove all objects\n",
        "gc(full=TRUE, verbose=FALSE) # garbage collection"
      ],
      "metadata": {
        "id": "797Ad0_QGimQ",
        "colab": {
          "base_uri": "https://localhost:8080/",
          "height": 129
        },
        "outputId": "befb76a3-9567-4901-b4ed-3681f1793d3b"
      },
      "execution_count": null,
      "outputs": [
        {
          "output_type": "display_data",
          "data": {
            "text/html": [
              "<table class=\"dataframe\">\n",
              "<caption>A matrix: 2 × 6 of type dbl</caption>\n",
              "<thead>\n",
              "\t<tr><th></th><th scope=col>used</th><th scope=col>(Mb)</th><th scope=col>gc trigger</th><th scope=col>(Mb)</th><th scope=col>max used</th><th scope=col>(Mb)</th></tr>\n",
              "</thead>\n",
              "<tbody>\n",
              "\t<tr><th scope=row>Ncells</th><td> 880465</td><td>47.1</td><td> 1454471</td><td> 77.7</td><td>  1454471</td><td> 77.7</td></tr>\n",
              "\t<tr><th scope=row>Vcells</th><td>1656535</td><td>12.7</td><td>54349664</td><td>414.7</td><td>103990991</td><td>793.4</td></tr>\n",
              "</tbody>\n",
              "</table>\n"
            ],
            "text/markdown": "\nA matrix: 2 × 6 of type dbl\n\n| <!--/--> | used | (Mb) | gc trigger | (Mb) | max used | (Mb) |\n|---|---|---|---|---|---|---|\n| Ncells |  880465 | 47.1 |  1454471 |  77.7 |   1454471 |  77.7 |\n| Vcells | 1656535 | 12.7 | 54349664 | 414.7 | 103990991 | 793.4 |\n\n",
            "text/latex": "A matrix: 2 × 6 of type dbl\n\\begin{tabular}{r|llllll}\n  & used & (Mb) & gc trigger & (Mb) & max used & (Mb)\\\\\n\\hline\n\tNcells &  880465 & 47.1 &  1454471 &  77.7 &   1454471 &  77.7\\\\\n\tVcells & 1656535 & 12.7 & 54349664 & 414.7 & 103990991 & 793.4\\\\\n\\end{tabular}\n",
            "text/plain": [
              "       used    (Mb) gc trigger (Mb)  max used  (Mb) \n",
              "Ncells  880465 47.1  1454471    77.7   1454471  77.7\n",
              "Vcells 1656535 12.7 54349664   414.7 103990991 793.4"
            ]
          },
          "metadata": {}
        }
      ]
    },
    {
      "cell_type": "markdown",
      "source": [
        "* Instalacion de la libreria  rpart.plot  para dibujar el arbol\n",
        "* invocacion de las librerias  **data.table** y  **rpart**"
      ],
      "metadata": {
        "id": "v0CepvbjGimQ"
      }
    },
    {
      "cell_type": "code",
      "source": [
        "# cargo las librerias que necesito\n",
        "require(\"data.table\")\n",
        "require(\"rpart\")\n",
        "require(\"parallel\")\n",
        "\n",
        "if (!require(\"primes\")) install.packages(\"primes\")\n",
        "require(\"primes\")"
      ],
      "metadata": {
        "id": "CRkZ1V2_GimR"
      },
      "execution_count": null,
      "outputs": []
    },
    {
      "cell_type": "markdown",
      "source": [
        "###  Accion a Realizar\n",
        "PARAM$semilla_primigenia  debe reemplazarse por SU primer semilla"
      ],
      "metadata": {
        "id": "PZKJG-nSGimR"
      }
    },
    {
      "cell_type": "code",
      "source": [
        "PARAM <- list()\n",
        "PARAM$semilla_primigenia <- 206262\n",
        "PARAM$qsemillas <- 50\n",
        "PARAM$training_pct <- 70L  # entre  1L y 99L\n",
        "\n",
        "PARAM$rpart <- list (\n",
        "  \"cp\" = -1, # complejidad minima\n",
        "  \"minsplit\" = 170, # minima cantidad de regs en un nodo para hacer el split\n",
        "  \"minbucket\" = 70, # minima cantidad de regs en una hoja\n",
        "  \"maxdepth\" = 7 # profundidad máxima del arbol\n",
        ")\n"
      ],
      "metadata": {
        "id": "4kbkA-2HGimR"
      },
      "execution_count": null,
      "outputs": []
    },
    {
      "cell_type": "code",
      "source": [
        "# particionar agrega una columna llamada fold a un dataset\n",
        "#  que consiste en una particion estratificada segun agrupa\n",
        "\n",
        "# particionar( data=dataset, division=c(70,30),\n",
        "#  agrupa=clase_ternaria, seed=semilla)   crea una particion 70, 30\n",
        "\n",
        "particionar <- function(\n",
        "    data, division, agrupa = \"\",\n",
        "    campo = \"fold\", start = 1, seed = NA) {\n",
        "  if (!is.na(seed)) set.seed(seed)\n",
        "\n",
        "  bloque <- unlist(mapply(function(x, y) {\n",
        "    rep(y, x)\n",
        "  }, division, seq(from = start, length.out = length(division))))\n",
        "\n",
        "  data[, (campo) := sample(rep(bloque, ceiling(.N / length(bloque))))[1:.N],\n",
        "    by = agrupa\n",
        "  ]\n",
        "}\n"
      ],
      "metadata": {
        "id": "HME0qUeOGimS"
      },
      "execution_count": null,
      "outputs": []
    },
    {
      "cell_type": "code",
      "source": [
        "\n",
        "ArbolEstimarGanancia <- function(semilla, param_basicos) {\n",
        "  # particiono estratificadamente el dataset\n",
        "  particionar(dataset,\n",
        "    division = c(param_basicos$training_pct, 100L -param_basicos$training_pct),\n",
        "    agrupa = \"clase_ternaria\",\n",
        "    seed = semilla # aqui se usa SU semilla\n",
        "  )\n",
        "\n",
        "  # genero el modelo\n",
        "  # predecir clase_ternaria a partir del resto\n",
        "  modelo <- rpart(\"clase_ternaria ~ .\",\n",
        "    data = dataset[fold == 1], # fold==1  es training,  el 70% de los datos\n",
        "    xval = 0,\n",
        "    control = param_basicos$rpart\n",
        "  ) # aqui van los parametros del arbol\n",
        "\n",
        "  # aplico el modelo a los datos de testing\n",
        "  prediccion <- predict(modelo, # el modelo que genere recien\n",
        "    dataset[fold == 2], # fold==2  es testing, el 30% de los datos\n",
        "    type = \"prob\"\n",
        "  ) # type= \"prob\"  es que devuelva la probabilidad\n",
        "\n",
        "  # prediccion es una matriz con TRES columnas,\n",
        "  #  llamadas \"BAJA+1\", \"BAJA+2\"  y \"CONTINUA\"\n",
        "  # cada columna es el vector de probabilidades\n",
        "\n",
        "\n",
        "  # calculo la ganancia en testing  qu es fold==2\n",
        "  ganancia_test <- dataset[\n",
        "    fold == 2,\n",
        "    sum(ifelse(prediccion[, \"BAJA+2\"] > 0.025,\n",
        "      ifelse(clase_ternaria == \"BAJA+2\", 117000, -3000),\n",
        "      0\n",
        "    ))\n",
        "  ]\n",
        "\n",
        "  # escalo la ganancia como si fuera todo el dataset\n",
        "  ganancia_test_normalizada <- ganancia_test / (( 100 - PARAM$training_pct ) / 100 )\n",
        "\n",
        "  return(list(\n",
        "    \"semilla\" = semilla,\n",
        "    \"testing\" = dataset[fold == 2, .N],\n",
        "    \"testing_pos\" = dataset[fold == 2 & clase_ternaria == \"BAJA+2\", .N],\n",
        "    \"envios\" = dataset[fold == 2, sum(prediccion[, \"BAJA+2\"] > 0.025)],\n",
        "    \"aciertos\" = dataset[\n",
        "        fold == 2,\n",
        "        sum(prediccion[, \"BAJA+2\"] > 0.025 & clase_ternaria == \"BAJA+2\")\n",
        "    ],\n",
        "    \"ganancia_test\" = ganancia_test_normalizada\n",
        "  ))\n",
        "}\n"
      ],
      "metadata": {
        "id": "ro9Ufoi-GimS"
      },
      "execution_count": null,
      "outputs": []
    },
    {
      "cell_type": "code",
      "source": [
        "# carpeta de trabajo\n",
        "setwd(\"/content/buckets/b1/exp\")\n",
        "experimento <- \"exp204\"\n",
        "dir.create(experimento, showWarnings=FALSE)\n",
        "setwd( paste0(\"/content/buckets/b1/exp/\", experimento ))"
      ],
      "metadata": {
        "id": "gz7LgltwGimT"
      },
      "execution_count": null,
      "outputs": []
    },
    {
      "cell_type": "code",
      "source": [
        "# lectura del dataset\n",
        "dataset <- fread(\"/content/datasets/dataset_pequeno.csv\")\n",
        "\n",
        "# trabajo solo con los datos con clase, es decir 202107\n",
        "dataset <- dataset[clase_ternaria != \"\"]"
      ],
      "metadata": {
        "id": "xRXKHeLeGimT"
      },
      "execution_count": null,
      "outputs": []
    },
    {
      "cell_type": "code",
      "source": [
        "# genero numeros primos\n",
        "primos <- generate_primes(min = 100000, max = 1000000)\n",
        "set.seed(PARAM$semilla_primigenia) # inicializo\n",
        "\n",
        "# me quedo con PARAM$qsemillas   semillas\n",
        "PARAM$semillas <- sample(primos, PARAM$qsemillas )"
      ],
      "metadata": {
        "id": "MdpZ10qiHSZy"
      },
      "execution_count": null,
      "outputs": []
    },
    {
      "cell_type": "code",
      "source": [
        "\n",
        "# la funcion mcmapply  llama a la funcion ArbolEstimarGanancia\n",
        "#  tantas veces como valores tenga el vector  PARAM$semillas\n",
        "salidas <- mcmapply(ArbolEstimarGanancia,\n",
        "  PARAM$semillas, # paso el vector de semillas\n",
        "  MoreArgs = list(PARAM), # aqui paso el segundo parametro\n",
        "  SIMPLIFY = FALSE,\n",
        "  mc.cores = detectCores()\n",
        ")\n",
        "\n",
        "# muestro la lista de las salidas en testing\n",
        "#  para la particion realizada con cada semilla\n",
        "salidas\n"
      ],
      "metadata": {
        "id": "r-YaawpgGimU",
        "colab": {
          "base_uri": "https://localhost:8080/",
          "height": 1000
        },
        "outputId": "539a7499-d32d-47cc-aad8-fba9591d89cf"
      },
      "execution_count": null,
      "outputs": [
        {
          "output_type": "display_data",
          "data": {
            "text/html": [
              "<ol>\n",
              "\t<li><dl>\n",
              "\t<dt>$semilla</dt>\n",
              "\t\t<dd>338567</dd>\n",
              "\t<dt>$testing</dt>\n",
              "\t\t<dd>49382</dd>\n",
              "\t<dt>$testing_pos</dt>\n",
              "\t\t<dd>384</dd>\n",
              "\t<dt>$envios</dt>\n",
              "\t\t<dd>3061</dd>\n",
              "\t<dt>$aciertos</dt>\n",
              "\t\t<dd>196</dd>\n",
              "\t<dt>$ganancia_test</dt>\n",
              "\t\t<dd>47790000</dd>\n",
              "</dl>\n",
              "</li>\n",
              "\t<li><dl>\n",
              "\t<dt>$semilla</dt>\n",
              "\t\t<dd>518239</dd>\n",
              "\t<dt>$testing</dt>\n",
              "\t\t<dd>49372</dd>\n",
              "\t<dt>$testing_pos</dt>\n",
              "\t\t<dd>376</dd>\n",
              "\t<dt>$envios</dt>\n",
              "\t\t<dd>2995</dd>\n",
              "\t<dt>$aciertos</dt>\n",
              "\t\t<dd>196</dd>\n",
              "\t<dt>$ganancia_test</dt>\n",
              "\t\t<dd>48450000</dd>\n",
              "</dl>\n",
              "</li>\n",
              "\t<li><dl>\n",
              "\t<dt>$semilla</dt>\n",
              "\t\t<dd>986717</dd>\n",
              "\t<dt>$testing</dt>\n",
              "\t\t<dd>49373</dd>\n",
              "\t<dt>$testing_pos</dt>\n",
              "\t\t<dd>375</dd>\n",
              "\t<dt>$envios</dt>\n",
              "\t\t<dd>3384</dd>\n",
              "\t<dt>$aciertos</dt>\n",
              "\t\t<dd>213</dd>\n",
              "\t<dt>$ganancia_test</dt>\n",
              "\t\t<dd>51360000</dd>\n",
              "</dl>\n",
              "</li>\n",
              "\t<li><dl>\n",
              "\t<dt>$semilla</dt>\n",
              "\t\t<dd>817669</dd>\n",
              "\t<dt>$testing</dt>\n",
              "\t\t<dd>49368</dd>\n",
              "\t<dt>$testing_pos</dt>\n",
              "\t\t<dd>373</dd>\n",
              "\t<dt>$envios</dt>\n",
              "\t\t<dd>3711</dd>\n",
              "\t<dt>$aciertos</dt>\n",
              "\t\t<dd>209</dd>\n",
              "\t<dt>$ganancia_test</dt>\n",
              "\t\t<dd>46490000</dd>\n",
              "</dl>\n",
              "</li>\n",
              "\t<li><dl>\n",
              "\t<dt>$semilla</dt>\n",
              "\t\t<dd>453977</dd>\n",
              "\t<dt>$testing</dt>\n",
              "\t\t<dd>49380</dd>\n",
              "\t<dt>$testing_pos</dt>\n",
              "\t\t<dd>376</dd>\n",
              "\t<dt>$envios</dt>\n",
              "\t\t<dd>3203</dd>\n",
              "\t<dt>$aciertos</dt>\n",
              "\t\t<dd>201</dd>\n",
              "\t<dt>$ganancia_test</dt>\n",
              "\t\t<dd>48370000</dd>\n",
              "</dl>\n",
              "</li>\n",
              "\t<li><dl>\n",
              "\t<dt>$semilla</dt>\n",
              "\t\t<dd>950161</dd>\n",
              "\t<dt>$testing</dt>\n",
              "\t\t<dd>49384</dd>\n",
              "\t<dt>$testing_pos</dt>\n",
              "\t\t<dd>375</dd>\n",
              "\t<dt>$envios</dt>\n",
              "\t\t<dd>2690</dd>\n",
              "\t<dt>$aciertos</dt>\n",
              "\t\t<dd>206</dd>\n",
              "\t<dt>$ganancia_test</dt>\n",
              "\t\t<dd>55500000</dd>\n",
              "</dl>\n",
              "</li>\n",
              "\t<li><dl>\n",
              "\t<dt>$semilla</dt>\n",
              "\t\t<dd>324089</dd>\n",
              "\t<dt>$testing</dt>\n",
              "\t\t<dd>49365</dd>\n",
              "\t<dt>$testing_pos</dt>\n",
              "\t\t<dd>365</dd>\n",
              "\t<dt>$envios</dt>\n",
              "\t\t<dd>2771</dd>\n",
              "\t<dt>$aciertos</dt>\n",
              "\t\t<dd>173</dd>\n",
              "\t<dt>$ganancia_test</dt>\n",
              "\t\t<dd>41490000</dd>\n",
              "</dl>\n",
              "</li>\n",
              "\t<li><dl>\n",
              "\t<dt>$semilla</dt>\n",
              "\t\t<dd>741079</dd>\n",
              "\t<dt>$testing</dt>\n",
              "\t\t<dd>49375</dd>\n",
              "\t<dt>$testing_pos</dt>\n",
              "\t\t<dd>368</dd>\n",
              "\t<dt>$envios</dt>\n",
              "\t\t<dd>3397</dd>\n",
              "\t<dt>$aciertos</dt>\n",
              "\t\t<dd>194</dd>\n",
              "\t<dt>$ganancia_test</dt>\n",
              "\t\t<dd>43630000</dd>\n",
              "</dl>\n",
              "</li>\n",
              "\t<li><dl>\n",
              "\t<dt>$semilla</dt>\n",
              "\t\t<dd>989641</dd>\n",
              "\t<dt>$testing</dt>\n",
              "\t\t<dd>49383</dd>\n",
              "\t<dt>$testing_pos</dt>\n",
              "\t\t<dd>376</dd>\n",
              "\t<dt>$envios</dt>\n",
              "\t\t<dd>3164</dd>\n",
              "\t<dt>$aciertos</dt>\n",
              "\t\t<dd>187</dd>\n",
              "\t<dt>$ganancia_test</dt>\n",
              "\t\t<dd>43160000</dd>\n",
              "</dl>\n",
              "</li>\n",
              "\t<li><dl>\n",
              "\t<dt>$semilla</dt>\n",
              "\t\t<dd>142841</dd>\n",
              "\t<dt>$testing</dt>\n",
              "\t\t<dd>49390</dd>\n",
              "\t<dt>$testing_pos</dt>\n",
              "\t\t<dd>379</dd>\n",
              "\t<dt>$envios</dt>\n",
              "\t\t<dd>2538</dd>\n",
              "\t<dt>$aciertos</dt>\n",
              "\t\t<dd>186</dd>\n",
              "\t<dt>$ganancia_test</dt>\n",
              "\t\t<dd>49020000</dd>\n",
              "</dl>\n",
              "</li>\n",
              "\t<li><dl>\n",
              "\t<dt>$semilla</dt>\n",
              "\t\t<dd>777241</dd>\n",
              "\t<dt>$testing</dt>\n",
              "\t\t<dd>49374</dd>\n",
              "\t<dt>$testing_pos</dt>\n",
              "\t\t<dd>376</dd>\n",
              "\t<dt>$envios</dt>\n",
              "\t\t<dd>3330</dd>\n",
              "\t<dt>$aciertos</dt>\n",
              "\t\t<dd>200</dd>\n",
              "\t<dt>$ganancia_test</dt>\n",
              "\t\t<dd>46700000</dd>\n",
              "</dl>\n",
              "</li>\n",
              "\t<li><dl>\n",
              "\t<dt>$semilla</dt>\n",
              "\t\t<dd>584923</dd>\n",
              "\t<dt>$testing</dt>\n",
              "\t\t<dd>49386</dd>\n",
              "\t<dt>$testing_pos</dt>\n",
              "\t\t<dd>379</dd>\n",
              "\t<dt>$envios</dt>\n",
              "\t\t<dd>3008</dd>\n",
              "\t<dt>$aciertos</dt>\n",
              "\t\t<dd>192</dd>\n",
              "\t<dt>$ganancia_test</dt>\n",
              "\t\t<dd>46720000</dd>\n",
              "</dl>\n",
              "</li>\n",
              "\t<li><dl>\n",
              "\t<dt>$semilla</dt>\n",
              "\t\t<dd>681179</dd>\n",
              "\t<dt>$testing</dt>\n",
              "\t\t<dd>49387</dd>\n",
              "\t<dt>$testing_pos</dt>\n",
              "\t\t<dd>374</dd>\n",
              "\t<dt>$envios</dt>\n",
              "\t\t<dd>2888</dd>\n",
              "\t<dt>$aciertos</dt>\n",
              "\t\t<dd>204</dd>\n",
              "\t<dt>$ganancia_test</dt>\n",
              "\t\t<dd>52720000</dd>\n",
              "</dl>\n",
              "</li>\n",
              "\t<li><dl>\n",
              "\t<dt>$semilla</dt>\n",
              "\t\t<dd>587827</dd>\n",
              "\t<dt>$testing</dt>\n",
              "\t\t<dd>49375</dd>\n",
              "\t<dt>$testing_pos</dt>\n",
              "\t\t<dd>373</dd>\n",
              "\t<dt>$envios</dt>\n",
              "\t\t<dd>3567</dd>\n",
              "\t<dt>$aciertos</dt>\n",
              "\t\t<dd>192</dd>\n",
              "\t<dt>$ganancia_test</dt>\n",
              "\t\t<dd>41130000</dd>\n",
              "</dl>\n",
              "</li>\n",
              "\t<li><dl>\n",
              "\t<dt>$semilla</dt>\n",
              "\t\t<dd>924743</dd>\n",
              "\t<dt>$testing</dt>\n",
              "\t\t<dd>49373</dd>\n",
              "\t<dt>$testing_pos</dt>\n",
              "\t\t<dd>372</dd>\n",
              "\t<dt>$envios</dt>\n",
              "\t\t<dd>3536</dd>\n",
              "\t<dt>$aciertos</dt>\n",
              "\t\t<dd>186</dd>\n",
              "\t<dt>$ganancia_test</dt>\n",
              "\t\t<dd>39040000</dd>\n",
              "</dl>\n",
              "</li>\n",
              "\t<li><dl>\n",
              "\t<dt>$semilla</dt>\n",
              "\t\t<dd>206177</dd>\n",
              "\t<dt>$testing</dt>\n",
              "\t\t<dd>49383</dd>\n",
              "\t<dt>$testing_pos</dt>\n",
              "\t\t<dd>379</dd>\n",
              "\t<dt>$envios</dt>\n",
              "\t\t<dd>3637</dd>\n",
              "\t<dt>$aciertos</dt>\n",
              "\t\t<dd>227</dd>\n",
              "\t<dt>$ganancia_test</dt>\n",
              "\t\t<dd>54430000</dd>\n",
              "</dl>\n",
              "</li>\n",
              "\t<li><dl>\n",
              "\t<dt>$semilla</dt>\n",
              "\t\t<dd>427351</dd>\n",
              "\t<dt>$testing</dt>\n",
              "\t\t<dd>49376</dd>\n",
              "\t<dt>$testing_pos</dt>\n",
              "\t\t<dd>373</dd>\n",
              "\t<dt>$envios</dt>\n",
              "\t\t<dd>3671</dd>\n",
              "\t<dt>$aciertos</dt>\n",
              "\t\t<dd>220</dd>\n",
              "\t<dt>$ganancia_test</dt>\n",
              "\t\t<dd>51290000</dd>\n",
              "</dl>\n",
              "</li>\n",
              "\t<li><dl>\n",
              "\t<dt>$semilla</dt>\n",
              "\t\t<dd>969503</dd>\n",
              "\t<dt>$testing</dt>\n",
              "\t\t<dd>49376</dd>\n",
              "\t<dt>$testing_pos</dt>\n",
              "\t\t<dd>379</dd>\n",
              "\t<dt>$envios</dt>\n",
              "\t\t<dd>4009</dd>\n",
              "\t<dt>$aciertos</dt>\n",
              "\t\t<dd>218</dd>\n",
              "\t<dt>$ganancia_test</dt>\n",
              "\t\t<dd>47110000</dd>\n",
              "</dl>\n",
              "</li>\n",
              "\t<li><dl>\n",
              "\t<dt>$semilla</dt>\n",
              "\t\t<dd>583577</dd>\n",
              "\t<dt>$testing</dt>\n",
              "\t\t<dd>49381</dd>\n",
              "\t<dt>$testing_pos</dt>\n",
              "\t\t<dd>374</dd>\n",
              "\t<dt>$envios</dt>\n",
              "\t\t<dd>3648</dd>\n",
              "\t<dt>$aciertos</dt>\n",
              "\t\t<dd>202</dd>\n",
              "\t<dt>$ganancia_test</dt>\n",
              "\t\t<dd>44320000</dd>\n",
              "</dl>\n",
              "</li>\n",
              "\t<li><dl>\n",
              "\t<dt>$semilla</dt>\n",
              "\t\t<dd>861719</dd>\n",
              "\t<dt>$testing</dt>\n",
              "\t\t<dd>49383</dd>\n",
              "\t<dt>$testing_pos</dt>\n",
              "\t\t<dd>377</dd>\n",
              "\t<dt>$envios</dt>\n",
              "\t\t<dd>2786</dd>\n",
              "\t<dt>$aciertos</dt>\n",
              "\t\t<dd>188</dd>\n",
              "\t<dt>$ganancia_test</dt>\n",
              "\t\t<dd>47340000</dd>\n",
              "</dl>\n",
              "</li>\n",
              "\t<li><dl>\n",
              "\t<dt>$semilla</dt>\n",
              "\t\t<dd>901591</dd>\n",
              "\t<dt>$testing</dt>\n",
              "\t\t<dd>49378</dd>\n",
              "\t<dt>$testing_pos</dt>\n",
              "\t\t<dd>374</dd>\n",
              "\t<dt>$envios</dt>\n",
              "\t\t<dd>3953</dd>\n",
              "\t<dt>$aciertos</dt>\n",
              "\t\t<dd>228</dd>\n",
              "\t<dt>$ganancia_test</dt>\n",
              "\t\t<dd>51670000</dd>\n",
              "</dl>\n",
              "</li>\n",
              "\t<li><dl>\n",
              "\t<dt>$semilla</dt>\n",
              "\t\t<dd>752797</dd>\n",
              "\t<dt>$testing</dt>\n",
              "\t\t<dd>49374</dd>\n",
              "\t<dt>$testing_pos</dt>\n",
              "\t\t<dd>373</dd>\n",
              "\t<dt>$envios</dt>\n",
              "\t\t<dd>3282</dd>\n",
              "\t<dt>$aciertos</dt>\n",
              "\t\t<dd>193</dd>\n",
              "\t<dt>$ganancia_test</dt>\n",
              "\t\t<dd>44380000</dd>\n",
              "</dl>\n",
              "</li>\n",
              "\t<li><dl>\n",
              "\t<dt>$semilla</dt>\n",
              "\t\t<dd>685301</dd>\n",
              "\t<dt>$testing</dt>\n",
              "\t\t<dd>49372</dd>\n",
              "\t<dt>$testing_pos</dt>\n",
              "\t\t<dd>375</dd>\n",
              "\t<dt>$envios</dt>\n",
              "\t\t<dd>3404</dd>\n",
              "\t<dt>$aciertos</dt>\n",
              "\t\t<dd>205</dd>\n",
              "\t<dt>$ganancia_test</dt>\n",
              "\t\t<dd>47960000</dd>\n",
              "</dl>\n",
              "</li>\n",
              "\t<li><dl>\n",
              "\t<dt>$semilla</dt>\n",
              "\t\t<dd>893701</dd>\n",
              "\t<dt>$testing</dt>\n",
              "\t\t<dd>49370</dd>\n",
              "\t<dt>$testing_pos</dt>\n",
              "\t\t<dd>372</dd>\n",
              "\t<dt>$envios</dt>\n",
              "\t\t<dd>3023</dd>\n",
              "\t<dt>$aciertos</dt>\n",
              "\t\t<dd>184</dd>\n",
              "\t<dt>$ganancia_test</dt>\n",
              "\t\t<dd>43370000</dd>\n",
              "</dl>\n",
              "</li>\n",
              "\t<li><dl>\n",
              "\t<dt>$semilla</dt>\n",
              "\t\t<dd>852913</dd>\n",
              "\t<dt>$testing</dt>\n",
              "\t\t<dd>49380</dd>\n",
              "\t<dt>$testing_pos</dt>\n",
              "\t\t<dd>373</dd>\n",
              "\t<dt>$envios</dt>\n",
              "\t\t<dd>3240</dd>\n",
              "\t<dt>$aciertos</dt>\n",
              "\t\t<dd>190</dd>\n",
              "\t<dt>$ganancia_test</dt>\n",
              "\t\t<dd>43600000</dd>\n",
              "</dl>\n",
              "</li>\n",
              "\t<li><dl>\n",
              "\t<dt>$semilla</dt>\n",
              "\t\t<dd>455881</dd>\n",
              "\t<dt>$testing</dt>\n",
              "\t\t<dd>49382</dd>\n",
              "\t<dt>$testing_pos</dt>\n",
              "\t\t<dd>376</dd>\n",
              "\t<dt>$envios</dt>\n",
              "\t\t<dd>3208</dd>\n",
              "\t<dt>$aciertos</dt>\n",
              "\t\t<dd>199</dd>\n",
              "\t<dt>$ganancia_test</dt>\n",
              "\t\t<dd>47520000</dd>\n",
              "</dl>\n",
              "</li>\n",
              "\t<li><dl>\n",
              "\t<dt>$semilla</dt>\n",
              "\t\t<dd>594823</dd>\n",
              "\t<dt>$testing</dt>\n",
              "\t\t<dd>49371</dd>\n",
              "\t<dt>$testing_pos</dt>\n",
              "\t\t<dd>371</dd>\n",
              "\t<dt>$envios</dt>\n",
              "\t\t<dd>4058</dd>\n",
              "\t<dt>$aciertos</dt>\n",
              "\t\t<dd>228</dd>\n",
              "\t<dt>$ganancia_test</dt>\n",
              "\t\t<dd>50620000</dd>\n",
              "</dl>\n",
              "</li>\n",
              "\t<li><dl>\n",
              "\t<dt>$semilla</dt>\n",
              "\t\t<dd>710261</dd>\n",
              "\t<dt>$testing</dt>\n",
              "\t\t<dd>49378</dd>\n",
              "\t<dt>$testing_pos</dt>\n",
              "\t\t<dd>372</dd>\n",
              "\t<dt>$envios</dt>\n",
              "\t\t<dd>3593</dd>\n",
              "\t<dt>$aciertos</dt>\n",
              "\t\t<dd>193</dd>\n",
              "\t<dt>$ganancia_test</dt>\n",
              "\t\t<dd>41270000</dd>\n",
              "</dl>\n",
              "</li>\n",
              "\t<li><dl>\n",
              "\t<dt>$semilla</dt>\n",
              "\t\t<dd>764471</dd>\n",
              "\t<dt>$testing</dt>\n",
              "\t\t<dd>49380</dd>\n",
              "\t<dt>$testing_pos</dt>\n",
              "\t\t<dd>378</dd>\n",
              "\t<dt>$envios</dt>\n",
              "\t\t<dd>3538</dd>\n",
              "\t<dt>$aciertos</dt>\n",
              "\t\t<dd>209</dd>\n",
              "\t<dt>$ganancia_test</dt>\n",
              "\t\t<dd>48220000</dd>\n",
              "</dl>\n",
              "</li>\n",
              "\t<li><dl>\n",
              "\t<dt>$semilla</dt>\n",
              "\t\t<dd>502517</dd>\n",
              "\t<dt>$testing</dt>\n",
              "\t\t<dd>49384</dd>\n",
              "\t<dt>$testing_pos</dt>\n",
              "\t\t<dd>376</dd>\n",
              "\t<dt>$envios</dt>\n",
              "\t\t<dd>4131</dd>\n",
              "\t<dt>$aciertos</dt>\n",
              "\t\t<dd>203</dd>\n",
              "\t<dt>$ganancia_test</dt>\n",
              "\t\t<dd>39890000</dd>\n",
              "</dl>\n",
              "</li>\n",
              "\t<li><dl>\n",
              "\t<dt>$semilla</dt>\n",
              "\t\t<dd>524521</dd>\n",
              "\t<dt>$testing</dt>\n",
              "\t\t<dd>49385</dd>\n",
              "\t<dt>$testing_pos</dt>\n",
              "\t\t<dd>373</dd>\n",
              "\t<dt>$envios</dt>\n",
              "\t\t<dd>4008</dd>\n",
              "\t<dt>$aciertos</dt>\n",
              "\t\t<dd>214</dd>\n",
              "\t<dt>$ganancia_test</dt>\n",
              "\t\t<dd>45520000</dd>\n",
              "</dl>\n",
              "</li>\n",
              "\t<li><dl>\n",
              "\t<dt>$semilla</dt>\n",
              "\t\t<dd>189983</dd>\n",
              "\t<dt>$testing</dt>\n",
              "\t\t<dd>49381</dd>\n",
              "\t<dt>$testing_pos</dt>\n",
              "\t\t<dd>377</dd>\n",
              "\t<dt>$envios</dt>\n",
              "\t\t<dd>3494</dd>\n",
              "\t<dt>$aciertos</dt>\n",
              "\t\t<dd>190</dd>\n",
              "\t<dt>$ganancia_test</dt>\n",
              "\t\t<dd>41060000</dd>\n",
              "</dl>\n",
              "</li>\n",
              "\t<li><dl>\n",
              "\t<dt>$semilla</dt>\n",
              "\t\t<dd>424121</dd>\n",
              "\t<dt>$testing</dt>\n",
              "\t\t<dd>49390</dd>\n",
              "\t<dt>$testing_pos</dt>\n",
              "\t\t<dd>376</dd>\n",
              "\t<dt>$envios</dt>\n",
              "\t\t<dd>3021</dd>\n",
              "\t<dt>$aciertos</dt>\n",
              "\t\t<dd>200</dd>\n",
              "\t<dt>$ganancia_test</dt>\n",
              "\t\t<dd>49790000</dd>\n",
              "</dl>\n",
              "</li>\n",
              "\t<li><dl>\n",
              "\t<dt>$semilla</dt>\n",
              "\t\t<dd>636263</dd>\n",
              "\t<dt>$testing</dt>\n",
              "\t\t<dd>49386</dd>\n",
              "\t<dt>$testing_pos</dt>\n",
              "\t\t<dd>371</dd>\n",
              "\t<dt>$envios</dt>\n",
              "\t\t<dd>3827</dd>\n",
              "\t<dt>$aciertos</dt>\n",
              "\t\t<dd>215</dd>\n",
              "\t<dt>$ganancia_test</dt>\n",
              "\t\t<dd>47730000</dd>\n",
              "</dl>\n",
              "</li>\n",
              "\t<li><dl>\n",
              "\t<dt>$semilla</dt>\n",
              "\t\t<dd>966157</dd>\n",
              "\t<dt>$testing</dt>\n",
              "\t\t<dd>49364</dd>\n",
              "\t<dt>$testing_pos</dt>\n",
              "\t\t<dd>368</dd>\n",
              "\t<dt>$envios</dt>\n",
              "\t\t<dd>3344</dd>\n",
              "\t<dt>$aciertos</dt>\n",
              "\t\t<dd>200</dd>\n",
              "\t<dt>$ganancia_test</dt>\n",
              "\t\t<dd>46560000</dd>\n",
              "</dl>\n",
              "</li>\n",
              "\t<li><dl>\n",
              "\t<dt>$semilla</dt>\n",
              "\t\t<dd>611071</dd>\n",
              "\t<dt>$testing</dt>\n",
              "\t\t<dd>49374</dd>\n",
              "\t<dt>$testing_pos</dt>\n",
              "\t\t<dd>372</dd>\n",
              "\t<dt>$envios</dt>\n",
              "\t\t<dd>2901</dd>\n",
              "\t<dt>$aciertos</dt>\n",
              "\t\t<dd>196</dd>\n",
              "\t<dt>$ganancia_test</dt>\n",
              "\t\t<dd>49390000</dd>\n",
              "</dl>\n",
              "</li>\n",
              "\t<li><dl>\n",
              "\t<dt>$semilla</dt>\n",
              "\t\t<dd>684547</dd>\n",
              "\t<dt>$testing</dt>\n",
              "\t\t<dd>49375</dd>\n",
              "\t<dt>$testing_pos</dt>\n",
              "\t\t<dd>375</dd>\n",
              "\t<dt>$envios</dt>\n",
              "\t\t<dd>3661</dd>\n",
              "\t<dt>$aciertos</dt>\n",
              "\t\t<dd>223</dd>\n",
              "\t<dt>$ganancia_test</dt>\n",
              "\t\t<dd>52590000</dd>\n",
              "</dl>\n",
              "</li>\n",
              "\t<li><dl>\n",
              "\t<dt>$semilla</dt>\n",
              "\t\t<dd>296831</dd>\n",
              "\t<dt>$testing</dt>\n",
              "\t\t<dd>49375</dd>\n",
              "\t<dt>$testing_pos</dt>\n",
              "\t\t<dd>367</dd>\n",
              "\t<dt>$envios</dt>\n",
              "\t\t<dd>2763</dd>\n",
              "\t<dt>$aciertos</dt>\n",
              "\t\t<dd>183</dd>\n",
              "\t<dt>$ganancia_test</dt>\n",
              "\t\t<dd>45570000</dd>\n",
              "</dl>\n",
              "</li>\n",
              "\t<li><dl>\n",
              "\t<dt>$semilla</dt>\n",
              "\t\t<dd>135391</dd>\n",
              "\t<dt>$testing</dt>\n",
              "\t\t<dd>49364</dd>\n",
              "\t<dt>$testing_pos</dt>\n",
              "\t\t<dd>370</dd>\n",
              "\t<dt>$envios</dt>\n",
              "\t\t<dd>3360</dd>\n",
              "\t<dt>$aciertos</dt>\n",
              "\t\t<dd>209</dd>\n",
              "\t<dt>$ganancia_test</dt>\n",
              "\t\t<dd>5e+07</dd>\n",
              "</dl>\n",
              "</li>\n",
              "\t<li><dl>\n",
              "\t<dt>$semilla</dt>\n",
              "\t\t<dd>310021</dd>\n",
              "\t<dt>$testing</dt>\n",
              "\t\t<dd>49378</dd>\n",
              "\t<dt>$testing_pos</dt>\n",
              "\t\t<dd>370</dd>\n",
              "\t<dt>$envios</dt>\n",
              "\t\t<dd>3308</dd>\n",
              "\t<dt>$aciertos</dt>\n",
              "\t\t<dd>205</dd>\n",
              "\t<dt>$ganancia_test</dt>\n",
              "\t\t<dd>48920000</dd>\n",
              "</dl>\n",
              "</li>\n",
              "\t<li><dl>\n",
              "\t<dt>$semilla</dt>\n",
              "\t\t<dd>366227</dd>\n",
              "\t<dt>$testing</dt>\n",
              "\t\t<dd>49377</dd>\n",
              "\t<dt>$testing_pos</dt>\n",
              "\t\t<dd>373</dd>\n",
              "\t<dt>$envios</dt>\n",
              "\t\t<dd>3461</dd>\n",
              "\t<dt>$aciertos</dt>\n",
              "\t\t<dd>205</dd>\n",
              "\t<dt>$ganancia_test</dt>\n",
              "\t\t<dd>47390000</dd>\n",
              "</dl>\n",
              "</li>\n",
              "\t<li><dl>\n",
              "\t<dt>$semilla</dt>\n",
              "\t\t<dd>612817</dd>\n",
              "\t<dt>$testing</dt>\n",
              "\t\t<dd>49378</dd>\n",
              "\t<dt>$testing_pos</dt>\n",
              "\t\t<dd>372</dd>\n",
              "\t<dt>$envios</dt>\n",
              "\t\t<dd>3799</dd>\n",
              "\t<dt>$aciertos</dt>\n",
              "\t\t<dd>224</dd>\n",
              "\t<dt>$ganancia_test</dt>\n",
              "\t\t<dd>51610000</dd>\n",
              "</dl>\n",
              "</li>\n",
              "\t<li><dl>\n",
              "\t<dt>$semilla</dt>\n",
              "\t\t<dd>710959</dd>\n",
              "\t<dt>$testing</dt>\n",
              "\t\t<dd>49374</dd>\n",
              "\t<dt>$testing_pos</dt>\n",
              "\t\t<dd>369</dd>\n",
              "\t<dt>$envios</dt>\n",
              "\t\t<dd>3686</dd>\n",
              "\t<dt>$aciertos</dt>\n",
              "\t\t<dd>216</dd>\n",
              "\t<dt>$ganancia_test</dt>\n",
              "\t\t<dd>49540000</dd>\n",
              "</dl>\n",
              "</li>\n",
              "\t<li><dl>\n",
              "\t<dt>$semilla</dt>\n",
              "\t\t<dd>453659</dd>\n",
              "\t<dt>$testing</dt>\n",
              "\t\t<dd>49392</dd>\n",
              "\t<dt>$testing_pos</dt>\n",
              "\t\t<dd>379</dd>\n",
              "\t<dt>$envios</dt>\n",
              "\t\t<dd>3169</dd>\n",
              "\t<dt>$aciertos</dt>\n",
              "\t\t<dd>209</dd>\n",
              "\t<dt>$ganancia_test</dt>\n",
              "\t\t<dd>51910000</dd>\n",
              "</dl>\n",
              "</li>\n",
              "\t<li><dl>\n",
              "\t<dt>$semilla</dt>\n",
              "\t\t<dd>584849</dd>\n",
              "\t<dt>$testing</dt>\n",
              "\t\t<dd>49377</dd>\n",
              "\t<dt>$testing_pos</dt>\n",
              "\t\t<dd>378</dd>\n",
              "\t<dt>$envios</dt>\n",
              "\t\t<dd>3484</dd>\n",
              "\t<dt>$aciertos</dt>\n",
              "\t\t<dd>213</dd>\n",
              "\t<dt>$ganancia_test</dt>\n",
              "\t\t<dd>50360000</dd>\n",
              "</dl>\n",
              "</li>\n",
              "\t<li><dl>\n",
              "\t<dt>$semilla</dt>\n",
              "\t\t<dd>198347</dd>\n",
              "\t<dt>$testing</dt>\n",
              "\t\t<dd>49374</dd>\n",
              "\t<dt>$testing_pos</dt>\n",
              "\t\t<dd>375</dd>\n",
              "\t<dt>$envios</dt>\n",
              "\t\t<dd>2822</dd>\n",
              "\t<dt>$aciertos</dt>\n",
              "\t\t<dd>197</dd>\n",
              "\t<dt>$ganancia_test</dt>\n",
              "\t\t<dd>50580000</dd>\n",
              "</dl>\n",
              "</li>\n",
              "\t<li><dl>\n",
              "\t<dt>$semilla</dt>\n",
              "\t\t<dd>103087</dd>\n",
              "\t<dt>$testing</dt>\n",
              "\t\t<dd>49367</dd>\n",
              "\t<dt>$testing_pos</dt>\n",
              "\t\t<dd>376</dd>\n",
              "\t<dt>$envios</dt>\n",
              "\t\t<dd>3322</dd>\n",
              "\t<dt>$aciertos</dt>\n",
              "\t\t<dd>202</dd>\n",
              "\t<dt>$ganancia_test</dt>\n",
              "\t\t<dd>47580000</dd>\n",
              "</dl>\n",
              "</li>\n",
              "\t<li><dl>\n",
              "\t<dt>$semilla</dt>\n",
              "\t\t<dd>954067</dd>\n",
              "\t<dt>$testing</dt>\n",
              "\t\t<dd>49377</dd>\n",
              "\t<dt>$testing_pos</dt>\n",
              "\t\t<dd>377</dd>\n",
              "\t<dt>$envios</dt>\n",
              "\t\t<dd>3757</dd>\n",
              "\t<dt>$aciertos</dt>\n",
              "\t\t<dd>231</dd>\n",
              "\t<dt>$ganancia_test</dt>\n",
              "\t\t<dd>54830000</dd>\n",
              "</dl>\n",
              "</li>\n",
              "\t<li><dl>\n",
              "\t<dt>$semilla</dt>\n",
              "\t\t<dd>371057</dd>\n",
              "\t<dt>$testing</dt>\n",
              "\t\t<dd>49390</dd>\n",
              "\t<dt>$testing_pos</dt>\n",
              "\t\t<dd>378</dd>\n",
              "\t<dt>$envios</dt>\n",
              "\t\t<dd>4180</dd>\n",
              "\t<dt>$aciertos</dt>\n",
              "\t\t<dd>227</dd>\n",
              "\t<dt>$ganancia_test</dt>\n",
              "\t\t<dd>4.9e+07</dd>\n",
              "</dl>\n",
              "</li>\n",
              "\t<li><dl>\n",
              "\t<dt>$semilla</dt>\n",
              "\t\t<dd>226483</dd>\n",
              "\t<dt>$testing</dt>\n",
              "\t\t<dd>49381</dd>\n",
              "\t<dt>$testing_pos</dt>\n",
              "\t\t<dd>376</dd>\n",
              "\t<dt>$envios</dt>\n",
              "\t\t<dd>3518</dd>\n",
              "\t<dt>$aciertos</dt>\n",
              "\t\t<dd>197</dd>\n",
              "\t<dt>$ganancia_test</dt>\n",
              "\t\t<dd>43620000</dd>\n",
              "</dl>\n",
              "</li>\n",
              "</ol>\n"
            ],
            "text/markdown": "1. $semilla\n:   338567\n$testing\n:   49382\n$testing_pos\n:   384\n$envios\n:   3061\n$aciertos\n:   196\n$ganancia_test\n:   47790000\n\n\n\n2. $semilla\n:   518239\n$testing\n:   49372\n$testing_pos\n:   376\n$envios\n:   2995\n$aciertos\n:   196\n$ganancia_test\n:   48450000\n\n\n\n3. $semilla\n:   986717\n$testing\n:   49373\n$testing_pos\n:   375\n$envios\n:   3384\n$aciertos\n:   213\n$ganancia_test\n:   51360000\n\n\n\n4. $semilla\n:   817669\n$testing\n:   49368\n$testing_pos\n:   373\n$envios\n:   3711\n$aciertos\n:   209\n$ganancia_test\n:   46490000\n\n\n\n5. $semilla\n:   453977\n$testing\n:   49380\n$testing_pos\n:   376\n$envios\n:   3203\n$aciertos\n:   201\n$ganancia_test\n:   48370000\n\n\n\n6. $semilla\n:   950161\n$testing\n:   49384\n$testing_pos\n:   375\n$envios\n:   2690\n$aciertos\n:   206\n$ganancia_test\n:   55500000\n\n\n\n7. $semilla\n:   324089\n$testing\n:   49365\n$testing_pos\n:   365\n$envios\n:   2771\n$aciertos\n:   173\n$ganancia_test\n:   41490000\n\n\n\n8. $semilla\n:   741079\n$testing\n:   49375\n$testing_pos\n:   368\n$envios\n:   3397\n$aciertos\n:   194\n$ganancia_test\n:   43630000\n\n\n\n9. $semilla\n:   989641\n$testing\n:   49383\n$testing_pos\n:   376\n$envios\n:   3164\n$aciertos\n:   187\n$ganancia_test\n:   43160000\n\n\n\n10. $semilla\n:   142841\n$testing\n:   49390\n$testing_pos\n:   379\n$envios\n:   2538\n$aciertos\n:   186\n$ganancia_test\n:   49020000\n\n\n\n11. $semilla\n:   777241\n$testing\n:   49374\n$testing_pos\n:   376\n$envios\n:   3330\n$aciertos\n:   200\n$ganancia_test\n:   46700000\n\n\n\n12. $semilla\n:   584923\n$testing\n:   49386\n$testing_pos\n:   379\n$envios\n:   3008\n$aciertos\n:   192\n$ganancia_test\n:   46720000\n\n\n\n13. $semilla\n:   681179\n$testing\n:   49387\n$testing_pos\n:   374\n$envios\n:   2888\n$aciertos\n:   204\n$ganancia_test\n:   52720000\n\n\n\n14. $semilla\n:   587827\n$testing\n:   49375\n$testing_pos\n:   373\n$envios\n:   3567\n$aciertos\n:   192\n$ganancia_test\n:   41130000\n\n\n\n15. $semilla\n:   924743\n$testing\n:   49373\n$testing_pos\n:   372\n$envios\n:   3536\n$aciertos\n:   186\n$ganancia_test\n:   39040000\n\n\n\n16. $semilla\n:   206177\n$testing\n:   49383\n$testing_pos\n:   379\n$envios\n:   3637\n$aciertos\n:   227\n$ganancia_test\n:   54430000\n\n\n\n17. $semilla\n:   427351\n$testing\n:   49376\n$testing_pos\n:   373\n$envios\n:   3671\n$aciertos\n:   220\n$ganancia_test\n:   51290000\n\n\n\n18. $semilla\n:   969503\n$testing\n:   49376\n$testing_pos\n:   379\n$envios\n:   4009\n$aciertos\n:   218\n$ganancia_test\n:   47110000\n\n\n\n19. $semilla\n:   583577\n$testing\n:   49381\n$testing_pos\n:   374\n$envios\n:   3648\n$aciertos\n:   202\n$ganancia_test\n:   44320000\n\n\n\n20. $semilla\n:   861719\n$testing\n:   49383\n$testing_pos\n:   377\n$envios\n:   2786\n$aciertos\n:   188\n$ganancia_test\n:   47340000\n\n\n\n21. $semilla\n:   901591\n$testing\n:   49378\n$testing_pos\n:   374\n$envios\n:   3953\n$aciertos\n:   228\n$ganancia_test\n:   51670000\n\n\n\n22. $semilla\n:   752797\n$testing\n:   49374\n$testing_pos\n:   373\n$envios\n:   3282\n$aciertos\n:   193\n$ganancia_test\n:   44380000\n\n\n\n23. $semilla\n:   685301\n$testing\n:   49372\n$testing_pos\n:   375\n$envios\n:   3404\n$aciertos\n:   205\n$ganancia_test\n:   47960000\n\n\n\n24. $semilla\n:   893701\n$testing\n:   49370\n$testing_pos\n:   372\n$envios\n:   3023\n$aciertos\n:   184\n$ganancia_test\n:   43370000\n\n\n\n25. $semilla\n:   852913\n$testing\n:   49380\n$testing_pos\n:   373\n$envios\n:   3240\n$aciertos\n:   190\n$ganancia_test\n:   43600000\n\n\n\n26. $semilla\n:   455881\n$testing\n:   49382\n$testing_pos\n:   376\n$envios\n:   3208\n$aciertos\n:   199\n$ganancia_test\n:   47520000\n\n\n\n27. $semilla\n:   594823\n$testing\n:   49371\n$testing_pos\n:   371\n$envios\n:   4058\n$aciertos\n:   228\n$ganancia_test\n:   50620000\n\n\n\n28. $semilla\n:   710261\n$testing\n:   49378\n$testing_pos\n:   372\n$envios\n:   3593\n$aciertos\n:   193\n$ganancia_test\n:   41270000\n\n\n\n29. $semilla\n:   764471\n$testing\n:   49380\n$testing_pos\n:   378\n$envios\n:   3538\n$aciertos\n:   209\n$ganancia_test\n:   48220000\n\n\n\n30. $semilla\n:   502517\n$testing\n:   49384\n$testing_pos\n:   376\n$envios\n:   4131\n$aciertos\n:   203\n$ganancia_test\n:   39890000\n\n\n\n31. $semilla\n:   524521\n$testing\n:   49385\n$testing_pos\n:   373\n$envios\n:   4008\n$aciertos\n:   214\n$ganancia_test\n:   45520000\n\n\n\n32. $semilla\n:   189983\n$testing\n:   49381\n$testing_pos\n:   377\n$envios\n:   3494\n$aciertos\n:   190\n$ganancia_test\n:   41060000\n\n\n\n33. $semilla\n:   424121\n$testing\n:   49390\n$testing_pos\n:   376\n$envios\n:   3021\n$aciertos\n:   200\n$ganancia_test\n:   49790000\n\n\n\n34. $semilla\n:   636263\n$testing\n:   49386\n$testing_pos\n:   371\n$envios\n:   3827\n$aciertos\n:   215\n$ganancia_test\n:   47730000\n\n\n\n35. $semilla\n:   966157\n$testing\n:   49364\n$testing_pos\n:   368\n$envios\n:   3344\n$aciertos\n:   200\n$ganancia_test\n:   46560000\n\n\n\n36. $semilla\n:   611071\n$testing\n:   49374\n$testing_pos\n:   372\n$envios\n:   2901\n$aciertos\n:   196\n$ganancia_test\n:   49390000\n\n\n\n37. $semilla\n:   684547\n$testing\n:   49375\n$testing_pos\n:   375\n$envios\n:   3661\n$aciertos\n:   223\n$ganancia_test\n:   52590000\n\n\n\n38. $semilla\n:   296831\n$testing\n:   49375\n$testing_pos\n:   367\n$envios\n:   2763\n$aciertos\n:   183\n$ganancia_test\n:   45570000\n\n\n\n39. $semilla\n:   135391\n$testing\n:   49364\n$testing_pos\n:   370\n$envios\n:   3360\n$aciertos\n:   209\n$ganancia_test\n:   5e+07\n\n\n\n40. $semilla\n:   310021\n$testing\n:   49378\n$testing_pos\n:   370\n$envios\n:   3308\n$aciertos\n:   205\n$ganancia_test\n:   48920000\n\n\n\n41. $semilla\n:   366227\n$testing\n:   49377\n$testing_pos\n:   373\n$envios\n:   3461\n$aciertos\n:   205\n$ganancia_test\n:   47390000\n\n\n\n42. $semilla\n:   612817\n$testing\n:   49378\n$testing_pos\n:   372\n$envios\n:   3799\n$aciertos\n:   224\n$ganancia_test\n:   51610000\n\n\n\n43. $semilla\n:   710959\n$testing\n:   49374\n$testing_pos\n:   369\n$envios\n:   3686\n$aciertos\n:   216\n$ganancia_test\n:   49540000\n\n\n\n44. $semilla\n:   453659\n$testing\n:   49392\n$testing_pos\n:   379\n$envios\n:   3169\n$aciertos\n:   209\n$ganancia_test\n:   51910000\n\n\n\n45. $semilla\n:   584849\n$testing\n:   49377\n$testing_pos\n:   378\n$envios\n:   3484\n$aciertos\n:   213\n$ganancia_test\n:   50360000\n\n\n\n46. $semilla\n:   198347\n$testing\n:   49374\n$testing_pos\n:   375\n$envios\n:   2822\n$aciertos\n:   197\n$ganancia_test\n:   50580000\n\n\n\n47. $semilla\n:   103087\n$testing\n:   49367\n$testing_pos\n:   376\n$envios\n:   3322\n$aciertos\n:   202\n$ganancia_test\n:   47580000\n\n\n\n48. $semilla\n:   954067\n$testing\n:   49377\n$testing_pos\n:   377\n$envios\n:   3757\n$aciertos\n:   231\n$ganancia_test\n:   54830000\n\n\n\n49. $semilla\n:   371057\n$testing\n:   49390\n$testing_pos\n:   378\n$envios\n:   4180\n$aciertos\n:   227\n$ganancia_test\n:   4.9e+07\n\n\n\n50. $semilla\n:   226483\n$testing\n:   49381\n$testing_pos\n:   376\n$envios\n:   3518\n$aciertos\n:   197\n$ganancia_test\n:   43620000\n\n\n\n\n\n",
            "text/latex": "\\begin{enumerate}\n\\item \\begin{description}\n\\item[\\$semilla] 338567\n\\item[\\$testing] 49382\n\\item[\\$testing\\_pos] 384\n\\item[\\$envios] 3061\n\\item[\\$aciertos] 196\n\\item[\\$ganancia\\_test] 47790000\n\\end{description}\n\n\\item \\begin{description}\n\\item[\\$semilla] 518239\n\\item[\\$testing] 49372\n\\item[\\$testing\\_pos] 376\n\\item[\\$envios] 2995\n\\item[\\$aciertos] 196\n\\item[\\$ganancia\\_test] 48450000\n\\end{description}\n\n\\item \\begin{description}\n\\item[\\$semilla] 986717\n\\item[\\$testing] 49373\n\\item[\\$testing\\_pos] 375\n\\item[\\$envios] 3384\n\\item[\\$aciertos] 213\n\\item[\\$ganancia\\_test] 51360000\n\\end{description}\n\n\\item \\begin{description}\n\\item[\\$semilla] 817669\n\\item[\\$testing] 49368\n\\item[\\$testing\\_pos] 373\n\\item[\\$envios] 3711\n\\item[\\$aciertos] 209\n\\item[\\$ganancia\\_test] 46490000\n\\end{description}\n\n\\item \\begin{description}\n\\item[\\$semilla] 453977\n\\item[\\$testing] 49380\n\\item[\\$testing\\_pos] 376\n\\item[\\$envios] 3203\n\\item[\\$aciertos] 201\n\\item[\\$ganancia\\_test] 48370000\n\\end{description}\n\n\\item \\begin{description}\n\\item[\\$semilla] 950161\n\\item[\\$testing] 49384\n\\item[\\$testing\\_pos] 375\n\\item[\\$envios] 2690\n\\item[\\$aciertos] 206\n\\item[\\$ganancia\\_test] 55500000\n\\end{description}\n\n\\item \\begin{description}\n\\item[\\$semilla] 324089\n\\item[\\$testing] 49365\n\\item[\\$testing\\_pos] 365\n\\item[\\$envios] 2771\n\\item[\\$aciertos] 173\n\\item[\\$ganancia\\_test] 41490000\n\\end{description}\n\n\\item \\begin{description}\n\\item[\\$semilla] 741079\n\\item[\\$testing] 49375\n\\item[\\$testing\\_pos] 368\n\\item[\\$envios] 3397\n\\item[\\$aciertos] 194\n\\item[\\$ganancia\\_test] 43630000\n\\end{description}\n\n\\item \\begin{description}\n\\item[\\$semilla] 989641\n\\item[\\$testing] 49383\n\\item[\\$testing\\_pos] 376\n\\item[\\$envios] 3164\n\\item[\\$aciertos] 187\n\\item[\\$ganancia\\_test] 43160000\n\\end{description}\n\n\\item \\begin{description}\n\\item[\\$semilla] 142841\n\\item[\\$testing] 49390\n\\item[\\$testing\\_pos] 379\n\\item[\\$envios] 2538\n\\item[\\$aciertos] 186\n\\item[\\$ganancia\\_test] 49020000\n\\end{description}\n\n\\item \\begin{description}\n\\item[\\$semilla] 777241\n\\item[\\$testing] 49374\n\\item[\\$testing\\_pos] 376\n\\item[\\$envios] 3330\n\\item[\\$aciertos] 200\n\\item[\\$ganancia\\_test] 46700000\n\\end{description}\n\n\\item \\begin{description}\n\\item[\\$semilla] 584923\n\\item[\\$testing] 49386\n\\item[\\$testing\\_pos] 379\n\\item[\\$envios] 3008\n\\item[\\$aciertos] 192\n\\item[\\$ganancia\\_test] 46720000\n\\end{description}\n\n\\item \\begin{description}\n\\item[\\$semilla] 681179\n\\item[\\$testing] 49387\n\\item[\\$testing\\_pos] 374\n\\item[\\$envios] 2888\n\\item[\\$aciertos] 204\n\\item[\\$ganancia\\_test] 52720000\n\\end{description}\n\n\\item \\begin{description}\n\\item[\\$semilla] 587827\n\\item[\\$testing] 49375\n\\item[\\$testing\\_pos] 373\n\\item[\\$envios] 3567\n\\item[\\$aciertos] 192\n\\item[\\$ganancia\\_test] 41130000\n\\end{description}\n\n\\item \\begin{description}\n\\item[\\$semilla] 924743\n\\item[\\$testing] 49373\n\\item[\\$testing\\_pos] 372\n\\item[\\$envios] 3536\n\\item[\\$aciertos] 186\n\\item[\\$ganancia\\_test] 39040000\n\\end{description}\n\n\\item \\begin{description}\n\\item[\\$semilla] 206177\n\\item[\\$testing] 49383\n\\item[\\$testing\\_pos] 379\n\\item[\\$envios] 3637\n\\item[\\$aciertos] 227\n\\item[\\$ganancia\\_test] 54430000\n\\end{description}\n\n\\item \\begin{description}\n\\item[\\$semilla] 427351\n\\item[\\$testing] 49376\n\\item[\\$testing\\_pos] 373\n\\item[\\$envios] 3671\n\\item[\\$aciertos] 220\n\\item[\\$ganancia\\_test] 51290000\n\\end{description}\n\n\\item \\begin{description}\n\\item[\\$semilla] 969503\n\\item[\\$testing] 49376\n\\item[\\$testing\\_pos] 379\n\\item[\\$envios] 4009\n\\item[\\$aciertos] 218\n\\item[\\$ganancia\\_test] 47110000\n\\end{description}\n\n\\item \\begin{description}\n\\item[\\$semilla] 583577\n\\item[\\$testing] 49381\n\\item[\\$testing\\_pos] 374\n\\item[\\$envios] 3648\n\\item[\\$aciertos] 202\n\\item[\\$ganancia\\_test] 44320000\n\\end{description}\n\n\\item \\begin{description}\n\\item[\\$semilla] 861719\n\\item[\\$testing] 49383\n\\item[\\$testing\\_pos] 377\n\\item[\\$envios] 2786\n\\item[\\$aciertos] 188\n\\item[\\$ganancia\\_test] 47340000\n\\end{description}\n\n\\item \\begin{description}\n\\item[\\$semilla] 901591\n\\item[\\$testing] 49378\n\\item[\\$testing\\_pos] 374\n\\item[\\$envios] 3953\n\\item[\\$aciertos] 228\n\\item[\\$ganancia\\_test] 51670000\n\\end{description}\n\n\\item \\begin{description}\n\\item[\\$semilla] 752797\n\\item[\\$testing] 49374\n\\item[\\$testing\\_pos] 373\n\\item[\\$envios] 3282\n\\item[\\$aciertos] 193\n\\item[\\$ganancia\\_test] 44380000\n\\end{description}\n\n\\item \\begin{description}\n\\item[\\$semilla] 685301\n\\item[\\$testing] 49372\n\\item[\\$testing\\_pos] 375\n\\item[\\$envios] 3404\n\\item[\\$aciertos] 205\n\\item[\\$ganancia\\_test] 47960000\n\\end{description}\n\n\\item \\begin{description}\n\\item[\\$semilla] 893701\n\\item[\\$testing] 49370\n\\item[\\$testing\\_pos] 372\n\\item[\\$envios] 3023\n\\item[\\$aciertos] 184\n\\item[\\$ganancia\\_test] 43370000\n\\end{description}\n\n\\item \\begin{description}\n\\item[\\$semilla] 852913\n\\item[\\$testing] 49380\n\\item[\\$testing\\_pos] 373\n\\item[\\$envios] 3240\n\\item[\\$aciertos] 190\n\\item[\\$ganancia\\_test] 43600000\n\\end{description}\n\n\\item \\begin{description}\n\\item[\\$semilla] 455881\n\\item[\\$testing] 49382\n\\item[\\$testing\\_pos] 376\n\\item[\\$envios] 3208\n\\item[\\$aciertos] 199\n\\item[\\$ganancia\\_test] 47520000\n\\end{description}\n\n\\item \\begin{description}\n\\item[\\$semilla] 594823\n\\item[\\$testing] 49371\n\\item[\\$testing\\_pos] 371\n\\item[\\$envios] 4058\n\\item[\\$aciertos] 228\n\\item[\\$ganancia\\_test] 50620000\n\\end{description}\n\n\\item \\begin{description}\n\\item[\\$semilla] 710261\n\\item[\\$testing] 49378\n\\item[\\$testing\\_pos] 372\n\\item[\\$envios] 3593\n\\item[\\$aciertos] 193\n\\item[\\$ganancia\\_test] 41270000\n\\end{description}\n\n\\item \\begin{description}\n\\item[\\$semilla] 764471\n\\item[\\$testing] 49380\n\\item[\\$testing\\_pos] 378\n\\item[\\$envios] 3538\n\\item[\\$aciertos] 209\n\\item[\\$ganancia\\_test] 48220000\n\\end{description}\n\n\\item \\begin{description}\n\\item[\\$semilla] 502517\n\\item[\\$testing] 49384\n\\item[\\$testing\\_pos] 376\n\\item[\\$envios] 4131\n\\item[\\$aciertos] 203\n\\item[\\$ganancia\\_test] 39890000\n\\end{description}\n\n\\item \\begin{description}\n\\item[\\$semilla] 524521\n\\item[\\$testing] 49385\n\\item[\\$testing\\_pos] 373\n\\item[\\$envios] 4008\n\\item[\\$aciertos] 214\n\\item[\\$ganancia\\_test] 45520000\n\\end{description}\n\n\\item \\begin{description}\n\\item[\\$semilla] 189983\n\\item[\\$testing] 49381\n\\item[\\$testing\\_pos] 377\n\\item[\\$envios] 3494\n\\item[\\$aciertos] 190\n\\item[\\$ganancia\\_test] 41060000\n\\end{description}\n\n\\item \\begin{description}\n\\item[\\$semilla] 424121\n\\item[\\$testing] 49390\n\\item[\\$testing\\_pos] 376\n\\item[\\$envios] 3021\n\\item[\\$aciertos] 200\n\\item[\\$ganancia\\_test] 49790000\n\\end{description}\n\n\\item \\begin{description}\n\\item[\\$semilla] 636263\n\\item[\\$testing] 49386\n\\item[\\$testing\\_pos] 371\n\\item[\\$envios] 3827\n\\item[\\$aciertos] 215\n\\item[\\$ganancia\\_test] 47730000\n\\end{description}\n\n\\item \\begin{description}\n\\item[\\$semilla] 966157\n\\item[\\$testing] 49364\n\\item[\\$testing\\_pos] 368\n\\item[\\$envios] 3344\n\\item[\\$aciertos] 200\n\\item[\\$ganancia\\_test] 46560000\n\\end{description}\n\n\\item \\begin{description}\n\\item[\\$semilla] 611071\n\\item[\\$testing] 49374\n\\item[\\$testing\\_pos] 372\n\\item[\\$envios] 2901\n\\item[\\$aciertos] 196\n\\item[\\$ganancia\\_test] 49390000\n\\end{description}\n\n\\item \\begin{description}\n\\item[\\$semilla] 684547\n\\item[\\$testing] 49375\n\\item[\\$testing\\_pos] 375\n\\item[\\$envios] 3661\n\\item[\\$aciertos] 223\n\\item[\\$ganancia\\_test] 52590000\n\\end{description}\n\n\\item \\begin{description}\n\\item[\\$semilla] 296831\n\\item[\\$testing] 49375\n\\item[\\$testing\\_pos] 367\n\\item[\\$envios] 2763\n\\item[\\$aciertos] 183\n\\item[\\$ganancia\\_test] 45570000\n\\end{description}\n\n\\item \\begin{description}\n\\item[\\$semilla] 135391\n\\item[\\$testing] 49364\n\\item[\\$testing\\_pos] 370\n\\item[\\$envios] 3360\n\\item[\\$aciertos] 209\n\\item[\\$ganancia\\_test] 5e+07\n\\end{description}\n\n\\item \\begin{description}\n\\item[\\$semilla] 310021\n\\item[\\$testing] 49378\n\\item[\\$testing\\_pos] 370\n\\item[\\$envios] 3308\n\\item[\\$aciertos] 205\n\\item[\\$ganancia\\_test] 48920000\n\\end{description}\n\n\\item \\begin{description}\n\\item[\\$semilla] 366227\n\\item[\\$testing] 49377\n\\item[\\$testing\\_pos] 373\n\\item[\\$envios] 3461\n\\item[\\$aciertos] 205\n\\item[\\$ganancia\\_test] 47390000\n\\end{description}\n\n\\item \\begin{description}\n\\item[\\$semilla] 612817\n\\item[\\$testing] 49378\n\\item[\\$testing\\_pos] 372\n\\item[\\$envios] 3799\n\\item[\\$aciertos] 224\n\\item[\\$ganancia\\_test] 51610000\n\\end{description}\n\n\\item \\begin{description}\n\\item[\\$semilla] 710959\n\\item[\\$testing] 49374\n\\item[\\$testing\\_pos] 369\n\\item[\\$envios] 3686\n\\item[\\$aciertos] 216\n\\item[\\$ganancia\\_test] 49540000\n\\end{description}\n\n\\item \\begin{description}\n\\item[\\$semilla] 453659\n\\item[\\$testing] 49392\n\\item[\\$testing\\_pos] 379\n\\item[\\$envios] 3169\n\\item[\\$aciertos] 209\n\\item[\\$ganancia\\_test] 51910000\n\\end{description}\n\n\\item \\begin{description}\n\\item[\\$semilla] 584849\n\\item[\\$testing] 49377\n\\item[\\$testing\\_pos] 378\n\\item[\\$envios] 3484\n\\item[\\$aciertos] 213\n\\item[\\$ganancia\\_test] 50360000\n\\end{description}\n\n\\item \\begin{description}\n\\item[\\$semilla] 198347\n\\item[\\$testing] 49374\n\\item[\\$testing\\_pos] 375\n\\item[\\$envios] 2822\n\\item[\\$aciertos] 197\n\\item[\\$ganancia\\_test] 50580000\n\\end{description}\n\n\\item \\begin{description}\n\\item[\\$semilla] 103087\n\\item[\\$testing] 49367\n\\item[\\$testing\\_pos] 376\n\\item[\\$envios] 3322\n\\item[\\$aciertos] 202\n\\item[\\$ganancia\\_test] 47580000\n\\end{description}\n\n\\item \\begin{description}\n\\item[\\$semilla] 954067\n\\item[\\$testing] 49377\n\\item[\\$testing\\_pos] 377\n\\item[\\$envios] 3757\n\\item[\\$aciertos] 231\n\\item[\\$ganancia\\_test] 54830000\n\\end{description}\n\n\\item \\begin{description}\n\\item[\\$semilla] 371057\n\\item[\\$testing] 49390\n\\item[\\$testing\\_pos] 378\n\\item[\\$envios] 4180\n\\item[\\$aciertos] 227\n\\item[\\$ganancia\\_test] 4.9e+07\n\\end{description}\n\n\\item \\begin{description}\n\\item[\\$semilla] 226483\n\\item[\\$testing] 49381\n\\item[\\$testing\\_pos] 376\n\\item[\\$envios] 3518\n\\item[\\$aciertos] 197\n\\item[\\$ganancia\\_test] 43620000\n\\end{description}\n\n\\end{enumerate}\n",
            "text/plain": [
              "[[1]]\n",
              "[[1]]$semilla\n",
              "[1] 338567\n",
              "\n",
              "[[1]]$testing\n",
              "[1] 49382\n",
              "\n",
              "[[1]]$testing_pos\n",
              "[1] 384\n",
              "\n",
              "[[1]]$envios\n",
              "[1] 3061\n",
              "\n",
              "[[1]]$aciertos\n",
              "[1] 196\n",
              "\n",
              "[[1]]$ganancia_test\n",
              "[1] 47790000\n",
              "\n",
              "\n",
              "[[2]]\n",
              "[[2]]$semilla\n",
              "[1] 518239\n",
              "\n",
              "[[2]]$testing\n",
              "[1] 49372\n",
              "\n",
              "[[2]]$testing_pos\n",
              "[1] 376\n",
              "\n",
              "[[2]]$envios\n",
              "[1] 2995\n",
              "\n",
              "[[2]]$aciertos\n",
              "[1] 196\n",
              "\n",
              "[[2]]$ganancia_test\n",
              "[1] 48450000\n",
              "\n",
              "\n",
              "[[3]]\n",
              "[[3]]$semilla\n",
              "[1] 986717\n",
              "\n",
              "[[3]]$testing\n",
              "[1] 49373\n",
              "\n",
              "[[3]]$testing_pos\n",
              "[1] 375\n",
              "\n",
              "[[3]]$envios\n",
              "[1] 3384\n",
              "\n",
              "[[3]]$aciertos\n",
              "[1] 213\n",
              "\n",
              "[[3]]$ganancia_test\n",
              "[1] 51360000\n",
              "\n",
              "\n",
              "[[4]]\n",
              "[[4]]$semilla\n",
              "[1] 817669\n",
              "\n",
              "[[4]]$testing\n",
              "[1] 49368\n",
              "\n",
              "[[4]]$testing_pos\n",
              "[1] 373\n",
              "\n",
              "[[4]]$envios\n",
              "[1] 3711\n",
              "\n",
              "[[4]]$aciertos\n",
              "[1] 209\n",
              "\n",
              "[[4]]$ganancia_test\n",
              "[1] 46490000\n",
              "\n",
              "\n",
              "[[5]]\n",
              "[[5]]$semilla\n",
              "[1] 453977\n",
              "\n",
              "[[5]]$testing\n",
              "[1] 49380\n",
              "\n",
              "[[5]]$testing_pos\n",
              "[1] 376\n",
              "\n",
              "[[5]]$envios\n",
              "[1] 3203\n",
              "\n",
              "[[5]]$aciertos\n",
              "[1] 201\n",
              "\n",
              "[[5]]$ganancia_test\n",
              "[1] 48370000\n",
              "\n",
              "\n",
              "[[6]]\n",
              "[[6]]$semilla\n",
              "[1] 950161\n",
              "\n",
              "[[6]]$testing\n",
              "[1] 49384\n",
              "\n",
              "[[6]]$testing_pos\n",
              "[1] 375\n",
              "\n",
              "[[6]]$envios\n",
              "[1] 2690\n",
              "\n",
              "[[6]]$aciertos\n",
              "[1] 206\n",
              "\n",
              "[[6]]$ganancia_test\n",
              "[1] 55500000\n",
              "\n",
              "\n",
              "[[7]]\n",
              "[[7]]$semilla\n",
              "[1] 324089\n",
              "\n",
              "[[7]]$testing\n",
              "[1] 49365\n",
              "\n",
              "[[7]]$testing_pos\n",
              "[1] 365\n",
              "\n",
              "[[7]]$envios\n",
              "[1] 2771\n",
              "\n",
              "[[7]]$aciertos\n",
              "[1] 173\n",
              "\n",
              "[[7]]$ganancia_test\n",
              "[1] 41490000\n",
              "\n",
              "\n",
              "[[8]]\n",
              "[[8]]$semilla\n",
              "[1] 741079\n",
              "\n",
              "[[8]]$testing\n",
              "[1] 49375\n",
              "\n",
              "[[8]]$testing_pos\n",
              "[1] 368\n",
              "\n",
              "[[8]]$envios\n",
              "[1] 3397\n",
              "\n",
              "[[8]]$aciertos\n",
              "[1] 194\n",
              "\n",
              "[[8]]$ganancia_test\n",
              "[1] 43630000\n",
              "\n",
              "\n",
              "[[9]]\n",
              "[[9]]$semilla\n",
              "[1] 989641\n",
              "\n",
              "[[9]]$testing\n",
              "[1] 49383\n",
              "\n",
              "[[9]]$testing_pos\n",
              "[1] 376\n",
              "\n",
              "[[9]]$envios\n",
              "[1] 3164\n",
              "\n",
              "[[9]]$aciertos\n",
              "[1] 187\n",
              "\n",
              "[[9]]$ganancia_test\n",
              "[1] 43160000\n",
              "\n",
              "\n",
              "[[10]]\n",
              "[[10]]$semilla\n",
              "[1] 142841\n",
              "\n",
              "[[10]]$testing\n",
              "[1] 49390\n",
              "\n",
              "[[10]]$testing_pos\n",
              "[1] 379\n",
              "\n",
              "[[10]]$envios\n",
              "[1] 2538\n",
              "\n",
              "[[10]]$aciertos\n",
              "[1] 186\n",
              "\n",
              "[[10]]$ganancia_test\n",
              "[1] 49020000\n",
              "\n",
              "\n",
              "[[11]]\n",
              "[[11]]$semilla\n",
              "[1] 777241\n",
              "\n",
              "[[11]]$testing\n",
              "[1] 49374\n",
              "\n",
              "[[11]]$testing_pos\n",
              "[1] 376\n",
              "\n",
              "[[11]]$envios\n",
              "[1] 3330\n",
              "\n",
              "[[11]]$aciertos\n",
              "[1] 200\n",
              "\n",
              "[[11]]$ganancia_test\n",
              "[1] 46700000\n",
              "\n",
              "\n",
              "[[12]]\n",
              "[[12]]$semilla\n",
              "[1] 584923\n",
              "\n",
              "[[12]]$testing\n",
              "[1] 49386\n",
              "\n",
              "[[12]]$testing_pos\n",
              "[1] 379\n",
              "\n",
              "[[12]]$envios\n",
              "[1] 3008\n",
              "\n",
              "[[12]]$aciertos\n",
              "[1] 192\n",
              "\n",
              "[[12]]$ganancia_test\n",
              "[1] 46720000\n",
              "\n",
              "\n",
              "[[13]]\n",
              "[[13]]$semilla\n",
              "[1] 681179\n",
              "\n",
              "[[13]]$testing\n",
              "[1] 49387\n",
              "\n",
              "[[13]]$testing_pos\n",
              "[1] 374\n",
              "\n",
              "[[13]]$envios\n",
              "[1] 2888\n",
              "\n",
              "[[13]]$aciertos\n",
              "[1] 204\n",
              "\n",
              "[[13]]$ganancia_test\n",
              "[1] 52720000\n",
              "\n",
              "\n",
              "[[14]]\n",
              "[[14]]$semilla\n",
              "[1] 587827\n",
              "\n",
              "[[14]]$testing\n",
              "[1] 49375\n",
              "\n",
              "[[14]]$testing_pos\n",
              "[1] 373\n",
              "\n",
              "[[14]]$envios\n",
              "[1] 3567\n",
              "\n",
              "[[14]]$aciertos\n",
              "[1] 192\n",
              "\n",
              "[[14]]$ganancia_test\n",
              "[1] 41130000\n",
              "\n",
              "\n",
              "[[15]]\n",
              "[[15]]$semilla\n",
              "[1] 924743\n",
              "\n",
              "[[15]]$testing\n",
              "[1] 49373\n",
              "\n",
              "[[15]]$testing_pos\n",
              "[1] 372\n",
              "\n",
              "[[15]]$envios\n",
              "[1] 3536\n",
              "\n",
              "[[15]]$aciertos\n",
              "[1] 186\n",
              "\n",
              "[[15]]$ganancia_test\n",
              "[1] 39040000\n",
              "\n",
              "\n",
              "[[16]]\n",
              "[[16]]$semilla\n",
              "[1] 206177\n",
              "\n",
              "[[16]]$testing\n",
              "[1] 49383\n",
              "\n",
              "[[16]]$testing_pos\n",
              "[1] 379\n",
              "\n",
              "[[16]]$envios\n",
              "[1] 3637\n",
              "\n",
              "[[16]]$aciertos\n",
              "[1] 227\n",
              "\n",
              "[[16]]$ganancia_test\n",
              "[1] 54430000\n",
              "\n",
              "\n",
              "[[17]]\n",
              "[[17]]$semilla\n",
              "[1] 427351\n",
              "\n",
              "[[17]]$testing\n",
              "[1] 49376\n",
              "\n",
              "[[17]]$testing_pos\n",
              "[1] 373\n",
              "\n",
              "[[17]]$envios\n",
              "[1] 3671\n",
              "\n",
              "[[17]]$aciertos\n",
              "[1] 220\n",
              "\n",
              "[[17]]$ganancia_test\n",
              "[1] 51290000\n",
              "\n",
              "\n",
              "[[18]]\n",
              "[[18]]$semilla\n",
              "[1] 969503\n",
              "\n",
              "[[18]]$testing\n",
              "[1] 49376\n",
              "\n",
              "[[18]]$testing_pos\n",
              "[1] 379\n",
              "\n",
              "[[18]]$envios\n",
              "[1] 4009\n",
              "\n",
              "[[18]]$aciertos\n",
              "[1] 218\n",
              "\n",
              "[[18]]$ganancia_test\n",
              "[1] 47110000\n",
              "\n",
              "\n",
              "[[19]]\n",
              "[[19]]$semilla\n",
              "[1] 583577\n",
              "\n",
              "[[19]]$testing\n",
              "[1] 49381\n",
              "\n",
              "[[19]]$testing_pos\n",
              "[1] 374\n",
              "\n",
              "[[19]]$envios\n",
              "[1] 3648\n",
              "\n",
              "[[19]]$aciertos\n",
              "[1] 202\n",
              "\n",
              "[[19]]$ganancia_test\n",
              "[1] 44320000\n",
              "\n",
              "\n",
              "[[20]]\n",
              "[[20]]$semilla\n",
              "[1] 861719\n",
              "\n",
              "[[20]]$testing\n",
              "[1] 49383\n",
              "\n",
              "[[20]]$testing_pos\n",
              "[1] 377\n",
              "\n",
              "[[20]]$envios\n",
              "[1] 2786\n",
              "\n",
              "[[20]]$aciertos\n",
              "[1] 188\n",
              "\n",
              "[[20]]$ganancia_test\n",
              "[1] 47340000\n",
              "\n",
              "\n",
              "[[21]]\n",
              "[[21]]$semilla\n",
              "[1] 901591\n",
              "\n",
              "[[21]]$testing\n",
              "[1] 49378\n",
              "\n",
              "[[21]]$testing_pos\n",
              "[1] 374\n",
              "\n",
              "[[21]]$envios\n",
              "[1] 3953\n",
              "\n",
              "[[21]]$aciertos\n",
              "[1] 228\n",
              "\n",
              "[[21]]$ganancia_test\n",
              "[1] 51670000\n",
              "\n",
              "\n",
              "[[22]]\n",
              "[[22]]$semilla\n",
              "[1] 752797\n",
              "\n",
              "[[22]]$testing\n",
              "[1] 49374\n",
              "\n",
              "[[22]]$testing_pos\n",
              "[1] 373\n",
              "\n",
              "[[22]]$envios\n",
              "[1] 3282\n",
              "\n",
              "[[22]]$aciertos\n",
              "[1] 193\n",
              "\n",
              "[[22]]$ganancia_test\n",
              "[1] 44380000\n",
              "\n",
              "\n",
              "[[23]]\n",
              "[[23]]$semilla\n",
              "[1] 685301\n",
              "\n",
              "[[23]]$testing\n",
              "[1] 49372\n",
              "\n",
              "[[23]]$testing_pos\n",
              "[1] 375\n",
              "\n",
              "[[23]]$envios\n",
              "[1] 3404\n",
              "\n",
              "[[23]]$aciertos\n",
              "[1] 205\n",
              "\n",
              "[[23]]$ganancia_test\n",
              "[1] 47960000\n",
              "\n",
              "\n",
              "[[24]]\n",
              "[[24]]$semilla\n",
              "[1] 893701\n",
              "\n",
              "[[24]]$testing\n",
              "[1] 49370\n",
              "\n",
              "[[24]]$testing_pos\n",
              "[1] 372\n",
              "\n",
              "[[24]]$envios\n",
              "[1] 3023\n",
              "\n",
              "[[24]]$aciertos\n",
              "[1] 184\n",
              "\n",
              "[[24]]$ganancia_test\n",
              "[1] 43370000\n",
              "\n",
              "\n",
              "[[25]]\n",
              "[[25]]$semilla\n",
              "[1] 852913\n",
              "\n",
              "[[25]]$testing\n",
              "[1] 49380\n",
              "\n",
              "[[25]]$testing_pos\n",
              "[1] 373\n",
              "\n",
              "[[25]]$envios\n",
              "[1] 3240\n",
              "\n",
              "[[25]]$aciertos\n",
              "[1] 190\n",
              "\n",
              "[[25]]$ganancia_test\n",
              "[1] 43600000\n",
              "\n",
              "\n",
              "[[26]]\n",
              "[[26]]$semilla\n",
              "[1] 455881\n",
              "\n",
              "[[26]]$testing\n",
              "[1] 49382\n",
              "\n",
              "[[26]]$testing_pos\n",
              "[1] 376\n",
              "\n",
              "[[26]]$envios\n",
              "[1] 3208\n",
              "\n",
              "[[26]]$aciertos\n",
              "[1] 199\n",
              "\n",
              "[[26]]$ganancia_test\n",
              "[1] 47520000\n",
              "\n",
              "\n",
              "[[27]]\n",
              "[[27]]$semilla\n",
              "[1] 594823\n",
              "\n",
              "[[27]]$testing\n",
              "[1] 49371\n",
              "\n",
              "[[27]]$testing_pos\n",
              "[1] 371\n",
              "\n",
              "[[27]]$envios\n",
              "[1] 4058\n",
              "\n",
              "[[27]]$aciertos\n",
              "[1] 228\n",
              "\n",
              "[[27]]$ganancia_test\n",
              "[1] 50620000\n",
              "\n",
              "\n",
              "[[28]]\n",
              "[[28]]$semilla\n",
              "[1] 710261\n",
              "\n",
              "[[28]]$testing\n",
              "[1] 49378\n",
              "\n",
              "[[28]]$testing_pos\n",
              "[1] 372\n",
              "\n",
              "[[28]]$envios\n",
              "[1] 3593\n",
              "\n",
              "[[28]]$aciertos\n",
              "[1] 193\n",
              "\n",
              "[[28]]$ganancia_test\n",
              "[1] 41270000\n",
              "\n",
              "\n",
              "[[29]]\n",
              "[[29]]$semilla\n",
              "[1] 764471\n",
              "\n",
              "[[29]]$testing\n",
              "[1] 49380\n",
              "\n",
              "[[29]]$testing_pos\n",
              "[1] 378\n",
              "\n",
              "[[29]]$envios\n",
              "[1] 3538\n",
              "\n",
              "[[29]]$aciertos\n",
              "[1] 209\n",
              "\n",
              "[[29]]$ganancia_test\n",
              "[1] 48220000\n",
              "\n",
              "\n",
              "[[30]]\n",
              "[[30]]$semilla\n",
              "[1] 502517\n",
              "\n",
              "[[30]]$testing\n",
              "[1] 49384\n",
              "\n",
              "[[30]]$testing_pos\n",
              "[1] 376\n",
              "\n",
              "[[30]]$envios\n",
              "[1] 4131\n",
              "\n",
              "[[30]]$aciertos\n",
              "[1] 203\n",
              "\n",
              "[[30]]$ganancia_test\n",
              "[1] 39890000\n",
              "\n",
              "\n",
              "[[31]]\n",
              "[[31]]$semilla\n",
              "[1] 524521\n",
              "\n",
              "[[31]]$testing\n",
              "[1] 49385\n",
              "\n",
              "[[31]]$testing_pos\n",
              "[1] 373\n",
              "\n",
              "[[31]]$envios\n",
              "[1] 4008\n",
              "\n",
              "[[31]]$aciertos\n",
              "[1] 214\n",
              "\n",
              "[[31]]$ganancia_test\n",
              "[1] 45520000\n",
              "\n",
              "\n",
              "[[32]]\n",
              "[[32]]$semilla\n",
              "[1] 189983\n",
              "\n",
              "[[32]]$testing\n",
              "[1] 49381\n",
              "\n",
              "[[32]]$testing_pos\n",
              "[1] 377\n",
              "\n",
              "[[32]]$envios\n",
              "[1] 3494\n",
              "\n",
              "[[32]]$aciertos\n",
              "[1] 190\n",
              "\n",
              "[[32]]$ganancia_test\n",
              "[1] 41060000\n",
              "\n",
              "\n",
              "[[33]]\n",
              "[[33]]$semilla\n",
              "[1] 424121\n",
              "\n",
              "[[33]]$testing\n",
              "[1] 49390\n",
              "\n",
              "[[33]]$testing_pos\n",
              "[1] 376\n",
              "\n",
              "[[33]]$envios\n",
              "[1] 3021\n",
              "\n",
              "[[33]]$aciertos\n",
              "[1] 200\n",
              "\n",
              "[[33]]$ganancia_test\n",
              "[1] 49790000\n",
              "\n",
              "\n",
              "[[34]]\n",
              "[[34]]$semilla\n",
              "[1] 636263\n",
              "\n",
              "[[34]]$testing\n",
              "[1] 49386\n",
              "\n",
              "[[34]]$testing_pos\n",
              "[1] 371\n",
              "\n",
              "[[34]]$envios\n",
              "[1] 3827\n",
              "\n",
              "[[34]]$aciertos\n",
              "[1] 215\n",
              "\n",
              "[[34]]$ganancia_test\n",
              "[1] 47730000\n",
              "\n",
              "\n",
              "[[35]]\n",
              "[[35]]$semilla\n",
              "[1] 966157\n",
              "\n",
              "[[35]]$testing\n",
              "[1] 49364\n",
              "\n",
              "[[35]]$testing_pos\n",
              "[1] 368\n",
              "\n",
              "[[35]]$envios\n",
              "[1] 3344\n",
              "\n",
              "[[35]]$aciertos\n",
              "[1] 200\n",
              "\n",
              "[[35]]$ganancia_test\n",
              "[1] 46560000\n",
              "\n",
              "\n",
              "[[36]]\n",
              "[[36]]$semilla\n",
              "[1] 611071\n",
              "\n",
              "[[36]]$testing\n",
              "[1] 49374\n",
              "\n",
              "[[36]]$testing_pos\n",
              "[1] 372\n",
              "\n",
              "[[36]]$envios\n",
              "[1] 2901\n",
              "\n",
              "[[36]]$aciertos\n",
              "[1] 196\n",
              "\n",
              "[[36]]$ganancia_test\n",
              "[1] 49390000\n",
              "\n",
              "\n",
              "[[37]]\n",
              "[[37]]$semilla\n",
              "[1] 684547\n",
              "\n",
              "[[37]]$testing\n",
              "[1] 49375\n",
              "\n",
              "[[37]]$testing_pos\n",
              "[1] 375\n",
              "\n",
              "[[37]]$envios\n",
              "[1] 3661\n",
              "\n",
              "[[37]]$aciertos\n",
              "[1] 223\n",
              "\n",
              "[[37]]$ganancia_test\n",
              "[1] 52590000\n",
              "\n",
              "\n",
              "[[38]]\n",
              "[[38]]$semilla\n",
              "[1] 296831\n",
              "\n",
              "[[38]]$testing\n",
              "[1] 49375\n",
              "\n",
              "[[38]]$testing_pos\n",
              "[1] 367\n",
              "\n",
              "[[38]]$envios\n",
              "[1] 2763\n",
              "\n",
              "[[38]]$aciertos\n",
              "[1] 183\n",
              "\n",
              "[[38]]$ganancia_test\n",
              "[1] 45570000\n",
              "\n",
              "\n",
              "[[39]]\n",
              "[[39]]$semilla\n",
              "[1] 135391\n",
              "\n",
              "[[39]]$testing\n",
              "[1] 49364\n",
              "\n",
              "[[39]]$testing_pos\n",
              "[1] 370\n",
              "\n",
              "[[39]]$envios\n",
              "[1] 3360\n",
              "\n",
              "[[39]]$aciertos\n",
              "[1] 209\n",
              "\n",
              "[[39]]$ganancia_test\n",
              "[1] 5e+07\n",
              "\n",
              "\n",
              "[[40]]\n",
              "[[40]]$semilla\n",
              "[1] 310021\n",
              "\n",
              "[[40]]$testing\n",
              "[1] 49378\n",
              "\n",
              "[[40]]$testing_pos\n",
              "[1] 370\n",
              "\n",
              "[[40]]$envios\n",
              "[1] 3308\n",
              "\n",
              "[[40]]$aciertos\n",
              "[1] 205\n",
              "\n",
              "[[40]]$ganancia_test\n",
              "[1] 48920000\n",
              "\n",
              "\n",
              "[[41]]\n",
              "[[41]]$semilla\n",
              "[1] 366227\n",
              "\n",
              "[[41]]$testing\n",
              "[1] 49377\n",
              "\n",
              "[[41]]$testing_pos\n",
              "[1] 373\n",
              "\n",
              "[[41]]$envios\n",
              "[1] 3461\n",
              "\n",
              "[[41]]$aciertos\n",
              "[1] 205\n",
              "\n",
              "[[41]]$ganancia_test\n",
              "[1] 47390000\n",
              "\n",
              "\n",
              "[[42]]\n",
              "[[42]]$semilla\n",
              "[1] 612817\n",
              "\n",
              "[[42]]$testing\n",
              "[1] 49378\n",
              "\n",
              "[[42]]$testing_pos\n",
              "[1] 372\n",
              "\n",
              "[[42]]$envios\n",
              "[1] 3799\n",
              "\n",
              "[[42]]$aciertos\n",
              "[1] 224\n",
              "\n",
              "[[42]]$ganancia_test\n",
              "[1] 51610000\n",
              "\n",
              "\n",
              "[[43]]\n",
              "[[43]]$semilla\n",
              "[1] 710959\n",
              "\n",
              "[[43]]$testing\n",
              "[1] 49374\n",
              "\n",
              "[[43]]$testing_pos\n",
              "[1] 369\n",
              "\n",
              "[[43]]$envios\n",
              "[1] 3686\n",
              "\n",
              "[[43]]$aciertos\n",
              "[1] 216\n",
              "\n",
              "[[43]]$ganancia_test\n",
              "[1] 49540000\n",
              "\n",
              "\n",
              "[[44]]\n",
              "[[44]]$semilla\n",
              "[1] 453659\n",
              "\n",
              "[[44]]$testing\n",
              "[1] 49392\n",
              "\n",
              "[[44]]$testing_pos\n",
              "[1] 379\n",
              "\n",
              "[[44]]$envios\n",
              "[1] 3169\n",
              "\n",
              "[[44]]$aciertos\n",
              "[1] 209\n",
              "\n",
              "[[44]]$ganancia_test\n",
              "[1] 51910000\n",
              "\n",
              "\n",
              "[[45]]\n",
              "[[45]]$semilla\n",
              "[1] 584849\n",
              "\n",
              "[[45]]$testing\n",
              "[1] 49377\n",
              "\n",
              "[[45]]$testing_pos\n",
              "[1] 378\n",
              "\n",
              "[[45]]$envios\n",
              "[1] 3484\n",
              "\n",
              "[[45]]$aciertos\n",
              "[1] 213\n",
              "\n",
              "[[45]]$ganancia_test\n",
              "[1] 50360000\n",
              "\n",
              "\n",
              "[[46]]\n",
              "[[46]]$semilla\n",
              "[1] 198347\n",
              "\n",
              "[[46]]$testing\n",
              "[1] 49374\n",
              "\n",
              "[[46]]$testing_pos\n",
              "[1] 375\n",
              "\n",
              "[[46]]$envios\n",
              "[1] 2822\n",
              "\n",
              "[[46]]$aciertos\n",
              "[1] 197\n",
              "\n",
              "[[46]]$ganancia_test\n",
              "[1] 50580000\n",
              "\n",
              "\n",
              "[[47]]\n",
              "[[47]]$semilla\n",
              "[1] 103087\n",
              "\n",
              "[[47]]$testing\n",
              "[1] 49367\n",
              "\n",
              "[[47]]$testing_pos\n",
              "[1] 376\n",
              "\n",
              "[[47]]$envios\n",
              "[1] 3322\n",
              "\n",
              "[[47]]$aciertos\n",
              "[1] 202\n",
              "\n",
              "[[47]]$ganancia_test\n",
              "[1] 47580000\n",
              "\n",
              "\n",
              "[[48]]\n",
              "[[48]]$semilla\n",
              "[1] 954067\n",
              "\n",
              "[[48]]$testing\n",
              "[1] 49377\n",
              "\n",
              "[[48]]$testing_pos\n",
              "[1] 377\n",
              "\n",
              "[[48]]$envios\n",
              "[1] 3757\n",
              "\n",
              "[[48]]$aciertos\n",
              "[1] 231\n",
              "\n",
              "[[48]]$ganancia_test\n",
              "[1] 54830000\n",
              "\n",
              "\n",
              "[[49]]\n",
              "[[49]]$semilla\n",
              "[1] 371057\n",
              "\n",
              "[[49]]$testing\n",
              "[1] 49390\n",
              "\n",
              "[[49]]$testing_pos\n",
              "[1] 378\n",
              "\n",
              "[[49]]$envios\n",
              "[1] 4180\n",
              "\n",
              "[[49]]$aciertos\n",
              "[1] 227\n",
              "\n",
              "[[49]]$ganancia_test\n",
              "[1] 4.9e+07\n",
              "\n",
              "\n",
              "[[50]]\n",
              "[[50]]$semilla\n",
              "[1] 226483\n",
              "\n",
              "[[50]]$testing\n",
              "[1] 49381\n",
              "\n",
              "[[50]]$testing_pos\n",
              "[1] 376\n",
              "\n",
              "[[50]]$envios\n",
              "[1] 3518\n",
              "\n",
              "[[50]]$aciertos\n",
              "[1] 197\n",
              "\n",
              "[[50]]$ganancia_test\n",
              "[1] 43620000\n",
              "\n"
            ]
          },
          "metadata": {}
        }
      ]
    },
    {
      "cell_type": "code",
      "source": [
        "# paso la lista a vector\n",
        "tb_salida <- rbindlist(salidas)\n",
        "print( tb_salida)"
      ],
      "metadata": {
        "id": "unGWiKRMGimU",
        "colab": {
          "base_uri": "https://localhost:8080/"
        },
        "outputId": "23cb2648-f99d-46fb-fe0e-c586ceb60d76"
      },
      "execution_count": null,
      "outputs": [
        {
          "output_type": "stream",
          "name": "stdout",
          "text": [
            "    semilla testing testing_pos envios aciertos ganancia_test\n",
            "      <int>   <int>       <int>  <int>    <int>         <num>\n",
            " 1:  338567   49382         384   3061      196      47790000\n",
            " 2:  518239   49372         376   2995      196      48450000\n",
            " 3:  986717   49373         375   3384      213      51360000\n",
            " 4:  817669   49368         373   3711      209      46490000\n",
            " 5:  453977   49380         376   3203      201      48370000\n",
            " 6:  950161   49384         375   2690      206      55500000\n",
            " 7:  324089   49365         365   2771      173      41490000\n",
            " 8:  741079   49375         368   3397      194      43630000\n",
            " 9:  989641   49383         376   3164      187      43160000\n",
            "10:  142841   49390         379   2538      186      49020000\n",
            "11:  777241   49374         376   3330      200      46700000\n",
            "12:  584923   49386         379   3008      192      46720000\n",
            "13:  681179   49387         374   2888      204      52720000\n",
            "14:  587827   49375         373   3567      192      41130000\n",
            "15:  924743   49373         372   3536      186      39040000\n",
            "16:  206177   49383         379   3637      227      54430000\n",
            "17:  427351   49376         373   3671      220      51290000\n",
            "18:  969503   49376         379   4009      218      47110000\n",
            "19:  583577   49381         374   3648      202      44320000\n",
            "20:  861719   49383         377   2786      188      47340000\n",
            "21:  901591   49378         374   3953      228      51670000\n",
            "22:  752797   49374         373   3282      193      44380000\n",
            "23:  685301   49372         375   3404      205      47960000\n",
            "24:  893701   49370         372   3023      184      43370000\n",
            "25:  852913   49380         373   3240      190      43600000\n",
            "26:  455881   49382         376   3208      199      47520000\n",
            "27:  594823   49371         371   4058      228      50620000\n",
            "28:  710261   49378         372   3593      193      41270000\n",
            "29:  764471   49380         378   3538      209      48220000\n",
            "30:  502517   49384         376   4131      203      39890000\n",
            "31:  524521   49385         373   4008      214      45520000\n",
            "32:  189983   49381         377   3494      190      41060000\n",
            "33:  424121   49390         376   3021      200      49790000\n",
            "34:  636263   49386         371   3827      215      47730000\n",
            "35:  966157   49364         368   3344      200      46560000\n",
            "36:  611071   49374         372   2901      196      49390000\n",
            "37:  684547   49375         375   3661      223      52590000\n",
            "38:  296831   49375         367   2763      183      45570000\n",
            "39:  135391   49364         370   3360      209      50000000\n",
            "40:  310021   49378         370   3308      205      48920000\n",
            "41:  366227   49377         373   3461      205      47390000\n",
            "42:  612817   49378         372   3799      224      51610000\n",
            "43:  710959   49374         369   3686      216      49540000\n",
            "44:  453659   49392         379   3169      209      51910000\n",
            "45:  584849   49377         378   3484      213      50360000\n",
            "46:  198347   49374         375   2822      197      50580000\n",
            "47:  103087   49367         376   3322      202      47580000\n",
            "48:  954067   49377         377   3757      231      54830000\n",
            "49:  371057   49390         378   4180      227      49000000\n",
            "50:  226483   49381         376   3518      197      43620000\n",
            "    semilla testing testing_pos envios aciertos ganancia_test\n"
          ]
        }
      ]
    },
    {
      "cell_type": "code",
      "source": [
        "# calulo la salida\n",
        "for( i in seq(10, 50, 10) )\n",
        "{\n",
        "  cat( i, \"\\t\", tb_salida[ 1:i, mean(ganancia_test)], \"\\n\" )\n",
        "}\n"
      ],
      "metadata": {
        "id": "oGoadhBKGimV",
        "colab": {
          "base_uri": "https://localhost:8080/"
        },
        "outputId": "a6fff267-4281-4ef7-b9bf-2b8d9968e0e6"
      },
      "execution_count": null,
      "outputs": [
        {
          "output_type": "stream",
          "name": "stdout",
          "text": [
            "10 \t 47526000 \n",
            "20 \t 47303000 \n",
            "30 \t 46818667 \n",
            "40 \t 47042250 \n",
            "50 \t 47562200 \n"
          ]
        }
      ]
    },
    {
      "cell_type": "markdown",
      "source": [
        "### Acciones a realizar\n",
        "* Reportar la  los resultados en la planilla colaborativa hoja  **C2-nsem**\n",
        "* Se discutirá en clase la variabilidad de las distintas cantidades de semillas"
      ],
      "metadata": {
        "id": "dO9yQKt7GimV"
      }
    },
    {
      "cell_type": "markdown",
      "source": [
        "\n",
        "\n",
        "---\n",
        "\n"
      ],
      "metadata": {
        "id": "ziFKwIlBGimW"
      }
    },
    {
      "cell_type": "markdown",
      "source": [
        "# 5  DiezMil -Monte Carlo Cross Validation\n",
        "## Clase 02  Experimento 5"
      ],
      "metadata": {
        "id": "2jncHe-KJLUg"
      }
    },
    {
      "cell_type": "markdown",
      "source": [
        "Mostrar a los estudiantes el resultado de un experimento en donde se ha corrido una Monte Carlo Cross Validation utilizando diez mil semillas y relacionar la cantidad de semillas con el resultado del Teorema Central del Límite\n",
        "<br>Los resultados se muestran en esta misma guia y se comentan en clase,Bajo ningún concepto se solicitará a l@s estudiantes hacer este experimento en clase ya que lleva varias horas en correr.\n"
      ],
      "metadata": {
        "id": "vUzSGZGOJZq8"
      }
    },
    {
      "cell_type": "markdown",
      "source": [
        "Aqui usted NO debe correr absolutamente nada, el experimento ya fue corrido por la cátedra y le muestra los resultados."
      ],
      "metadata": {
        "id": "G0YGjTMxuTSg"
      }
    },
    {
      "cell_type": "markdown",
      "source": [
        "## 5.1\n",
        "Estos resultados han sido corridos por la cátedra.\n",
        "\n",
        "![Distribucion de las ganancias](https://storage.googleapis.com/open-courses/austral2025-af91/labo1r/C2_E5_distribucion.jpg)"
      ],
      "metadata": {
        "id": "7NRUb3WtJikc"
      }
    },
    {
      "cell_type": "markdown",
      "source": [
        "![salida](https://storage.googleapis.com/open-courses/austral2025-af91/labo1r/C2_E5_salida.jpg)"
      ],
      "metadata": {
        "id": "tZ4X8wdSKc7G"
      }
    },
    {
      "cell_type": "markdown",
      "source": [
        "![tabla](https://storage.googleapis.com/open-courses/austral2025-af91/labo1r/C2_E5_tabla.jpg)\n",
        "\n",
        " 2    ~    1,96  =  3605406.2 / 1836264.3\n",
        "\n",
        "Por el teorema central del límite, un aumento de 4 veces de la cantidad de registros que se promedian el desvio estandar disminuye 2 veces ,  raiz(4 ) = 2"
      ],
      "metadata": {
        "id": "EsL5ukNWKS71"
      }
    },
    {
      "cell_type": "markdown",
      "source": [
        "\n",
        "\n",
        "---\n",
        "\n"
      ],
      "metadata": {
        "id": "OTLq8TC4LR0c"
      }
    },
    {
      "cell_type": "markdown",
      "source": [
        "# 6 Comparando dos distintos  modelos\n",
        "## Clase 02  Experimento 6"
      ],
      "metadata": {
        "id": "sAS1bfL8LmBv"
      }
    },
    {
      "cell_type": "markdown",
      "source": [
        "## 6.1  Objetivos\n",
        "Presentar a los alumnos la dificultad que se presenta ante la comparación de dos modelos, uno posee un poder predictivo claramente mayor al otro.\n",
        "Comparación simple de media de ganancias, versus probabilidad que un modelo sea superior a otro."
      ],
      "metadata": {
        "id": "KzwdMJDZLmB9"
      }
    },
    {
      "cell_type": "markdown",
      "source": [
        "## 6.2 Introduccion\n",
        "Estos son los dos arboles de muy distinta profundidad.\n",
        "<br>¿Cuál de ellos es mejor? ¿Cuál elijo?\n",
        "\n",
        "| Hiperparámetro | Arbol 1 | Arbol 2 |\n",
        "| --- | --: |  ---: |\n",
        "| cp | -1 | -1 |\n",
        "|minsplit | 170 | 250 |\n",
        "|minbucket | 70 | 125 |\n",
        "|maxdepth | 7 | 20 |\n",
        "\n"
      ],
      "metadata": {
        "id": "DDyFNmJ9L_CW"
      }
    },
    {
      "cell_type": "markdown",
      "source": [
        "## 6.3 Codigo dos distintos modelos"
      ],
      "metadata": {
        "id": "bQfwNsVzNrtI"
      }
    },
    {
      "cell_type": "markdown",
      "source": [
        "Esta parte se debe correr con el runtime en lenguaje **R** Ir al menu, Runtime -> Change Runtime Tipe -> Runtime type -> R"
      ],
      "metadata": {
        "id": "Ku7qQgKjNruJ"
      }
    },
    {
      "cell_type": "markdown",
      "source": [
        "El tiempo de corrida es de alrededor de 40 minutos"
      ],
      "metadata": {
        "id": "6jCdS3NMuKei"
      }
    },
    {
      "cell_type": "markdown",
      "source": [
        "limpio el ambiente de R"
      ],
      "metadata": {
        "id": "Z1EUBeHyNruK"
      }
    },
    {
      "cell_type": "code",
      "source": [
        "# limpio la memoria\n",
        "rm(list=ls(all.names=TRUE)) # remove all objects\n",
        "gc(full=TRUE, verbose=FALSE) # garbage collection"
      ],
      "metadata": {
        "id": "GxbC4V3zNruM",
        "colab": {
          "base_uri": "https://localhost:8080/",
          "height": 129
        },
        "outputId": "61a0a0c1-002b-4adc-979b-ca4b1e493e0a"
      },
      "execution_count": 28,
      "outputs": [
        {
          "output_type": "display_data",
          "data": {
            "text/html": [
              "<table class=\"dataframe\">\n",
              "<caption>A matrix: 2 × 6 of type dbl</caption>\n",
              "<thead>\n",
              "\t<tr><th></th><th scope=col>used</th><th scope=col>(Mb)</th><th scope=col>gc trigger</th><th scope=col>(Mb)</th><th scope=col>max used</th><th scope=col>(Mb)</th></tr>\n",
              "</thead>\n",
              "<tbody>\n",
              "\t<tr><th scope=row>Ncells</th><td> 753737</td><td>40.3</td><td> 1454457</td><td> 77.7</td><td>  1454457</td><td> 77.7</td></tr>\n",
              "\t<tr><th scope=row>Vcells</th><td>1427327</td><td>10.9</td><td>67925762</td><td>518.3</td><td>104048956</td><td>793.9</td></tr>\n",
              "</tbody>\n",
              "</table>\n"
            ],
            "text/markdown": "\nA matrix: 2 × 6 of type dbl\n\n| <!--/--> | used | (Mb) | gc trigger | (Mb) | max used | (Mb) |\n|---|---|---|---|---|---|---|\n| Ncells |  753737 | 40.3 |  1454457 |  77.7 |   1454457 |  77.7 |\n| Vcells | 1427327 | 10.9 | 67925762 | 518.3 | 104048956 | 793.9 |\n\n",
            "text/latex": "A matrix: 2 × 6 of type dbl\n\\begin{tabular}{r|llllll}\n  & used & (Mb) & gc trigger & (Mb) & max used & (Mb)\\\\\n\\hline\n\tNcells &  753737 & 40.3 &  1454457 &  77.7 &   1454457 &  77.7\\\\\n\tVcells & 1427327 & 10.9 & 67925762 & 518.3 & 104048956 & 793.9\\\\\n\\end{tabular}\n",
            "text/plain": [
              "       used    (Mb) gc trigger (Mb)  max used  (Mb) \n",
              "Ncells  753737 40.3  1454457    77.7   1454457  77.7\n",
              "Vcells 1427327 10.9 67925762   518.3 104048956 793.9"
            ]
          },
          "metadata": {}
        }
      ]
    },
    {
      "cell_type": "markdown",
      "source": [
        "* Instalacion de la libreria  rpart.plot  para dibujar el arbol\n",
        "* invocacion de las librerias  **data.table** y  **rpart**"
      ],
      "metadata": {
        "id": "i2WkSCIhNruQ"
      }
    },
    {
      "cell_type": "code",
      "source": [
        "# cargo las librerias que necesito\n",
        "require(\"data.table\")\n",
        "require(\"rpart\")\n",
        "require(\"parallel\")\n",
        "\n",
        "if (!require(\"primes\")) install.packages(\"primes\")\n",
        "require(\"primes\")\n",
        "\n",
        "require(\"ggplot2\")"
      ],
      "metadata": {
        "id": "3bMsgZJWNruR",
        "colab": {
          "base_uri": "https://localhost:8080/"
        },
        "outputId": "e1071b2d-bfd0-4fc0-e9cf-1184d523b5d4"
      },
      "execution_count": 29,
      "outputs": [
        {
          "output_type": "stream",
          "name": "stderr",
          "text": [
            "Loading required package: primes\n",
            "\n",
            "Warning message in library(package, lib.loc = lib.loc, character.only = TRUE, logical.return = TRUE, :\n",
            "“there is no package called ‘primes’”\n",
            "Installing package into ‘/usr/local/lib/R/site-library’\n",
            "(as ‘lib’ is unspecified)\n",
            "\n",
            "Loading required package: primes\n",
            "\n",
            "Loading required package: ggplot2\n",
            "\n"
          ]
        }
      ]
    },
    {
      "cell_type": "markdown",
      "source": [
        "###  Accion a Realizar\n",
        "PARAM$semilla_primigenia  debe reemplazarse por SU primer semilla"
      ],
      "metadata": {
        "id": "t1lTXrKaNruT"
      }
    },
    {
      "cell_type": "code",
      "source": [
        "PARAM <- list()\n",
        "PARAM$semilla_primigenia <- 206262\n",
        "PARAM$qsemillas <- 20\n",
        "PARAM$training_pct <- 70L     # entre 1 y 100\n"
      ],
      "metadata": {
        "id": "QFbPtTCMNruV"
      },
      "execution_count": 30,
      "outputs": []
    },
    {
      "cell_type": "code",
      "source": [
        "# los dos arboles\n",
        "PARAM$rpart1 <- list (\n",
        "  \"cp\" = -1,\n",
        "  \"minsplit\" = 170,\n",
        "  \"minbucket\" = 70,\n",
        "  \"maxdepth\" = 7\n",
        ")\n",
        "\n",
        "\n",
        "PARAM$rpart2 <- list (\n",
        "  \"cp\" = -1,\n",
        "  \"minsplit\" = 250,\n",
        "  \"minbucket\" = 125,\n",
        "  \"maxdepth\" = 20\n",
        ")"
      ],
      "metadata": {
        "id": "GiBGk7WKQv2V"
      },
      "execution_count": 31,
      "outputs": []
    },
    {
      "cell_type": "code",
      "source": [
        "# particionar agrega una columna llamada fold a un dataset\n",
        "#  que consiste en una particion estratificada segun agrupa\n",
        "\n",
        "# particionar( data=dataset, division=c(70,30),\n",
        "#  agrupa=clase_ternaria, seed=semilla)   crea una particion 70, 30\n",
        "\n",
        "particionar <- function(\n",
        "    data, division, agrupa = \"\",\n",
        "    campo = \"fold\", start = 1, seed = NA) {\n",
        "  if (!is.na(seed)) set.seed(seed)\n",
        "\n",
        "  bloque <- unlist(mapply(function(x, y) {\n",
        "    rep(y, x)\n",
        "  }, division, seq(from = start, length.out = length(division))))\n",
        "\n",
        "  data[, (campo) := sample(rep(bloque, ceiling(.N / length(bloque))))[1:.N],\n",
        "    by = agrupa\n",
        "  ]\n",
        "}\n"
      ],
      "metadata": {
        "id": "2BabfKg7NruX"
      },
      "execution_count": 32,
      "outputs": []
    },
    {
      "cell_type": "code",
      "source": [
        "DosArbolesEstimarGanancia <- function(semilla, training_pct, param_rpart1, param_rpart2) {\n",
        "\n",
        "  # fuerzo impresion\n",
        "  print( paste( semilla, Sys.time()) )\n",
        "  flush.console()\n",
        "\n",
        "  # particiono estratificadamente el dataset\n",
        "  particionar(dataset,\n",
        "    division = c(training_pct, 100L -training_pct),\n",
        "    agrupa = \"clase_ternaria\",\n",
        "    seed = semilla # aqui se usa SU semilla\n",
        "  )\n",
        "\n",
        "  # genero el modelo\n",
        "  # predecir clase_ternaria a partir del resto\n",
        "  modelo1 <- rpart(\"clase_ternaria ~ .\",\n",
        "    data = dataset[fold == 1], # fold==1  es training,  el 70% de los datos\n",
        "    xval = 0,\n",
        "    control = param_rpart1\n",
        "  ) # aqui van los parametros del arbol\n",
        "\n",
        "  # aplico el modelo a los datos de testing\n",
        "  prediccion1 <- predict(modelo1, # el modelo que genere recien\n",
        "    dataset[fold == 2], # fold==2  es testing, el 30% de los datos\n",
        "    type = \"prob\"\n",
        "  ) # type= \"prob\"  es que devuelva la probabilidad\n",
        "\n",
        "\n",
        "  # calculo la ganancia en testing  qu es fold==2\n",
        "  ganancia_test1 <- dataset[\n",
        "    fold == 2,\n",
        "    sum(ifelse(prediccion1[, \"BAJA+2\"] > 0.025,\n",
        "      ifelse(clase_ternaria == \"BAJA+2\", 117000, -3000),\n",
        "      0\n",
        "    ))\n",
        "  ]\n",
        "\n",
        "  # escalo la ganancia como si fuera todo el dataset\n",
        "  ganancia_test_normalizada1 <- ganancia_test1 / (( 100 - training_pct ) / 100 )\n",
        "\n",
        "  modelo2 <- rpart(\"clase_ternaria ~ .\",\n",
        "    data = dataset[fold == 1], # fold==1  es training,  el 70% de los datos\n",
        "    xval = 0,\n",
        "    control = param_rpart2\n",
        "  ) # aqui van los parametros del arbol\n",
        "\n",
        "  # aplico el modelo a los datos de testing\n",
        "  prediccion2 <- predict(modelo2, # el modelo que genere recien\n",
        "    dataset[fold == 2], # fold==2  es testing, el 30% de los datos\n",
        "    type = \"prob\"\n",
        "  ) # type= \"prob\"  es que devuelva la probabilidad\n",
        "\n",
        "\n",
        "  # calculo la ganancia en testing  qu es fold==2\n",
        "  ganancia_test2 <- dataset[\n",
        "    fold == 2,\n",
        "    sum(ifelse(prediccion2[, \"BAJA+2\"] > 0.025,\n",
        "      ifelse(clase_ternaria == \"BAJA+2\", 117000, -3000),\n",
        "      0\n",
        "    ))\n",
        "  ]\n",
        "\n",
        "  # escalo la ganancia como si fuera todo el dataset\n",
        "  ganancia_test_normalizada2 <- ganancia_test2 / (( 100 - training_pct ) / 100 )\n",
        "\n",
        "  return(list(\n",
        "    \"semilla\" = semilla,\n",
        "    \"ganancia1\" = ganancia_test_normalizada1,\n",
        "    \"ganancia2\" = ganancia_test_normalizada2\n",
        "  ))\n",
        "}"
      ],
      "metadata": {
        "id": "YrGJgj4UNruZ"
      },
      "execution_count": 33,
      "outputs": []
    },
    {
      "cell_type": "code",
      "source": [
        "# carpeta de trabajo\n",
        "setwd(\"/content/buckets/b1/exp\")\n",
        "experimento <- \"exp206\"\n",
        "dir.create(experimento, showWarnings=FALSE)\n",
        "setwd( paste0(\"/content/buckets/b1/exp/\", experimento ))"
      ],
      "metadata": {
        "id": "2C2yjgQVNrud"
      },
      "execution_count": 34,
      "outputs": []
    },
    {
      "cell_type": "code",
      "source": [
        "# lectura del dataset\n",
        "dataset <- fread(\"/content/datasets/dataset_pequeno.csv\")\n",
        "\n",
        "# trabajo solo con los datos con clase, es decir 202107\n",
        "dataset <- dataset[clase_ternaria != \"\"]"
      ],
      "metadata": {
        "id": "oQeGcBnPNrug"
      },
      "execution_count": 35,
      "outputs": []
    },
    {
      "cell_type": "code",
      "source": [
        "detectCores()"
      ],
      "metadata": {
        "id": "gXKI2eXO9Osx",
        "colab": {
          "base_uri": "https://localhost:8080/",
          "height": 34
        },
        "outputId": "a8f46b78-0199-4e8d-f154-d35f9e988c49"
      },
      "execution_count": 36,
      "outputs": [
        {
          "output_type": "display_data",
          "data": {
            "text/html": [
              "2"
            ],
            "text/markdown": "2",
            "text/latex": "2",
            "text/plain": [
              "[1] 2"
            ]
          },
          "metadata": {}
        }
      ]
    },
    {
      "cell_type": "code",
      "source": [
        "# genero numeros primos\n",
        "primos <- generate_primes(min = 100000, max = 1000000)\n",
        "set.seed(PARAM$semilla_primigenia) # inicializo\n",
        "\n",
        "# me quedo con PARAM$qsemillas   semillas\n",
        "PARAM$semillas <- sample(primos, PARAM$qsemillas )"
      ],
      "metadata": {
        "id": "tU8S7_5ANrui"
      },
      "execution_count": 37,
      "outputs": []
    },
    {
      "cell_type": "code",
      "source": [
        "# demora interminables 60 minutos en correr en Google Colab\n",
        "Sys.time()\n",
        "\n",
        "salidas <- mcmapply( DosArbolesEstimarGanancia,\n",
        "  PARAM$semillas, # paso el vector de semillas\n",
        "  MoreArgs = list(PARAM$training_pct, PARAM$rpart1, PARAM$rpart2), # aqui paso el segundo parametro\n",
        "  SIMPLIFY = FALSE,\n",
        "  mc.cores = detectCores()\n",
        ")\n",
        "\n",
        "Sys.time()"
      ],
      "metadata": {
        "id": "mlF66CgxcHF3",
        "colab": {
          "base_uri": "https://localhost:8080/",
          "height": 52
        },
        "outputId": "75298933-203b-423a-a671-e81bc954b64b"
      },
      "execution_count": 38,
      "outputs": [
        {
          "output_type": "display_data",
          "data": {
            "text/plain": [
              "[1] \"2025-10-14 11:25:39 UTC\""
            ]
          },
          "metadata": {}
        },
        {
          "output_type": "display_data",
          "data": {
            "text/plain": [
              "[1] \"2025-10-14 12:26:01 UTC\""
            ]
          },
          "metadata": {}
        }
      ]
    },
    {
      "cell_type": "code",
      "source": [
        "# paso la lista a vector\n",
        "tb_salida <- rbindlist(salidas)\n",
        "tb_salida"
      ],
      "metadata": {
        "id": "_g-_kccdNrum",
        "colab": {
          "base_uri": "https://localhost:8080/",
          "height": 725
        },
        "outputId": "04005f58-0a74-4577-ebfb-f6bf0b8cec7c"
      },
      "execution_count": 39,
      "outputs": [
        {
          "output_type": "display_data",
          "data": {
            "text/html": [
              "<table class=\"dataframe\">\n",
              "<caption>A data.table: 20 × 3</caption>\n",
              "<thead>\n",
              "\t<tr><th scope=col>semilla</th><th scope=col>ganancia1</th><th scope=col>ganancia2</th></tr>\n",
              "\t<tr><th scope=col>&lt;int&gt;</th><th scope=col>&lt;dbl&gt;</th><th scope=col>&lt;dbl&gt;</th></tr>\n",
              "</thead>\n",
              "<tbody>\n",
              "\t<tr><td>338567</td><td>47790000</td><td>37960000</td></tr>\n",
              "\t<tr><td>518239</td><td>48450000</td><td>41670000</td></tr>\n",
              "\t<tr><td>986717</td><td>51360000</td><td>47680000</td></tr>\n",
              "\t<tr><td>817669</td><td>46490000</td><td>40430000</td></tr>\n",
              "\t<tr><td>453977</td><td>48370000</td><td>45200000</td></tr>\n",
              "\t<tr><td>950161</td><td>55500000</td><td>50550000</td></tr>\n",
              "\t<tr><td>324089</td><td>41490000</td><td>37080000</td></tr>\n",
              "\t<tr><td>741079</td><td>43630000</td><td>43800000</td></tr>\n",
              "\t<tr><td>989641</td><td>43160000</td><td>42560000</td></tr>\n",
              "\t<tr><td>142841</td><td>49020000</td><td>40420000</td></tr>\n",
              "\t<tr><td>777241</td><td>46700000</td><td>44150000</td></tr>\n",
              "\t<tr><td>584923</td><td>46720000</td><td>40020000</td></tr>\n",
              "\t<tr><td>681179</td><td>52720000</td><td>49030000</td></tr>\n",
              "\t<tr><td>587827</td><td>41130000</td><td>37770000</td></tr>\n",
              "\t<tr><td>924743</td><td>39040000</td><td>37100000</td></tr>\n",
              "\t<tr><td>206177</td><td>54430000</td><td>50370000</td></tr>\n",
              "\t<tr><td>427351</td><td>51290000</td><td>46560000</td></tr>\n",
              "\t<tr><td>969503</td><td>47110000</td><td>43300000</td></tr>\n",
              "\t<tr><td>583577</td><td>44320000</td><td>34910000</td></tr>\n",
              "\t<tr><td>861719</td><td>47340000</td><td>42110000</td></tr>\n",
              "</tbody>\n",
              "</table>\n"
            ],
            "text/markdown": "\nA data.table: 20 × 3\n\n| semilla &lt;int&gt; | ganancia1 &lt;dbl&gt; | ganancia2 &lt;dbl&gt; |\n|---|---|---|\n| 338567 | 47790000 | 37960000 |\n| 518239 | 48450000 | 41670000 |\n| 986717 | 51360000 | 47680000 |\n| 817669 | 46490000 | 40430000 |\n| 453977 | 48370000 | 45200000 |\n| 950161 | 55500000 | 50550000 |\n| 324089 | 41490000 | 37080000 |\n| 741079 | 43630000 | 43800000 |\n| 989641 | 43160000 | 42560000 |\n| 142841 | 49020000 | 40420000 |\n| 777241 | 46700000 | 44150000 |\n| 584923 | 46720000 | 40020000 |\n| 681179 | 52720000 | 49030000 |\n| 587827 | 41130000 | 37770000 |\n| 924743 | 39040000 | 37100000 |\n| 206177 | 54430000 | 50370000 |\n| 427351 | 51290000 | 46560000 |\n| 969503 | 47110000 | 43300000 |\n| 583577 | 44320000 | 34910000 |\n| 861719 | 47340000 | 42110000 |\n\n",
            "text/latex": "A data.table: 20 × 3\n\\begin{tabular}{lll}\n semilla & ganancia1 & ganancia2\\\\\n <int> & <dbl> & <dbl>\\\\\n\\hline\n\t 338567 & 47790000 & 37960000\\\\\n\t 518239 & 48450000 & 41670000\\\\\n\t 986717 & 51360000 & 47680000\\\\\n\t 817669 & 46490000 & 40430000\\\\\n\t 453977 & 48370000 & 45200000\\\\\n\t 950161 & 55500000 & 50550000\\\\\n\t 324089 & 41490000 & 37080000\\\\\n\t 741079 & 43630000 & 43800000\\\\\n\t 989641 & 43160000 & 42560000\\\\\n\t 142841 & 49020000 & 40420000\\\\\n\t 777241 & 46700000 & 44150000\\\\\n\t 584923 & 46720000 & 40020000\\\\\n\t 681179 & 52720000 & 49030000\\\\\n\t 587827 & 41130000 & 37770000\\\\\n\t 924743 & 39040000 & 37100000\\\\\n\t 206177 & 54430000 & 50370000\\\\\n\t 427351 & 51290000 & 46560000\\\\\n\t 969503 & 47110000 & 43300000\\\\\n\t 583577 & 44320000 & 34910000\\\\\n\t 861719 & 47340000 & 42110000\\\\\n\\end{tabular}\n",
            "text/plain": [
              "   semilla ganancia1 ganancia2\n",
              "1  338567  47790000  37960000 \n",
              "2  518239  48450000  41670000 \n",
              "3  986717  51360000  47680000 \n",
              "4  817669  46490000  40430000 \n",
              "5  453977  48370000  45200000 \n",
              "6  950161  55500000  50550000 \n",
              "7  324089  41490000  37080000 \n",
              "8  741079  43630000  43800000 \n",
              "9  989641  43160000  42560000 \n",
              "10 142841  49020000  40420000 \n",
              "11 777241  46700000  44150000 \n",
              "12 584923  46720000  40020000 \n",
              "13 681179  52720000  49030000 \n",
              "14 587827  41130000  37770000 \n",
              "15 924743  39040000  37100000 \n",
              "16 206177  54430000  50370000 \n",
              "17 427351  51290000  46560000 \n",
              "18 969503  47110000  43300000 \n",
              "19 583577  44320000  34910000 \n",
              "20 861719  47340000  42110000 "
            ]
          },
          "metadata": {}
        }
      ]
    },
    {
      "cell_type": "code",
      "source": [
        "grafico <- ggplot( tb_salida, aes(x=ganancia1)) + geom_density(alpha=0.25, fill=\"green\", color=\"green\")  +\n",
        "             geom_density(data=tb_salida, aes(x=ganancia2), fill=\"purple\", color=\"purple\",  alpha=0.10)\n",
        "\n",
        "print(grafico)"
      ],
      "metadata": {
        "id": "-O0rg6btNrun",
        "colab": {
          "base_uri": "https://localhost:8080/",
          "height": 437
        },
        "outputId": "cf16832c-c6f4-4dc2-fe52-04662f11de0d"
      },
      "execution_count": 40,
      "outputs": [
        {
          "output_type": "display_data",
          "data": {
            "text/plain": [
              "plot without title"
            ],
            "image/png": "[encoded data removed]"
          },
          "metadata": {
            "image/png": {
              "width": 420,
              "height": 420
            }
          }
        }
      ]
    },
    {
      "cell_type": "code",
      "source": [
        "# imprimo en un .pdf  que va a la carpeta del experimento\n",
        "pdf(\"densidad_dos.pdf\")\n",
        "print(grafico)\n",
        "dev.off()"
      ],
      "metadata": {
        "id": "uSqrazOyU_LC",
        "colab": {
          "base_uri": "https://localhost:8080/",
          "height": 34
        },
        "outputId": "92d1949e-c6a7-41cd-9981-5a0d38e9c479"
      },
      "execution_count": 41,
      "outputs": [
        {
          "output_type": "display_data",
          "data": {
            "text/html": [
              "<strong>agg_record_1382809835:</strong> 2"
            ],
            "text/markdown": "**agg_record_1382809835:** 2",
            "text/latex": "\\textbf{agg\\textbackslash{}\\_record\\textbackslash{}\\_1382809835:} 2",
            "text/plain": [
              "agg_record_1382809835 \n",
              "                    2 "
            ]
          },
          "metadata": {}
        }
      ]
    },
    {
      "cell_type": "code",
      "source": [
        "print( tb_salida[ , list( \"arbol1\" = mean( ganancia1),  \"arbol2\" = mean(ganancia2) ) ] )\n",
        "\n",
        "print( tb_salida[ , list( \"prob( m1 > m2)\" = sum(ganancia1 > ganancia2 )/ .N ) ]  )"
      ],
      "metadata": {
        "id": "LGv0LB_4R7US",
        "colab": {
          "base_uri": "https://localhost:8080/"
        },
        "outputId": "7eda9b82-09b6-4402-dc08-5e52d3540a9a"
      },
      "execution_count": 42,
      "outputs": [
        {
          "output_type": "stream",
          "name": "stdout",
          "text": [
            "     arbol1   arbol2\n",
            "      <num>    <num>\n",
            "1: 47303000 42633500\n",
            "   prob( m1 > m2)\n",
            "            <num>\n",
            "1:           0.95\n"
          ]
        }
      ]
    },
    {
      "cell_type": "markdown",
      "source": [
        "### Acciones a realizar\n",
        "* Reportar la  los resultados en la planilla colaborativa hoja  **C2-dosModelos**\n",
        "* ¿Todos los alumnos hubieran elegido el mismo modelo aun con 20 semillas?"
      ],
      "metadata": {
        "id": "F6lFJf1VTi8b"
      }
    },
    {
      "cell_type": "markdown",
      "source": [
        "\n",
        "\n",
        "---\n",
        "\n"
      ],
      "metadata": {
        "id": "aOpy-XBKTi8n"
      }
    },
    {
      "cell_type": "markdown",
      "source": [
        "# 7 Comparando dos buenos  modelos\n",
        "## Clase 02  Experimento 7"
      ],
      "metadata": {
        "id": "EdzjiJf-dsEK"
      }
    },
    {
      "cell_type": "markdown",
      "source": [
        "## 7.1  Objetivos\n",
        "Presentar a los alumnos la dificultad que surge en la comparación de dos muy distintos, pero ambos buenos, modelos predictivos, y el costo computacional asociado a esa comparación\n",
        "<br>Comparación simple de media de ganancias, versus probabilidad que un modelo sea superior a otro.\n",
        "<br>Limitaciones de la MonteCarlo Cross Validation\n",
        "<br>Existencia del Test de Wilcoxon"
      ],
      "metadata": {
        "id": "FcBjp5XxdsEt"
      }
    },
    {
      "cell_type": "markdown",
      "source": [
        "## 7.2 Introduccion\n",
        "Estos son los dos arboles de muy distinta profundidad.\n",
        "<br>¿Cuál de ellos es mejor? ¿Cuál elijo?\n",
        "\n",
        "| Hiperparámetro | Arbol 1 | Arbol 2 |\n",
        "| --- | --: |  ---: |\n",
        "| cp | -1 | -1 |\n",
        "|minsplit | 170 | 1900 |\n",
        "|minbucket | 70 | 800 |\n",
        "|maxdepth | 7 | 3 |\n",
        "\n"
      ],
      "metadata": {
        "id": "tYcOIcwCdsEu"
      }
    },
    {
      "cell_type": "markdown",
      "source": [
        "## 7.3 Dos buenos modelos"
      ],
      "metadata": {
        "id": "r0NDA7GgdsEu"
      }
    },
    {
      "cell_type": "markdown",
      "source": [
        "Esta parte se debe correr con el runtime en lenguaje **R** Ir al menu, Runtime -> Change Runtime Tipe -> Runtime type -> R"
      ],
      "metadata": {
        "id": "21SJmGd7dsEv"
      }
    },
    {
      "cell_type": "markdown",
      "source": [
        "El tiempo de corrida es de alrededor de 50 minutos"
      ],
      "metadata": {
        "id": "Ne0e08KUt87w"
      }
    },
    {
      "cell_type": "markdown",
      "source": [
        "limpio el ambiente de R"
      ],
      "metadata": {
        "id": "q02SEGNwdsEv"
      }
    },
    {
      "cell_type": "code",
      "source": [
        "# limpio la memoria\n",
        "rm(list=ls(all.names=TRUE)) # remove all objects\n",
        "gc(full=TRUE, verbose=FALSE) # garbage collection"
      ],
      "metadata": {
        "id": "6c2ZJstWdsEw",
        "colab": {
          "base_uri": "https://localhost:8080/",
          "height": 129
        },
        "outputId": "fbceb342-15ed-4c10-a95c-ec27f78bb3b2"
      },
      "execution_count": 43,
      "outputs": [
        {
          "output_type": "display_data",
          "data": {
            "text/html": [
              "<table class=\"dataframe\">\n",
              "<caption>A matrix: 2 × 6 of type dbl</caption>\n",
              "<thead>\n",
              "\t<tr><th></th><th scope=col>used</th><th scope=col>(Mb)</th><th scope=col>gc trigger</th><th scope=col>(Mb)</th><th scope=col>max used</th><th scope=col>(Mb)</th></tr>\n",
              "</thead>\n",
              "<tbody>\n",
              "\t<tr><th scope=row>Ncells</th><td>1422033</td><td>76.0</td><td> 2404932</td><td>128.5</td><td>  2404932</td><td>128.5</td></tr>\n",
              "\t<tr><th scope=row>Vcells</th><td>2672829</td><td>20.4</td><td>53094836</td><td>405.1</td><td>104048956</td><td>793.9</td></tr>\n",
              "</tbody>\n",
              "</table>\n"
            ],
            "text/markdown": "\nA matrix: 2 × 6 of type dbl\n\n| <!--/--> | used | (Mb) | gc trigger | (Mb) | max used | (Mb) |\n|---|---|---|---|---|---|---|\n| Ncells | 1422033 | 76.0 |  2404932 | 128.5 |   2404932 | 128.5 |\n| Vcells | 2672829 | 20.4 | 53094836 | 405.1 | 104048956 | 793.9 |\n\n",
            "text/latex": "A matrix: 2 × 6 of type dbl\n\\begin{tabular}{r|llllll}\n  & used & (Mb) & gc trigger & (Mb) & max used & (Mb)\\\\\n\\hline\n\tNcells & 1422033 & 76.0 &  2404932 & 128.5 &   2404932 & 128.5\\\\\n\tVcells & 2672829 & 20.4 & 53094836 & 405.1 & 104048956 & 793.9\\\\\n\\end{tabular}\n",
            "text/plain": [
              "       used    (Mb) gc trigger (Mb)  max used  (Mb) \n",
              "Ncells 1422033 76.0  2404932   128.5   2404932 128.5\n",
              "Vcells 2672829 20.4 53094836   405.1 104048956 793.9"
            ]
          },
          "metadata": {}
        }
      ]
    },
    {
      "cell_type": "markdown",
      "source": [
        "* Instalacion de la libreria  rpart.plot  para dibujar el arbol\n",
        "* invocacion de las librerias  **data.table** y  **rpart**"
      ],
      "metadata": {
        "id": "62MIW0r1dsEx"
      }
    },
    {
      "cell_type": "code",
      "source": [
        "# cargo las librerias que necesito\n",
        "require(\"data.table\")\n",
        "require(\"rpart\")\n",
        "require(\"parallel\")\n",
        "\n",
        "if (!require(\"primes\")) install.packages(\"primes\")\n",
        "require(\"primes\")\n",
        "\n",
        "require(\"ggplot2\")"
      ],
      "metadata": {
        "id": "2Ke4n-N8dsEy"
      },
      "execution_count": 44,
      "outputs": []
    },
    {
      "cell_type": "markdown",
      "source": [
        "###  Accion a Realizar\n",
        "PARAM$semilla_primigenia  debe reemplazarse por SU primer semilla"
      ],
      "metadata": {
        "id": "UHSoeqi4dsEz"
      }
    },
    {
      "cell_type": "code",
      "source": [
        "PARAM <- list()\n",
        "PARAM$semilla_primigenia <- 206262\n",
        "PARAM$qsemillas <- 50\n",
        "PARAM$training_pct <- 70L     # entre 1 y 100\n"
      ],
      "metadata": {
        "id": "f08_sqfAdsEz"
      },
      "execution_count": 45,
      "outputs": []
    },
    {
      "cell_type": "code",
      "source": [
        "# los dos arboles\n",
        "PARAM$rpart1 <- list (\n",
        "  \"cp\" = -1,\n",
        "  \"minsplit\" = 170,\n",
        "  \"minbucket\" = 70,\n",
        "  \"maxdepth\" = 7\n",
        ")\n",
        "\n",
        "\n",
        "PARAM$rpart2 <- list (\n",
        "  \"cp\" = -1,\n",
        "  \"minsplit\" = 1900,\n",
        "  \"minbucket\" = 800,\n",
        "  \"maxdepth\" = 3\n",
        ")\n"
      ],
      "metadata": {
        "id": "L735D9rydsE0"
      },
      "execution_count": 46,
      "outputs": []
    },
    {
      "cell_type": "code",
      "source": [
        "# particionar agrega una columna llamada fold a un dataset\n",
        "#  que consiste en una particion estratificada segun agrupa\n",
        "\n",
        "# particionar( data=dataset, division=c(70,30),\n",
        "#  agrupa=clase_ternaria, seed=semilla)   crea una particion 70, 30\n",
        "\n",
        "particionar <- function(\n",
        "    data, division, agrupa = \"\",\n",
        "    campo = \"fold\", start = 1, seed = NA) {\n",
        "  if (!is.na(seed)) set.seed(seed)\n",
        "\n",
        "  bloque <- unlist(mapply(function(x, y) {\n",
        "    rep(y, x)\n",
        "  }, division, seq(from = start, length.out = length(division))))\n",
        "\n",
        "  data[, (campo) := sample(rep(bloque, ceiling(.N / length(bloque))))[1:.N],\n",
        "    by = agrupa\n",
        "  ]\n",
        "}\n"
      ],
      "metadata": {
        "id": "O56epLUGdsE1"
      },
      "execution_count": 47,
      "outputs": []
    },
    {
      "cell_type": "code",
      "source": [
        "DosArbolesEstimarGanancia <- function(semilla, training_pct, param_rpart1, param_rpart2) {\n",
        "  # fuerzo impresion\n",
        "  print( paste( semilla, Sys.time()) )\n",
        "  flush.console()\n",
        "\n",
        "  # particiono estratificadamente el dataset\n",
        "  particionar(dataset,\n",
        "    division = c(training_pct, 100L -training_pct),\n",
        "    agrupa = \"clase_ternaria\",\n",
        "    seed = semilla # aqui se usa SU semilla\n",
        "  )\n",
        "\n",
        "  # genero el modelo\n",
        "  # predecir clase_ternaria a partir del resto\n",
        "  modelo1 <- rpart(\"clase_ternaria ~ .\",\n",
        "    data = dataset[fold == 1], # fold==1  es training,  el 70% de los datos\n",
        "    xval = 0,\n",
        "    control = param_rpart1\n",
        "  ) # aqui van los parametros del arbol\n",
        "\n",
        "  # aplico el modelo a los datos de testing\n",
        "  prediccion1 <- predict(modelo1, # el modelo que genere recien\n",
        "    dataset[fold == 2], # fold==2  es testing, el 30% de los datos\n",
        "    type = \"prob\"\n",
        "  ) # type= \"prob\"  es que devuelva la probabilidad\n",
        "\n",
        "\n",
        "  # calculo la ganancia en testing  qu es fold==2\n",
        "  ganancia_test1 <- dataset[\n",
        "    fold == 2,\n",
        "    sum(ifelse(prediccion1[, \"BAJA+2\"] > 0.025,\n",
        "      ifelse(clase_ternaria == \"BAJA+2\", 117000, -3000),\n",
        "      0\n",
        "    ))\n",
        "  ]\n",
        "\n",
        "  # escalo la ganancia como si fuera todo el dataset\n",
        "  ganancia_test_normalizada1 <- ganancia_test1 / (( 100 - training_pct ) / 100 )\n",
        "\n",
        "  modelo2 <- rpart(\"clase_ternaria ~ .\",\n",
        "    data = dataset[fold == 1], # fold==1  es training,  el 70% de los datos\n",
        "    xval = 0,\n",
        "    control = param_rpart2\n",
        "  ) # aqui van los parametros del arbol\n",
        "\n",
        "  # aplico el modelo a los datos de testing\n",
        "  prediccion2 <- predict(modelo2, # el modelo que genere recien\n",
        "    dataset[fold == 2], # fold==2  es testing, el 30% de los datos\n",
        "    type = \"prob\"\n",
        "  ) # type= \"prob\"  es que devuelva la probabilidad\n",
        "\n",
        "\n",
        "  # calculo la ganancia en testing  qu es fold==2\n",
        "  ganancia_test2 <- dataset[\n",
        "    fold == 2,\n",
        "    sum(ifelse(prediccion2[, \"BAJA+2\"] > 0.025,\n",
        "      ifelse(clase_ternaria == \"BAJA+2\", 117000, -3000),\n",
        "      0\n",
        "    ))\n",
        "  ]\n",
        "\n",
        "  # escalo la ganancia como si fuera todo el dataset\n",
        "  ganancia_test_normalizada2 <- ganancia_test2 / (( 100 - training_pct ) / 100 )\n",
        "\n",
        "  return(list(\n",
        "    \"semilla\" = semilla,\n",
        "    \"ganancia1\" = ganancia_test_normalizada1,\n",
        "    \"ganancia2\" = ganancia_test_normalizada2\n",
        "  ))\n",
        "}"
      ],
      "metadata": {
        "id": "Bv_NorLhdsE1"
      },
      "execution_count": 48,
      "outputs": []
    },
    {
      "cell_type": "code",
      "source": [
        "# carpeta de trabajo\n",
        "setwd(\"/content/buckets/b1/exp\")\n",
        "experimento <- \"exp206\"\n",
        "dir.create(experimento, showWarnings=FALSE)\n",
        "setwd( paste0(\"/content/buckets/b1/exp/\", experimento ))"
      ],
      "metadata": {
        "id": "N9GarblIdsE3"
      },
      "execution_count": 49,
      "outputs": []
    },
    {
      "cell_type": "code",
      "source": [
        "# lectura del dataset\n",
        "dataset <- fread(\"/content/datasets/dataset_pequeno.csv\")\n",
        "\n",
        "# trabajo solo con los datos con clase, es decir 202107\n",
        "dataset <- dataset[clase_ternaria != \"\"]"
      ],
      "metadata": {
        "id": "Z05r3wdTdsE3"
      },
      "execution_count": 50,
      "outputs": []
    },
    {
      "cell_type": "code",
      "source": [
        "# genero numeros primos\n",
        "primos <- generate_primes(min = 100000, max = 1000000)\n",
        "set.seed(PARAM$semilla_primigenia) # inicializo\n",
        "\n",
        "# me quedo con PARAM$qsemillas   semillas\n",
        "PARAM$semillas <- sample(primos, PARAM$qsemillas )"
      ],
      "metadata": {
        "id": "m8ODrVrndsE4"
      },
      "execution_count": 51,
      "outputs": []
    },
    {
      "cell_type": "code",
      "source": [
        "# la funcion mcmapply  llama a la funcion DosArbolesEstimarGanancia\n",
        "#  tantas veces como valores tenga el vector  PARAM$semillas\n",
        "Sys.time()\n",
        "\n",
        "salidas <- mcmapply( DosArbolesEstimarGanancia,\n",
        "  PARAM$semillas, # paso el vector de semillas\n",
        "  MoreArgs = list(PARAM$training_pct, PARAM$rpart1, PARAM$rpart2), # aqui paso el segundo parametro\n",
        "  SIMPLIFY = FALSE,\n",
        "  mc.cores = detectCores()\n",
        ")\n",
        "\n",
        "Sys.time()"
      ],
      "metadata": {
        "id": "KQBhUXxJdsE5",
        "colab": {
          "base_uri": "https://localhost:8080/",
          "height": 52
        },
        "outputId": "ff82d91b-8c65-46d9-c95d-20e756d88fdf"
      },
      "execution_count": 52,
      "outputs": [
        {
          "output_type": "display_data",
          "data": {
            "text/plain": [
              "[1] \"2025-10-14 12:29:44 UTC\""
            ]
          },
          "metadata": {}
        },
        {
          "output_type": "display_data",
          "data": {
            "text/plain": [
              "[1] \"2025-10-14 13:39:14 UTC\""
            ]
          },
          "metadata": {}
        }
      ]
    },
    {
      "cell_type": "code",
      "source": [
        "# paso la lista a vector\n",
        "tb_salida <- rbindlist(salidas)\n",
        "tb_salida"
      ],
      "metadata": {
        "id": "N0eS1CFFdsE5",
        "colab": {
          "base_uri": "https://localhost:8080/",
          "height": 1000
        },
        "outputId": "a76f30e5-080a-4ae2-8f61-38053dbfbe50"
      },
      "execution_count": 53,
      "outputs": [
        {
          "output_type": "display_data",
          "data": {
            "text/html": [
              "<table class=\"dataframe\">\n",
              "<caption>A data.table: 50 × 3</caption>\n",
              "<thead>\n",
              "\t<tr><th scope=col>semilla</th><th scope=col>ganancia1</th><th scope=col>ganancia2</th></tr>\n",
              "\t<tr><th scope=col>&lt;int&gt;</th><th scope=col>&lt;dbl&gt;</th><th scope=col>&lt;dbl&gt;</th></tr>\n",
              "</thead>\n",
              "<tbody>\n",
              "\t<tr><td>338567</td><td>47790000</td><td>44700000</td></tr>\n",
              "\t<tr><td>518239</td><td>48450000</td><td>47290000</td></tr>\n",
              "\t<tr><td>986717</td><td>51360000</td><td>52640000</td></tr>\n",
              "\t<tr><td>817669</td><td>46490000</td><td>46030000</td></tr>\n",
              "\t<tr><td>453977</td><td>48370000</td><td>49500000</td></tr>\n",
              "\t<tr><td>950161</td><td>55500000</td><td>53450000</td></tr>\n",
              "\t<tr><td>324089</td><td>41490000</td><td>46760000</td></tr>\n",
              "\t<tr><td>741079</td><td>43630000</td><td>47800000</td></tr>\n",
              "\t<tr><td>989641</td><td>43160000</td><td>43060000</td></tr>\n",
              "\t<tr><td>142841</td><td>49020000</td><td>46790000</td></tr>\n",
              "\t<tr><td>777241</td><td>46700000</td><td>48770000</td></tr>\n",
              "\t<tr><td>584923</td><td>46720000</td><td>51030000</td></tr>\n",
              "\t<tr><td>681179</td><td>52720000</td><td>52130000</td></tr>\n",
              "\t<tr><td>587827</td><td>41130000</td><td>46990000</td></tr>\n",
              "\t<tr><td>924743</td><td>39040000</td><td>42820000</td></tr>\n",
              "\t<tr><td>206177</td><td>54430000</td><td>50500000</td></tr>\n",
              "\t<tr><td>427351</td><td>51290000</td><td>48590000</td></tr>\n",
              "\t<tr><td>969503</td><td>47110000</td><td>49730000</td></tr>\n",
              "\t<tr><td>583577</td><td>44320000</td><td>45030000</td></tr>\n",
              "\t<tr><td>861719</td><td>47340000</td><td>48430000</td></tr>\n",
              "\t<tr><td>901591</td><td>51670000</td><td>51560000</td></tr>\n",
              "\t<tr><td>752797</td><td>44380000</td><td>41760000</td></tr>\n",
              "\t<tr><td>685301</td><td>47960000</td><td>43730000</td></tr>\n",
              "\t<tr><td>893701</td><td>43370000</td><td>41850000</td></tr>\n",
              "\t<tr><td>852913</td><td>43600000</td><td>49710000</td></tr>\n",
              "\t<tr><td>455881</td><td>47520000</td><td>43990000</td></tr>\n",
              "\t<tr><td>594823</td><td>50620000</td><td>52320000</td></tr>\n",
              "\t<tr><td>710261</td><td>41270000</td><td>40720000</td></tr>\n",
              "\t<tr><td>764471</td><td>48220000</td><td>47800000</td></tr>\n",
              "\t<tr><td>502517</td><td>39890000</td><td>42580000</td></tr>\n",
              "\t<tr><td>524521</td><td>45520000</td><td>44680000</td></tr>\n",
              "\t<tr><td>189983</td><td>41060000</td><td>44600000</td></tr>\n",
              "\t<tr><td>424121</td><td>49790000</td><td>44320000</td></tr>\n",
              "\t<tr><td>636263</td><td>47730000</td><td>46350000</td></tr>\n",
              "\t<tr><td>966157</td><td>46560000</td><td>40360000</td></tr>\n",
              "\t<tr><td>611071</td><td>49390000</td><td>50150000</td></tr>\n",
              "\t<tr><td>684547</td><td>52590000</td><td>49810000</td></tr>\n",
              "\t<tr><td>296831</td><td>45570000</td><td>40680000</td></tr>\n",
              "\t<tr><td>135391</td><td>50000000</td><td>48200000</td></tr>\n",
              "\t<tr><td>310021</td><td>48920000</td><td>45150000</td></tr>\n",
              "\t<tr><td>366227</td><td>47390000</td><td>51070000</td></tr>\n",
              "\t<tr><td>612817</td><td>51610000</td><td>48360000</td></tr>\n",
              "\t<tr><td>710959</td><td>49540000</td><td>47530000</td></tr>\n",
              "\t<tr><td>453659</td><td>51910000</td><td>50060000</td></tr>\n",
              "\t<tr><td>584849</td><td>50360000</td><td>40220000</td></tr>\n",
              "\t<tr><td>198347</td><td>50580000</td><td>45900000</td></tr>\n",
              "\t<tr><td>103087</td><td>47580000</td><td>50380000</td></tr>\n",
              "\t<tr><td>954067</td><td>54830000</td><td>48760000</td></tr>\n",
              "\t<tr><td>371057</td><td>49000000</td><td>52570000</td></tr>\n",
              "\t<tr><td>226483</td><td>43620000</td><td>50190000</td></tr>\n",
              "</tbody>\n",
              "</table>\n"
            ],
            "text/markdown": "\nA data.table: 50 × 3\n\n| semilla &lt;int&gt; | ganancia1 &lt;dbl&gt; | ganancia2 &lt;dbl&gt; |\n|---|---|---|\n| 338567 | 47790000 | 44700000 |\n| 518239 | 48450000 | 47290000 |\n| 986717 | 51360000 | 52640000 |\n| 817669 | 46490000 | 46030000 |\n| 453977 | 48370000 | 49500000 |\n| 950161 | 55500000 | 53450000 |\n| 324089 | 41490000 | 46760000 |\n| 741079 | 43630000 | 47800000 |\n| 989641 | 43160000 | 43060000 |\n| 142841 | 49020000 | 46790000 |\n| 777241 | 46700000 | 48770000 |\n| 584923 | 46720000 | 51030000 |\n| 681179 | 52720000 | 52130000 |\n| 587827 | 41130000 | 46990000 |\n| 924743 | 39040000 | 42820000 |\n| 206177 | 54430000 | 50500000 |\n| 427351 | 51290000 | 48590000 |\n| 969503 | 47110000 | 49730000 |\n| 583577 | 44320000 | 45030000 |\n| 861719 | 47340000 | 48430000 |\n| 901591 | 51670000 | 51560000 |\n| 752797 | 44380000 | 41760000 |\n| 685301 | 47960000 | 43730000 |\n| 893701 | 43370000 | 41850000 |\n| 852913 | 43600000 | 49710000 |\n| 455881 | 47520000 | 43990000 |\n| 594823 | 50620000 | 52320000 |\n| 710261 | 41270000 | 40720000 |\n| 764471 | 48220000 | 47800000 |\n| 502517 | 39890000 | 42580000 |\n| 524521 | 45520000 | 44680000 |\n| 189983 | 41060000 | 44600000 |\n| 424121 | 49790000 | 44320000 |\n| 636263 | 47730000 | 46350000 |\n| 966157 | 46560000 | 40360000 |\n| 611071 | 49390000 | 50150000 |\n| 684547 | 52590000 | 49810000 |\n| 296831 | 45570000 | 40680000 |\n| 135391 | 50000000 | 48200000 |\n| 310021 | 48920000 | 45150000 |\n| 366227 | 47390000 | 51070000 |\n| 612817 | 51610000 | 48360000 |\n| 710959 | 49540000 | 47530000 |\n| 453659 | 51910000 | 50060000 |\n| 584849 | 50360000 | 40220000 |\n| 198347 | 50580000 | 45900000 |\n| 103087 | 47580000 | 50380000 |\n| 954067 | 54830000 | 48760000 |\n| 371057 | 49000000 | 52570000 |\n| 226483 | 43620000 | 50190000 |\n\n",
            "text/latex": "A data.table: 50 × 3\n\\begin{tabular}{lll}\n semilla & ganancia1 & ganancia2\\\\\n <int> & <dbl> & <dbl>\\\\\n\\hline\n\t 338567 & 47790000 & 44700000\\\\\n\t 518239 & 48450000 & 47290000\\\\\n\t 986717 & 51360000 & 52640000\\\\\n\t 817669 & 46490000 & 46030000\\\\\n\t 453977 & 48370000 & 49500000\\\\\n\t 950161 & 55500000 & 53450000\\\\\n\t 324089 & 41490000 & 46760000\\\\\n\t 741079 & 43630000 & 47800000\\\\\n\t 989641 & 43160000 & 43060000\\\\\n\t 142841 & 49020000 & 46790000\\\\\n\t 777241 & 46700000 & 48770000\\\\\n\t 584923 & 46720000 & 51030000\\\\\n\t 681179 & 52720000 & 52130000\\\\\n\t 587827 & 41130000 & 46990000\\\\\n\t 924743 & 39040000 & 42820000\\\\\n\t 206177 & 54430000 & 50500000\\\\\n\t 427351 & 51290000 & 48590000\\\\\n\t 969503 & 47110000 & 49730000\\\\\n\t 583577 & 44320000 & 45030000\\\\\n\t 861719 & 47340000 & 48430000\\\\\n\t 901591 & 51670000 & 51560000\\\\\n\t 752797 & 44380000 & 41760000\\\\\n\t 685301 & 47960000 & 43730000\\\\\n\t 893701 & 43370000 & 41850000\\\\\n\t 852913 & 43600000 & 49710000\\\\\n\t 455881 & 47520000 & 43990000\\\\\n\t 594823 & 50620000 & 52320000\\\\\n\t 710261 & 41270000 & 40720000\\\\\n\t 764471 & 48220000 & 47800000\\\\\n\t 502517 & 39890000 & 42580000\\\\\n\t 524521 & 45520000 & 44680000\\\\\n\t 189983 & 41060000 & 44600000\\\\\n\t 424121 & 49790000 & 44320000\\\\\n\t 636263 & 47730000 & 46350000\\\\\n\t 966157 & 46560000 & 40360000\\\\\n\t 611071 & 49390000 & 50150000\\\\\n\t 684547 & 52590000 & 49810000\\\\\n\t 296831 & 45570000 & 40680000\\\\\n\t 135391 & 50000000 & 48200000\\\\\n\t 310021 & 48920000 & 45150000\\\\\n\t 366227 & 47390000 & 51070000\\\\\n\t 612817 & 51610000 & 48360000\\\\\n\t 710959 & 49540000 & 47530000\\\\\n\t 453659 & 51910000 & 50060000\\\\\n\t 584849 & 50360000 & 40220000\\\\\n\t 198347 & 50580000 & 45900000\\\\\n\t 103087 & 47580000 & 50380000\\\\\n\t 954067 & 54830000 & 48760000\\\\\n\t 371057 & 49000000 & 52570000\\\\\n\t 226483 & 43620000 & 50190000\\\\\n\\end{tabular}\n",
            "text/plain": [
              "   semilla ganancia1 ganancia2\n",
              "1  338567  47790000  44700000 \n",
              "2  518239  48450000  47290000 \n",
              "3  986717  51360000  52640000 \n",
              "4  817669  46490000  46030000 \n",
              "5  453977  48370000  49500000 \n",
              "6  950161  55500000  53450000 \n",
              "7  324089  41490000  46760000 \n",
              "8  741079  43630000  47800000 \n",
              "9  989641  43160000  43060000 \n",
              "10 142841  49020000  46790000 \n",
              "11 777241  46700000  48770000 \n",
              "12 584923  46720000  51030000 \n",
              "13 681179  52720000  52130000 \n",
              "14 587827  41130000  46990000 \n",
              "15 924743  39040000  42820000 \n",
              "16 206177  54430000  50500000 \n",
              "17 427351  51290000  48590000 \n",
              "18 969503  47110000  49730000 \n",
              "19 583577  44320000  45030000 \n",
              "20 861719  47340000  48430000 \n",
              "21 901591  51670000  51560000 \n",
              "22 752797  44380000  41760000 \n",
              "23 685301  47960000  43730000 \n",
              "24 893701  43370000  41850000 \n",
              "25 852913  43600000  49710000 \n",
              "26 455881  47520000  43990000 \n",
              "27 594823  50620000  52320000 \n",
              "28 710261  41270000  40720000 \n",
              "29 764471  48220000  47800000 \n",
              "30 502517  39890000  42580000 \n",
              "31 524521  45520000  44680000 \n",
              "32 189983  41060000  44600000 \n",
              "33 424121  49790000  44320000 \n",
              "34 636263  47730000  46350000 \n",
              "35 966157  46560000  40360000 \n",
              "36 611071  49390000  50150000 \n",
              "37 684547  52590000  49810000 \n",
              "38 296831  45570000  40680000 \n",
              "39 135391  50000000  48200000 \n",
              "40 310021  48920000  45150000 \n",
              "41 366227  47390000  51070000 \n",
              "42 612817  51610000  48360000 \n",
              "43 710959  49540000  47530000 \n",
              "44 453659  51910000  50060000 \n",
              "45 584849  50360000  40220000 \n",
              "46 198347  50580000  45900000 \n",
              "47 103087  47580000  50380000 \n",
              "48 954067  54830000  48760000 \n",
              "49 371057  49000000  52570000 \n",
              "50 226483  43620000  50190000 "
            ]
          },
          "metadata": {}
        }
      ]
    },
    {
      "cell_type": "code",
      "source": [
        "grafico <- ggplot( tb_salida, aes(x=ganancia1), fill=\"green\", color=\"green\") + geom_density(alpha=0.25)  +\n",
        "             geom_density(data=tb_salida, aes(x=ganancia2), fill=\"purple\", color=\"purple\",  alpha=0.10)\n",
        "\n",
        "print(grafico)"
      ],
      "metadata": {
        "id": "6vf28ujAdsE6",
        "colab": {
          "base_uri": "https://localhost:8080/",
          "height": 541
        },
        "outputId": "6879fe91-14c0-4676-e319-cba8d8861e48"
      },
      "execution_count": 54,
      "outputs": [
        {
          "output_type": "stream",
          "name": "stderr",
          "text": [
            "Warning message in fortify(data, ...):\n",
            "“\u001b[1m\u001b[22mArguments in `...` must be used.\n",
            "\u001b[31m✖\u001b[39m Problematic arguments:\n",
            "\u001b[36m•\u001b[39m fill = \"green\"\n",
            "\u001b[36m•\u001b[39m color = \"green\"\n",
            "\u001b[36mℹ\u001b[39m Did you misspell an argument name?”\n"
          ]
        },
        {
          "output_type": "display_data",
          "data": {
            "text/plain": [
              "plot without title"
            ],
            "image/png": "[encoded data removed]"
          },
          "metadata": {
            "image/png": {
              "width": 420,
              "height": 420
            }
          }
        }
      ]
    },
    {
      "cell_type": "code",
      "source": [
        "# imprimo en un .pdf  que va a la carpeta del experimento\n",
        "pdf(\"densidad_dos.pdf\")\n",
        "print(grafico)\n",
        "dev.off()"
      ],
      "metadata": {
        "id": "TA9lLa6-dsE6",
        "colab": {
          "base_uri": "https://localhost:8080/",
          "height": 34
        },
        "outputId": "1c13bf81-89ff-4e29-d1d6-18548a846c6a"
      },
      "execution_count": 55,
      "outputs": [
        {
          "output_type": "display_data",
          "data": {
            "text/html": [
              "<strong>agg_record_683362119:</strong> 2"
            ],
            "text/markdown": "**agg_record_683362119:** 2",
            "text/latex": "\\textbf{agg\\textbackslash{}\\_record\\textbackslash{}\\_683362119:} 2",
            "text/plain": [
              "agg_record_683362119 \n",
              "                   2 "
            ]
          },
          "metadata": {}
        }
      ]
    },
    {
      "cell_type": "code",
      "source": [
        "# medias de las ganancias\n",
        "print( tb_salida[ , list( \"arbol1\" = mean( ganancia1),  \"arbol2\" = mean(ganancia2) ) ] )\n"
      ],
      "metadata": {
        "id": "xAOpyZTqdsE7",
        "colab": {
          "base_uri": "https://localhost:8080/"
        },
        "outputId": "0a78f12c-d3c8-42e1-e0fe-cd2d047ae831"
      },
      "execution_count": 56,
      "outputs": [
        {
          "output_type": "stream",
          "name": "stdout",
          "text": [
            "     arbol1   arbol2\n",
            "      <num>    <num>\n",
            "1: 47562200 47148000\n"
          ]
        }
      ]
    },
    {
      "cell_type": "code",
      "source": [
        "# probabilidad que m1 sea mayor a m2\n",
        "print( tb_salida[ , list( \"prob( m1 > m2)\" = sum(ganancia1 > ganancia2 )/ .N ) ]  )"
      ],
      "metadata": {
        "id": "8rdPIcfzgob7",
        "colab": {
          "base_uri": "https://localhost:8080/"
        },
        "outputId": "d6e867d3-7643-47c7-eef5-ab3703e6edcd"
      },
      "execution_count": 57,
      "outputs": [
        {
          "output_type": "stream",
          "name": "stdout",
          "text": [
            "   prob( m1 > m2)\n",
            "            <num>\n",
            "1:            0.6\n"
          ]
        }
      ]
    },
    {
      "cell_type": "markdown",
      "source": [
        "### Acciones a realizar\n",
        "* Reportar la  los resultados en la planilla colaborativa hoja  **C2-dosBuenos**\n"
      ],
      "metadata": {
        "id": "nNNJWYRadsE7"
      }
    },
    {
      "cell_type": "markdown",
      "source": [
        "\n",
        "\n",
        "---\n",
        "\n"
      ],
      "metadata": {
        "id": "LTBEq6SEdsE8"
      }
    },
    {
      "cell_type": "markdown",
      "source": [],
      "metadata": {
        "id": "ebcTZX7Sg1Le"
      }
    },
    {
      "cell_type": "markdown",
      "source": [
        "# 8 Test de Wilcoxon\n",
        "## Clase 02  Experimento 8"
      ],
      "metadata": {
        "id": "RAtn4x6Bg1u1"
      }
    },
    {
      "cell_type": "markdown",
      "source": [],
      "metadata": {
        "id": "RWxjnSsVg_ol"
      }
    },
    {
      "cell_type": "markdown",
      "source": [
        "## 8.1  Objetivos\n",
        "\n",
        "¿Como calcular la cantidad mínima de semillas que hacen falta para tener cierta certeza que un modelo es superior a otro?"
      ],
      "metadata": {
        "id": "Gf0LF3ywhAEU"
      }
    },
    {
      "cell_type": "markdown",
      "source": [
        "## 8.2  Introduccion\n",
        "\n",
        "| Hiperparámetro | Arbol 1 | Arbol 2 |\n",
        "| --- | --: |  ---: |\n",
        "| cp | -1 | -1 |\n",
        "|minsplit | 170 | 250 |\n",
        "|minbucket | 70 | 125 |\n",
        "|maxdepth | 7 | 20 |\n",
        "\n",
        "<br>\n",
        "<br>\n",
        "\n",
        "\n",
        "| ordinal | semilla | ganancia1 | ganancia2 | p-value |\n",
        "| --- | --- |  --- |  --- |  --- |\n",
        "| 1 |378821 | 41,470,000 | 37,790,000 | 1.000 |\n",
        "| 2 | 964333  | 48,480,000  | 43,660,000 | 0.500 |\n",
        "| 3 | 187049 | 50,610,000 | 47,840,000 | 0.250 |\n",
        "| 4 | 205151 | 45,580,000 | 44,490,000 | 0.125 |\n",
        "| 5 | 813697 | 52,780,000 | 46,750,000 |  0.063 |\n",
        "| 6 | 344719 | 49,970,000 | 44,300,000 | 0.031 |\n",
        "|7 |127217  |52,810,000 | 42,840,000 |0.016 |\n",
        "| 8 | 464371 | 43,060,000 | 37,300,000 | 0.008 |\n",
        "| 9 | 645137 | 49,660,000 |43,730,000 | 0.004|\n",
        "\n",
        "\n"
      ],
      "metadata": {
        "id": "k4PJGTDViZne"
      }
    },
    {
      "cell_type": "markdown",
      "source": [
        "## 8.3 Codigo Test de Wilcoxon"
      ],
      "metadata": {
        "id": "gAeSRdWRhg61"
      }
    },
    {
      "cell_type": "code",
      "source": [
        "# 1 sola ganancia\n",
        "wilcox.test(\n",
        "  c(41470000),\n",
        "  c(37790000),\n",
        "  paired = TRUE\n",
        ")\n"
      ],
      "metadata": {
        "id": "6r5M0J0HdsE8",
        "colab": {
          "base_uri": "https://localhost:8080/",
          "height": 121
        },
        "outputId": "d637dec3-ff6c-4806-a96c-44a53b81c546"
      },
      "execution_count": 58,
      "outputs": [
        {
          "output_type": "display_data",
          "data": {
            "text/plain": [
              "\n",
              "\tWilcoxon signed rank exact test\n",
              "\n",
              "data:  c(41470000) and c(37790000)\n",
              "V = 1, p-value = 1\n",
              "alternative hypothesis: true location shift is not equal to 0\n"
            ]
          },
          "metadata": {}
        }
      ]
    },
    {
      "cell_type": "code",
      "source": [
        "# 2 ganancias\n",
        "wilcox.test(\n",
        "  c(41470000, 48480000),\n",
        "  c(37790000, 43660000),\n",
        "  paired = TRUE\n",
        ")\n"
      ],
      "metadata": {
        "id": "1pscqL9vLzYE",
        "colab": {
          "base_uri": "https://localhost:8080/",
          "height": 121
        },
        "outputId": "2920c86f-870e-4cd5-8f38-bfe774d43c78"
      },
      "execution_count": 59,
      "outputs": [
        {
          "output_type": "display_data",
          "data": {
            "text/plain": [
              "\n",
              "\tWilcoxon signed rank exact test\n",
              "\n",
              "data:  c(41470000, 48480000) and c(37790000, 43660000)\n",
              "V = 3, p-value = 0.5\n",
              "alternative hypothesis: true location shift is not equal to 0\n"
            ]
          },
          "metadata": {}
        }
      ]
    },
    {
      "cell_type": "code",
      "source": [
        "# 3 ganancias\n",
        "wilcox.test(\n",
        "  c(41470000, 48480000, 50610000),\n",
        "  c(37790000, 43660000, 47840000),\n",
        "  paired = TRUE\n",
        ")"
      ],
      "metadata": {
        "id": "p3f_mtKwhSHA",
        "colab": {
          "base_uri": "https://localhost:8080/",
          "height": 121
        },
        "outputId": "b922c1c7-b51c-4fb7-8956-d926eaea39e6"
      },
      "execution_count": 60,
      "outputs": [
        {
          "output_type": "display_data",
          "data": {
            "text/plain": [
              "\n",
              "\tWilcoxon signed rank exact test\n",
              "\n",
              "data:  c(41470000, 48480000, 50610000) and c(37790000, 43660000, 47840000)\n",
              "V = 6, p-value = 0.25\n",
              "alternative hypothesis: true location shift is not equal to 0\n"
            ]
          },
          "metadata": {}
        }
      ]
    },
    {
      "cell_type": "code",
      "source": [
        "# 4 ganancias\n",
        "wilcox.test(\n",
        "  c(41470000, 48480000, 50610000, 45580000),\n",
        "  c(37790000, 43660000, 47840000, 44490000),\n",
        "  paired = TRUE\n",
        ")\n"
      ],
      "metadata": {
        "id": "-ijX69r9hT6Z",
        "colab": {
          "base_uri": "https://localhost:8080/",
          "height": 121
        },
        "outputId": "582d1433-0a3f-4f0b-8359-535a724da8eb"
      },
      "execution_count": 61,
      "outputs": [
        {
          "output_type": "display_data",
          "data": {
            "text/plain": [
              "\n",
              "\tWilcoxon signed rank exact test\n",
              "\n",
              "data:  c(41470000, 48480000, 50610000, 45580000) and c(37790000, 43660000, 47840000, 44490000)\n",
              "V = 10, p-value = 0.125\n",
              "alternative hypothesis: true location shift is not equal to 0\n"
            ]
          },
          "metadata": {}
        }
      ]
    },
    {
      "cell_type": "code",
      "source": [
        "# 5 ganancias\n",
        "wilcox.test(\n",
        "  c(41470000, 48480000, 50610000, 45580000, 52780000),\n",
        "  c(37790000, 43660000, 47840000, 44490000, 46750000),\n",
        "  paired = TRUE\n",
        ")"
      ],
      "metadata": {
        "id": "X9J_CHGehVfr",
        "colab": {
          "base_uri": "https://localhost:8080/",
          "height": 121
        },
        "outputId": "db77e0d5-45ec-4161-fb08-40a0324f70ea"
      },
      "execution_count": 62,
      "outputs": [
        {
          "output_type": "display_data",
          "data": {
            "text/plain": [
              "\n",
              "\tWilcoxon signed rank exact test\n",
              "\n",
              "data:  c(41470000, 48480000, 50610000, 45580000, 52780000) and c(37790000, 43660000, 47840000, 44490000, 46750000)\n",
              "V = 15, p-value = 0.0625\n",
              "alternative hypothesis: true location shift is not equal to 0\n"
            ]
          },
          "metadata": {}
        }
      ]
    },
    {
      "cell_type": "code",
      "source": [
        "# 6 ganancias\n",
        "wilcox.test(\n",
        "  c(41470000, 48480000, 50610000, 45580000, 52780000, 49970000),\n",
        "  c(37790000, 43660000, 47840000, 44490000, 46750000, 44300000),\n",
        "  paired = TRUE\n",
        ")"
      ],
      "metadata": {
        "id": "H3CNNonOhXp0",
        "colab": {
          "base_uri": "https://localhost:8080/",
          "height": 121
        },
        "outputId": "de6b1c87-2658-4715-807a-9c836e13cd7f"
      },
      "execution_count": 63,
      "outputs": [
        {
          "output_type": "display_data",
          "data": {
            "text/plain": [
              "\n",
              "\tWilcoxon signed rank exact test\n",
              "\n",
              "data:  c(41470000, 48480000, 50610000, 45580000, 52780000, 49970000) and c(37790000, 43660000, 47840000, 44490000, 46750000, 44300000)\n",
              "V = 21, p-value = 0.03125\n",
              "alternative hypothesis: true location shift is not equal to 0\n"
            ]
          },
          "metadata": {}
        }
      ]
    },
    {
      "cell_type": "code",
      "source": [
        "# Finalmente el p-value es  0.03125  < 0.05\n",
        "# hicieron falta  SEIS semillas, seis ganancias, para\n",
        "#   afirmar que el modelo 1 es superior al modelo 2\n",
        "\n",
        "# 7 ganancias\n",
        "wilcox.test(\n",
        "  c(41470000, 48480000, 50610000, 45580000, 52780000, 49970000, 52810000),\n",
        "  c(37790000, 43660000, 47840000, 44490000, 46750000, 44300000, 42840000),\n",
        "  paired = TRUE\n",
        ")\n"
      ],
      "metadata": {
        "id": "NTW8kwY8hamz",
        "colab": {
          "base_uri": "https://localhost:8080/",
          "height": 121
        },
        "outputId": "a8845db9-7b0e-42b2-f693-e354318491ba"
      },
      "execution_count": 64,
      "outputs": [
        {
          "output_type": "display_data",
          "data": {
            "text/plain": [
              "\n",
              "\tWilcoxon signed rank exact test\n",
              "\n",
              "data:  c(41470000, 48480000, 50610000, 45580000, 52780000, 49970000, 52810000) and c(37790000, 43660000, 47840000, 44490000, 46750000, 44300000, 42840000)\n",
              "V = 28, p-value = 0.01563\n",
              "alternative hypothesis: true location shift is not equal to 0\n"
            ]
          },
          "metadata": {}
        }
      ]
    },
    {
      "cell_type": "code",
      "source": [
        "# 8 ganancias\n",
        "wilcox.test(\n",
        "  c(41470000, 48480000, 50610000, 45580000, 52780000, 49970000, 52810000, 43060000),\n",
        "  c(37790000, 43660000, 47840000, 44490000, 46750000, 44300000, 42840000, 37300000),\n",
        "  paired = TRUE\n",
        ")\n"
      ],
      "metadata": {
        "id": "Xks918w8hcgC",
        "colab": {
          "base_uri": "https://localhost:8080/",
          "height": 139
        },
        "outputId": "d6e48e07-0bb4-41aa-d55e-789a6e10e15c"
      },
      "execution_count": 65,
      "outputs": [
        {
          "output_type": "display_data",
          "data": {
            "text/plain": [
              "\n",
              "\tWilcoxon signed rank exact test\n",
              "\n",
              "data:  c(41470000, 48480000, 50610000, 45580000, 52780000, 49970000, 52810000, 43060000) and c(37790000, 43660000, 47840000, 44490000, 46750000, 44300000, 42840000, 37300000)\n",
              "V = 36, p-value = 0.007813\n",
              "alternative hypothesis: true location shift is not equal to 0\n"
            ]
          },
          "metadata": {}
        }
      ]
    },
    {
      "cell_type": "code",
      "source": [
        "# 9 ganancias\n",
        "wilcox.test(\n",
        "  c(41470000, 48480000, 50610000, 45580000, 52780000, 49970000, 52810000, 43060000, 49660000),\n",
        "  c(37790000, 43660000, 47840000, 44490000, 46750000, 44300000, 42840000, 37300000, 43730000),\n",
        "  paired = TRUE\n",
        ")"
      ],
      "metadata": {
        "id": "5x8L1PMGhdJR",
        "colab": {
          "base_uri": "https://localhost:8080/",
          "height": 139
        },
        "outputId": "314b1999-1c33-45d6-a462-dba54186f264"
      },
      "execution_count": 66,
      "outputs": [
        {
          "output_type": "display_data",
          "data": {
            "text/plain": [
              "\n",
              "\tWilcoxon signed rank exact test\n",
              "\n",
              "data:  c(41470000, 48480000, 50610000, 45580000, 52780000, 49970000, 52810000, 43060000, 49660000) and c(37790000, 43660000, 47840000, 44490000, 46750000, 44300000, 42840000, 37300000, 43730000)\n",
              "V = 45, p-value = 0.003906\n",
              "alternative hypothesis: true location shift is not equal to 0\n"
            ]
          },
          "metadata": {}
        }
      ]
    },
    {
      "cell_type": "markdown",
      "source": [
        "\n",
        "\n",
        "---\n",
        "\n"
      ],
      "metadata": {
        "id": "Qjay2WBIkhNm"
      }
    },
    {
      "cell_type": "markdown",
      "source": [
        "# 9 Comparando automaticamente modelos con test de Wilcoxon\n",
        "## Clase 02  Experimento 9"
      ],
      "metadata": {
        "id": "g2aqxlCIk3fk"
      }
    },
    {
      "cell_type": "markdown",
      "source": [],
      "metadata": {
        "id": "FhCY4sH8k3fw"
      }
    },
    {
      "cell_type": "markdown",
      "source": [
        "## 9.1  Objetivos\n",
        "\n",
        "Proveer un script que permita comparar dos arboles de decisión con la librería rpart utilizando la menor cantidad de cómputo que permita el Test de Wilxcoxon"
      ],
      "metadata": {
        "id": "a_ZVBKBHk3fx"
      }
    },
    {
      "cell_type": "markdown",
      "source": [
        "## 9.2  Introduccion\n",
        "\n",
        "| Hiperparámetro | Arbol 1 | Arbol 2 |\n",
        "| --- | --- |  --- |\n",
        "| cp | -1 | -1 |\n",
        "|minsplit | 1050 | 650 |\n",
        "|minbucket | 550 | 300 |\n",
        "|maxdepth |67 | 6 |\n",
        "\n",
        "\n"
      ],
      "metadata": {
        "id": "qCd56L0Ik3fx"
      }
    },
    {
      "cell_type": "markdown",
      "source": [
        "## 9.3 Codigo comparacion automatica Wilcoxon"
      ],
      "metadata": {
        "id": "NBtQsG3vk3fx"
      }
    },
    {
      "cell_type": "markdown",
      "source": [
        "Esta parte se debe correr con el runtime en lenguaje **R** Ir al menu, Runtime -> Change Runtime Tipe -> Runtime type -> R"
      ],
      "metadata": {
        "id": "-ARzDPORlpG6"
      }
    },
    {
      "cell_type": "markdown",
      "source": [
        "limpio el ambiente de R"
      ],
      "metadata": {
        "id": "-Sy-sLMXlpHI"
      }
    },
    {
      "cell_type": "code",
      "source": [
        "# limpio la memoria\n",
        "rm(list=ls(all.names=TRUE)) # remove all objects\n",
        "gc(full=TRUE, verbose=FALSE) # garbage collection"
      ],
      "metadata": {
        "id": "ZpST7lcHlpHI",
        "colab": {
          "base_uri": "https://localhost:8080/",
          "height": 129
        },
        "outputId": "0315a103-e7de-4c9e-a11f-6545208caf58"
      },
      "execution_count": 67,
      "outputs": [
        {
          "output_type": "display_data",
          "data": {
            "text/html": [
              "<table class=\"dataframe\">\n",
              "<caption>A matrix: 2 × 6 of type dbl</caption>\n",
              "<thead>\n",
              "\t<tr><th></th><th scope=col>used</th><th scope=col>(Mb)</th><th scope=col>gc trigger</th><th scope=col>(Mb)</th><th scope=col>max used</th><th scope=col>(Mb)</th></tr>\n",
              "</thead>\n",
              "<tbody>\n",
              "\t<tr><th scope=row>Ncells</th><td>1465271</td><td>78.3</td><td> 2404932</td><td>128.5</td><td>  2404932</td><td>128.5</td></tr>\n",
              "\t<tr><th scope=row>Vcells</th><td>2737263</td><td>20.9</td><td>52010543</td><td>396.9</td><td>104048956</td><td>793.9</td></tr>\n",
              "</tbody>\n",
              "</table>\n"
            ],
            "text/markdown": "\nA matrix: 2 × 6 of type dbl\n\n| <!--/--> | used | (Mb) | gc trigger | (Mb) | max used | (Mb) |\n|---|---|---|---|---|---|---|\n| Ncells | 1465271 | 78.3 |  2404932 | 128.5 |   2404932 | 128.5 |\n| Vcells | 2737263 | 20.9 | 52010543 | 396.9 | 104048956 | 793.9 |\n\n",
            "text/latex": "A matrix: 2 × 6 of type dbl\n\\begin{tabular}{r|llllll}\n  & used & (Mb) & gc trigger & (Mb) & max used & (Mb)\\\\\n\\hline\n\tNcells & 1465271 & 78.3 &  2404932 & 128.5 &   2404932 & 128.5\\\\\n\tVcells & 2737263 & 20.9 & 52010543 & 396.9 & 104048956 & 793.9\\\\\n\\end{tabular}\n",
            "text/plain": [
              "       used    (Mb) gc trigger (Mb)  max used  (Mb) \n",
              "Ncells 1465271 78.3  2404932   128.5   2404932 128.5\n",
              "Vcells 2737263 20.9 52010543   396.9 104048956 793.9"
            ]
          },
          "metadata": {}
        }
      ]
    },
    {
      "cell_type": "markdown",
      "source": [
        "* Instalacion de la libreria  rpart.plot  para dibujar el arbol\n",
        "* invocacion de las librerias  **data.table** y  **rpart**"
      ],
      "metadata": {
        "id": "jHhAx3cvlpHJ"
      }
    },
    {
      "cell_type": "code",
      "source": [
        "# cargo las librerias que necesito\n",
        "require(\"data.table\")\n",
        "require(\"rpart\")\n",
        "require(\"parallel\")\n",
        "\n",
        "if (!require(\"primes\")) install.packages(\"primes\")\n",
        "require(\"primes\")\n",
        "\n",
        "require(\"ggplot2\")"
      ],
      "metadata": {
        "id": "cbPnXeeqlpHJ"
      },
      "execution_count": 68,
      "outputs": []
    },
    {
      "cell_type": "markdown",
      "source": [
        "###  Accion a Realizar\n",
        "PARAM$semilla_primigenia  debe reemplazarse por SU primer semilla"
      ],
      "metadata": {
        "id": "_GQk_NEUlpHK"
      }
    },
    {
      "cell_type": "code",
      "source": [
        "PARAM <- list()\n",
        "PARAM$semilla_primigenia <- 102191\n",
        "PARAM$qsemillas_tope <- 50\n",
        "PARAM$training_pct <- 70L     # entre 1 y 100\n"
      ],
      "metadata": {
        "id": "Do801PIHlpHK"
      },
      "execution_count": 69,
      "outputs": []
    },
    {
      "cell_type": "code",
      "source": [
        "# los dos arboles\n",
        "PARAM$rpart1 <- list (\n",
        "  \"cp\" = -1,\n",
        "  \"minsplit\" = 800,\n",
        "  \"minbucket\" = 400,\n",
        "  \"maxdepth\" = 7\n",
        ")\n",
        "\n",
        "\n",
        "PARAM$rpart2 <- list (\n",
        "  \"cp\" = -1,\n",
        "  \"minsplit\" = 650,\n",
        "  \"minbucket\" = 300,\n",
        "  \"maxdepth\" = 6\n",
        ")\n"
      ],
      "metadata": {
        "id": "KlC7gTc7lpHK"
      },
      "execution_count": 70,
      "outputs": []
    },
    {
      "cell_type": "code",
      "source": [
        "# particionar agrega una columna llamada fold a un dataset\n",
        "#  que consiste en una particion estratificada segun agrupa\n",
        "\n",
        "# particionar( data=dataset, division=c(70,30),\n",
        "#  agrupa=clase_ternaria, seed=semilla)   crea una particion 70, 30\n",
        "\n",
        "particionar <- function(\n",
        "    data, division, agrupa = \"\",\n",
        "    campo = \"fold\", start = 1, seed = NA) {\n",
        "  if (!is.na(seed)) set.seed(seed)\n",
        "\n",
        "  bloque <- unlist(mapply(function(x, y) {\n",
        "    rep(y, x)\n",
        "  }, division, seq(from = start, length.out = length(division))))\n",
        "\n",
        "  data[, (campo) := sample(rep(bloque, ceiling(.N / length(bloque))))[1:.N],\n",
        "    by = agrupa\n",
        "  ]\n",
        "}\n"
      ],
      "metadata": {
        "id": "I7hOkZrxlpHL"
      },
      "execution_count": 71,
      "outputs": []
    },
    {
      "cell_type": "code",
      "source": [
        "DosArbolesEstimarGanancia <- function(semilla, training_pct, param_rpart1, param_rpart2) {\n",
        "  # particiono estratificadamente el dataset\n",
        "  particionar(dataset,\n",
        "    division = c(training_pct, 100L -training_pct),\n",
        "    agrupa = \"clase_ternaria\",\n",
        "    seed = semilla # aqui se usa SU semilla\n",
        "  )\n",
        "\n",
        "  # genero el modelo\n",
        "  # predecir clase_ternaria a partir del resto\n",
        "  modelo1 <- rpart(\"clase_ternaria ~ .\",\n",
        "    data = dataset[fold == 1], # fold==1  es training,  el 70% de los datos\n",
        "    xval = 0,\n",
        "    control = param_rpart1\n",
        "  ) # aqui van los parametros del arbol\n",
        "\n",
        "  # aplico el modelo a los datos de testing\n",
        "  prediccion1 <- predict(modelo1, # el modelo que genere recien\n",
        "    dataset[fold == 2], # fold==2  es testing, el 30% de los datos\n",
        "    type = \"prob\"\n",
        "  ) # type= \"prob\"  es que devuelva la probabilidad\n",
        "\n",
        "\n",
        "  # calculo la ganancia en testing  qu es fold==2\n",
        "  ganancia_test1 <- dataset[\n",
        "    fold == 2,\n",
        "    sum(ifelse(prediccion1[, \"BAJA+2\"] > 0.025,\n",
        "      ifelse(clase_ternaria == \"BAJA+2\", 117000, -3000),\n",
        "      0\n",
        "    ))\n",
        "  ]\n",
        "\n",
        "  # escalo la ganancia como si fuera todo el dataset\n",
        "  ganancia_test_normalizada1 <- ganancia_test1 / (( 100 - training_pct ) / 100 )\n",
        "\n",
        "  modelo2 <- rpart(\"clase_ternaria ~ .\",\n",
        "    data = dataset[fold == 1], # fold==1  es training,  el 70% de los datos\n",
        "    xval = 0,\n",
        "    control = param_rpart2\n",
        "  ) # aqui van los parametros del arbol\n",
        "\n",
        "  # aplico el modelo a los datos de testing\n",
        "  prediccion2 <- predict(modelo2, # el modelo que genere recien\n",
        "    dataset[fold == 2], # fold==2  es testing, el 30% de los datos\n",
        "    type = \"prob\"\n",
        "  ) # type= \"prob\"  es que devuelva la probabilidad\n",
        "\n",
        "\n",
        "  # calculo la ganancia en testing  qu es fold==2\n",
        "  ganancia_test2 <- dataset[\n",
        "    fold == 2,\n",
        "    sum(ifelse(prediccion2[, \"BAJA+2\"] > 0.025,\n",
        "      ifelse(clase_ternaria == \"BAJA+2\", 117000, -3000),\n",
        "      0\n",
        "    ))\n",
        "  ]\n",
        "\n",
        "  # escalo la ganancia como si fuera todo el dataset\n",
        "  ganancia_test_normalizada2 <- ganancia_test2 / (( 100 - training_pct ) / 100 )\n",
        "\n",
        "  return(list(\n",
        "    \"semilla\" = semilla,\n",
        "    \"ganancia1\" = ganancia_test_normalizada1,\n",
        "    \"ganancia2\" = ganancia_test_normalizada2\n",
        "  ))\n",
        "}"
      ],
      "metadata": {
        "id": "vFpBSFBYlpHL"
      },
      "execution_count": 72,
      "outputs": []
    },
    {
      "cell_type": "code",
      "source": [
        "# 1  ->  el modelo 1 es mejor\n",
        "# 2  ->  el modelo 2 es mejor\n",
        "# 0  ->  No se pudo determinar con el tope de qsemillas_tope\n",
        "\n",
        "\n",
        "MejorArbol <- function( qsemillas_tope, training_pct, param_rpart1, param_rpart2) {\n",
        "\n",
        "  # genero numeros primos\n",
        "  primos <- generate_primes(min = 100000, max = 1000000)\n",
        "  set.seed(PARAM$semilla_primigenia) # inicializo\n",
        "  # me quedo con PARAM$qsemillas   semillas\n",
        "  semillas <- sample(primos, qsemillas_tope )\n",
        "\n",
        "  pvalue <- 1.0\n",
        "  isem <- 1\n",
        "  vgan1 <- c() # almaceno ganancias del modelo1\n",
        "  vgan2 <- c() # almaceno ganancias del modelo2\n",
        "\n",
        "  while( (isem <= qsemillas_tope)  & (pvalue > 0.05) ) {\n",
        "\n",
        "    res <- DosArbolesEstimarGanancia(\n",
        "       semillas[ isem ],\n",
        "       training_pct,\n",
        "       param_rpart1,\n",
        "       param_rpart2\n",
        "    )\n",
        "\n",
        "    vgan1 <- c( vgan1, res$ganancia1 )\n",
        "    vgan2 <- c( vgan2, res$ganancia2 )\n",
        "\n",
        "    wt <- wilcox.test( vgan1, vgan2, paired=TRUE )\n",
        "    pvalue <- wt$p.value\n",
        "\n",
        "    cat( isem, res$ganancia1, res$ganancia2, pvalue, \"\\n\" )\n",
        "    flush.console()\n",
        "    isem <- isem + 1\n",
        "  }\n",
        "\n",
        "  out <- 0\n",
        "\n",
        "  if( pvalue < 0.05 & mean(vgan1) > mean(vgan2)  )  out <- 1\n",
        "  if( pvalue < 0.05 & mean(vgan1) < mean(vgan2)  )  out <- 2\n",
        "\n",
        "\n",
        "  return( list( \"out\" = out,\n",
        "    \"qsemillas\" = length(vgan1),\n",
        "    \"m1\" = mean( vgan1 ),\n",
        "    \"m2\" = mean( vgan2 )\n",
        "   ) )\n",
        "}\n"
      ],
      "metadata": {
        "id": "Cp8RnA_NmE8g"
      },
      "execution_count": 73,
      "outputs": []
    },
    {
      "cell_type": "code",
      "source": [
        "# carpeta de trabajo\n",
        "setwd(\"/content/buckets/b1/exp\")\n",
        "experimento <- \"exp209\"\n",
        "dir.create(experimento, showWarnings=FALSE)\n",
        "setwd( paste0(\"/content/buckets/b1/exp/\", experimento ))"
      ],
      "metadata": {
        "id": "r1motpfOlpHM"
      },
      "execution_count": 74,
      "outputs": []
    },
    {
      "cell_type": "code",
      "source": [
        "# lectura del dataset\n",
        "dataset <- fread(\"/content/datasets/dataset_pequeno.csv\")\n",
        "\n",
        "# trabajo solo con los datos con clase, es decir 202107\n",
        "dataset <- dataset[clase_ternaria != \"\"]"
      ],
      "metadata": {
        "id": "hT0LaKWumTSu"
      },
      "execution_count": 75,
      "outputs": []
    },
    {
      "cell_type": "code",
      "source": [
        "Sys.time()\n",
        "\n",
        "comparacion <- MejorArbol(\n",
        "   PARAM$qsemillas_tope,\n",
        "   PARAM$training_pct,\n",
        "   PARAM$rpart1,\n",
        "   PARAM$rpart2\n",
        " )\n",
        "\n",
        "\n",
        "print( comparacion )\n",
        "\n",
        "Sys.time()"
      ],
      "metadata": {
        "id": "wsk0F77ambVW",
        "colab": {
          "base_uri": "https://localhost:8080/",
          "height": 34
        },
        "outputId": "dbd440bf-71ee-454c-f294-6861cfe025c2"
      },
      "execution_count": null,
      "outputs": [
        {
          "output_type": "display_data",
          "data": {
            "text/plain": [
              "[1] \"2025-10-14 13:43:51 UTC\""
            ]
          },
          "metadata": {}
        }
      ]
    },
    {
      "cell_type": "markdown",
      "source": [
        "### Acciones a realizar\n",
        "* Reportar la  los resultados en la planilla colaborativa hoja  **C2-Wilcox**\n"
      ],
      "metadata": {
        "id": "d2br1bgJlpHQ"
      }
    },
    {
      "cell_type": "markdown",
      "source": [
        "\n",
        "\n",
        "---\n",
        "\n"
      ],
      "metadata": {
        "id": "x7SebtV2lpHQ"
      }
    }
  ]
}