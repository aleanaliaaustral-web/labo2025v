{
  "nbformat": 4,
  "nbformat_minor": 0,
  "metadata": {
    "colab": {
      "provenance": [],
      "include_colab_link": true
    },
    "kernelspec": {
      "name": "ir",
      "display_name": "R"
    },
    "language_info": {
      "name": "R"
    }
  },
  "cells": [
    {
      "cell_type": "markdown",
      "metadata": {
        "id": "view-in-github",
        "colab_type": "text"
      },
      "source": [
        "<a href=\"https://colab.research.google.com/github/aleanaliaaustral-web/labo2025v/blob/main/src/rpart/290_TareaHogar_02_CLASE04.ipynb\" target=\"_parent\"><img src=\"https://colab.research.google.com/assets/colab-badge.svg\" alt=\"Open In Colab\"/></a>"
      ]
    },
    {
      "cell_type": "markdown",
      "source": [
        "# Tarea para el Hogar 02"
      ],
      "metadata": {
        "id": "F3r8aa3pBigj"
      }
    },
    {
      "cell_type": "markdown",
      "source": [
        "Esta Tarea para el Hogar 02 se entrega el final de la segunda clase\n",
        "<br> se espera de usted que intente avanzar con los desafios propuestos y que los traiga terminados para la Clase 03, ya que se analizarán los resultados"
      ],
      "metadata": {
        "id": "nBm4ktHUBmZt"
      }
    },
    {
      "cell_type": "markdown",
      "source": [
        "##  1. Ensembles de Modelos"
      ],
      "metadata": {
        "id": "TK-M04ElCESC"
      }
    },
    {
      "cell_type": "markdown",
      "source": [
        "Vea el siguiente video [BBC - The Code - The Wisdom of the Crowd](https://www.youtube.com/watch?v=iOucwX7Z1HU)    ( 5 min)\n"
      ],
      "metadata": {
        "id": "biPYxgobCOSS"
      }
    },
    {
      "cell_type": "markdown",
      "source": [
        "Lea los siguientes artículos\n",
        "\n",
        "\n",
        "*   [The Wisdom of Crowds (Vox Populi) by Francis Galton](https://www.all-about-psychology.com/the-wisdom-of-crowds.html)  (10 min)\n",
        "*   [A Gentle Introduction to Ensemble Learning](https://machinelearningmastery.com/what-is-ensemble-learning/)  (10 min)\n",
        "\n"
      ],
      "metadata": {
        "id": "FBszBRyNCcjp"
      }
    },
    {
      "cell_type": "markdown",
      "source": [
        "\n",
        "\n",
        "---\n",
        "\n"
      ],
      "metadata": {
        "id": "x7SebtV2lpHQ"
      }
    },
    {
      "cell_type": "markdown",
      "source": [
        "##  2.  Zero2Hero   primera parte\n",
        "Se han lanzado los primeros fascículos coleccionables llamados \"from Zero to Hero\" que muy detalladamente, paso a paso enseñan todo lo necesario de R para entender los scripts oficiales de la asignatura.\n",
        "Están en el repositorio oficial de la asignatura, carpeta  **src/zero2hero**"
      ],
      "metadata": {
        "id": "NQcY8u2MDSLT"
      }
    },
    {
      "cell_type": "markdown",
      "source": [
        "\n",
        "\n",
        "---\n",
        "\n"
      ],
      "metadata": {
        "id": "GcO0OSiIEAGy"
      }
    },
    {
      "cell_type": "markdown",
      "source": [
        "## 3.  Grid Search"
      ],
      "metadata": {
        "id": "6MStcyn0EBdT"
      }
    },
    {
      "cell_type": "markdown",
      "source": [
        "Busque en internet el precido significado de los hiperparámetros de la librería **rpart**  que está implementando el algoritmo **CART**  Classification and Regression Trees  propuesto en el año 1984 por Leo Brieman:\n",
        "\n",
        "*   cp\n",
        "*   maxdepth\n",
        "*   minsplit\n",
        "*   minbucket\n",
        "\n",
        "Entienda que valores es razonable tome cada hiperparámetro,  en particular profundice en el hiperparámetro  **cp**  y la posibilidad que tome valores negativos.  Es válido consultar a su amigo de *capacidades especiales*  ChatGPT\n"
      ],
      "metadata": {
        "id": "gM8RKXDgEIY0"
      }
    },
    {
      "cell_type": "markdown",
      "source": [
        "En las siguientes celdas a un notebook incompleto, un esqueleto de codigo brindado a modo de facilitarle la tarea de codeo y permitir que su valiosa cognición se concentre temas conceptuales de Ciencia de Datos\n",
        "\n",
        "Modifiquelo agregando loops para que recorra TODOS los hiperparámetros de rpart  < cp, maxdepth, minsplit, minbucket >, y luego póngalo a correr. Recuerde cambiar por SU semilla\n",
        "Tenga muy presente la granularidad que eligirá para cada hiperparámetro."
      ],
      "metadata": {
        "id": "_k7eT3HIFy9y"
      }
    },
    {
      "cell_type": "markdown",
      "source": [
        "### Seteo del ambiente en Google Colab"
      ],
      "metadata": {
        "id": "kmLygy1TYPfg"
      }
    },
    {
      "cell_type": "markdown",
      "source": [
        "Esta parte se debe correr con el runtime en Python3\n",
        "<br>Ir al menu, Runtime -> Change Runtime Tipe -> Runtime type ->  **Python 3**"
      ],
      "metadata": {
        "id": "OikOm5K2YU3X"
      }
    },
    {
      "cell_type": "markdown",
      "source": [
        "Conectar la virtual machine donde esta corriendo Google Colab con el  Google Drive, para poder tener persistencia de archivos"
      ],
      "metadata": {
        "id": "4fmV5LyZdFyI"
      }
    },
    {
      "cell_type": "code",
      "source": [
        "# primero establecer el Runtime de Python 3\n",
        "from google.colab import drive\n",
        "drive.mount('/content/.drive')"
      ],
      "metadata": {
        "id": "ilEZ-bE2VybW",
        "colab": {
          "base_uri": "https://localhost:8080/"
        },
        "outputId": "1630bb0e-6744-4a4e-a737-e433c89a581d"
      },
      "execution_count": null,
      "outputs": [
        {
          "output_type": "stream",
          "name": "stdout",
          "text": [
            "Mounted at /content/.drive\n"
          ]
        }
      ]
    },
    {
      "cell_type": "markdown",
      "source": [
        "Para correr la siguiente celda es fundamental en Arranque en Frio haber copiado el archivo kaggle.json al Google Drive, en la carpeta indicada en el instructivo\n",
        "\n",
        "<br>los siguientes comando estan en shell script de Linux\n",
        "*   Crear las carpetas en el Google Drive\n",
        "*   \"instalar\" el archivo kaggle.json desde el Google Drive a la virtual machine para que pueda ser utilizado por la libreria  kaggle de Python\n",
        "*   Bajar el  **dataset_pequeno**  al  Google Drive  y tambien al disco local de la virtual machine que esta corriendo Google Colab\n",
        "\n"
      ],
      "metadata": {
        "id": "ilaKtqWldeWg"
      }
    },
    {
      "cell_type": "code",
      "source": [
        "%%shell\n",
        "\n",
        "mkdir -p \"/content/.drive/My Drive/labo1\"\n",
        "mkdir -p \"/content/buckets\"\n",
        "ln -s \"/content/.drive/My Drive/labo1\" /content/buckets/b1\n",
        "\n",
        "mkdir -p ~/.kaggle\n",
        "cp /content/buckets/b1/kaggle/kaggle.json  ~/.kaggle\n",
        "chmod 600 ~/.kaggle/kaggle.json\n",
        "\n",
        "\n",
        "mkdir -p /content/buckets/b1/exp\n",
        "mkdir -p /content/buckets/b1/datasets\n",
        "mkdir -p /content/datasets\n",
        "\n",
        "\n",
        "\n",
        "archivo_origen=\"https://storage.googleapis.com/open-courses/austral2025-af91/dataset_pequeno.csv\"\n",
        "archivo_destino=\"/content/datasets/dataset_pequeno.csv\"\n",
        "archivo_destino_bucket=\"/content/buckets/b1/datasets/dataset_pequeno.csv\"\n",
        "\n",
        "if ! test -f $archivo_destino_bucket; then\n",
        "  wget  $archivo_origen  -O $archivo_destino_bucket\n",
        "fi\n",
        "\n",
        "\n",
        "if ! test -f $archivo_destino; then\n",
        "  cp  $archivo_destino_bucket  $archivo_destino\n",
        "fi\n",
        "\n"
      ],
      "metadata": {
        "id": "W8dQFI5QYCFa",
        "colab": {
          "base_uri": "https://localhost:8080/"
        },
        "outputId": "44da3097-5de8-4219-8007-5b47f576bee8"
      },
      "execution_count": null,
      "outputs": [
        {
          "output_type": "execute_result",
          "data": {
            "text/plain": []
          },
          "metadata": {},
          "execution_count": 2
        }
      ]
    },
    {
      "cell_type": "markdown",
      "source": [
        "limpio el ambiente de R"
      ],
      "metadata": {
        "id": "SE94XRhWsxkX"
      }
    },
    {
      "cell_type": "code",
      "source": [
        "# limpio la memoria\n",
        "rm(list=ls(all.names=TRUE)) # remove all objects\n",
        "gc(full=TRUE, verbose=FALSE) # garbage collection"
      ],
      "metadata": {
        "id": "oZG_4br6szlT",
        "colab": {
          "base_uri": "https://localhost:8080/",
          "height": 129
        },
        "outputId": "0708ab42-0ada-402b-f673-4e101963b3ff"
      },
      "execution_count": null,
      "outputs": [
        {
          "output_type": "display_data",
          "data": {
            "text/html": [
              "<table class=\"dataframe\">\n",
              "<caption>A matrix: 2 × 6 of type dbl</caption>\n",
              "<thead>\n",
              "\t<tr><th></th><th scope=col>used</th><th scope=col>(Mb)</th><th scope=col>gc trigger</th><th scope=col>(Mb)</th><th scope=col>max used</th><th scope=col>(Mb)</th></tr>\n",
              "</thead>\n",
              "<tbody>\n",
              "\t<tr><th scope=row>Ncells</th><td> 657248</td><td>35.2</td><td>1454465</td><td>77.7</td><td>1367414</td><td>73.1</td></tr>\n",
              "\t<tr><th scope=row>Vcells</th><td>1220277</td><td> 9.4</td><td>8388608</td><td>64.0</td><td>1975127</td><td>15.1</td></tr>\n",
              "</tbody>\n",
              "</table>\n"
            ],
            "text/markdown": "\nA matrix: 2 × 6 of type dbl\n\n| <!--/--> | used | (Mb) | gc trigger | (Mb) | max used | (Mb) |\n|---|---|---|---|---|---|---|\n| Ncells |  657248 | 35.2 | 1454465 | 77.7 | 1367414 | 73.1 |\n| Vcells | 1220277 |  9.4 | 8388608 | 64.0 | 1975127 | 15.1 |\n\n",
            "text/latex": "A matrix: 2 × 6 of type dbl\n\\begin{tabular}{r|llllll}\n  & used & (Mb) & gc trigger & (Mb) & max used & (Mb)\\\\\n\\hline\n\tNcells &  657248 & 35.2 & 1454465 & 77.7 & 1367414 & 73.1\\\\\n\tVcells & 1220277 &  9.4 & 8388608 & 64.0 & 1975127 & 15.1\\\\\n\\end{tabular}\n",
            "text/plain": [
              "       used    (Mb) gc trigger (Mb) max used (Mb)\n",
              "Ncells  657248 35.2 1454465    77.7 1367414  73.1\n",
              "Vcells 1220277  9.4 8388608    64.0 1975127  15.1"
            ]
          },
          "metadata": {}
        }
      ]
    },
    {
      "cell_type": "code",
      "source": [
        "# cargo las librerias que necesito\n",
        "require(\"data.table\")\n",
        "require(\"rpart\")\n",
        "require(\"parallel\")\n",
        "if (!require(\"primes\")) install.packages(\"primes\")\n",
        "require(\"primes\")"
      ],
      "metadata": {
        "id": "JO-12d7YHkWy",
        "colab": {
          "base_uri": "https://localhost:8080/"
        },
        "outputId": "fc18a2e3-8142-44b2-e80c-7c4c2cac710b"
      },
      "execution_count": null,
      "outputs": [
        {
          "output_type": "stream",
          "name": "stderr",
          "text": [
            "Loading required package: data.table\n",
            "\n",
            "Loading required package: rpart\n",
            "\n",
            "Loading required package: parallel\n",
            "\n",
            "Loading required package: primes\n",
            "\n",
            "Warning message in library(package, lib.loc = lib.loc, character.only = TRUE, logical.return = TRUE, :\n",
            "“there is no package called ‘primes’”\n",
            "Installing package into ‘/usr/local/lib/R/site-library’\n",
            "(as ‘lib’ is unspecified)\n",
            "\n",
            "Loading required package: primes\n",
            "\n"
          ]
        }
      ]
    },
    {
      "cell_type": "markdown",
      "source": [
        "Aqui debe poner SU semiila primigenia"
      ],
      "metadata": {
        "id": "0MclPEJ6Q8Bp"
      }
    },
    {
      "cell_type": "code",
      "source": [
        "PARAM <- list()\n",
        "# reemplazar por su primer semilla\n",
        "PARAM$semilla_primigenia <- 206262\n",
        "PARAM$qsemillas <- 1\n",
        "\n",
        "PARAM$training_pct <- 70L  # entre  1L y 99L\n",
        "\n",
        "# elegir SU dataset comentando/ descomentando\n",
        "PARAM$dataset_nom <- \"~/datasets/dataset_pequeno.csv\""
      ],
      "metadata": {
        "id": "Vt5fC6bWHu5r"
      },
      "execution_count": null,
      "outputs": []
    },
    {
      "cell_type": "code",
      "source": [
        "# particionar agrega una columna llamada fold a un dataset\n",
        "#  que consiste en una particion estratificada segun agrupa\n",
        "# particionar( data=dataset, division=c(70,30), agrupa=clase_ternaria, seed=semilla)\n",
        "#   crea una particion 70, 30\n",
        "\n",
        "particionar <- function(data, division, agrupa = \"\", campo = \"fold\", start = 1, seed = NA) {\n",
        "  if (!is.na(seed)) set.seed(seed)\n",
        "\n",
        "  bloque <- unlist(mapply(function(x, y) {\n",
        "    rep(y, x)\n",
        "  }, division, seq(from = start, length.out = length(division))))\n",
        "\n",
        "  data[, (campo) := sample(rep(bloque, ceiling(.N / length(bloque))))[1:.N],\n",
        "    by = agrupa\n",
        "  ]\n",
        "}\n"
      ],
      "metadata": {
        "id": "Z1dchsrWH4MD"
      },
      "execution_count": null,
      "outputs": []
    },
    {
      "cell_type": "code",
      "source": [
        "ArbolEstimarGanancia <- function(semilla, training_pct, param_basicos) {\n",
        "  # particiono estratificadamente el dataset\n",
        "  particionar(dataset,\n",
        "    division = c(training_pct, 100L -training_pct),\n",
        "    agrupa = \"clase_ternaria\",\n",
        "    seed = semilla # aqui se usa SU semilla\n",
        "  )\n",
        "\n",
        "  # genero el modelo\n",
        "  # predecir clase_ternaria a partir del resto\n",
        "  modelo <- rpart(\"clase_ternaria ~ .\",\n",
        "    data = dataset[fold == 1], # fold==1  es training,  el 70% de los datos\n",
        "    xval = 0,\n",
        "    control = param_basicos\n",
        "  ) # aqui van los parametros del arbol\n",
        "\n",
        "  # aplico el modelo a los datos de testing\n",
        "  prediccion <- predict(modelo, # el modelo que genere recien\n",
        "    dataset[fold == 2], # fold==2  es testing, el 30% de los datos\n",
        "    type = \"prob\"\n",
        "  ) # type= \"prob\"  es que devuelva la probabilidad\n",
        "\n",
        "  # prediccion es una matriz con TRES columnas,\n",
        "  #  llamadas \"BAJA+1\", \"BAJA+2\"  y \"CONTINUA\"\n",
        "  # cada columna es el vector de probabilidades\n",
        "\n",
        "\n",
        "  # calculo la ganancia en testing  qu es fold==2\n",
        "  ganancia_test <- dataset[\n",
        "    fold == 2,\n",
        "    sum(ifelse(prediccion[, \"BAJA+2\"] > 0.025,\n",
        "      ifelse(clase_ternaria == \"BAJA+2\", 117000, -3000),\n",
        "      0\n",
        "    ))\n",
        "  ]\n",
        "\n",
        "  # escalo la ganancia como si fuera todo el dataset\n",
        "  ganancia_test_normalizada <- ganancia_test / (( 100 - PARAM$training_pct ) / 100 )\n",
        "\n",
        "  return(\n",
        "    c( list(\"semilla\" = semilla),\n",
        "      param_basicos,\n",
        "      list( \"ganancia_test\" = ganancia_test_normalizada )\n",
        "     )\n",
        "  )\n",
        "}\n"
      ],
      "metadata": {
        "id": "xsHwS1CzIA70"
      },
      "execution_count": null,
      "outputs": []
    },
    {
      "cell_type": "code",
      "source": [
        "ArbolesMontecarlo <- function(semillas, param_basicos) {\n",
        "\n",
        "  # la funcion mcmapply  llama a la funcion ArbolEstimarGanancia\n",
        "  #  tantas veces como valores tenga el vector  PARAM$semillas\n",
        "  salida <- mcmapply(ArbolEstimarGanancia,\n",
        "    semillas, # paso el vector de semillas\n",
        "    MoreArgs = list(PARAM$training_pct, param_basicos), # aqui paso el segundo parametro\n",
        "    SIMPLIFY = FALSE,\n",
        "    mc.cores = detectCores()\n",
        "  )\n",
        "\n",
        "  return(salida)\n",
        "}\n"
      ],
      "metadata": {
        "id": "BvBVOuhqIEjD"
      },
      "execution_count": null,
      "outputs": []
    },
    {
      "cell_type": "code",
      "source": [
        "# carpeta de trabajo\n",
        "# por favor cambiar numero de experimento si se cambia el loop principal\n",
        "setwd(\"/content/buckets/b1/exp\")\n",
        "experimento <- \"HT2900\"\n",
        "dir.create(experimento, showWarnings=FALSE)\n",
        "setwd( paste0(\"/content/buckets/b1/exp/\", experimento ))"
      ],
      "metadata": {
        "id": "L-DOGHOjIG7G"
      },
      "execution_count": null,
      "outputs": []
    },
    {
      "cell_type": "code",
      "source": [
        "# lectura del dataset\n",
        "dataset <- fread(\"/content/datasets/dataset_pequeno.csv\")\n",
        "\n",
        "# trabajo solo con los datos con clase, es decir 202107\n",
        "dataset <- dataset[clase_ternaria != \"\"]"
      ],
      "metadata": {
        "id": "NM-mrLWcIPo6"
      },
      "execution_count": null,
      "outputs": []
    },
    {
      "cell_type": "code",
      "source": [
        "\n",
        "# genero numeros primos\n",
        "primos <- generate_primes(min = 100000, max = 1000000)\n",
        "set.seed(PARAM$semilla_primigenia) # inicializo\n",
        "# me quedo con PARAM$qsemillas   semillas\n",
        "PARAM$semillas <- sample(primos, PARAM$qsemillas )\n"
      ],
      "metadata": {
        "id": "tSlY0EcgIWdi"
      },
      "execution_count": null,
      "outputs": []
    },
    {
      "cell_type": "code",
      "source": [
        "# genero la data.table donde van los resultados detallados del Grid Search\n",
        "# un registro para cada combinacion de < semilla, parametros >\n",
        "\n",
        "if(file.exists(\"gridsearch_detalle.txt\")){\n",
        "  tb_grid_search_detalle <- fread(\"gridsearch_detalle.txt\")\n",
        "}else{\n",
        "  tb_grid_search_detalle <- data.table(\n",
        "    semilla = integer(),\n",
        "    cp = numeric(),\n",
        "    maxdepth = integer(),\n",
        "   minsplit = integer(),\n",
        "    minbucket = integer(),\n",
        "    ganancia_test = numeric()\n",
        "  )\n",
        "}\n",
        "\n",
        "nrow( tb_grid_search_detalle )"
      ],
      "metadata": {
        "id": "xxCAwIKyIaTl",
        "colab": {
          "base_uri": "https://localhost:8080/",
          "height": 34
        },
        "outputId": "33619770-eea3-4dad-cdda-f4986ff45bb0"
      },
      "execution_count": null,
      "outputs": [
        {
          "output_type": "display_data",
          "data": {
            "text/html": [
              "108"
            ],
            "text/markdown": "108",
            "text/latex": "108",
            "text/plain": [
              "[1] 108"
            ]
          },
          "metadata": {}
        }
      ]
    },
    {
      "cell_type": "markdown",
      "source": [
        "Esta es la parte del código que usted debe expandir a TODOS los hiperparámetros de rpart,\n",
        "<br>ya que actualmente apenas recorre  maxdepth y  minsplit  dejando fijos  cp=-0.5  y minbucket=5"
      ],
      "metadata": {
        "id": "eAuGBNL8IkOD"
      }
    },
    {
      "cell_type": "code",
      "source": [
        "# ===== PASO 1: REINICIAR =====\n",
        "tb_grid_search_detalle <- data.table()\n",
        "iter <- 0\n",
        "\n",
        "cat(\"🔄 Tabla reiniciada. Filas:\", nrow(tb_grid_search_detalle), \"\\n\\n\")\n",
        "\n",
        "# ===== PASO 2: EJECUTAR GRID SEARCH =====\n",
        "for (vcp in c(-0.4, -0.3, -0.2, -0.01)) {\n",
        "  for (vmax_depth in c(6, 10, 14)) {\n",
        "    for (vmin_split in c(1000, 400, 100)) {\n",
        "      for (vmin_bucket in c(1, 10, 50)) {\n",
        "\n",
        "        iter <- iter + 1\n",
        "        cat( iter, \" \" )\n",
        "        flush.console()\n",
        "        if( iter*PARAM$qsemillas < nrow(tb_grid_search_detalle)+1 ) next\n",
        "\n",
        "        param_basicos <- list(\n",
        "          \"cp\" = vcp,\n",
        "          \"maxdepth\" = vmax_depth,\n",
        "          \"minsplit\" = vmin_split,\n",
        "          \"minbucket\" = vmin_bucket\n",
        "        )\n",
        "\n",
        "        ganancias <- ArbolesMontecarlo(PARAM$semillas, param_basicos)\n",
        "\n",
        "        tb_grid_search_detalle <- rbindlist(\n",
        "          list( tb_grid_search_detalle,\n",
        "                rbindlist(ganancias) )\n",
        "        )\n",
        "\n",
        "      }\n",
        "    }\n",
        "  }\n",
        "\n",
        "  fwrite( tb_grid_search_detalle,\n",
        "          file = \"gridsearch_detalle_ronda2.txt\",  # ← NUEVO NOMBRE\n",
        "          sep = \"\\t\" )\n",
        "}\n",
        "\n",
        "cat(\"\\n\\n🎉 ¡GRID SEARCH COMPLETADO! 🎉\\n\")\n",
        "cat(\"Total de iteraciones:\", iter, \"\\n\")\n",
        "cat(\"Resultados guardados en: gridsearch_detalle_ronda2.txt\\n\")"
      ],
      "metadata": {
        "id": "ipLHm3STIfmb",
        "colab": {
          "base_uri": "https://localhost:8080/"
        },
        "outputId": "ffd01cc9-7d13-4894-88b7-ed9430796dcf"
      },
      "execution_count": null,
      "outputs": [
        {
          "output_type": "stream",
          "name": "stdout",
          "text": [
            "🔄 Tabla reiniciada. Filas: 0 \n",
            "\n",
            "1  2  3  4  5  6  7  8  9  10  11  12  13  14  15  16  17  18  19  20  21  22  23  24  25  26  27  28  29  30  31  32  33  34  35  36  37  38  39  40  41  42  43  44  45  46  47  48  49  50  51  52  53  54  55  56  57  58  59  60  61  62  63  64  65  66  67  68  69  70  71  72  73  74  75  76  77  78  79  80  81  82  83  84  85  86  87  88  89  90  91  92  93  94  95  96  97  98  99  100  101  102  103  104  105  106  107  108  \n",
            "\n",
            "🎉 ¡GRID SEARCH COMPLETADO! 🎉\n",
            "Total de iteraciones: 108 \n",
            "Resultados guardados en: gridsearch_detalle_ronda2.txt\n"
          ]
        }
      ]
    },
    {
      "cell_type": "code",
      "source": [
        "fwrite( tb_grid_search_detalle,\n",
        "   file = \"gridsearch_detalle_ronda2.txt\",\n",
        "   sep = \"\\t\"\n",
        ")"
      ],
      "metadata": {
        "id": "WZaSqYBxiDFu"
      },
      "execution_count": null,
      "outputs": []
    },
    {
      "cell_type": "code",
      "source": [
        "# cantidad de registros de la tabla\n",
        "nrow(tb_grid_search_detalle)"
      ],
      "metadata": {
        "id": "STp0duM-RYVJ",
        "colab": {
          "base_uri": "https://localhost:8080/",
          "height": 34
        },
        "outputId": "b7380800-b11e-4f1b-d7a4-2a601948747c"
      },
      "execution_count": null,
      "outputs": [
        {
          "output_type": "display_data",
          "data": {
            "text/html": [
              "108"
            ],
            "text/markdown": "108",
            "text/latex": "108",
            "text/plain": [
              "[1] 108"
            ]
          },
          "metadata": {}
        }
      ]
    },
    {
      "cell_type": "code",
      "source": [
        "# muestro la tabla\n",
        "tb_grid_search_detalle"
      ],
      "metadata": {
        "id": "k7fhk_H0iNez",
        "colab": {
          "base_uri": "https://localhost:8080/",
          "height": 1000
        },
        "outputId": "7d2a0ec6-2b56-4d02-e350-ecb7369513f3"
      },
      "execution_count": null,
      "outputs": [
        {
          "output_type": "display_data",
          "data": {
            "text/html": [
              "<table class=\"dataframe\">\n",
              "<caption>A data.table: 108 × 6</caption>\n",
              "<thead>\n",
              "\t<tr><th scope=col>semilla</th><th scope=col>cp</th><th scope=col>maxdepth</th><th scope=col>minsplit</th><th scope=col>minbucket</th><th scope=col>ganancia_test</th></tr>\n",
              "\t<tr><th scope=col>&lt;int&gt;</th><th scope=col>&lt;dbl&gt;</th><th scope=col>&lt;dbl&gt;</th><th scope=col>&lt;dbl&gt;</th><th scope=col>&lt;dbl&gt;</th><th scope=col>&lt;dbl&gt;</th></tr>\n",
              "</thead>\n",
              "<tbody>\n",
              "\t<tr><td>338567</td><td>-0.4</td><td> 6</td><td>1000</td><td> 1</td><td>44740000</td></tr>\n",
              "\t<tr><td>338567</td><td>-0.4</td><td> 6</td><td>1000</td><td>10</td><td>47740000</td></tr>\n",
              "\t<tr><td>338567</td><td>-0.4</td><td> 6</td><td>1000</td><td>50</td><td>49010000</td></tr>\n",
              "\t<tr><td>338567</td><td>-0.4</td><td> 6</td><td> 400</td><td> 1</td><td>45060000</td></tr>\n",
              "\t<tr><td>338567</td><td>-0.4</td><td> 6</td><td> 400</td><td>10</td><td>47120000</td></tr>\n",
              "\t<tr><td>338567</td><td>-0.4</td><td> 6</td><td> 400</td><td>50</td><td>48580000</td></tr>\n",
              "\t<tr><td>338567</td><td>-0.4</td><td> 6</td><td> 100</td><td> 1</td><td>45270000</td></tr>\n",
              "\t<tr><td>338567</td><td>-0.4</td><td> 6</td><td> 100</td><td>10</td><td>47360000</td></tr>\n",
              "\t<tr><td>338567</td><td>-0.4</td><td> 6</td><td> 100</td><td>50</td><td>48440000</td></tr>\n",
              "\t<tr><td>338567</td><td>-0.4</td><td>10</td><td>1000</td><td> 1</td><td>49770000</td></tr>\n",
              "\t<tr><td>338567</td><td>-0.4</td><td>10</td><td>1000</td><td>10</td><td>51460000</td></tr>\n",
              "\t<tr><td>338567</td><td>-0.4</td><td>10</td><td>1000</td><td>50</td><td>48350000</td></tr>\n",
              "\t<tr><td>338567</td><td>-0.4</td><td>10</td><td> 400</td><td> 1</td><td>49030000</td></tr>\n",
              "\t<tr><td>338567</td><td>-0.4</td><td>10</td><td> 400</td><td>10</td><td>50650000</td></tr>\n",
              "\t<tr><td>338567</td><td>-0.4</td><td>10</td><td> 400</td><td>50</td><td>51950000</td></tr>\n",
              "\t<tr><td>338567</td><td>-0.4</td><td>10</td><td> 100</td><td> 1</td><td>48230000</td></tr>\n",
              "\t<tr><td>338567</td><td>-0.4</td><td>10</td><td> 100</td><td>10</td><td>51230000</td></tr>\n",
              "\t<tr><td>338567</td><td>-0.4</td><td>10</td><td> 100</td><td>50</td><td>42980000</td></tr>\n",
              "\t<tr><td>338567</td><td>-0.4</td><td>14</td><td>1000</td><td> 1</td><td>48440000</td></tr>\n",
              "\t<tr><td>338567</td><td>-0.4</td><td>14</td><td>1000</td><td>10</td><td>47430000</td></tr>\n",
              "\t<tr><td>338567</td><td>-0.4</td><td>14</td><td>1000</td><td>50</td><td>46620000</td></tr>\n",
              "\t<tr><td>338567</td><td>-0.4</td><td>14</td><td> 400</td><td> 1</td><td>48280000</td></tr>\n",
              "\t<tr><td>338567</td><td>-0.4</td><td>14</td><td> 400</td><td>10</td><td>46720000</td></tr>\n",
              "\t<tr><td>338567</td><td>-0.4</td><td>14</td><td> 400</td><td>50</td><td>49950000</td></tr>\n",
              "\t<tr><td>338567</td><td>-0.4</td><td>14</td><td> 100</td><td> 1</td><td>45640000</td></tr>\n",
              "\t<tr><td>338567</td><td>-0.4</td><td>14</td><td> 100</td><td>10</td><td>45810000</td></tr>\n",
              "\t<tr><td>338567</td><td>-0.4</td><td>14</td><td> 100</td><td>50</td><td>38460000</td></tr>\n",
              "\t<tr><td>338567</td><td>-0.3</td><td> 6</td><td>1000</td><td> 1</td><td>44740000</td></tr>\n",
              "\t<tr><td>338567</td><td>-0.3</td><td> 6</td><td>1000</td><td>10</td><td>47740000</td></tr>\n",
              "\t<tr><td>338567</td><td>-0.3</td><td> 6</td><td>1000</td><td>50</td><td>49010000</td></tr>\n",
              "\t<tr><td>⋮</td><td>⋮</td><td>⋮</td><td>⋮</td><td>⋮</td><td>⋮</td></tr>\n",
              "\t<tr><td>338567</td><td>-0.20</td><td>14</td><td> 100</td><td> 1</td><td>45640000</td></tr>\n",
              "\t<tr><td>338567</td><td>-0.20</td><td>14</td><td> 100</td><td>10</td><td>45810000</td></tr>\n",
              "\t<tr><td>338567</td><td>-0.20</td><td>14</td><td> 100</td><td>50</td><td>38460000</td></tr>\n",
              "\t<tr><td>338567</td><td>-0.01</td><td> 6</td><td>1000</td><td> 1</td><td>44740000</td></tr>\n",
              "\t<tr><td>338567</td><td>-0.01</td><td> 6</td><td>1000</td><td>10</td><td>47740000</td></tr>\n",
              "\t<tr><td>338567</td><td>-0.01</td><td> 6</td><td>1000</td><td>50</td><td>49010000</td></tr>\n",
              "\t<tr><td>338567</td><td>-0.01</td><td> 6</td><td> 400</td><td> 1</td><td>45060000</td></tr>\n",
              "\t<tr><td>338567</td><td>-0.01</td><td> 6</td><td> 400</td><td>10</td><td>47120000</td></tr>\n",
              "\t<tr><td>338567</td><td>-0.01</td><td> 6</td><td> 400</td><td>50</td><td>48580000</td></tr>\n",
              "\t<tr><td>338567</td><td>-0.01</td><td> 6</td><td> 100</td><td> 1</td><td>45270000</td></tr>\n",
              "\t<tr><td>338567</td><td>-0.01</td><td> 6</td><td> 100</td><td>10</td><td>47360000</td></tr>\n",
              "\t<tr><td>338567</td><td>-0.01</td><td> 6</td><td> 100</td><td>50</td><td>48440000</td></tr>\n",
              "\t<tr><td>338567</td><td>-0.01</td><td>10</td><td>1000</td><td> 1</td><td>49770000</td></tr>\n",
              "\t<tr><td>338567</td><td>-0.01</td><td>10</td><td>1000</td><td>10</td><td>51460000</td></tr>\n",
              "\t<tr><td>338567</td><td>-0.01</td><td>10</td><td>1000</td><td>50</td><td>48350000</td></tr>\n",
              "\t<tr><td>338567</td><td>-0.01</td><td>10</td><td> 400</td><td> 1</td><td>49030000</td></tr>\n",
              "\t<tr><td>338567</td><td>-0.01</td><td>10</td><td> 400</td><td>10</td><td>50650000</td></tr>\n",
              "\t<tr><td>338567</td><td>-0.01</td><td>10</td><td> 400</td><td>50</td><td>51950000</td></tr>\n",
              "\t<tr><td>338567</td><td>-0.01</td><td>10</td><td> 100</td><td> 1</td><td>48230000</td></tr>\n",
              "\t<tr><td>338567</td><td>-0.01</td><td>10</td><td> 100</td><td>10</td><td>51230000</td></tr>\n",
              "\t<tr><td>338567</td><td>-0.01</td><td>10</td><td> 100</td><td>50</td><td>42980000</td></tr>\n",
              "\t<tr><td>338567</td><td>-0.01</td><td>14</td><td>1000</td><td> 1</td><td>48440000</td></tr>\n",
              "\t<tr><td>338567</td><td>-0.01</td><td>14</td><td>1000</td><td>10</td><td>47430000</td></tr>\n",
              "\t<tr><td>338567</td><td>-0.01</td><td>14</td><td>1000</td><td>50</td><td>46620000</td></tr>\n",
              "\t<tr><td>338567</td><td>-0.01</td><td>14</td><td> 400</td><td> 1</td><td>48280000</td></tr>\n",
              "\t<tr><td>338567</td><td>-0.01</td><td>14</td><td> 400</td><td>10</td><td>46720000</td></tr>\n",
              "\t<tr><td>338567</td><td>-0.01</td><td>14</td><td> 400</td><td>50</td><td>49950000</td></tr>\n",
              "\t<tr><td>338567</td><td>-0.01</td><td>14</td><td> 100</td><td> 1</td><td>45640000</td></tr>\n",
              "\t<tr><td>338567</td><td>-0.01</td><td>14</td><td> 100</td><td>10</td><td>45810000</td></tr>\n",
              "\t<tr><td>338567</td><td>-0.01</td><td>14</td><td> 100</td><td>50</td><td>38460000</td></tr>\n",
              "</tbody>\n",
              "</table>\n"
            ],
            "text/markdown": "\nA data.table: 108 × 6\n\n| semilla &lt;int&gt; | cp &lt;dbl&gt; | maxdepth &lt;dbl&gt; | minsplit &lt;dbl&gt; | minbucket &lt;dbl&gt; | ganancia_test &lt;dbl&gt; |\n|---|---|---|---|---|---|\n| 338567 | -0.4 |  6 | 1000 |  1 | 44740000 |\n| 338567 | -0.4 |  6 | 1000 | 10 | 47740000 |\n| 338567 | -0.4 |  6 | 1000 | 50 | 49010000 |\n| 338567 | -0.4 |  6 |  400 |  1 | 45060000 |\n| 338567 | -0.4 |  6 |  400 | 10 | 47120000 |\n| 338567 | -0.4 |  6 |  400 | 50 | 48580000 |\n| 338567 | -0.4 |  6 |  100 |  1 | 45270000 |\n| 338567 | -0.4 |  6 |  100 | 10 | 47360000 |\n| 338567 | -0.4 |  6 |  100 | 50 | 48440000 |\n| 338567 | -0.4 | 10 | 1000 |  1 | 49770000 |\n| 338567 | -0.4 | 10 | 1000 | 10 | 51460000 |\n| 338567 | -0.4 | 10 | 1000 | 50 | 48350000 |\n| 338567 | -0.4 | 10 |  400 |  1 | 49030000 |\n| 338567 | -0.4 | 10 |  400 | 10 | 50650000 |\n| 338567 | -0.4 | 10 |  400 | 50 | 51950000 |\n| 338567 | -0.4 | 10 |  100 |  1 | 48230000 |\n| 338567 | -0.4 | 10 |  100 | 10 | 51230000 |\n| 338567 | -0.4 | 10 |  100 | 50 | 42980000 |\n| 338567 | -0.4 | 14 | 1000 |  1 | 48440000 |\n| 338567 | -0.4 | 14 | 1000 | 10 | 47430000 |\n| 338567 | -0.4 | 14 | 1000 | 50 | 46620000 |\n| 338567 | -0.4 | 14 |  400 |  1 | 48280000 |\n| 338567 | -0.4 | 14 |  400 | 10 | 46720000 |\n| 338567 | -0.4 | 14 |  400 | 50 | 49950000 |\n| 338567 | -0.4 | 14 |  100 |  1 | 45640000 |\n| 338567 | -0.4 | 14 |  100 | 10 | 45810000 |\n| 338567 | -0.4 | 14 |  100 | 50 | 38460000 |\n| 338567 | -0.3 |  6 | 1000 |  1 | 44740000 |\n| 338567 | -0.3 |  6 | 1000 | 10 | 47740000 |\n| 338567 | -0.3 |  6 | 1000 | 50 | 49010000 |\n| ⋮ | ⋮ | ⋮ | ⋮ | ⋮ | ⋮ |\n| 338567 | -0.20 | 14 |  100 |  1 | 45640000 |\n| 338567 | -0.20 | 14 |  100 | 10 | 45810000 |\n| 338567 | -0.20 | 14 |  100 | 50 | 38460000 |\n| 338567 | -0.01 |  6 | 1000 |  1 | 44740000 |\n| 338567 | -0.01 |  6 | 1000 | 10 | 47740000 |\n| 338567 | -0.01 |  6 | 1000 | 50 | 49010000 |\n| 338567 | -0.01 |  6 |  400 |  1 | 45060000 |\n| 338567 | -0.01 |  6 |  400 | 10 | 47120000 |\n| 338567 | -0.01 |  6 |  400 | 50 | 48580000 |\n| 338567 | -0.01 |  6 |  100 |  1 | 45270000 |\n| 338567 | -0.01 |  6 |  100 | 10 | 47360000 |\n| 338567 | -0.01 |  6 |  100 | 50 | 48440000 |\n| 338567 | -0.01 | 10 | 1000 |  1 | 49770000 |\n| 338567 | -0.01 | 10 | 1000 | 10 | 51460000 |\n| 338567 | -0.01 | 10 | 1000 | 50 | 48350000 |\n| 338567 | -0.01 | 10 |  400 |  1 | 49030000 |\n| 338567 | -0.01 | 10 |  400 | 10 | 50650000 |\n| 338567 | -0.01 | 10 |  400 | 50 | 51950000 |\n| 338567 | -0.01 | 10 |  100 |  1 | 48230000 |\n| 338567 | -0.01 | 10 |  100 | 10 | 51230000 |\n| 338567 | -0.01 | 10 |  100 | 50 | 42980000 |\n| 338567 | -0.01 | 14 | 1000 |  1 | 48440000 |\n| 338567 | -0.01 | 14 | 1000 | 10 | 47430000 |\n| 338567 | -0.01 | 14 | 1000 | 50 | 46620000 |\n| 338567 | -0.01 | 14 |  400 |  1 | 48280000 |\n| 338567 | -0.01 | 14 |  400 | 10 | 46720000 |\n| 338567 | -0.01 | 14 |  400 | 50 | 49950000 |\n| 338567 | -0.01 | 14 |  100 |  1 | 45640000 |\n| 338567 | -0.01 | 14 |  100 | 10 | 45810000 |\n| 338567 | -0.01 | 14 |  100 | 50 | 38460000 |\n\n",
            "text/latex": "A data.table: 108 × 6\n\\begin{tabular}{llllll}\n semilla & cp & maxdepth & minsplit & minbucket & ganancia\\_test\\\\\n <int> & <dbl> & <dbl> & <dbl> & <dbl> & <dbl>\\\\\n\\hline\n\t 338567 & -0.4 &  6 & 1000 &  1 & 44740000\\\\\n\t 338567 & -0.4 &  6 & 1000 & 10 & 47740000\\\\\n\t 338567 & -0.4 &  6 & 1000 & 50 & 49010000\\\\\n\t 338567 & -0.4 &  6 &  400 &  1 & 45060000\\\\\n\t 338567 & -0.4 &  6 &  400 & 10 & 47120000\\\\\n\t 338567 & -0.4 &  6 &  400 & 50 & 48580000\\\\\n\t 338567 & -0.4 &  6 &  100 &  1 & 45270000\\\\\n\t 338567 & -0.4 &  6 &  100 & 10 & 47360000\\\\\n\t 338567 & -0.4 &  6 &  100 & 50 & 48440000\\\\\n\t 338567 & -0.4 & 10 & 1000 &  1 & 49770000\\\\\n\t 338567 & -0.4 & 10 & 1000 & 10 & 51460000\\\\\n\t 338567 & -0.4 & 10 & 1000 & 50 & 48350000\\\\\n\t 338567 & -0.4 & 10 &  400 &  1 & 49030000\\\\\n\t 338567 & -0.4 & 10 &  400 & 10 & 50650000\\\\\n\t 338567 & -0.4 & 10 &  400 & 50 & 51950000\\\\\n\t 338567 & -0.4 & 10 &  100 &  1 & 48230000\\\\\n\t 338567 & -0.4 & 10 &  100 & 10 & 51230000\\\\\n\t 338567 & -0.4 & 10 &  100 & 50 & 42980000\\\\\n\t 338567 & -0.4 & 14 & 1000 &  1 & 48440000\\\\\n\t 338567 & -0.4 & 14 & 1000 & 10 & 47430000\\\\\n\t 338567 & -0.4 & 14 & 1000 & 50 & 46620000\\\\\n\t 338567 & -0.4 & 14 &  400 &  1 & 48280000\\\\\n\t 338567 & -0.4 & 14 &  400 & 10 & 46720000\\\\\n\t 338567 & -0.4 & 14 &  400 & 50 & 49950000\\\\\n\t 338567 & -0.4 & 14 &  100 &  1 & 45640000\\\\\n\t 338567 & -0.4 & 14 &  100 & 10 & 45810000\\\\\n\t 338567 & -0.4 & 14 &  100 & 50 & 38460000\\\\\n\t 338567 & -0.3 &  6 & 1000 &  1 & 44740000\\\\\n\t 338567 & -0.3 &  6 & 1000 & 10 & 47740000\\\\\n\t 338567 & -0.3 &  6 & 1000 & 50 & 49010000\\\\\n\t ⋮ & ⋮ & ⋮ & ⋮ & ⋮ & ⋮\\\\\n\t 338567 & -0.20 & 14 &  100 &  1 & 45640000\\\\\n\t 338567 & -0.20 & 14 &  100 & 10 & 45810000\\\\\n\t 338567 & -0.20 & 14 &  100 & 50 & 38460000\\\\\n\t 338567 & -0.01 &  6 & 1000 &  1 & 44740000\\\\\n\t 338567 & -0.01 &  6 & 1000 & 10 & 47740000\\\\\n\t 338567 & -0.01 &  6 & 1000 & 50 & 49010000\\\\\n\t 338567 & -0.01 &  6 &  400 &  1 & 45060000\\\\\n\t 338567 & -0.01 &  6 &  400 & 10 & 47120000\\\\\n\t 338567 & -0.01 &  6 &  400 & 50 & 48580000\\\\\n\t 338567 & -0.01 &  6 &  100 &  1 & 45270000\\\\\n\t 338567 & -0.01 &  6 &  100 & 10 & 47360000\\\\\n\t 338567 & -0.01 &  6 &  100 & 50 & 48440000\\\\\n\t 338567 & -0.01 & 10 & 1000 &  1 & 49770000\\\\\n\t 338567 & -0.01 & 10 & 1000 & 10 & 51460000\\\\\n\t 338567 & -0.01 & 10 & 1000 & 50 & 48350000\\\\\n\t 338567 & -0.01 & 10 &  400 &  1 & 49030000\\\\\n\t 338567 & -0.01 & 10 &  400 & 10 & 50650000\\\\\n\t 338567 & -0.01 & 10 &  400 & 50 & 51950000\\\\\n\t 338567 & -0.01 & 10 &  100 &  1 & 48230000\\\\\n\t 338567 & -0.01 & 10 &  100 & 10 & 51230000\\\\\n\t 338567 & -0.01 & 10 &  100 & 50 & 42980000\\\\\n\t 338567 & -0.01 & 14 & 1000 &  1 & 48440000\\\\\n\t 338567 & -0.01 & 14 & 1000 & 10 & 47430000\\\\\n\t 338567 & -0.01 & 14 & 1000 & 50 & 46620000\\\\\n\t 338567 & -0.01 & 14 &  400 &  1 & 48280000\\\\\n\t 338567 & -0.01 & 14 &  400 & 10 & 46720000\\\\\n\t 338567 & -0.01 & 14 &  400 & 50 & 49950000\\\\\n\t 338567 & -0.01 & 14 &  100 &  1 & 45640000\\\\\n\t 338567 & -0.01 & 14 &  100 & 10 & 45810000\\\\\n\t 338567 & -0.01 & 14 &  100 & 50 & 38460000\\\\\n\\end{tabular}\n",
            "text/plain": [
              "    semilla cp    maxdepth minsplit minbucket ganancia_test\n",
              "1   338567  -0.4   6       1000      1        44740000     \n",
              "2   338567  -0.4   6       1000     10        47740000     \n",
              "3   338567  -0.4   6       1000     50        49010000     \n",
              "4   338567  -0.4   6        400      1        45060000     \n",
              "5   338567  -0.4   6        400     10        47120000     \n",
              "6   338567  -0.4   6        400     50        48580000     \n",
              "7   338567  -0.4   6        100      1        45270000     \n",
              "8   338567  -0.4   6        100     10        47360000     \n",
              "9   338567  -0.4   6        100     50        48440000     \n",
              "10  338567  -0.4  10       1000      1        49770000     \n",
              "11  338567  -0.4  10       1000     10        51460000     \n",
              "12  338567  -0.4  10       1000     50        48350000     \n",
              "13  338567  -0.4  10        400      1        49030000     \n",
              "14  338567  -0.4  10        400     10        50650000     \n",
              "15  338567  -0.4  10        400     50        51950000     \n",
              "16  338567  -0.4  10        100      1        48230000     \n",
              "17  338567  -0.4  10        100     10        51230000     \n",
              "18  338567  -0.4  10        100     50        42980000     \n",
              "19  338567  -0.4  14       1000      1        48440000     \n",
              "20  338567  -0.4  14       1000     10        47430000     \n",
              "21  338567  -0.4  14       1000     50        46620000     \n",
              "22  338567  -0.4  14        400      1        48280000     \n",
              "23  338567  -0.4  14        400     10        46720000     \n",
              "24  338567  -0.4  14        400     50        49950000     \n",
              "25  338567  -0.4  14        100      1        45640000     \n",
              "26  338567  -0.4  14        100     10        45810000     \n",
              "27  338567  -0.4  14        100     50        38460000     \n",
              "28  338567  -0.3   6       1000      1        44740000     \n",
              "29  338567  -0.3   6       1000     10        47740000     \n",
              "30  338567  -0.3   6       1000     50        49010000     \n",
              "⋮   ⋮       ⋮     ⋮        ⋮        ⋮         ⋮            \n",
              "79  338567  -0.20 14        100      1        45640000     \n",
              "80  338567  -0.20 14        100     10        45810000     \n",
              "81  338567  -0.20 14        100     50        38460000     \n",
              "82  338567  -0.01  6       1000      1        44740000     \n",
              "83  338567  -0.01  6       1000     10        47740000     \n",
              "84  338567  -0.01  6       1000     50        49010000     \n",
              "85  338567  -0.01  6        400      1        45060000     \n",
              "86  338567  -0.01  6        400     10        47120000     \n",
              "87  338567  -0.01  6        400     50        48580000     \n",
              "88  338567  -0.01  6        100      1        45270000     \n",
              "89  338567  -0.01  6        100     10        47360000     \n",
              "90  338567  -0.01  6        100     50        48440000     \n",
              "91  338567  -0.01 10       1000      1        49770000     \n",
              "92  338567  -0.01 10       1000     10        51460000     \n",
              "93  338567  -0.01 10       1000     50        48350000     \n",
              "94  338567  -0.01 10        400      1        49030000     \n",
              "95  338567  -0.01 10        400     10        50650000     \n",
              "96  338567  -0.01 10        400     50        51950000     \n",
              "97  338567  -0.01 10        100      1        48230000     \n",
              "98  338567  -0.01 10        100     10        51230000     \n",
              "99  338567  -0.01 10        100     50        42980000     \n",
              "100 338567  -0.01 14       1000      1        48440000     \n",
              "101 338567  -0.01 14       1000     10        47430000     \n",
              "102 338567  -0.01 14       1000     50        46620000     \n",
              "103 338567  -0.01 14        400      1        48280000     \n",
              "104 338567  -0.01 14        400     10        46720000     \n",
              "105 338567  -0.01 14        400     50        49950000     \n",
              "106 338567  -0.01 14        100      1        45640000     \n",
              "107 338567  -0.01 14        100     10        45810000     \n",
              "108 338567  -0.01 14        100     50        38460000     "
            ]
          },
          "metadata": {}
        }
      ]
    },
    {
      "cell_type": "code",
      "metadata": {
        "colab": {
          "base_uri": "https://localhost:8080/"
        },
        "id": "57a5fecd",
        "outputId": "e4fcc0a8-a812-4ab7-dc1b-a0fc6142c744"
      },
      "source": [
        "# Load the data from the text file\n",
        "tb_grid_search_detalle = fread(\"/content/buckets/b1/exp/HT2900/gridsearch_detalle_ronda2.txt\")\n",
        "\n",
        "# Save the data as an Excel file\n",
        "# You might need to install the 'openxlsx' package if you haven't already\n",
        "if (!require(\"openxlsx\")) install.packages(\"openxlsx\")\n",
        "require(\"openxlsx\")\n",
        "\n",
        "write.xlsx(tb_grid_search_detalle, file = \"/content/buckets/b1/exp/HT2900/gridsearch_detalle_ronda2.xlsx\")\n",
        "\n",
        "cat(\"File saved successfully as /content/buckets/b1/exp/HT2900/gridsearch_detalle_ronda2.xlsx\\n\")"
      ],
      "execution_count": null,
      "outputs": [
        {
          "output_type": "stream",
          "name": "stdout",
          "text": [
            "File saved successfully as /content/buckets/b1/exp/HT2900/gridsearch_detalle_ronda2.xlsx\n"
          ]
        }
      ]
    },
    {
      "cell_type": "code",
      "source": [
        "# genero y grabo el resumen\n",
        "tb_grid_search <- tb_grid_search_detalle[,\n",
        "  list( \"ganancia_mean\" = mean(ganancia_test),\n",
        "    \"qty\" = .N ),\n",
        "  list( cp, maxdepth, minsplit, minbucket )\n",
        "]\n"
      ],
      "metadata": {
        "id": "DjCxtx8bIsgl"
      },
      "execution_count": null,
      "outputs": []
    },
    {
      "cell_type": "code",
      "source": [
        "# ordeno descendente por ganancia\n",
        "setorder( tb_grid_search, -ganancia_mean )\n"
      ],
      "metadata": {
        "id": "LU29UhL1Ivg5"
      },
      "execution_count": null,
      "outputs": []
    },
    {
      "cell_type": "code",
      "source": [
        "# veo los 10 mejores hiperparámetros\n",
        "tb_grid_search[1:10]"
      ],
      "metadata": {
        "id": "g-EjGY7aIyWL",
        "colab": {
          "base_uri": "https://localhost:8080/",
          "height": 411
        },
        "outputId": "d4b0deec-b735-4611-f8e2-40ee7fb73ac0"
      },
      "execution_count": null,
      "outputs": [
        {
          "output_type": "display_data",
          "data": {
            "text/html": [
              "<table class=\"dataframe\">\n",
              "<caption>A data.table: 10 × 6</caption>\n",
              "<thead>\n",
              "\t<tr><th scope=col>cp</th><th scope=col>maxdepth</th><th scope=col>minsplit</th><th scope=col>minbucket</th><th scope=col>ganancia_mean</th><th scope=col>qty</th></tr>\n",
              "\t<tr><th scope=col>&lt;dbl&gt;</th><th scope=col>&lt;dbl&gt;</th><th scope=col>&lt;dbl&gt;</th><th scope=col>&lt;dbl&gt;</th><th scope=col>&lt;dbl&gt;</th><th scope=col>&lt;int&gt;</th></tr>\n",
              "</thead>\n",
              "<tbody>\n",
              "\t<tr><td>-0.40</td><td>10</td><td> 400</td><td>50</td><td>51950000</td><td>1</td></tr>\n",
              "\t<tr><td>-0.30</td><td>10</td><td> 400</td><td>50</td><td>51950000</td><td>1</td></tr>\n",
              "\t<tr><td>-0.20</td><td>10</td><td> 400</td><td>50</td><td>51950000</td><td>1</td></tr>\n",
              "\t<tr><td>-0.01</td><td>10</td><td> 400</td><td>50</td><td>51950000</td><td>1</td></tr>\n",
              "\t<tr><td>-0.40</td><td>10</td><td>1000</td><td>10</td><td>51460000</td><td>1</td></tr>\n",
              "\t<tr><td>-0.30</td><td>10</td><td>1000</td><td>10</td><td>51460000</td><td>1</td></tr>\n",
              "\t<tr><td>-0.20</td><td>10</td><td>1000</td><td>10</td><td>51460000</td><td>1</td></tr>\n",
              "\t<tr><td>-0.01</td><td>10</td><td>1000</td><td>10</td><td>51460000</td><td>1</td></tr>\n",
              "\t<tr><td>-0.40</td><td>10</td><td> 100</td><td>10</td><td>51230000</td><td>1</td></tr>\n",
              "\t<tr><td>-0.30</td><td>10</td><td> 100</td><td>10</td><td>51230000</td><td>1</td></tr>\n",
              "</tbody>\n",
              "</table>\n"
            ],
            "text/markdown": "\nA data.table: 10 × 6\n\n| cp &lt;dbl&gt; | maxdepth &lt;dbl&gt; | minsplit &lt;dbl&gt; | minbucket &lt;dbl&gt; | ganancia_mean &lt;dbl&gt; | qty &lt;int&gt; |\n|---|---|---|---|---|---|\n| -0.40 | 10 |  400 | 50 | 51950000 | 1 |\n| -0.30 | 10 |  400 | 50 | 51950000 | 1 |\n| -0.20 | 10 |  400 | 50 | 51950000 | 1 |\n| -0.01 | 10 |  400 | 50 | 51950000 | 1 |\n| -0.40 | 10 | 1000 | 10 | 51460000 | 1 |\n| -0.30 | 10 | 1000 | 10 | 51460000 | 1 |\n| -0.20 | 10 | 1000 | 10 | 51460000 | 1 |\n| -0.01 | 10 | 1000 | 10 | 51460000 | 1 |\n| -0.40 | 10 |  100 | 10 | 51230000 | 1 |\n| -0.30 | 10 |  100 | 10 | 51230000 | 1 |\n\n",
            "text/latex": "A data.table: 10 × 6\n\\begin{tabular}{llllll}\n cp & maxdepth & minsplit & minbucket & ganancia\\_mean & qty\\\\\n <dbl> & <dbl> & <dbl> & <dbl> & <dbl> & <int>\\\\\n\\hline\n\t -0.40 & 10 &  400 & 50 & 51950000 & 1\\\\\n\t -0.30 & 10 &  400 & 50 & 51950000 & 1\\\\\n\t -0.20 & 10 &  400 & 50 & 51950000 & 1\\\\\n\t -0.01 & 10 &  400 & 50 & 51950000 & 1\\\\\n\t -0.40 & 10 & 1000 & 10 & 51460000 & 1\\\\\n\t -0.30 & 10 & 1000 & 10 & 51460000 & 1\\\\\n\t -0.20 & 10 & 1000 & 10 & 51460000 & 1\\\\\n\t -0.01 & 10 & 1000 & 10 & 51460000 & 1\\\\\n\t -0.40 & 10 &  100 & 10 & 51230000 & 1\\\\\n\t -0.30 & 10 &  100 & 10 & 51230000 & 1\\\\\n\\end{tabular}\n",
            "text/plain": [
              "   cp    maxdepth minsplit minbucket ganancia_mean qty\n",
              "1  -0.40 10        400     50        51950000      1  \n",
              "2  -0.30 10        400     50        51950000      1  \n",
              "3  -0.20 10        400     50        51950000      1  \n",
              "4  -0.01 10        400     50        51950000      1  \n",
              "5  -0.40 10       1000     10        51460000      1  \n",
              "6  -0.30 10       1000     10        51460000      1  \n",
              "7  -0.20 10       1000     10        51460000      1  \n",
              "8  -0.01 10       1000     10        51460000      1  \n",
              "9  -0.40 10        100     10        51230000      1  \n",
              "10 -0.30 10        100     10        51230000      1  "
            ]
          },
          "metadata": {}
        }
      ]
    },
    {
      "cell_type": "code",
      "source": [
        "# genero un id a la tabla\n",
        "tb_grid_search[, id := .I ]\n",
        "\n",
        "fwrite( tb_grid_search,\n",
        "  file = \"gridsearch.txt\",\n",
        "  sep = \"\\t\"\n",
        ")\n"
      ],
      "metadata": {
        "id": "K3S-I2PTI5ZE"
      },
      "execution_count": null,
      "outputs": []
    },
    {
      "cell_type": "markdown",
      "source": [
        "# 4.  Análisis de resultados de Grid Search"
      ],
      "metadata": {
        "id": "1rYHk1YkI_9k"
      }
    },
    {
      "cell_type": "markdown",
      "source": [
        "La salida de la corrida anterior queda en ~/buckets/b1/exp/HT2900  que corresponde a su Google Drive\n",
        "<br>HT significa Hyperparameter Tuning\n",
        "<br>El Grid Search es un método de fuerza bruta de un altísimo costo computacional.\n",
        "<br>Queremos ver si es posible crear un algoritmo de optimización de hiperparámetros que se ahorre recorrer ciertas porciones muy malas del espacio de búsqueda. Algo del estilo “cada vez que pruebo una combinación de hiperparámetros donde  cp > 1 , la ganancia es muy mala, con lo cual ni vale la pena perder el tiempo explorando en esa region”\n"
      ],
      "metadata": {
        "id": "ZTJgPhMWJHTk"
      }
    },
    {
      "cell_type": "markdown",
      "source": [
        "<br>Levante el archivo de salida gridsearch.txt  a una planilla tipo Excel y analícelo detenidamente\n",
        "<br>Ordene por ganancia_mean descendente\n",
        "<br>\n",
        "<br>El de mayor ganancia_mean  decimos que es el primero del ranking\n",
        "En Zulip, correspondiente channel  #Tarea Hogar 02 , topic Analisis Grid Search   intente contestar estas preguntas:\n",
        "\n",
        "* ¿Qué combinaciones de hiperparámetros poseen una ganancia muy buena?\n",
        "* ¿Hay algun hiperparámetro que para cierto valor siempre genera una ganancia muy mala, a independientemente de lo que valgan los otros hiperparámetros ?\n",
        "* ¿Que combinaciones de hiperparámetros es pésima y hubiera sido bueno ahorrarse esas corridas ?\n",
        "\n",
        "( tiempo estimado 30 minutos, dificultad media )"
      ],
      "metadata": {
        "id": "IaVgMu4tPwyB"
      }
    }
  ]
}